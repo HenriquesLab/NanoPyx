{
 "cells": [
  {
   "cell_type": "code",
   "execution_count": null,
   "metadata": {},
   "outputs": [],
   "source": [
    "import matplotlib.pyplot as plt\n",
    "import seaborn as sns\n",
    "import numpy as np\n",
    "from random import random\n",
    "from numpy.random import randint\n",
    "from scipy.ndimage import gaussian_filter\n",
    "from nanopyx.core.transform.binning import rebin_2d\n",
    "from nanopyx.core.generate.noise_add_random_noise import (\n",
    "    add_mixed_gaussian_poisson_noise,\n",
    "    get_simplex_noise,\n",
    ")\n",
    "\n",
    "# generate some random ground truth\n",
    "rows = 600\n",
    "cols = 600\n",
    "\n",
    "image_gt = get_simplex_noise(rows, cols, amplitude=1000, frequency=0.01, offset=1000)\n",
    "\n",
    "image_ref = gaussian_filter(image_gt, 15)\n",
    "image_ref = rebin_2d(image_ref, 10, mode=\"mean\")\n",
    "# addRamp(image_ref, 1000)\n",
    "add_mixed_gaussian_poisson_noise(image_ref, 10, 10)\n",
    "\n",
    "image_sr = image_gt.copy()\n",
    "image_sr = gaussian_filter(image_sr, 3)\n",
    "# image_sr = rebin2d(image_sr, 10, mode=\"mean\")\n",
    "\n",
    "\n",
    "# Create a figure with 3 subplots arranged in a row\n",
    "fig, axs = plt.subplots(1, 3, figsize=(24, 24))\n",
    "sns.heatmap(image_gt, ax=axs[0], cmap='inferno', cbar=False,\n",
    "            square=True, xticklabels=False, yticklabels=False)\n",
    "sns.heatmap(image_ref, ax=axs[1], cmap='inferno', cbar=False,\n",
    "            square=True, xticklabels=False, yticklabels=False)\n",
    "sns.heatmap(image_sr, ax=axs[2], cmap='inferno', cbar=False,\n",
    "            square=True, xticklabels=False, yticklabels=False)\n",
    "axs[0].set_title(\"GT\")\n",
    "axs[1].set_title(\"Ref\")\n",
    "axs[2].set_title(\"SR\")\n",
    "\n",
    "# Show the figure\n",
    "plt.show()\n"
   ]
  },
  {
   "cell_type": "code",
   "execution_count": null,
   "metadata": {},
   "outputs": [],
   "source": [
    "from nanopyx.core.transform.error_map import ErrorMap\n",
    "\n",
    "squirrelErrorMap = ErrorMap()\n",
    "squirrelErrorMap.optimise(image_ref, image_sr)\n",
    "\n",
    "print(f\"RSE: {squirrelErrorMap.getRSE()}\")\n",
    "print(f\"RSP: {squirrelErrorMap.getRSP()}\")\n",
    "print(f\"Sigma: {squirrelErrorMap.get_sigma()}\")\n",
    "\n",
    "# Create a figure with 3 subplots arranged in a row\n",
    "fig, axs = plt.subplots(1, 3, figsize=(24, 24))\n",
    "\n",
    "sns.heatmap(squirrelErrorMap.imRSE, ax=axs[0], cmap='viridis', cbar=False, square=True, xticklabels=False, yticklabels=False)\n",
    "sns.heatmap(image_ref, ax=axs[1], cmap='inferno', cbar=False, square=True, xticklabels=False, yticklabels=False)\n",
    "sns.heatmap(squirrelErrorMap.im_sr_intensity_scaled_blurred, ax=axs[2], cmap='inferno', cbar=False, square=True, xticklabels=False, yticklabels=False)\n",
    "axs[0].set_title(\"Error Map\")\n",
    "axs[1].set_title(\"SR blurred\")\n",
    "axs[2].set_title(\"Ref\")\n",
    "\n",
    "# Show the figure\n",
    "plt.show()\n"
   ]
  }
 ],
 "metadata": {
  "kernelspec": {
   "display_name": "Python 3 (ipykernel)",
   "language": "python",
   "name": "python3"
  },
  "language_info": {
   "codemirror_mode": {
    "name": "ipython",
    "version": 3
   },
   "file_extension": ".py",
   "mimetype": "text/x-python",
   "name": "python",
   "nbconvert_exporter": "python",
   "pygments_lexer": "ipython3",
   "version": "3.11.1"
  },
  "vscode": {
   "interpreter": {
    "hash": "ff43d62f8f6c4527fe53ff203f9f4b76bff05577ec2443f113edf97841413ea1"
   }
  }
 },
 "nbformat": 4,
 "nbformat_minor": 4
}
