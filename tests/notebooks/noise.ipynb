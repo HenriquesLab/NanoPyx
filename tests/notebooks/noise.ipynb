{
 "cells": [
  {
   "cell_type": "code",
   "execution_count": null,
   "metadata": {},
   "outputs": [],
   "source": [
    "import matplotlib.pyplot as plt\n",
    "import seaborn as sns\n",
    "import numpy as np\n",
    "from nanopyx.core.generate.noise_add_squares import add_squares\n",
    "from nanopyx.core.generate.noise_add_ramp import add_ramp\n",
    "\n",
    "\n",
    "# create an intensity gradient image\n",
    "w = 128\n",
    "h = 128\n",
    "image = np.zeros((w, h), dtype=\"float32\")\n",
    "add_ramp(image, 1000)\n",
    "add_squares(image, 100, nSquares=10)\n",
    "image_original = image.copy()\n",
    "\n",
    "\n",
    "# Create a figure with 2 subplots arranged in a row\n",
    "fig, axs = plt.subplots(1, 2, figsize=(12, 4))\n",
    "\n",
    "# Plot the image\n",
    "sns.heatmap(image, ax=axs[0], cmap=\"inferno\", square=True)\n",
    "axs[0].set_title(\"Image\")\n",
    "\n",
    "# Plot the histogram\n",
    "sns.histplot(image.flatten(), ax=axs[1], color=\"black\")\n",
    "axs[1].set_title(\"Histogram\")\n",
    "\n",
    "# Show the figure\n",
    "plt.show()"
   ]
  },
  {
   "cell_type": "code",
   "execution_count": null,
   "metadata": {},
   "outputs": [],
   "source": [
    "from nanopyx.core.generate.noise_add_mixed_noise import (\n",
    "    add_mixed_gaussian_poisson_noise,\n",
    "    add_mixed_gaussian_poisson_noise2,\n",
    ")\n",
    "from nanopyx.core.generate.noise_add_simplex import add_simplex_noise\n",
    "\n",
    "image = image_original.copy()\n",
    "\n",
    "# Create a figure with 3 subplots arranged in a row\n",
    "fig, axs = plt.subplots(1, 3, figsize=(24, 24))\n",
    "sns.heatmap(image, ax=axs[0], cmap='inferno', cbar=False, square=True, xticklabels=False, yticklabels=False)\n",
    "add_simplex_noise(image, frequency=0.01, amplitude=10)\n",
    "sns.heatmap(image, ax=axs[1], cmap='inferno', cbar=False, square=True, xticklabels=False, yticklabels=False)\n",
    "add_mixed_gaussian_poisson_noise(image, gauss_sigma=100, gauss_mean=100)\n",
    "sns.heatmap(image, ax=axs[2], cmap='inferno', cbar=False, square=True, xticklabels=False, yticklabels=False)\n",
    "axs[0].set_title(\"ramp + squares\")\n",
    "axs[1].set_title(\"with simplex\")\n",
    "axs[2].set_title(\"with mixed-poison-gaussian\")\n"
   ]
  },
  {
   "cell_type": "code",
   "execution_count": null,
   "metadata": {},
   "outputs": [],
   "source": [
    "\n",
    "gaussSigma = 100\n",
    "gaussMean = 500\n",
    "\n",
    "image = image_original.copy() \n",
    "%timeit add_mixed_gaussian_poisson_noise2(image, gauss_sigma = gaussSigma, gauss_mean = gaussMean)\n",
    "\n",
    "image = image_original.copy()\n",
    "%timeit add_mixed_gaussian_poisson_noise(image, gauss_sigma = gaussSigma, gauss_mean = gaussMean)"
   ]
  }
 ],
 "metadata": {
  "kernelspec": {
   "display_name": "Python 3 (ipykernel)",
   "language": "python",
   "name": "python3"
  },
  "language_info": {
   "codemirror_mode": {
    "name": "ipython",
    "version": 3
   },
   "file_extension": ".py",
   "mimetype": "text/x-python",
   "name": "python",
   "nbconvert_exporter": "python",
   "pygments_lexer": "ipython3",
   "version": "3.11.1"
  },
  "vscode": {
   "interpreter": {
    "hash": "ff43d62f8f6c4527fe53ff203f9f4b76bff05577ec2443f113edf97841413ea1"
   }
  }
 },
 "nbformat": 4,
 "nbformat_minor": 4
}
