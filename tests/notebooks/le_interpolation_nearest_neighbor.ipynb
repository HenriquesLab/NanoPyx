{
 "cells": [
  {
   "cell_type": "code",
   "execution_count": null,
   "metadata": {},
   "outputs": [],
   "source": [
    "from nanopyx.liquid._le_interpolation_nearest_neighbor import ShiftAndMagnify\n",
    "from nanopyx.core.generate.noise_add_simplex import get_simplex_noise\n",
    "from nanopyx.core.transform.binning import rebin_2d\n",
    "\n",
    "M = 21\n",
    "# downloader = ExampleDataManager()\n",
    "# z = downloader.get_ZipTiffIterator('SMLMS2013_HDTubulinAlexa647')\n",
    "#image = z[0]\n",
    "\n",
    "image = get_simplex_noise(64*M, 32*M, amplitude=1000)\n",
    "imageDownsampled = rebin_2d(image, M, mode=\"mean\")\n",
    "\n",
    "SM = ShiftAndMagnify()\n",
    "bench_values = SM.benchmark(image, 10, -10, 4, 4)\n",
    "\n",
    "images = []\n",
    "titles = []\n",
    "run_times = [] \n",
    "\n",
    "# unzip the values\n",
    "for run_time, title, image in bench_values:\n",
    "    run_times.append(run_time)\n",
    "    titles.append(title)\n",
    "    images.append(image[0,:,:])\n",
    "    \n",
    "# show images in seaborn\n",
    "from matplotlib import pyplot as plt\n",
    "import seaborn as sns\n",
    "\n",
    "sns.set_style(\"white\")\n",
    "sns.set_context(\"talk\")\n",
    "fig, axes = plt.subplots(1, len(images), figsize=(20, 10))\n",
    "for i, ax in enumerate(axes):\n",
    "    ax.imshow(images[i], cmap=\"hot\")\n",
    "    ax.set_title(titles[i])\n",
    "    ax.axis(\"off\")\n",
    "plt.show()\n"
   ]
  },
  {
   "cell_type": "code",
   "execution_count": null,
   "metadata": {},
   "outputs": [],
   "source": [
    "import numpy as np\n",
    "images_together = np.array(images, dtype=np.float32)\n",
    "\n",
    "# show mean, std and max of images\n",
    "fig, ax = plt.subplots(1, 2, figsize=(10, 10))\n",
    "ax[0].imshow(images_together.mean(axis=0), cmap=\"hot\")\n",
    "ax[0].set_title(\"Mean\")\n",
    "ax[0].axis(\"off\")\n",
    "ax[1].imshow(images_together.std(axis=0), cmap=\"hot\")\n",
    "ax[1].set_title(\"Std\")\n",
    "ax[1].axis(\"off\")\n",
    "plt.show()"
   ]
  },
  {
   "cell_type": "code",
   "execution_count": null,
   "metadata": {},
   "outputs": [],
   "source": [
    "import numpy as np\n",
    "\n",
    "image = np.repeat(get_simplex_noise(512, 512, amplitude=1000)[np.newaxis,:, :], 3, axis=0)\n",
    "\n",
    "SM = ShiftAndMagnify()\n",
    "bench_values = SM.benchmark(image, 5, -5, 4, 4)\n",
    "\n",
    "images = []\n",
    "titles = []\n",
    "run_times = [] \n",
    "\n",
    "# unzip the values\n",
    "for run_time, title, image in bench_values:\n",
    "    run_times.append(run_time)\n",
    "    titles.append(title)\n",
    "    images.append(image)\n",
    "    \n",
    "# show images in seaborn\n",
    "from matplotlib import pyplot as plt\n",
    "import seaborn as sns\n",
    "\n",
    "sns.set_style(\"white\")\n",
    "sns.set_context(\"talk\")\n",
    "fig, axes = plt.subplots(1, len(images), figsize=(20, 10))\n",
    "for i, ax in enumerate(axes):\n",
    "    ax.imshow(images[i][0], cmap=\"hot\")\n",
    "    ax.set_title(titles[i])\n",
    "    ax.axis(\"off\")\n",
    "plt.show()\n"
   ]
  }
 ],
 "metadata": {
  "kernelspec": {
   "display_name": ".venv",
   "language": "python",
   "name": "python3"
  },
  "language_info": {
   "codemirror_mode": {
    "name": "ipython",
    "version": 3
   },
   "file_extension": ".py",
   "mimetype": "text/x-python",
   "name": "python",
   "nbconvert_exporter": "python",
   "pygments_lexer": "ipython3",
   "version": "3.10.9"
  },
  "vscode": {
   "interpreter": {
    "hash": "ff43d62f8f6c4527fe53ff203f9f4b76bff05577ec2443f113edf97841413ea1"
   }
  }
 },
 "nbformat": 4,
 "nbformat_minor": 2
}
