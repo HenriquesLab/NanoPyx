{
 "cells": [
  {
   "cell_type": "code",
   "execution_count": null,
   "metadata": {},
   "outputs": [],
   "source": [
    "from nanopyx.data.download import ExampleDataManager\n",
    "\n",
    "downloader = ExampleDataManager()\n",
    "\n",
    "datasets = downloader.list_datasets()\n",
    "print(\"Here is a list of example datasets:\")\n",
    "for i, label in enumerate(datasets):\n",
    "    print(f\"{i+1}) {label}\")\n"
   ]
  },
  {
   "cell_type": "code",
   "execution_count": null,
   "metadata": {},
   "outputs": [],
   "source": [
    "import os\n",
    "from skimage.transform import resize\n",
    "from skimage.io import imsave\n",
    "\n",
    "# generate missing thumbnails\n",
    "\n",
    "for dataset in datasets:\n",
    "    info = downloader.get_dataset_info(dataset)\n",
    "    path = downloader.get_thumbnail(dataset)\n",
    "    if not os.path.isfile(path):\n",
    "        print(f\"generating thumbnail for {dataset}\")\n",
    "        # downloader.download_tiff_sequence(dataset)\n",
    "        z = downloader.get_ZipTiffIterator(dataset)\n",
    "        first_frame = z[0]\n",
    "        z.close()\n",
    "        # save first frame as a 64x64 8-bit thumbnail\n",
    "        thumbnail = resize(first_frame, (64, 64), anti_aliasing=True).astype(\"float32\")\n",
    "        # normalize intensity to 0-255\n",
    "        thumbnail = (thumbnail - thumbnail.min()) / (thumbnail.max() - thumbnail.min())\n",
    "        thumbnail = (thumbnail * 255).astype(\"uint8\")\n",
    "        os.makedirs(os.path.split(path)[0], exist_ok=True)\n",
    "        imsave(path, thumbnail)\n",
    "        "
   ]
  },
  {
   "cell_type": "code",
   "execution_count": null,
   "metadata": {},
   "outputs": [],
   "source": [
    "\n",
    "from skimage.io import imread\n",
    "import seaborn as sns\n",
    "import matplotlib.pyplot as plt\n",
    "\n",
    "filenames = [downloader.get_thumbnail(label) for label in datasets]\n",
    "labels = datasets\n",
    "\n",
    "from skimage import data\n",
    "import seaborn as sns\n",
    "import matplotlib.pyplot as plt\n",
    "\n",
    "# Create a figure with subplots arranged in a row\n",
    "fig, axs = plt.subplots(1, len(filenames), figsize=(80, 64))\n",
    "\n",
    "for i, filename in enumerate(filenames):\n",
    "    image = imread(filename)\n",
    "    info = downloader.get_dataset_info(labels[i])\n",
    "    sns.heatmap(image, ax=axs[i], cmap='inferno', cbar=False, square=True, xticklabels=False, yticklabels=False)\n",
    "    axs[i].set_title(labels[i])\n",
    "    axs[i].set_xlabel(f\"{info['data_shape']} {info['data_dtype']}\\n{info['reference']}\")\n",
    "\n",
    "# Show the figure\n",
    "plt.show()\n"
   ]
  },
  {
   "cell_type": "code",
   "execution_count": null,
   "metadata": {},
   "outputs": [],
   "source": [
    "z = downloader.get_ZipTiffIterator(\"SMLMS2013_HDTubulinAlexa647\", as_ndarray = True)\n",
    "\n",
    "import stackview\n",
    "stackview.slice(z, continuous_update=True, zoom_factor=4, zoom_spline_order=0)#, display_width=512, display_height=512)\n"
   ]
  }
 ],
 "metadata": {
  "kernelspec": {
   "display_name": "Python 3 (ipykernel)",
   "language": "python",
   "name": "python3"
  },
  "language_info": {
   "codemirror_mode": {
    "name": "ipython",
    "version": 3
   },
   "file_extension": ".py",
   "mimetype": "text/x-python",
   "name": "python",
   "nbconvert_exporter": "python",
   "pygments_lexer": "ipython3",
   "version": "3.11.1"
  },
  "vscode": {
   "interpreter": {
    "hash": "ff43d62f8f6c4527fe53ff203f9f4b76bff05577ec2443f113edf97841413ea1"
   }
  }
 },
 "nbformat": 4,
 "nbformat_minor": 4
}
