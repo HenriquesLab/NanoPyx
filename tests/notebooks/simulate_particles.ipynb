{
 "cells": [
  {
   "cell_type": "code",
   "execution_count": null,
   "metadata": {},
   "outputs": [],
   "source": [
    "# Lets start by creating a PDF image\n",
    "\n",
    "import matplotlib.pyplot as plt\n",
    "import numpy as np\n",
    "import seaborn as sns\n",
    "\n",
    "from nanopyx.core.particles.simulate_particle_field import (\n",
    "    get_closest_distance, render_particle_gaussians_with_tracks,\n",
    "    render_particle_histogram, render_particle_histogram_with_tracks,\n",
    "    simulate_particle_field_based_on_2D_PDF)\n",
    "\n",
    "x = np.linspace(0, 1, 100)\n",
    "y = np.linspace(0, 1, 100)\n",
    "X, Y = np.meshgrid(x, y)\n",
    "image_pdf = np.exp(-(X - 0.5)**2 / 0.1**2 - (Y - 0.5)**2 / 0.1**2)\n",
    "image_pdf = image_pdf.astype(np.float32)\n",
    "\n",
    "# Simulate the particle field\n",
    "particle_field, mean_closest_distance = simulate_particle_field_based_on_2D_PDF(\n",
    "    image_pdf, min_particles=100, max_particles=1E3, min_distance=0.01, mean_distance_threshold=0.1)\n",
    "\n",
    "print(f\"Number of particles: {particle_field.shape[0]}\")\n",
    "print(f\"Mean closest distance: {mean_closest_distance}\")\n",
    "print(f\"Closest distance: {get_closest_distance(particle_field)}\")\n",
    "\n",
    "image_particle_field = render_particle_histogram(particle_field, 100, 100)\n",
    "\n",
    "# Create a figure with two subplots\n",
    "fig, (ax1, ax2) = plt.subplots(1, 2, figsize=(15, 5))\n",
    "# Create the first heatmap\n",
    "sns.heatmap(image_pdf, cmap='inferno', square=True, ax=ax1)\n",
    "ax1.set_title(\"PDF\")\n",
    "# Create the second heatmap\n",
    "sns.heatmap(image_particle_field, cmap='inferno', square=True, ax=ax2)\n",
    "ax2.set_title(\"Particle histogram\")\n",
    "# Adjust the spacing between the subplots\n",
    "plt.subplots_adjust(wspace=0.1)\n",
    "# Display the figure\n",
    "plt.show()"
   ]
  },
  {
   "cell_type": "code",
   "execution_count": null,
   "metadata": {},
   "outputs": [],
   "source": [
    "# Now lets render the time tracks of the particles\n",
    "\n",
    "from nanopyx.core.particles.simulate_photoswitching_time_tracks import simple_state_transition_model\n",
    "\n",
    "# Define the parameters\n",
    "n_particles = particle_field.shape[0]\n",
    "n_steps = 1000\n",
    "p_on = 0.01\n",
    "p_transient_off = 0.1\n",
    "p_permanent_off = 0.01\n",
    "\n",
    "# Simulate the particle field\n",
    "particle_tracks = simple_state_transition_model(n_particles, n_steps, p_on, p_transient_off, p_permanent_off, 1)\n",
    "\n",
    "sns.heatmap(particle_tracks, cmap='inferno', square=False)\n"
   ]
  },
  {
   "cell_type": "code",
   "execution_count": null,
   "metadata": {},
   "outputs": [],
   "source": [
    "\n",
    "# Render the particle tracks as a movie\n",
    "\n",
    "# image_stack = render_particle_histogram_with_tracks(particle_field, particle_tracks, 100, 100)\n",
    "image_stack = render_particle_gaussians_with_tracks(particle_field, particle_tracks, 100, 100, 1000, 1.5, 1.5)\n",
    "\n",
    "import stackview\n",
    "stackview.slice(image_stack, continuous_update=True, zoom_factor=4, zoom_spline_order=0)"
   ]
  },
  {
   "cell_type": "code",
   "execution_count": null,
   "metadata": {},
   "outputs": [],
   "source": [
    "# from celluloid import Camera\n",
    "# from IPython.display import HTML\n",
    "\n",
    "# fig, ax = plt.subplots() # make it bigger\n",
    "# camera = Camera(fig)\n",
    "# for i in range(image_stack.shape[0]):\n",
    "#     ax.imshow(image_stack[i], cmap='inferno')\n",
    "#     camera.snap()\n",
    "# animation = camera.animate()\n",
    "# HTML(animation.to_html5_video())"
   ]
  }
 ],
 "metadata": {
  "kernelspec": {
   "display_name": ".venv",
   "language": "python",
   "name": "python3"
  },
  "language_info": {
   "codemirror_mode": {
    "name": "ipython",
    "version": 3
   },
   "file_extension": ".py",
   "mimetype": "text/x-python",
   "name": "python",
   "nbconvert_exporter": "python",
   "pygments_lexer": "ipython3",
   "version": "3.9.7 (default, May 11 2022, 22:16:13) \n[Clang 12.0.0 (clang-1200.0.32.28)]"
  },
  "vscode": {
   "interpreter": {
    "hash": "ff43d62f8f6c4527fe53ff203f9f4b76bff05577ec2443f113edf97841413ea1"
   }
  }
 },
 "nbformat": 4,
 "nbformat_minor": 2
}
