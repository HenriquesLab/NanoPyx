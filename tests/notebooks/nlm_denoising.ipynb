{
 "cells": [
  {
   "cell_type": "code",
   "execution_count": 1,
   "metadata": {},
   "outputs": [],
   "source": [
    "import numpy as np\n",
    "\n",
    "from tifffile import imread, imwrite\n",
    "from matplotlib import pyplot as plt\n",
    "from skimage.restoration import denoise_nl_means\n",
    "from skimage.util import random_noise\n",
    "from nanopyx.core.transform._le_nlm_denoising import NLMDenoising\n",
    "from nanopyx.core.transform._le_fast_nlm_denoising import NLMDenoising as FastNLMDenoising\n",
    "\n",
    "from nanopyx.core.utils.timeit import timeit2\n",
    "\n",
    "#%matplotlib widget"
   ]
  },
  {
   "cell_type": "code",
   "execution_count": null,
   "metadata": {},
   "outputs": [],
   "source": [
    "#img = imread(\"../../SMLM.tif\")\n",
    "img = random_noise(np.random.random((1, 100, 100)), mode=\"gaussian\", mean=2, var=2, seed=3)\n",
    "patch_size = 11\n",
    "patch_distance = 100\n",
    "h = 0.1\n",
    "sigma = 2\n",
    "\n",
    "denoiser = NLMDenoising(testing=True)\n",
    "for i in range(3):\n",
    "    denoiser.benchmark(img, patch_size=patch_size, patch_distance=patch_distance, h=h, sigma=sigma)"
   ]
  },
  {
   "cell_type": "code",
   "execution_count": null,
   "metadata": {},
   "outputs": [],
   "source": [
    "#img = imread(\"../../SMLM.tif\")\n",
    "img = np.random.random((1, 1000, 1000)).astype(np.float32)\n",
    "patch_size = 7\n",
    "patch_distance = 100\n",
    "h = 0.1\n",
    "sigma = 2\n",
    "\n",
    "denoiser = NLMDenoising(testing=True)\n",
    "\n",
    "thr = denoiser.run(img, patch_size=patch_size, patch_distance=patch_distance, h=h, sigma=sigma, run_type=\"Threaded\")\n",
    "pyt = denoiser.run(img, patch_size=patch_size, patch_distance=patch_distance, h=h, sigma=sigma, run_type=\"Python\")\n"
   ]
  },
  {
   "cell_type": "code",
   "execution_count": null,
   "metadata": {},
   "outputs": [],
   "source": [
    "denoiser = FastNLMDenoising(testing=True)\n",
    "for i in range(3):\n",
    "    denoiser.benchmark(img, patch_size=patch_size, patch_distance=patch_distance, h=h, sigma=sigma)"
   ]
  },
  {
   "cell_type": "code",
   "execution_count": null,
   "metadata": {},
   "outputs": [],
   "source": [
    "@timeit2\n",
    "def run_sk(image):\n",
    "    out = np.zeros_like(image)\n",
    "    for i in range(image.shape[0]):\n",
    "        out[i] = denoise_nl_means(image[i], patch_size=patch_size, patch_distance=patch_distance, h=h, sigma=sigma, fast_mode=True)\n",
    "    return out\n",
    "\n",
    "plt.imshow(run_sk(img)[0])"
   ]
  }
 ],
 "metadata": {
  "kernelspec": {
   "display_name": "nanopyxdev",
   "language": "python",
   "name": "python3"
  },
  "language_info": {
   "codemirror_mode": {
    "name": "ipython",
    "version": 3
   },
   "file_extension": ".py",
   "mimetype": "text/x-python",
   "name": "python",
   "nbconvert_exporter": "python",
   "pygments_lexer": "ipython3",
   "version": "3.10.9"
  }
 },
 "nbformat": 4,
 "nbformat_minor": 2
}
