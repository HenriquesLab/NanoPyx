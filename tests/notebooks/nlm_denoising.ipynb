{
 "cells": [
  {
   "cell_type": "code",
   "execution_count": null,
   "metadata": {},
   "outputs": [],
   "source": [
    "import numpy as np\n",
    "\n",
    "from tifffile import imread, imwrite\n",
    "from matplotlib import pyplot as plt\n",
    "from skimage.restoration import denoise_nl_means, estimate_sigma\n",
    "from skimage.util import random_noise\n",
    "from nanopyx.core.transform._le_nlm_denoising import NLMDenoising\n",
    "from nanopyx.core.transform._le_fast_nlm_denoising import NLMDenoising as FastNLMDenoising\n",
    "\n",
    "from nanopyx.core.utils.timeit import timeit2\n",
    "\n",
    "from nanopyx.data.download import ExampleDataManager\n",
    "\n",
    "downloader = ExampleDataManager()\n",
    "image = downloader.get_ZipTiffIterator(\n",
    "    \"SMLMS2013_HDTubulinAlexa647\", as_ndarray=True).astype(np.float32)\n",
    "\n",
    "#%matplotlib widget"
   ]
  },
  {
   "cell_type": "code",
   "execution_count": null,
   "metadata": {},
   "outputs": [],
   "source": [
    "# img = imread(\"../../SMLM.tif\")\n",
    "# img = random_noise(np.random.random((1, 100, 100)), mode=\"gaussian\", mean=2, var=2, seed=3)\n",
    "# patch_size = 5\n",
    "# patch_distance = 11\n",
    "# h = 0.1\n",
    "# sigma = 2\n",
    "\n",
    "# denoiser = NLMDenoising(testing=True, clear_benchmarks=True)\n",
    "# for i in range(3):\n",
    "#     denoiser.benchmark(img, patch_size=patch_size, patch_distance=patch_distance, h=h, sigma=sigma)"
   ]
  },
  {
   "cell_type": "code",
   "execution_count": null,
   "metadata": {},
   "outputs": [],
   "source": [
    "denoiser = NLMDenoising(testing=True)\n",
    "fdenoiser = FastNLMDenoising(testing=True)\n",
    "patch_size = 3\n",
    "patch_distance = 10\n",
    "\n",
    "img = (image[0] - image[0].min())/image[0].max()\n",
    "sigma = 3\n",
    "h = 0.8 * sigma\n",
    "\n",
    "unt = denoiser.run(img, patch_size=patch_size, patch_distance=patch_distance, h=h, sigma=sigma, run_type=\"Unthreaded\")\n",
    "thr = denoiser.run(img, patch_size=patch_size, patch_distance=patch_distance, h=h, sigma=sigma, run_type=\"Threaded\")\n",
    "pyt = denoiser.run(img, patch_size=patch_size, patch_distance=patch_distance, h=h, sigma=sigma, run_type=\"Python\")\n",
    "cl = img\n",
    "\n",
    "unt_fast = fdenoiser.run(img, patch_size=patch_size, patch_distance=patch_distance, h=h, sigma=sigma, run_type=\"Unthreaded\")\n",
    "thr_fast = fdenoiser.run(img, patch_size=patch_size, patch_distance=patch_distance, h=h, sigma=sigma, run_type=\"Threaded\")\n",
    "pyt_fast = fdenoiser.run(img, patch_size=patch_size, patch_distance=patch_distance, h=h, sigma=sigma, run_type=\"Python\")\n",
    "cl_fast = fdenoiser.run(img, patch_size=patch_size, patch_distance=patch_distance, h=h, sigma=sigma, run_type=\"OpenCL_Apple M1\")\n",
    "\n",
    "fig,axs = plt.subplots(1,9,figsize=(15,15))\n",
    "axs[0].imshow(img)\n",
    "\n",
    "# non fast\n",
    "axs[1].imshow(unt)\n",
    "axs[2].imshow(thr)\n",
    "axs[3].imshow(pyt)\n",
    "axs[4].imshow(cl)\n",
    "\n",
    "# fast\n",
    "axs[5].imshow(unt_fast)\n",
    "axs[6].imshow(thr_fast)\n",
    "axs[7].imshow(pyt_fast)\n",
    "axs[8].imshow(cl_fast)\n",
    "plt.show()\n"
   ]
  },
  {
   "cell_type": "code",
   "execution_count": null,
   "metadata": {},
   "outputs": [],
   "source": [
    "# denoiser = NLMDenoising(testing=True)\n",
    "# fdenoiser = FastNLMDenoising(testing=True)\n",
    "# patch_size = 5\n",
    "# patch_distance = 11\n",
    "# h = 0.1\n",
    "# sigma = 0.1\n",
    "# img = (image[0] - image[0].min())/image[0].max()\n",
    "\n",
    "# thr = denoiser.run(img, patch_size=patch_size, patch_distance=patch_distance, h=h, sigma=sigma, run_type=\"Unthreaded\")\n"
   ]
  }
 ],
 "metadata": {
  "kernelspec": {
   "display_name": "nanopyxdev",
   "language": "python",
   "name": "python3"
  },
  "language_info": {
   "codemirror_mode": {
    "name": "ipython",
    "version": 3
   },
   "file_extension": ".py",
   "mimetype": "text/x-python",
   "name": "python",
   "nbconvert_exporter": "python",
   "pygments_lexer": "ipython3",
   "version": "3.9.16"
  }
 },
 "nbformat": 4,
 "nbformat_minor": 2
}
