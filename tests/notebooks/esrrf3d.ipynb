{
 "cells": [
  {
   "cell_type": "code",
   "execution_count": null,
   "metadata": {},
   "outputs": [],
   "source": [
    "import stackview\n",
    "import numpy as np\n",
    "from matplotlib import pyplot as plt\n",
    "from tifffile import imread\n",
    "from nanopyx.methods.esrrf_3d.run import run_esrrf3d\n",
    "\n",
    "from nanopyx.core.transform._le_esrrf3d import eSRRF3D"
   ]
  },
  {
   "cell_type": "code",
   "execution_count": null,
   "metadata": {},
   "outputs": [],
   "source": [
    "path = \"/Users/avesga/Desktop/3DeSRRF/blinking_test.tif\"\n",
    "img = imread(path).astype(np.float32)\n",
    "img.shape"
   ]
  },
  {
   "cell_type": "code",
   "execution_count": null,
   "metadata": {},
   "outputs": [],
   "source": [
    "stackview.slice(img[0])"
   ]
  },
  {
   "cell_type": "code",
   "execution_count": null,
   "metadata": {},
   "outputs": [],
   "source": [
    "# Define variables\n",
    "\n",
    "magnification_xy=1\n",
    "magnification_z=1\n",
    "radius=2\n",
    "radius_z = 1 # This has been deprecated and has been replaced by radius only\n",
    "ratio_px = 4\n",
    "sensitivity=2\n",
    "run_type=\"Threaded\"\n",
    "correlation=\"AVG\"\n",
    "framewindow=4\n",
    "rollingoverlap=2\n"
   ]
  },
  {
   "cell_type": "code",
   "execution_count": null,
   "metadata": {},
   "outputs": [],
   "source": [
    "esrrf = eSRRF3D()\n",
    "rgc_img = run_esrrf3d(img, magnification_xy=magnification_xy, magnification_z=magnification_z, radius=radius, radius_z =radius_z, ratio_px = ratio_px, sensitivity=sensitivity, run_type=run_type, correlation=correlation, framewindow=framewindow, rollingoverlap=rollingoverlap)\n",
    "\n"
   ]
  },
  {
   "cell_type": "code",
   "execution_count": null,
   "metadata": {},
   "outputs": [],
   "source": [
    "rgc_img.shape\n",
    "stackview.slice(rgc_img)"
   ]
  },
  {
   "cell_type": "code",
   "execution_count": null,
   "metadata": {},
   "outputs": [],
   "source": [
    "from tifffile import imwrite\n",
    "\n",
    "rgc_img_fiji = rgc_img.squeeze()\n",
    "imwrite('/Users/avesga/Desktop/3DeSRRF/test/' + name_save + '.tif', rgc_img_fiji)"
   ]
  },
  {
   "cell_type": "code",
   "execution_count": null,
   "metadata": {},
   "outputs": [],
   "source": [
    "# From https://imagej.net/plugins/trackmate/scripting/scripting\n",
    "# they claim that the default order of the hyperstacks in ImageJ is XYCZT\n",
    "\n",
    "# The RGC has dimensions (T, Z, X, Y)\n",
    "# Found that, to use imwrite('image.tif', rgc_img_fiji, imagej=True), the dimensions have to be (T, Z, C, X, Y)\n",
    "\n",
    "rgc_img.shape\n",
    "\n",
    "rgc_img_fiji = np.expand_dims(rgc_img, axis=4)\n",
    "rgc_img_fiji = np.transpose(rgc_img_fiji, (0, 1, 4, 2, 3))\n",
    "\n",
    "# rgc_img_fiji = np.transpose(rgc_img, (0, 1, 3, 2))\n",
    "# rgc_img_fiji = rgc_img\n",
    "# save the 4D array as a tiff file\n",
    "\n",
    "from tifffile import imwrite\n",
    "\n",
    "# # write OME-TIFF\n",
    "# imwrite('/Users/avesga/Desktop/rgc_img_0.tif', rgc_img)\n",
    "\n",
    "# write ImageJ hyperstack\n",
    "imwrite('/Users/avesga/Desktop/rgc_img_0.tif', rgc_img_fiji, imagej=True)\n"
   ]
  },
  {
   "cell_type": "code",
   "execution_count": null,
   "metadata": {},
   "outputs": [],
   "source": [
    "rgc_img.shape\n",
    "stackview.slice(rgc_img)"
   ]
  },
  {
   "cell_type": "code",
   "execution_count": null,
   "metadata": {},
   "outputs": [],
   "source": [
    "esrrf.get_gradients()"
   ]
  },
  {
   "cell_type": "code",
   "execution_count": null,
   "metadata": {},
   "outputs": [],
   "source": [
    "stackview.slice(grad_r_int)"
   ]
  },
  {
   "cell_type": "code",
   "execution_count": null,
   "metadata": {},
   "outputs": [],
   "source": [
    "stackview.slice(grad_c_int)"
   ]
  },
  {
   "cell_type": "code",
   "execution_count": null,
   "metadata": {},
   "outputs": [],
   "source": [
    "stackview.slice(grad_s_int)"
   ]
  }
 ],
 "metadata": {
  "kernelspec": {
   "display_name": "nanopyxdev",
   "language": "python",
   "name": "python3"
  },
  "language_info": {
   "codemirror_mode": {
    "name": "ipython",
    "version": 3
   },
   "file_extension": ".py",
   "mimetype": "text/x-python",
   "name": "python",
   "nbconvert_exporter": "python",
   "pygments_lexer": "ipython3",
   "version": "3.9.18"
  }
 },
 "nbformat": 4,
 "nbformat_minor": 2
}
