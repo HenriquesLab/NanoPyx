{
 "cells": [
  {
   "cell_type": "code",
   "execution_count": 1,
   "metadata": {},
   "outputs": [],
   "source": [
    "import stackview\n",
    "import numpy as np\n",
    "from matplotlib import pyplot as plt\n",
    "from tifffile import imread\n",
    "from nanopyx.methods.esrrf_3d.run import run_esrrf3d\n",
    "\n",
    "from nanopyx.core.transform._le_esrrf3d import eSRRF3D"
   ]
  },
  {
   "cell_type": "code",
   "execution_count": 2,
   "metadata": {},
   "outputs": [],
   "source": [
    "# img = imread(\"/Users/avesga/Code/NanoPyx/3D_test_image/sphere_9planes.tif\").astype(np.float32)\n",
    "path = \"/Users/avesga/Desktop/3DeSRRF/blinking_test.tif\"\n",
    "img = imread(path).astype(np.float32)"
   ]
  },
  {
   "cell_type": "code",
   "execution_count": 3,
   "metadata": {},
   "outputs": [
    {
     "data": {
      "text/plain": [
       "(21, 9, 50, 50)"
      ]
     },
     "execution_count": 3,
     "metadata": {},
     "output_type": "execute_result"
    }
   ],
   "source": [
    "img.shape"
   ]
  },
  {
   "cell_type": "code",
   "execution_count": 4,
   "metadata": {},
   "outputs": [
    {
     "data": {
      "application/vnd.jupyter.widget-view+json": {
       "model_id": "d45a8662548f4443a239f0784edde02f",
       "version_major": 2,
       "version_minor": 0
      },
      "text/plain": [
       "VBox(children=(HBox(children=(VBox(children=(ImageWidget(height=50, width=50),)),)), IntSlider(value=4, descri…"
      ]
     },
     "execution_count": 4,
     "metadata": {},
     "output_type": "execute_result"
    }
   ],
   "source": [
    "# img to analize\n",
    "\n",
    "# planes = [0, 2, 4, 6, 8]\n",
    "# planes = [1, 3, 5, 7]\n",
    "# planes = [0, 4, 8]\n",
    "planes = [0, 1, 2, 3, 4, 5, 6, 7, 8]\n",
    "img4ana = img[:, planes, :, :]\n",
    "\n",
    "name_save = \"All_planes\"\n",
    "\n",
    "stackview.slice(img4ana[0])"
   ]
  },
  {
   "cell_type": "code",
   "execution_count": 5,
   "metadata": {},
   "outputs": [],
   "source": [
    "# Define variables\n",
    "\n",
    "magnification_xy=2\n",
    "magnification_z=2\n",
    "radius=2\n",
    "radius_z = 2\n",
    "ratio_px = 4\n",
    "sensitivity=2\n",
    "run_type=\"Threaded\"\n",
    "correlation=\"AVG\"\n",
    "framewindow=0\n",
    "rollingoverlap=1\n"
   ]
  },
  {
   "cell_type": "code",
   "execution_count": 6,
   "metadata": {},
   "outputs": [
    {
     "name": "stdout",
     "output_type": "stream",
     "text": [
      "Consider adding default arguments to the njit implementation to trigger early compilation\n",
      "Consider adding default arguments to the njit implementation to trigger early compilation\n",
      "Querying the Agent...\n",
      "Agent: ShiftMagnify_CR using Threaded_guided ran in 0.002486208000000545 seconds\n",
      "Run type Threaded_guided was delayed in the previous run. Delay factor: 1.0449771127128766, Delay probability: 0.26726405723271807\n",
      "Querying the Agent...\n",
      "Agent: ShiftMagnify_CR using Threaded_guided ran in 0.002401542000000312 seconds\n",
      "Consider adding default arguments to the njit implementation to trigger early compilation\n",
      "Querying the Agent...\n",
      "Agent: ShiftMagnify_CR using OpenCL_Apple M1 Pro ran in 0.017893250000000194 seconds\n",
      "Run type OpenCL_Apple M1 Pro was delayed in the previous run. Delay factor: 1.6365478090491987, Delay probability: 0.2378729659297821\n",
      "Consider adding default arguments to the njit implementation to trigger early compilation\n",
      "Querying the Agent...\n",
      "Agent: ShiftMagnify_CR using OpenCL_Apple M1 Pro ran in 0.011695125000001028 seconds\n",
      "Consider adding default arguments to the njit implementation to trigger early compilation\n",
      "Querying the Agent...\n",
      "Agent: ShiftMagnify_CR using OpenCL_Apple M1 Pro ran in 0.011303749999999724 seconds\n",
      "Consider adding default arguments to the njit implementation to trigger early compilation\n",
      "Querying the Agent...\n",
      "Agent: ShiftMagnify_CR using Threaded_guided ran in 0.0024060419999987204 seconds\n",
      "Querying the Agent...\n",
      "Agent: ShiftMagnify_CR using Threaded_guided ran in 0.002484416000001488 seconds\n",
      "Run type Threaded_guided was delayed in the previous run. Delay factor: 1.0442495150144253, Delay probability: 0.26726405723271807\n",
      "Consider adding default arguments to the njit implementation to trigger early compilation\n",
      "Querying the Agent...\n",
      "Agent: ShiftMagnify_CR using OpenCL_Apple M1 Pro ran in 0.010758457999999749 seconds\n",
      "Consider adding default arguments to the njit implementation to trigger early compilation\n",
      "Querying the Agent...\n",
      "Agent: ShiftMagnify_CR using OpenCL_Apple M1 Pro ran in 0.012998707999999581 seconds\n",
      "Run type OpenCL_Apple M1 Pro was delayed in the previous run. Delay factor: 1.1918169081951844, Delay probability: 0.2337475292239949\n",
      "Consider adding default arguments to the njit implementation to trigger early compilation\n",
      "Querying the Agent...\n",
      "Agent: ShiftMagnify_CR using OpenCL_Apple M1 Pro ran in 0.01078304199999991 seconds\n",
      "Consider adding default arguments to the njit implementation to trigger early compilation\n",
      "Querying the Agent...\n",
      "Agent: ShiftMagnify_CR using Threaded_guided ran in 0.0023923750000012234 seconds\n",
      "Querying the Agent...\n",
      "Agent: ShiftMagnify_CR using Threaded_guided ran in 0.0023948339999986246 seconds\n",
      "Consider adding default arguments to the njit implementation to trigger early compilation\n",
      "Querying the Agent...\n",
      "Agent: ShiftMagnify_CR using OpenCL_Apple M1 Pro ran in 0.013203583000001018 seconds\n",
      "Run type OpenCL_Apple M1 Pro was delayed in the previous run. Delay factor: 1.2076226973998954, Delay probability: 0.2378729659297821\n",
      "Consider adding default arguments to the njit implementation to trigger early compilation\n",
      "Querying the Agent...\n",
      "Agent: ShiftMagnify_CR using OpenCL_Apple M1 Pro ran in 0.011041207999999969 seconds\n",
      "Consider adding default arguments to the njit implementation to trigger early compilation\n",
      "Querying the Agent...\n",
      "Agent: ShiftMagnify_CR using OpenCL_Apple M1 Pro ran in 0.011621292000000949 seconds\n",
      "Consider adding default arguments to the njit implementation to trigger early compilation\n",
      "Querying the Agent...\n",
      "Agent: ShiftMagnify_CR using Threaded_guided ran in 0.002386583999999914 seconds\n",
      "Querying the Agent...\n",
      "Agent: ShiftMagnify_CR using Threaded_guided ran in 0.0024472079999995344 seconds\n",
      "Run type Threaded_guided was delayed in the previous run. Delay factor: 1.028087379748086, Delay probability: 0.27511712348806283\n",
      "Consider adding default arguments to the njit implementation to trigger early compilation\n",
      "Querying the Agent...\n",
      "Agent: ShiftMagnify_CR using OpenCL_Apple M1 Pro ran in 0.01108720800000107 seconds\n",
      "Consider adding default arguments to the njit implementation to trigger early compilation\n",
      "Querying the Agent...\n",
      "Agent: ShiftMagnify_CR using OpenCL_Apple M1 Pro ran in 0.01838283300000043 seconds\n",
      "Run type OpenCL_Apple M1 Pro was delayed in the previous run. Delay factor: 1.683443278084913, Delay probability: 0.2378729659297821\n",
      "Consider adding default arguments to the njit implementation to trigger early compilation\n",
      "Querying the Agent...\n",
      "Agent: ShiftMagnify_CR using OpenCL_Apple M1 Pro ran in 0.011182875000001147 seconds\n",
      "Consider adding default arguments to the njit implementation to trigger early compilation\n",
      "Querying the Agent...\n",
      "Agent: ShiftMagnify_CR using Threaded_guided ran in 0.002387124999998491 seconds\n",
      "Querying the Agent...\n",
      "Agent: ShiftMagnify_CR using Threaded_guided ran in 0.002433749999998014 seconds\n",
      "Consider adding default arguments to the njit implementation to trigger early compilation\n",
      "Querying the Agent...\n",
      "Agent: ShiftMagnify_CR using OpenCL_Apple M1 Pro ran in 0.014426582999998772 seconds\n",
      "Run type OpenCL_Apple M1 Pro was delayed in the previous run. Delay factor: 1.3194804074561162, Delay probability: 0.2378729659297821\n",
      "Consider adding default arguments to the njit implementation to trigger early compilation\n",
      "Querying the Agent...\n",
      "Agent: ShiftMagnify_CR using OpenCL_Apple M1 Pro ran in 0.011199249999997107 seconds\n",
      "Consider adding default arguments to the njit implementation to trigger early compilation\n",
      "Querying the Agent...\n",
      "Agent: ShiftMagnify_CR using OpenCL_Apple M1 Pro ran in 0.010441291999999436 seconds\n",
      "Consider adding default arguments to the njit implementation to trigger early compilation\n",
      "Querying the Agent...\n",
      "Agent: ShiftMagnify_CR using Threaded_guided ran in 0.002373625000000601 seconds\n",
      "Querying the Agent...\n",
      "Agent: ShiftMagnify_CR using Threaded_guided ran in 0.0024152920000020117 seconds\n",
      "Consider adding default arguments to the njit implementation to trigger early compilation\n",
      "Querying the Agent...\n",
      "Agent: ShiftMagnify_CR using OpenCL_Apple M1 Pro ran in 0.011508708999997452 seconds\n",
      "Consider adding default arguments to the njit implementation to trigger early compilation\n",
      "Querying the Agent...\n",
      "Agent: ShiftMagnify_CR using OpenCL_Apple M1 Pro ran in 0.011766791999999526 seconds\n",
      "Consider adding default arguments to the njit implementation to trigger early compilation\n",
      "Querying the Agent...\n",
      "Agent: ShiftMagnify_CR using OpenCL_Apple M1 Pro ran in 0.010249416000000622 seconds\n",
      "Consider adding default arguments to the njit implementation to trigger early compilation\n",
      "Querying the Agent...\n",
      "Agent: ShiftMagnify_CR using Threaded_guided ran in 0.0024262909999990256 seconds\n",
      "Querying the Agent...\n",
      "Agent: ShiftMagnify_CR using Threaded_guided ran in 0.0024693330000005176 seconds\n",
      "Run type Threaded_guided was delayed in the previous run. Delay factor: 1.0361757074721745, Delay probability: 0.14141774947896593\n",
      "Consider adding default arguments to the njit implementation to trigger early compilation\n",
      "Querying the Agent...\n",
      "Agent: ShiftMagnify_CR using OpenCL_Apple M1 Pro ran in 0.02346250000000083 seconds\n",
      "Run type OpenCL_Apple M1 Pro was delayed in the previous run. Delay factor: 2.1459211138176557, Delay probability: 0.2378729659297821\n",
      "Consider adding default arguments to the njit implementation to trigger early compilation\n",
      "Querying the Agent...\n",
      "Agent: ShiftMagnify_CR using OpenCL_Apple M1 Pro ran in 0.02093149999999966 seconds\n",
      "Run type OpenCL_Apple M1 Pro was delayed in the previous run. Delay factor: 1.914431445663162, Delay probability: 0.2767244691988686\n",
      "Consider adding default arguments to the njit implementation to trigger early compilation\n",
      "Querying the Agent...\n",
      "Agent: ShiftMagnify_CR using OpenCL_Apple M1 Pro ran in 0.01131275000000187 seconds\n",
      "Consider adding default arguments to the njit implementation to trigger early compilation\n",
      "Querying the Agent...\n",
      "Agent: ShiftMagnify_CR using Threaded_guided ran in 0.0024482080000005624 seconds\n",
      "Querying the Agent...\n",
      "Agent: ShiftMagnify_CR using Threaded_guided ran in 0.0024092910000028667 seconds\n",
      "Consider adding default arguments to the njit implementation to trigger early compilation\n",
      "Querying the Agent...\n",
      "Agent: ShiftMagnify_CR using OpenCL_Apple M1 Pro ran in 0.010204416000000549 seconds\n",
      "Consider adding default arguments to the njit implementation to trigger early compilation\n",
      "Querying the Agent...\n",
      "Agent: ShiftMagnify_CR using OpenCL_Apple M1 Pro ran in 0.010353000000002055 seconds\n",
      "Consider adding default arguments to the njit implementation to trigger early compilation\n",
      "Querying the Agent...\n",
      "Agent: ShiftMagnify_CR using OpenCL_Apple M1 Pro ran in 0.010084417000001622 seconds\n",
      "Consider adding default arguments to the njit implementation to trigger early compilation\n",
      "Querying the Agent...\n",
      "Agent: ShiftMagnify_CR using Threaded_guided ran in 0.0024864579999999137 seconds\n",
      "Run type Threaded_guided was delayed in the previous run. Delay factor: 1.0431296879330099, Delay probability: 0.14715974993365105\n",
      "Querying the Agent...\n",
      "Agent: ShiftMagnify_CR using Threaded_guided ran in 0.0024572499999990782 seconds\n",
      "Run type Threaded_guided was delayed in the previous run. Delay factor: 1.0308762205806477, Delay probability: 0.14715974993365105\n",
      "Consider adding default arguments to the njit implementation to trigger early compilation\n",
      "Querying the Agent...\n",
      "Agent: ShiftMagnify_CR using OpenCL_Apple M1 Pro ran in 0.012308916999998587 seconds\n",
      "Run type OpenCL_Apple M1 Pro was delayed in the previous run. Delay factor: 1.1257949868311181, Delay probability: 0.2378729659297821\n",
      "Consider adding default arguments to the njit implementation to trigger early compilation\n",
      "Querying the Agent...\n",
      "Agent: ShiftMagnify_CR using OpenCL_Apple M1 Pro ran in 0.010267667000000813 seconds\n",
      "Consider adding default arguments to the njit implementation to trigger early compilation\n",
      "Querying the Agent...\n",
      "Agent: ShiftMagnify_CR using OpenCL_Apple M1 Pro ran in 0.010646582999999765 seconds\n",
      "Consider adding default arguments to the njit implementation to trigger early compilation\n",
      "Querying the Agent...\n",
      "Agent: ShiftMagnify_CR using Threaded_guided ran in 0.0023590829999982077 seconds\n",
      "Querying the Agent...\n",
      "Agent: ShiftMagnify_CR using Threaded_guided ran in 0.002518667000000363 seconds\n",
      "Run type Threaded_guided was delayed in the previous run. Delay factor: 1.056642147873658, Delay probability: 0.22281599499441468\n",
      "Consider adding default arguments to the njit implementation to trigger early compilation\n",
      "Querying the Agent...\n",
      "Agent: ShiftMagnify_CR using OpenCL_Apple M1 Pro ran in 0.011982542000001928 seconds\n",
      "Consider adding default arguments to the njit implementation to trigger early compilation\n",
      "Querying the Agent...\n",
      "Agent: ShiftMagnify_CR using OpenCL_Apple M1 Pro ran in 0.011588707999997894 seconds\n",
      "Consider adding default arguments to the njit implementation to trigger early compilation\n",
      "Querying the Agent...\n",
      "Agent: ShiftMagnify_CR using OpenCL_Apple M1 Pro ran in 0.010028874999999715 seconds\n",
      "Consider adding default arguments to the njit implementation to trigger early compilation\n",
      "Querying the Agent...\n",
      "Agent: ShiftMagnify_CR using Threaded_guided ran in 0.002434792000002517 seconds\n",
      "Querying the Agent...\n",
      "Agent: ShiftMagnify_CR using Threaded_guided ran in 0.0023557499999995457 seconds\n",
      "Consider adding default arguments to the njit implementation to trigger early compilation\n",
      "Querying the Agent...\n",
      "Agent: ShiftMagnify_CR using OpenCL_Apple M1 Pro ran in 0.01683658400000354 seconds\n",
      "Run type OpenCL_Apple M1 Pro was delayed in the previous run. Delay factor: 1.5399032963312025, Delay probability: 0.2378729659297821\n",
      "Consider adding default arguments to the njit implementation to trigger early compilation\n",
      "Querying the Agent...\n",
      "Agent: ShiftMagnify_CR using OpenCL_Apple M1 Pro ran in 0.012299874999996518 seconds\n",
      "Run type OpenCL_Apple M1 Pro was delayed in the previous run. Delay factor: 1.124967989762793, Delay probability: 0.2767244691988686\n",
      "Consider adding default arguments to the njit implementation to trigger early compilation\n",
      "Querying the Agent...\n",
      "Agent: ShiftMagnify_CR using OpenCL_Apple M1 Pro ran in 0.011410333999997135 seconds\n",
      "Consider adding default arguments to the njit implementation to trigger early compilation\n",
      "Querying the Agent...\n",
      "Agent: ShiftMagnify_CR using Threaded_guided ran in 0.0025403750000023706 seconds\n",
      "Run type Threaded_guided was delayed in the previous run. Delay factor: 1.066707587480729, Delay probability: 0.219496407609628\n",
      "Querying the Agent...\n",
      "Agent: ShiftMagnify_CR using Threaded_guided ran in 0.0024707080000041515 seconds\n",
      "Run type Threaded_guided was delayed in the previous run. Delay factor: 1.037454301058429, Delay probability: 0.219496407609628\n",
      "Consider adding default arguments to the njit implementation to trigger early compilation\n",
      "Querying the Agent...\n",
      "Agent: ShiftMagnify_CR using OpenCL_Apple M1 Pro ran in 0.03318462499999697 seconds\n",
      "Run type OpenCL_Apple M1 Pro was delayed in the previous run. Delay factor: 3.0351235990031835, Delay probability: 0.2378729659297821\n",
      "Consider adding default arguments to the njit implementation to trigger early compilation\n",
      "Querying the Agent...\n",
      "Agent: ShiftMagnify_CR using OpenCL_Apple M1 Pro ran in 0.012151208999995333 seconds\n",
      "Run type OpenCL_Apple M1 Pro was delayed in the previous run. Delay factor: 1.1113707384762999, Delay probability: 0.2767244691988686\n",
      "Consider adding default arguments to the njit implementation to trigger early compilation\n",
      "Querying the Agent...\n",
      "Agent: ShiftMagnify_CR using OpenCL_Apple M1 Pro ran in 0.010992665999999929 seconds\n",
      "Consider adding default arguments to the njit implementation to trigger early compilation\n",
      "Querying the Agent...\n",
      "Agent: ShiftMagnify_CR using Threaded_guided ran in 0.0024932079999970824 seconds\n",
      "Run type Threaded_guided was delayed in the previous run. Delay factor: 1.046120946297413, Delay probability: 0.2837116618458667\n",
      "Querying the Agent...\n",
      "Agent: ShiftMagnify_CR using Threaded_guided ran in 0.0025075830000034216 seconds\n",
      "Run type Threaded_guided was delayed in the previous run. Delay factor: 1.0521525283433852, Delay probability: 0.2837116618458667\n",
      "Consider adding default arguments to the njit implementation to trigger early compilation\n",
      "Querying the Agent...\n",
      "Agent: ShiftMagnify_CR using OpenCL_Apple M1 Pro ran in 0.0369017499999984 seconds\n",
      "Run type OpenCL_Apple M1 Pro was delayed in the previous run. Delay factor: 3.3750983254902267, Delay probability: 0.2378729659297821\n",
      "Consider adding default arguments to the njit implementation to trigger early compilation\n",
      "Querying the Agent...\n",
      "Agent: ShiftMagnify_CR using OpenCL_Apple M1 Pro ran in 0.01908216700000054 seconds\n",
      "Run type OpenCL_Apple M1 Pro was delayed in the previous run. Delay factor: 1.7452882285644846, Delay probability: 0.2767244691988686\n",
      "Consider adding default arguments to the njit implementation to trigger early compilation\n",
      "Querying the Agent...\n",
      "Agent: ShiftMagnify_CR using OpenCL_Apple M1 Pro ran in 0.037486999999998716 seconds\n",
      "Run type OpenCL_Apple M1 Pro was delayed in the previous run. Delay factor: 3.4286263097997596, Delay probability: 0.307282648105079\n",
      "Consider adding default arguments to the njit implementation to trigger early compilation\n",
      "Querying the Agent...\n",
      "Agent: ShiftMagnify_CR using Threaded_guided ran in 0.002425625000000764 seconds\n",
      "Querying the Agent...\n",
      "Agent: ShiftMagnify_CR using Threaded_guided ran in 0.002453124999995282 seconds\n",
      "Consider adding default arguments to the njit implementation to trigger early compilation\n",
      "Querying the Agent...\n",
      "Agent: ShiftMagnify_CR using OpenCL_Apple M1 Pro ran in 0.023703125000004377 seconds\n",
      "Run type OpenCL_Apple M1 Pro was delayed in the previous run. Delay factor: 2.1679290954061465, Delay probability: 0.2378729659297821\n",
      "Consider adding default arguments to the njit implementation to trigger early compilation\n",
      "Querying the Agent...\n",
      "Agent: ShiftMagnify_CR using OpenCL_Apple M1 Pro ran in 0.010771042000001785 seconds\n",
      "Consider adding default arguments to the njit implementation to trigger early compilation\n",
      "Querying the Agent...\n",
      "Agent: ShiftMagnify_CR using OpenCL_Apple M1 Pro ran in 0.011932458000003976 seconds\n",
      "Run type OpenCL_Apple M1 Pro was delayed in the previous run. Delay factor: 1.094004795944319, Delay probability: 0.22512620904327668\n",
      "Consider adding default arguments to the njit implementation to trigger early compilation\n",
      "Querying the Agent...\n",
      "Agent: ShiftMagnify_CR using Threaded_guided ran in 0.002367374999998617 seconds\n",
      "Querying the Agent...\n",
      "Agent: ShiftMagnify_CR using Threaded_guided ran in 0.002370208000002094 seconds\n",
      "Consider adding default arguments to the njit implementation to trigger early compilation\n",
      "Querying the Agent...\n",
      "Agent: ShiftMagnify_CR using OpenCL_Apple M1 Pro ran in 0.019682124999995665 seconds\n",
      "Run type OpenCL_Apple M1 Pro was delayed in the previous run. Delay factor: 1.8001614321699533, Delay probability: 0.2378729659297821\n",
      "Consider adding default arguments to the njit implementation to trigger early compilation\n",
      "Querying the Agent...\n",
      "Agent: ShiftMagnify_CR using OpenCL_Apple M1 Pro ran in 0.010376625000006356 seconds\n",
      "Consider adding default arguments to the njit implementation to trigger early compilation\n",
      "Querying the Agent...\n",
      "Agent: ShiftMagnify_CR using OpenCL_Apple M1 Pro ran in 0.011390916999999945 seconds\n",
      "Consider adding default arguments to the njit implementation to trigger early compilation\n",
      "Querying the Agent...\n",
      "Agent: ShiftMagnify_CR using Threaded_guided ran in 0.002413666999999009 seconds\n",
      "Querying the Agent...\n",
      "Agent: ShiftMagnify_CR using Threaded_guided ran in 0.0023762080000011565 seconds\n",
      "Consider adding default arguments to the njit implementation to trigger early compilation\n",
      "Querying the Agent...\n",
      "Agent: ShiftMagnify_CR using OpenCL_Apple M1 Pro ran in 0.012113417000001903 seconds\n",
      "Run type OpenCL_Apple M1 Pro was delayed in the previous run. Delay factor: 1.1079142163358928, Delay probability: 0.2378729659297821\n",
      "Consider adding default arguments to the njit implementation to trigger early compilation\n",
      "Querying the Agent...\n",
      "Agent: ShiftMagnify_CR using OpenCL_Apple M1 Pro ran in 0.011773040999997875 seconds\n",
      "Consider adding default arguments to the njit implementation to trigger early compilation\n",
      "Querying the Agent...\n",
      "Agent: ShiftMagnify_CR using OpenCL_Apple M1 Pro ran in 0.011649499999997204 seconds\n",
      "Consider adding default arguments to the njit implementation to trigger early compilation\n",
      "Querying the Agent...\n",
      "Agent: ShiftMagnify_CR using Threaded_guided ran in 0.002408374999994578 seconds\n",
      "Querying the Agent...\n",
      "Agent: ShiftMagnify_CR using Threaded_guided ran in 0.002400624999999934 seconds\n",
      "Consider adding default arguments to the njit implementation to trigger early compilation\n",
      "Querying the Agent...\n",
      "Agent: ShiftMagnify_CR using OpenCL_Apple M1 Pro ran in 0.011291207999995834 seconds\n",
      "Consider adding default arguments to the njit implementation to trigger early compilation\n",
      "Querying the Agent...\n",
      "Agent: ShiftMagnify_CR using OpenCL_Apple M1 Pro ran in 0.01088270799999691 seconds\n",
      "Consider adding default arguments to the njit implementation to trigger early compilation\n",
      "Querying the Agent...\n",
      "Agent: ShiftMagnify_CR using OpenCL_Apple M1 Pro ran in 0.011025957999997615 seconds\n",
      "Consider adding default arguments to the njit implementation to trigger early compilation\n",
      "Querying the Agent...\n",
      "Agent: ShiftMagnify_CR using Threaded_guided ran in 0.002391082999999128 seconds\n",
      "Querying the Agent...\n",
      "Agent: ShiftMagnify_CR using Threaded_guided ran in 0.0024326670000007766 seconds\n",
      "Consider adding default arguments to the njit implementation to trigger early compilation\n",
      "Querying the Agent...\n",
      "Agent: ShiftMagnify_CR using OpenCL_Apple M1 Pro ran in 0.01065154100000143 seconds\n",
      "Consider adding default arguments to the njit implementation to trigger early compilation\n",
      "Querying the Agent...\n",
      "Agent: ShiftMagnify_CR using OpenCL_Apple M1 Pro ran in 0.011569209000001024 seconds\n",
      "Consider adding default arguments to the njit implementation to trigger early compilation\n",
      "Querying the Agent...\n",
      "Agent: ShiftMagnify_CR using OpenCL_Apple M1 Pro ran in 0.0106232910000017 seconds\n",
      "Consider adding default arguments to the njit implementation to trigger early compilation\n",
      "Querying the Agent...\n",
      "Agent: ShiftMagnify_CR using Threaded_guided ran in 0.002431207999997298 seconds\n",
      "Querying the Agent...\n",
      "Agent: ShiftMagnify_CR using Threaded_guided ran in 0.0024792919999967467 seconds\n",
      "Run type Threaded_guided was delayed in the previous run. Delay factor: 1.038806583904215, Delay probability: 0.21584394058925133\n",
      "Consider adding default arguments to the njit implementation to trigger early compilation\n",
      "Querying the Agent...\n",
      "Agent: ShiftMagnify_CR using OpenCL_Apple M1 Pro ran in 0.013070833000000448 seconds\n",
      "Run type OpenCL_Apple M1 Pro was delayed in the previous run. Delay factor: 1.1954811511938002, Delay probability: 0.2378729659297821\n",
      "Consider adding default arguments to the njit implementation to trigger early compilation\n",
      "Querying the Agent...\n",
      "Agent: ShiftMagnify_CR using OpenCL_Apple M1 Pro ran in 0.01237975000000091 seconds\n",
      "Run type OpenCL_Apple M1 Pro was delayed in the previous run. Delay factor: 1.1322734963786951, Delay probability: 0.2767244691988686\n",
      "Consider adding default arguments to the njit implementation to trigger early compilation\n",
      "Querying the Agent...\n",
      "Agent: ShiftMagnify_CR using OpenCL_Apple M1 Pro ran in 0.015589583000000573 seconds\n",
      "Run type OpenCL_Apple M1 Pro was delayed in the previous run. Delay factor: 1.4258504130128007, Delay probability: 0.307282648105079\n",
      "Consider adding default arguments to the njit implementation to trigger early compilation\n",
      "Querying the Agent...\n",
      "Agent: ShiftMagnify_CR using Threaded_guided ran in 0.002390999999995813 seconds\n",
      "Querying the Agent...\n",
      "Agent: ShiftMagnify_CR using Threaded_guided ran in 0.002392042000003869 seconds\n",
      "Consider adding default arguments to the njit implementation to trigger early compilation\n",
      "Querying the Agent...\n",
      "Agent: ShiftMagnify_CR using OpenCL_Apple M1 Pro ran in 0.01202066599999796 seconds\n",
      "Run type OpenCL_Apple M1 Pro was delayed in the previous run. Delay factor: 1.099431048334352, Delay probability: 0.2378729659297821\n",
      "Consider adding default arguments to the njit implementation to trigger early compilation\n",
      "Querying the Agent...\n",
      "Agent: ShiftMagnify_CR using OpenCL_Apple M1 Pro ran in 0.0120369170000032 seconds\n",
      "Run type OpenCL_Apple M1 Pro was delayed in the previous run. Delay factor: 1.100917393098631, Delay probability: 0.2767244691988686\n",
      "Consider adding default arguments to the njit implementation to trigger early compilation\n",
      "Querying the Agent...\n",
      "Agent: ShiftMagnify_CR using OpenCL_Apple M1 Pro ran in 0.011166625000001318 seconds\n",
      "Consider adding default arguments to the njit implementation to trigger early compilation\n",
      "Querying the Agent...\n",
      "Agent: ShiftMagnify_CR using Threaded_guided ran in 0.0024072080000010487 seconds\n",
      "Querying the Agent...\n",
      "Agent: ShiftMagnify_CR using Threaded_guided ran in 0.0024072920000008935 seconds\n",
      "Consider adding default arguments to the njit implementation to trigger early compilation\n",
      "Querying the Agent...\n",
      "Agent: ShiftMagnify_CR using OpenCL_Apple M1 Pro ran in 0.011065000000002101 seconds\n",
      "Consider adding default arguments to the njit implementation to trigger early compilation\n",
      "Querying the Agent...\n",
      "Agent: ShiftMagnify_CR using OpenCL_Apple M1 Pro ran in 0.011760291999998174 seconds\n",
      "Consider adding default arguments to the njit implementation to trigger early compilation\n",
      "Querying the Agent...\n",
      "Agent: ShiftMagnify_CR using OpenCL_Apple M1 Pro ran in 0.01118149999999929 seconds\n",
      "Agent: eSRRF_3D using Threaded ran in 52.68264575 seconds\n"
     ]
    }
   ],
   "source": [
    "esrrf = eSRRF3D()\n",
    "# int_img, grad_r_int, grad_c_int, grad_s_int, rgc_img = esrrf.run(img, magnification_xy=1, magnification_z=1, radius=3, sensitivity=2, run_type=\"Unthreaded\", doIntensityWeighting=True)\n",
    "# rgc_img = esrrf.run(img, magnification_xy=2, magnification_z=2, radius=3, sensitivity=2, run_type=\"Threaded\", doIntensityWeighting=True)\n",
    "\n",
    "# rgc_img = run_esrrf3d(img, magnification_xy=2, magnification_z=2, radius=3, sensitivity=2, run_type=\"Threaded\", correlation=\"AVG\", framewindow=0, rollingoverlap=1)\n",
    "rgc_img = run_esrrf3d(img4ana, magnification_xy=magnification_xy, magnification_z=magnification_z, radius=radius, radius_z =radius_z, ratio_px = ratio_px, sensitivity=sensitivity, run_type=run_type, correlation=correlation, framewindow=framewindow, rollingoverlap=rollingoverlap)"
   ]
  },
  {
   "cell_type": "code",
   "execution_count": 7,
   "metadata": {},
   "outputs": [
    {
     "data": {
      "text/plain": [
       "(21, 9, 50, 50)"
      ]
     },
     "execution_count": 7,
     "metadata": {},
     "output_type": "execute_result"
    }
   ],
   "source": [
    "img.shape"
   ]
  },
  {
   "cell_type": "code",
   "execution_count": 8,
   "metadata": {},
   "outputs": [
    {
     "data": {
      "text/plain": [
       "(1, 18, 100, 100)"
      ]
     },
     "execution_count": 8,
     "metadata": {},
     "output_type": "execute_result"
    }
   ],
   "source": [
    "rgc_img.shape\n"
   ]
  },
  {
   "cell_type": "code",
   "execution_count": 9,
   "metadata": {},
   "outputs": [],
   "source": [
    "from tifffile import imwrite\n",
    "\n",
    "rgc_img_fiji = rgc_img.squeeze()\n",
    "imwrite('/Users/avesga/Desktop/3DeSRRF/test/' + name_save + '.tif', rgc_img_fiji)"
   ]
  },
  {
   "cell_type": "code",
   "execution_count": 10,
   "metadata": {},
   "outputs": [],
   "source": [
    "rgc_img.shape\n",
    "\n",
    "# rgc_img_fiji = np.expand_dims(rgc_img, axis=4)\n",
    "# rgc_img_fiji = np.transpose(rgc_img_fiji, (0, 1, 3, 2, 4))\n",
    "\n",
    "# rgc_img_fiji = np.transpose(rgc_img, (0, 1, 3, 2))\n",
    "rgc_img_fiji = rgc_img\n",
    "# save the 4D array as a tiff file\n",
    "\n",
    "from tifffile import imwrite\n",
    "\n",
    "# # write OME-TIFF\n",
    "# imwrite('/Users/avesga/Desktop/rgc_img_0.tif', rgc_img)\n",
    "\n",
    "# write ImageJ hyperstack\n",
    "imwrite('/Users/avesga/Desktop/rgc_img_0.tif', rgc_img_fiji, imagej=True)\n"
   ]
  },
  {
   "cell_type": "code",
   "execution_count": 11,
   "metadata": {},
   "outputs": [
    {
     "ename": "IndexError",
     "evalue": "index 4 is out of bounds for axis 0 with size 1",
     "output_type": "error",
     "traceback": [
      "\u001b[0;31m---------------------------------------------------------------------------\u001b[0m",
      "\u001b[0;31mIndexError\u001b[0m                                Traceback (most recent call last)",
      "Cell \u001b[0;32mIn[11], line 2\u001b[0m\n\u001b[1;32m      1\u001b[0m rgc_img\u001b[38;5;241m.\u001b[39mshape\n\u001b[0;32m----> 2\u001b[0m stackview\u001b[38;5;241m.\u001b[39mslice(\u001b[43mrgc_img\u001b[49m\u001b[43m[\u001b[49m\u001b[38;5;241;43m4\u001b[39;49m\u001b[43m]\u001b[49m)\n",
      "\u001b[0;31mIndexError\u001b[0m: index 4 is out of bounds for axis 0 with size 1"
     ]
    }
   ],
   "source": [
    "rgc_img.shape\n",
    "stackview.slice(rgc_img[4])"
   ]
  },
  {
   "cell_type": "code",
   "execution_count": null,
   "metadata": {},
   "outputs": [
    {
     "name": "stdout",
     "output_type": "stream",
     "text": [
      "Gradients not yet calculated\n"
     ]
    }
   ],
   "source": [
    "esrrf.get_gradients()"
   ]
  },
  {
   "cell_type": "code",
   "execution_count": null,
   "metadata": {},
   "outputs": [
    {
     "ename": "NameError",
     "evalue": "name 'grad_r_int' is not defined",
     "output_type": "error",
     "traceback": [
      "\u001b[0;31m---------------------------------------------------------------------------\u001b[0m",
      "\u001b[0;31mNameError\u001b[0m                                 Traceback (most recent call last)",
      "Cell \u001b[0;32mIn[10], line 1\u001b[0m\n\u001b[0;32m----> 1\u001b[0m stackview\u001b[38;5;241m.\u001b[39mslice(\u001b[43mgrad_r_int\u001b[49m)\n",
      "\u001b[0;31mNameError\u001b[0m: name 'grad_r_int' is not defined"
     ]
    }
   ],
   "source": [
    "stackview.slice(grad_r_int)"
   ]
  },
  {
   "cell_type": "code",
   "execution_count": null,
   "metadata": {},
   "outputs": [
    {
     "data": {
      "application/vnd.jupyter.widget-view+json": {
       "model_id": "b6b3bdb0b12448b28fb86947d3decfce",
       "version_major": 2,
       "version_minor": 0
      },
      "text/plain": [
       "VBox(children=(HBox(children=(VBox(children=(ImageWidget(height=342, width=342),)),)), IntSlider(value=4, desc…"
      ]
     },
     "execution_count": 46,
     "metadata": {},
     "output_type": "execute_result"
    }
   ],
   "source": [
    "stackview.slice(grad_c_int)"
   ]
  },
  {
   "cell_type": "code",
   "execution_count": null,
   "metadata": {},
   "outputs": [
    {
     "data": {
      "application/vnd.jupyter.widget-view+json": {
       "model_id": "4bba6b7200944fba8da756cca12ea824",
       "version_major": 2,
       "version_minor": 0
      },
      "text/plain": [
       "VBox(children=(HBox(children=(VBox(children=(ImageWidget(height=342, width=342),)),)), IntSlider(value=4, desc…"
      ]
     },
     "execution_count": 54,
     "metadata": {},
     "output_type": "execute_result"
    }
   ],
   "source": [
    "stackview.slice(grad_s_int)"
   ]
  },
  {
   "cell_type": "code",
   "execution_count": null,
   "metadata": {},
   "outputs": [
    {
     "data": {
      "text/plain": [
       "(9, 342, 342)"
      ]
     },
     "execution_count": 48,
     "metadata": {},
     "output_type": "execute_result"
    }
   ],
   "source": [
    "grad_r_int.shape"
   ]
  },
  {
   "cell_type": "code",
   "execution_count": null,
   "metadata": {},
   "outputs": [
    {
     "data": {
      "text/plain": [
       "(9, 171, 171)"
      ]
     },
     "execution_count": 49,
     "metadata": {},
     "output_type": "execute_result"
    }
   ],
   "source": [
    "int_img.shape"
   ]
  },
  {
   "cell_type": "code",
   "execution_count": null,
   "metadata": {},
   "outputs": [
    {
     "data": {
      "text/plain": [
       "<MemoryView of 'ndarray' at 0x2907fe6c0>"
      ]
     },
     "execution_count": 25,
     "metadata": {},
     "output_type": "execute_result"
    }
   ],
   "source": [
    "rgc_img\n"
   ]
  },
  {
   "cell_type": "code",
   "execution_count": null,
   "metadata": {},
   "outputs": [
    {
     "ename": "IndexError",
     "evalue": "cannot do a non-empty take from an empty axes.",
     "output_type": "error",
     "traceback": [
      "\u001b[0;31m---------------------------------------------------------------------------\u001b[0m",
      "\u001b[0;31mIndexError\u001b[0m                                Traceback (most recent call last)",
      "Cell \u001b[0;32mIn[20], line 1\u001b[0m\n\u001b[0;32m----> 1\u001b[0m \u001b[43mstackview\u001b[49m\u001b[38;5;241;43m.\u001b[39;49m\u001b[43mslice\u001b[49m\u001b[43m(\u001b[49m\u001b[43mA\u001b[49m\u001b[43m)\u001b[49m\n\u001b[1;32m      2\u001b[0m \u001b[38;5;66;03m# # save rgc_img[0] as tiff\u001b[39;00m\n\u001b[1;32m      3\u001b[0m \u001b[38;5;66;03m# from tifffile import imsave\u001b[39;00m\n\u001b[1;32m      4\u001b[0m \u001b[38;5;66;03m# imsave('/Users/avesga/Desktop/rgc_img_0.tif', rgc_img[0])\u001b[39;00m\n",
      "File \u001b[0;32m~/miniforge3/envs/nanopyxdev/lib/python3.9/site-packages/stackview/_slice.py:53\u001b[0m, in \u001b[0;36mslice\u001b[0;34m(image, slice_number, axis, display_width, display_height, continuous_update, slider_text, zoom_factor, zoom_spline_order, colormap, display_min, display_max)\u001b[0m\n\u001b[1;32m     50\u001b[0m     image \u001b[38;5;241m=\u001b[39m image\u001b[38;5;241m.\u001b[39mget()\n\u001b[1;32m     52\u001b[0m \u001b[38;5;28;01mimport\u001b[39;00m \u001b[38;5;21;01mipywidgets\u001b[39;00m\n\u001b[0;32m---> 53\u001b[0m viewer \u001b[38;5;241m=\u001b[39m \u001b[43m_SliceViewer\u001b[49m\u001b[43m(\u001b[49m\u001b[43mimage\u001b[49m\u001b[43m,\u001b[49m\n\u001b[1;32m     54\u001b[0m \u001b[43m    \u001b[49m\u001b[43mslice_number\u001b[49m\u001b[43m,\u001b[49m\n\u001b[1;32m     55\u001b[0m \u001b[43m    \u001b[49m\u001b[43maxis\u001b[49m\u001b[43m,\u001b[49m\n\u001b[1;32m     56\u001b[0m \u001b[43m    \u001b[49m\u001b[43mdisplay_width\u001b[49m\u001b[43m,\u001b[49m\n\u001b[1;32m     57\u001b[0m \u001b[43m    \u001b[49m\u001b[43mdisplay_height\u001b[49m\u001b[43m,\u001b[49m\n\u001b[1;32m     58\u001b[0m \u001b[43m    \u001b[49m\u001b[43mcontinuous_update\u001b[49m\u001b[43m,\u001b[49m\n\u001b[1;32m     59\u001b[0m \u001b[43m    \u001b[49m\u001b[43mslider_text\u001b[49m\u001b[43m,\u001b[49m\n\u001b[1;32m     60\u001b[0m \u001b[43m    \u001b[49m\u001b[43mzoom_factor\u001b[49m\u001b[38;5;241;43m=\u001b[39;49m\u001b[43mzoom_factor\u001b[49m\u001b[43m,\u001b[49m\n\u001b[1;32m     61\u001b[0m \u001b[43m    \u001b[49m\u001b[43mzoom_spline_order\u001b[49m\u001b[38;5;241;43m=\u001b[39;49m\u001b[43mzoom_spline_order\u001b[49m\u001b[43m,\u001b[49m\n\u001b[1;32m     62\u001b[0m \u001b[43m    \u001b[49m\u001b[43mcolormap\u001b[49m\u001b[38;5;241;43m=\u001b[39;49m\u001b[43mcolormap\u001b[49m\u001b[43m,\u001b[49m\n\u001b[1;32m     63\u001b[0m \u001b[43m    \u001b[49m\u001b[43mdisplay_min\u001b[49m\u001b[38;5;241;43m=\u001b[39;49m\u001b[43mdisplay_min\u001b[49m\u001b[43m,\u001b[49m\n\u001b[1;32m     64\u001b[0m \u001b[43m    \u001b[49m\u001b[43mdisplay_max\u001b[49m\u001b[38;5;241;43m=\u001b[39;49m\u001b[43mdisplay_max\u001b[49m\n\u001b[1;32m     65\u001b[0m \u001b[43m\u001b[49m\u001b[43m)\u001b[49m\n\u001b[1;32m     66\u001b[0m view \u001b[38;5;241m=\u001b[39m viewer\u001b[38;5;241m.\u001b[39mview\n\u001b[1;32m     67\u001b[0m slice_slider \u001b[38;5;241m=\u001b[39m viewer\u001b[38;5;241m.\u001b[39mslice_slider\n",
      "File \u001b[0;32m~/miniforge3/envs/nanopyxdev/lib/python3.9/site-packages/stackview/_slice_viewer.py:27\u001b[0m, in \u001b[0;36m_SliceViewer.__init__\u001b[0;34m(self, image, slice_number, axis, display_width, display_height, continuous_update, slider_text, zoom_factor, zoom_spline_order, colormap, display_min, display_max)\u001b[0m\n\u001b[1;32m     24\u001b[0m     slice_number \u001b[38;5;241m=\u001b[39m \u001b[38;5;28mint\u001b[39m(image\u001b[38;5;241m.\u001b[39mshape[axis] \u001b[38;5;241m/\u001b[39m \u001b[38;5;241m2\u001b[39m)\n\u001b[1;32m     26\u001b[0m \u001b[38;5;28;01mif\u001b[39;00m \u001b[38;5;28mlen\u001b[39m(\u001b[38;5;28mself\u001b[39m\u001b[38;5;241m.\u001b[39mimage\u001b[38;5;241m.\u001b[39mshape) \u001b[38;5;241m>\u001b[39m \u001b[38;5;241m2\u001b[39m: \u001b[38;5;66;03m# and self.image.shape[-1] != 3:\u001b[39;00m\n\u001b[0;32m---> 27\u001b[0m     sliced_image \u001b[38;5;241m=\u001b[39m \u001b[43mnp\u001b[49m\u001b[38;5;241;43m.\u001b[39;49m\u001b[43mtake\u001b[49m\u001b[43m(\u001b[49m\u001b[43mimage\u001b[49m\u001b[43m,\u001b[49m\u001b[43m \u001b[49m\u001b[43mslice_number\u001b[49m\u001b[43m,\u001b[49m\u001b[43m \u001b[49m\u001b[43maxis\u001b[49m\u001b[38;5;241;43m=\u001b[39;49m\u001b[43maxis\u001b[49m\u001b[43m)\u001b[49m\n\u001b[1;32m     28\u001b[0m \u001b[38;5;28;01melse\u001b[39;00m:\n\u001b[1;32m     29\u001b[0m     sliced_image \u001b[38;5;241m=\u001b[39m image\n",
      "File \u001b[0;32m~/miniforge3/envs/nanopyxdev/lib/python3.9/site-packages/numpy/core/fromnumeric.py:192\u001b[0m, in \u001b[0;36mtake\u001b[0;34m(a, indices, axis, out, mode)\u001b[0m\n\u001b[1;32m     95\u001b[0m \u001b[38;5;129m@array_function_dispatch\u001b[39m(_take_dispatcher)\n\u001b[1;32m     96\u001b[0m \u001b[38;5;28;01mdef\u001b[39;00m \u001b[38;5;21mtake\u001b[39m(a, indices, axis\u001b[38;5;241m=\u001b[39m\u001b[38;5;28;01mNone\u001b[39;00m, out\u001b[38;5;241m=\u001b[39m\u001b[38;5;28;01mNone\u001b[39;00m, mode\u001b[38;5;241m=\u001b[39m\u001b[38;5;124m'\u001b[39m\u001b[38;5;124mraise\u001b[39m\u001b[38;5;124m'\u001b[39m):\n\u001b[1;32m     97\u001b[0m \u001b[38;5;250m    \u001b[39m\u001b[38;5;124;03m\"\"\"\u001b[39;00m\n\u001b[1;32m     98\u001b[0m \u001b[38;5;124;03m    Take elements from an array along an axis.\u001b[39;00m\n\u001b[1;32m     99\u001b[0m \n\u001b[0;32m   (...)\u001b[0m\n\u001b[1;32m    190\u001b[0m \u001b[38;5;124;03m           [5, 7]])\u001b[39;00m\n\u001b[1;32m    191\u001b[0m \u001b[38;5;124;03m    \"\"\"\u001b[39;00m\n\u001b[0;32m--> 192\u001b[0m     \u001b[38;5;28;01mreturn\u001b[39;00m \u001b[43m_wrapfunc\u001b[49m\u001b[43m(\u001b[49m\u001b[43ma\u001b[49m\u001b[43m,\u001b[49m\u001b[43m \u001b[49m\u001b[38;5;124;43m'\u001b[39;49m\u001b[38;5;124;43mtake\u001b[39;49m\u001b[38;5;124;43m'\u001b[39;49m\u001b[43m,\u001b[49m\u001b[43m \u001b[49m\u001b[43mindices\u001b[49m\u001b[43m,\u001b[49m\u001b[43m \u001b[49m\u001b[43maxis\u001b[49m\u001b[38;5;241;43m=\u001b[39;49m\u001b[43maxis\u001b[49m\u001b[43m,\u001b[49m\u001b[43m \u001b[49m\u001b[43mout\u001b[49m\u001b[38;5;241;43m=\u001b[39;49m\u001b[43mout\u001b[49m\u001b[43m,\u001b[49m\u001b[43m \u001b[49m\u001b[43mmode\u001b[49m\u001b[38;5;241;43m=\u001b[39;49m\u001b[43mmode\u001b[49m\u001b[43m)\u001b[49m\n",
      "File \u001b[0;32m~/miniforge3/envs/nanopyxdev/lib/python3.9/site-packages/numpy/core/fromnumeric.py:59\u001b[0m, in \u001b[0;36m_wrapfunc\u001b[0;34m(obj, method, *args, **kwds)\u001b[0m\n\u001b[1;32m     56\u001b[0m     \u001b[38;5;28;01mreturn\u001b[39;00m _wrapit(obj, method, \u001b[38;5;241m*\u001b[39margs, \u001b[38;5;241m*\u001b[39m\u001b[38;5;241m*\u001b[39mkwds)\n\u001b[1;32m     58\u001b[0m \u001b[38;5;28;01mtry\u001b[39;00m:\n\u001b[0;32m---> 59\u001b[0m     \u001b[38;5;28;01mreturn\u001b[39;00m \u001b[43mbound\u001b[49m\u001b[43m(\u001b[49m\u001b[38;5;241;43m*\u001b[39;49m\u001b[43margs\u001b[49m\u001b[43m,\u001b[49m\u001b[43m \u001b[49m\u001b[38;5;241;43m*\u001b[39;49m\u001b[38;5;241;43m*\u001b[39;49m\u001b[43mkwds\u001b[49m\u001b[43m)\u001b[49m\n\u001b[1;32m     60\u001b[0m \u001b[38;5;28;01mexcept\u001b[39;00m \u001b[38;5;167;01mTypeError\u001b[39;00m:\n\u001b[1;32m     61\u001b[0m     \u001b[38;5;66;03m# A TypeError occurs if the object does have such a method in its\u001b[39;00m\n\u001b[1;32m     62\u001b[0m     \u001b[38;5;66;03m# class, but its signature is not identical to that of NumPy's. This\u001b[39;00m\n\u001b[0;32m   (...)\u001b[0m\n\u001b[1;32m     66\u001b[0m     \u001b[38;5;66;03m# Call _wrapit from within the except clause to ensure a potential\u001b[39;00m\n\u001b[1;32m     67\u001b[0m     \u001b[38;5;66;03m# exception has a traceback chain.\u001b[39;00m\n\u001b[1;32m     68\u001b[0m     \u001b[38;5;28;01mreturn\u001b[39;00m _wrapit(obj, method, \u001b[38;5;241m*\u001b[39margs, \u001b[38;5;241m*\u001b[39m\u001b[38;5;241m*\u001b[39mkwds)\n",
      "\u001b[0;31mIndexError\u001b[0m: cannot do a non-empty take from an empty axes."
     ]
    }
   ],
   "source": [
    "stackview.slice(A)\n",
    "# # save rgc_img[0] as tiff\n",
    "# from tifffile import imsave\n",
    "# imsave('/Users/avesga/Desktop/rgc_img_0.tif', rgc_img[0])"
   ]
  },
  {
   "cell_type": "code",
   "execution_count": null,
   "metadata": {},
   "outputs": [
    {
     "data": {
      "application/vnd.jupyter.widget-view+json": {
       "model_id": "421ef57539b44747801395a886b68c99",
       "version_major": 2,
       "version_minor": 0
      },
      "text/plain": [
       "VBox(children=(HBox(children=(VBox(children=(ImageWidget(height=171, width=171),)),)), IntSlider(value=4, desc…"
      ]
     },
     "execution_count": 15,
     "metadata": {},
     "output_type": "execute_result"
    }
   ],
   "source": [
    "stackview.slice(np.mean(rgc_img, axis=0))"
   ]
  },
  {
   "cell_type": "code",
   "execution_count": null,
   "metadata": {},
   "outputs": [
    {
     "data": {
      "application/vnd.jupyter.widget-view+json": {
       "model_id": "1b99a04beeaa4488bfadc2fbd5b184f7",
       "version_major": 2,
       "version_minor": 0
      },
      "text/plain": [
       "VBox(children=(HBox(children=(VBox(children=(ImageWidget(height=171, width=171),)),)), IntSlider(value=4, desc…"
      ]
     },
     "execution_count": 53,
     "metadata": {},
     "output_type": "execute_result"
    }
   ],
   "source": [
    "stackview.slice(int_img)"
   ]
  }
 ],
 "metadata": {
  "kernelspec": {
   "display_name": "nanopyxdev",
   "language": "python",
   "name": "python3"
  },
  "language_info": {
   "codemirror_mode": {
    "name": "ipython",
    "version": 3
   },
   "file_extension": ".py",
   "mimetype": "text/x-python",
   "name": "python",
   "nbconvert_exporter": "python",
   "pygments_lexer": "ipython3",
   "version": "3.9.18"
  }
 },
 "nbformat": 4,
 "nbformat_minor": 2
}
