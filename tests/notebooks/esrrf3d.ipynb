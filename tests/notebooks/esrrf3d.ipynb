{
 "cells": [
  {
   "cell_type": "code",
   "execution_count": 1,
   "metadata": {},
   "outputs": [],
   "source": [
    "import stackview\n",
    "import numpy as np\n",
    "from matplotlib import pyplot as plt\n",
    "from tifffile import imread\n",
    "\n",
    "from nanopyx.core.transform._le_esrrf3d import eSRRF3D"
   ]
  },
  {
   "cell_type": "code",
   "execution_count": 2,
   "metadata": {},
   "outputs": [
    {
     "data": {
      "application/vnd.jupyter.widget-view+json": {
       "model_id": "a535ece0caca4dbea8c7e15550a1ed2f",
       "version_major": 2,
       "version_minor": 0
      },
      "text/plain": [
       "VBox(children=(HBox(children=(VBox(children=(ImageWidget(height=50, width=50),)),)), IntSlider(value=8, descri…"
      ]
     },
     "execution_count": 2,
     "metadata": {},
     "output_type": "execute_result"
    }
   ],
   "source": [
    "img = imread(\"/Users/bsaraiva/Code/NanoPyx/sphere.tif\").astype(np.float32)\n",
    "stackview.slice(img)"
   ]
  },
  {
   "cell_type": "code",
   "execution_count": 3,
   "metadata": {},
   "outputs": [
    {
     "name": "stdout",
     "output_type": "stream",
     "text": [
      "Consider adding default arguments to the njit implementation to trigger early compilation\n",
      "Querying the Agent...\n",
      "Agent: ShiftMagnify_CR using OpenCL_Apple M1 ran in 0.02018916599999998 seconds\n",
      "Querying the Agent...\n",
      "Agent: ShiftMagnify_CR using OpenCL_Apple M1 ran in 0.008580707999999992 seconds\n",
      "Consider adding default arguments to the njit implementation to trigger early compilation\n",
      "Querying the Agent...\n",
      "Agent: ShiftMagnify_CR using OpenCL_Apple M1 ran in 0.006610375000000168 seconds\n",
      "Querying the Agent...\n",
      "Agent: ShiftMagnify_CR using OpenCL_Apple M1 ran in 0.007144500000000109 seconds\n",
      "Consider adding default arguments to the njit implementation to trigger early compilation\n",
      "Querying the Agent...\n",
      "Agent: ShiftMagnify_CR using OpenCL_Apple M1 ran in 0.006712958999999907 seconds\n",
      "Querying the Agent...\n",
      "Agent: ShiftMagnify_CR using OpenCL_Apple M1 ran in 0.0072913330000001775 seconds\n",
      "Consider adding default arguments to the njit implementation to trigger early compilation\n",
      "Querying the Agent...\n",
      "Agent: ShiftMagnify_CR using OpenCL_Apple M1 ran in 0.00699012500000018 seconds\n",
      "Querying the Agent...\n",
      "Agent: ShiftMagnify_CR using OpenCL_Apple M1 ran in 0.007410958999999995 seconds\n",
      "Agent: eSRRF_3D using Unthreaded ran in 0.14057000000000008 seconds\n"
     ]
    }
   ],
   "source": [
    "esrrf = eSRRF3D()\n",
    "int_img, grad_r_int, grad_c_int, grad_s_int = esrrf.run(img, magnification_xy=2, magnification_z=2, run_type=\"Unthreaded\")"
   ]
  },
  {
   "cell_type": "code",
   "execution_count": 4,
   "metadata": {},
   "outputs": [
    {
     "data": {
      "application/vnd.jupyter.widget-view+json": {
       "model_id": "802e41b17ba1449faa749153c05bb483",
       "version_major": 2,
       "version_minor": 0
      },
      "text/plain": [
       "VBox(children=(HBox(children=(VBox(children=(ImageWidget(height=100, width=100),)),)), IntSlider(value=17, des…"
      ]
     },
     "execution_count": 4,
     "metadata": {},
     "output_type": "execute_result"
    }
   ],
   "source": [
    "stackview.slice(int_img)"
   ]
  },
  {
   "cell_type": "code",
   "execution_count": 5,
   "metadata": {},
   "outputs": [
    {
     "data": {
      "application/vnd.jupyter.widget-view+json": {
       "model_id": "2bfc423b8c8a4cddb4b02ab36e42ac88",
       "version_major": 2,
       "version_minor": 0
      },
      "text/plain": [
       "VBox(children=(HBox(children=(VBox(children=(ImageWidget(height=100, width=100),)),)), IntSlider(value=17, des…"
      ]
     },
     "execution_count": 5,
     "metadata": {},
     "output_type": "execute_result"
    }
   ],
   "source": [
    "stackview.slice(grad_r_int)"
   ]
  },
  {
   "cell_type": "code",
   "execution_count": 6,
   "metadata": {},
   "outputs": [
    {
     "data": {
      "application/vnd.jupyter.widget-view+json": {
       "model_id": "d295bb80e0f94be188c1b2898c6cddc6",
       "version_major": 2,
       "version_minor": 0
      },
      "text/plain": [
       "VBox(children=(HBox(children=(VBox(children=(ImageWidget(height=100, width=100),)),)), IntSlider(value=17, des…"
      ]
     },
     "execution_count": 6,
     "metadata": {},
     "output_type": "execute_result"
    }
   ],
   "source": [
    "stackview.slice(grad_c_int)"
   ]
  },
  {
   "cell_type": "code",
   "execution_count": 7,
   "metadata": {},
   "outputs": [
    {
     "data": {
      "application/vnd.jupyter.widget-view+json": {
       "model_id": "7408ae3df5e7430ca00fa5fe137dc011",
       "version_major": 2,
       "version_minor": 0
      },
      "text/plain": [
       "VBox(children=(HBox(children=(VBox(children=(ImageWidget(height=100, width=100),)),)), IntSlider(value=17, des…"
      ]
     },
     "execution_count": 7,
     "metadata": {},
     "output_type": "execute_result"
    }
   ],
   "source": [
    "stackview.slice(grad_s_int)"
   ]
  }
 ],
 "metadata": {
  "kernelspec": {
   "display_name": "nanopyxdev",
   "language": "python",
   "name": "python3"
  },
  "language_info": {
   "codemirror_mode": {
    "name": "ipython",
    "version": 3
   },
   "file_extension": ".py",
   "mimetype": "text/x-python",
   "name": "python",
   "nbconvert_exporter": "python",
   "pygments_lexer": "ipython3",
   "version": "3.9.16"
  }
 },
 "nbformat": 4,
 "nbformat_minor": 2
}
