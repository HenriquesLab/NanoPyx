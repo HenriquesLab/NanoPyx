{
 "cells": [
  {
   "cell_type": "code",
   "execution_count": 1,
   "metadata": {},
   "outputs": [],
   "source": [
    "import stackview\n",
    "import numpy as np\n",
    "from matplotlib import pyplot as plt\n",
    "from tifffile import imread\n",
    "from nanopyx.methods.esrrf_3d.run import run_esrrf3d\n",
    "\n",
    "from nanopyx.core.transform._le_esrrf3d import eSRRF3D"
   ]
  },
  {
   "cell_type": "code",
   "execution_count": 2,
   "metadata": {},
   "outputs": [],
   "source": [
    "# img = imread(\"/Users/avesga/Code/NanoPyx/3D_test_image/sphere_9planes.tif\").astype(np.float32)\n",
    "path = \"/Users/avesga/Desktop/3DeSRRF/blinking_test.tif\"\n",
    "img = imread(path).astype(np.float32)"
   ]
  },
  {
   "cell_type": "code",
   "execution_count": 3,
   "metadata": {},
   "outputs": [
    {
     "data": {
      "text/plain": [
       "(21, 9, 50, 50)"
      ]
     },
     "execution_count": 3,
     "metadata": {},
     "output_type": "execute_result"
    }
   ],
   "source": [
    "img.shape"
   ]
  },
  {
   "cell_type": "code",
   "execution_count": 4,
   "metadata": {},
   "outputs": [
    {
     "data": {
      "application/vnd.jupyter.widget-view+json": {
       "model_id": "bd77d0d909714305b3da3b3ad9146877",
       "version_major": 2,
       "version_minor": 0
      },
      "text/plain": [
       "VBox(children=(HBox(children=(VBox(children=(ImageWidget(height=50, width=50),)),)), IntSlider(value=2, descri…"
      ]
     },
     "execution_count": 4,
     "metadata": {},
     "output_type": "execute_result"
    }
   ],
   "source": [
    "# img to analize\n",
    "\n",
    "# planes = [0, 2, 4, 6, 8]\n",
    "# planes = [1, 3, 5, 7]\n",
    "# planes = [0, 4, 8]\n",
    "planes = [0, 1, 2, 3, 4, 5, 6, 7, 8]\n",
    "planes = [2, 3, 4, 5, 6]\n",
    "img4ana = img[:, planes, :, :]\n",
    "\n",
    "name_save = \"penta_planes\"\n",
    "\n",
    "stackview.slice(img4ana[0])"
   ]
  },
  {
   "cell_type": "code",
   "execution_count": 12,
   "metadata": {},
   "outputs": [],
   "source": [
    "# Define variables\n",
    "\n",
    "magnification_xy=2\n",
    "magnification_z=2\n",
    "radius=2\n",
    "radius_z = 2\n",
    "ratio_px = 4\n",
    "sensitivity=2\n",
    "run_type=\"Threaded\"\n",
    "correlation=\"AVG\"\n",
    "framewindow=4\n",
    "rollingoverlap=2\n"
   ]
  },
  {
   "cell_type": "code",
   "execution_count": 13,
   "metadata": {},
   "outputs": [
    {
     "name": "stdout",
     "output_type": "stream",
     "text": [
      "Consider adding default arguments to the njit implementation to trigger early compilation\n",
      "Consider adding default arguments to the njit implementation to trigger early compilation\n",
      "Querying the Agent...\n",
      "Agent: ShiftMagnify_CR using Threaded_guided ran in 0.0013462919999938094 seconds\n",
      "Querying the Agent...\n",
      "Agent: ShiftMagnify_CR using Threaded_guided ran in 0.0013667919999988953 seconds\n",
      "Consider adding default arguments to the njit implementation to trigger early compilation\n",
      "Querying the Agent...\n",
      "Agent: ShiftMagnify_CR using Threaded_guided ran in 0.005537709000009272 seconds\n",
      "Consider adding default arguments to the njit implementation to trigger early compilation\n",
      "Querying the Agent...\n",
      "Agent: ShiftMagnify_CR using Threaded_guided ran in 0.005368333000006942 seconds\n",
      "Consider adding default arguments to the njit implementation to trigger early compilation\n",
      "Querying the Agent...\n",
      "Agent: ShiftMagnify_CR using Threaded_guided ran in 0.0055529999999919255 seconds\n",
      "Consider adding default arguments to the njit implementation to trigger early compilation\n",
      "Querying the Agent...\n",
      "Agent: ShiftMagnify_CR using Threaded_guided ran in 0.0014406670000255417 seconds\n",
      "Run type Threaded_guided was delayed in the previous run. Delay factor: 1.0737183763267601, Delay probability: 0.30827479597258406\n",
      "Querying the Agent...\n",
      "Agent: ShiftMagnify_CR using Threaded_guided ran in 0.0013626660000056745 seconds\n",
      "Consider adding default arguments to the njit implementation to trigger early compilation\n",
      "Querying the Agent...\n",
      "Agent: ShiftMagnify_CR using Threaded_guided ran in 0.005570584000025747 seconds\n",
      "Consider adding default arguments to the njit implementation to trigger early compilation\n",
      "Querying the Agent...\n",
      "Agent: ShiftMagnify_CR using Threaded_guided ran in 0.00546837499999242 seconds\n",
      "Consider adding default arguments to the njit implementation to trigger early compilation\n",
      "Querying the Agent...\n",
      "Agent: ShiftMagnify_CR using Threaded_guided ran in 0.005385125000003654 seconds\n",
      "Consider adding default arguments to the njit implementation to trigger early compilation\n",
      "Querying the Agent...\n",
      "Agent: ShiftMagnify_CR using Threaded_guided ran in 0.001346041000005016 seconds\n",
      "Querying the Agent...\n",
      "Agent: ShiftMagnify_CR using Threaded_guided ran in 0.0013441250000028049 seconds\n",
      "Consider adding default arguments to the njit implementation to trigger early compilation\n",
      "Querying the Agent...\n",
      "Agent: ShiftMagnify_CR using Threaded_guided ran in 0.0054856669999878704 seconds\n",
      "Consider adding default arguments to the njit implementation to trigger early compilation\n",
      "Querying the Agent...\n",
      "Agent: ShiftMagnify_CR using Threaded_guided ran in 0.005531832999992048 seconds\n",
      "Consider adding default arguments to the njit implementation to trigger early compilation\n",
      "Querying the Agent...\n",
      "Agent: ShiftMagnify_CR using Threaded_guided ran in 0.0056671250000022155 seconds\n",
      "Consider adding default arguments to the njit implementation to trigger early compilation\n",
      "Querying the Agent...\n",
      "Agent: ShiftMagnify_CR using Threaded_guided ran in 0.0013387089999810087 seconds\n",
      "Querying the Agent...\n",
      "Agent: ShiftMagnify_CR using Threaded_guided ran in 0.0014154999999789197 seconds\n",
      "Run type Threaded_guided was delayed in the previous run. Delay factor: 1.0555437485651324, Delay probability: 0.4083441962488562\n",
      "Consider adding default arguments to the njit implementation to trigger early compilation\n",
      "Querying the Agent...\n",
      "Agent: ShiftMagnify_CR using Threaded_guided ran in 0.005619042000006402 seconds\n",
      "Consider adding default arguments to the njit implementation to trigger early compilation\n",
      "Querying the Agent...\n",
      "Agent: ShiftMagnify_CR using Threaded_guided ran in 0.005384374999977126 seconds\n",
      "Consider adding default arguments to the njit implementation to trigger early compilation\n",
      "Querying the Agent...\n",
      "Agent: ShiftMagnify_CR using Threaded_guided ran in 0.0054248330000064016 seconds\n",
      "Consider adding default arguments to the njit implementation to trigger early compilation\n",
      "Querying the Agent...\n",
      "Agent: ShiftMagnify_CR using Threaded_guided ran in 0.0014457080000056521 seconds\n",
      "Run type Threaded_guided was delayed in the previous run. Delay factor: 1.0780699693954734, Delay probability: 0.4083441962488562\n",
      "Querying the Agent...\n",
      "Agent: ShiftMagnify_CR using Threaded_guided ran in 0.0014555420000021968 seconds\n",
      "Run type Threaded_guided was delayed in the previous run. Delay factor: 1.0854032206988269, Delay probability: 0.4083441962488562\n",
      "Consider adding default arguments to the njit implementation to trigger early compilation\n",
      "Querying the Agent...\n",
      "Agent: ShiftMagnify_CR using Threaded_guided ran in 0.005476750000013908 seconds\n",
      "Consider adding default arguments to the njit implementation to trigger early compilation\n",
      "Querying the Agent...\n",
      "Agent: ShiftMagnify_CR using Threaded_guided ran in 0.005451708000009603 seconds\n",
      "Consider adding default arguments to the njit implementation to trigger early compilation\n",
      "Querying the Agent...\n",
      "Agent: ShiftMagnify_CR using Threaded_guided ran in 0.0056754999999952815 seconds\n",
      "Consider adding default arguments to the njit implementation to trigger early compilation\n",
      "Querying the Agent...\n",
      "Agent: ShiftMagnify_CR using Threaded_guided ran in 0.0014317499999947358 seconds\n",
      "Run type Threaded_guided was delayed in the previous run. Delay factor: 1.0676614355528637, Delay probability: 0.47298380752538954\n",
      "Querying the Agent...\n",
      "Agent: ShiftMagnify_CR using Threaded_guided ran in 0.0013645839999867349 seconds\n",
      "Consider adding default arguments to the njit implementation to trigger early compilation\n",
      "Querying the Agent...\n",
      "Agent: ShiftMagnify_CR using Threaded_guided ran in 0.005447500000002492 seconds\n",
      "Consider adding default arguments to the njit implementation to trigger early compilation\n",
      "Querying the Agent...\n",
      "Agent: ShiftMagnify_CR using Threaded_guided ran in 0.0054912919999878795 seconds\n",
      "Consider adding default arguments to the njit implementation to trigger early compilation\n",
      "Querying the Agent...\n",
      "Agent: ShiftMagnify_CR using Threaded_guided ran in 0.005695124999988366 seconds\n",
      "Consider adding default arguments to the njit implementation to trigger early compilation\n",
      "Querying the Agent...\n",
      "Agent: ShiftMagnify_CR using Threaded_guided ran in 0.0013360419999912665 seconds\n",
      "Querying the Agent...\n",
      "Agent: ShiftMagnify_CR using Threaded_guided ran in 0.0013282500000002528 seconds\n",
      "Consider adding default arguments to the njit implementation to trigger early compilation\n",
      "Querying the Agent...\n",
      "Agent: ShiftMagnify_CR using Threaded_guided ran in 0.005428874999978461 seconds\n",
      "Consider adding default arguments to the njit implementation to trigger early compilation\n",
      "Querying the Agent...\n",
      "Agent: ShiftMagnify_CR using Threaded_guided ran in 0.00533270799999741 seconds\n",
      "Consider adding default arguments to the njit implementation to trigger early compilation\n",
      "Querying the Agent...\n",
      "Agent: ShiftMagnify_CR using Threaded_guided ran in 0.0054650840000078915 seconds\n",
      "Consider adding default arguments to the njit implementation to trigger early compilation\n",
      "Querying the Agent...\n",
      "Agent: ShiftMagnify_CR using Threaded_guided ran in 0.0013580829999852995 seconds\n",
      "Querying the Agent...\n",
      "Agent: ShiftMagnify_CR using Threaded_guided ran in 0.0013807500000098116 seconds\n",
      "Consider adding default arguments to the njit implementation to trigger early compilation\n",
      "Querying the Agent...\n",
      "Agent: ShiftMagnify_CR using Threaded_guided ran in 0.005521249999986821 seconds\n",
      "Consider adding default arguments to the njit implementation to trigger early compilation\n",
      "Querying the Agent...\n",
      "Agent: ShiftMagnify_CR using Threaded_guided ran in 0.005496458000010307 seconds\n",
      "Consider adding default arguments to the njit implementation to trigger early compilation\n",
      "Querying the Agent...\n",
      "Agent: ShiftMagnify_CR using Threaded_guided ran in 0.0054619590000015705 seconds\n",
      "Consider adding default arguments to the njit implementation to trigger early compilation\n",
      "Querying the Agent...\n",
      "Agent: ShiftMagnify_CR using Threaded_guided ran in 0.0013678329999891048 seconds\n",
      "Querying the Agent...\n",
      "Agent: ShiftMagnify_CR using Threaded_guided ran in 0.001322375000000875 seconds\n",
      "Consider adding default arguments to the njit implementation to trigger early compilation\n",
      "Querying the Agent...\n",
      "Agent: ShiftMagnify_CR using Threaded_guided ran in 0.0054277499999955126 seconds\n",
      "Consider adding default arguments to the njit implementation to trigger early compilation\n",
      "Querying the Agent...\n",
      "Agent: ShiftMagnify_CR using Threaded_guided ran in 0.005429832999993778 seconds\n",
      "Consider adding default arguments to the njit implementation to trigger early compilation\n",
      "Querying the Agent...\n",
      "Agent: ShiftMagnify_CR using Threaded_guided ran in 0.005358250000000453 seconds\n",
      "Consider adding default arguments to the njit implementation to trigger early compilation\n",
      "Querying the Agent...\n",
      "Agent: ShiftMagnify_CR using Threaded_guided ran in 0.0013385839999955351 seconds\n",
      "Querying the Agent...\n",
      "Agent: ShiftMagnify_CR using Threaded_guided ran in 0.0013192920000051345 seconds\n",
      "Consider adding default arguments to the njit implementation to trigger early compilation\n",
      "Querying the Agent...\n",
      "Agent: ShiftMagnify_CR using Threaded_guided ran in 0.005291875000011714 seconds\n",
      "Consider adding default arguments to the njit implementation to trigger early compilation\n",
      "Querying the Agent...\n",
      "Agent: ShiftMagnify_CR using Threaded_guided ran in 0.0058725840000022345 seconds\n",
      "Consider adding default arguments to the njit implementation to trigger early compilation\n",
      "Querying the Agent...\n",
      "Agent: ShiftMagnify_CR using Threaded_guided ran in 0.005610667000013336 seconds\n",
      "Consider adding default arguments to the njit implementation to trigger early compilation\n",
      "Querying the Agent...\n",
      "Agent: ShiftMagnify_CR using Threaded_guided ran in 0.0013294590000043627 seconds\n",
      "Querying the Agent...\n",
      "Agent: ShiftMagnify_CR using Threaded_guided ran in 0.00133658300001116 seconds\n",
      "Consider adding default arguments to the njit implementation to trigger early compilation\n",
      "Querying the Agent...\n",
      "Agent: ShiftMagnify_CR using Threaded_guided ran in 0.005429917000014939 seconds\n",
      "Consider adding default arguments to the njit implementation to trigger early compilation\n",
      "Querying the Agent...\n",
      "Agent: ShiftMagnify_CR using Threaded_guided ran in 0.005434542000017473 seconds\n",
      "Consider adding default arguments to the njit implementation to trigger early compilation\n",
      "Querying the Agent...\n",
      "Agent: ShiftMagnify_CR using Threaded_guided ran in 0.005645665999992389 seconds\n",
      "Consider adding default arguments to the njit implementation to trigger early compilation\n",
      "Querying the Agent...\n",
      "Agent: ShiftMagnify_CR using Threaded_guided ran in 0.0013358749999952124 seconds\n",
      "Querying the Agent...\n",
      "Agent: ShiftMagnify_CR using Threaded_guided ran in 0.0013852909999911844 seconds\n",
      "Run type Threaded_guided was delayed in the previous run. Delay factor: 1.0341246479897128, Delay probability: 0.41748210296057237\n",
      "Consider adding default arguments to the njit implementation to trigger early compilation\n",
      "Querying the Agent...\n",
      "Agent: ShiftMagnify_CR using Threaded_guided ran in 0.005482291999982181 seconds\n",
      "Consider adding default arguments to the njit implementation to trigger early compilation\n",
      "Querying the Agent...\n",
      "Agent: ShiftMagnify_CR using Threaded_guided ran in 0.005598958000007315 seconds\n",
      "Consider adding default arguments to the njit implementation to trigger early compilation\n",
      "Querying the Agent...\n",
      "Agent: ShiftMagnify_CR using Threaded_guided ran in 0.005336875000011787 seconds\n",
      "Consider adding default arguments to the njit implementation to trigger early compilation\n",
      "Querying the Agent...\n",
      "Agent: ShiftMagnify_CR using Threaded_guided ran in 0.0013741250000123273 seconds\n",
      "Querying the Agent...\n",
      "Agent: ShiftMagnify_CR using Threaded_guided ran in 0.0013324999999895226 seconds\n",
      "Consider adding default arguments to the njit implementation to trigger early compilation\n",
      "Querying the Agent...\n",
      "Agent: ShiftMagnify_CR using Threaded_guided ran in 0.0056784169999843925 seconds\n",
      "Consider adding default arguments to the njit implementation to trigger early compilation\n",
      "Querying the Agent...\n",
      "Agent: ShiftMagnify_CR using Threaded_guided ran in 0.005745167000014817 seconds\n",
      "Consider adding default arguments to the njit implementation to trigger early compilation\n",
      "Querying the Agent...\n",
      "Agent: ShiftMagnify_CR using Threaded_guided ran in 0.005623333000016828 seconds\n",
      "Consider adding default arguments to the njit implementation to trigger early compilation\n",
      "Querying the Agent...\n",
      "Agent: ShiftMagnify_CR using Threaded_guided ran in 0.0013190420000057657 seconds\n",
      "Querying the Agent...\n",
      "Agent: ShiftMagnify_CR using Threaded_guided ran in 0.001343332999994118 seconds\n",
      "Consider adding default arguments to the njit implementation to trigger early compilation\n",
      "Querying the Agent...\n",
      "Agent: ShiftMagnify_CR using Threaded_guided ran in 0.005645582999989074 seconds\n",
      "Consider adding default arguments to the njit implementation to trigger early compilation\n",
      "Querying the Agent...\n",
      "Agent: ShiftMagnify_CR using Threaded_guided ran in 0.005915125000001353 seconds\n",
      "Consider adding default arguments to the njit implementation to trigger early compilation\n",
      "Querying the Agent...\n",
      "Agent: ShiftMagnify_CR using Threaded_guided ran in 0.005411417000004803 seconds\n",
      "Consider adding default arguments to the njit implementation to trigger early compilation\n",
      "Querying the Agent...\n",
      "Agent: ShiftMagnify_CR using Threaded_guided ran in 0.001310334000010016 seconds\n",
      "Querying the Agent...\n",
      "Agent: ShiftMagnify_CR using Threaded_guided ran in 0.0013337500000147884 seconds\n",
      "Consider adding default arguments to the njit implementation to trigger early compilation\n",
      "Querying the Agent...\n",
      "Agent: ShiftMagnify_CR using Threaded_guided ran in 0.005409624999998641 seconds\n",
      "Consider adding default arguments to the njit implementation to trigger early compilation\n",
      "Querying the Agent...\n",
      "Agent: ShiftMagnify_CR using Threaded_guided ran in 0.005467291000002206 seconds\n",
      "Consider adding default arguments to the njit implementation to trigger early compilation\n",
      "Querying the Agent...\n",
      "Agent: ShiftMagnify_CR using Threaded_guided ran in 0.005455041999994137 seconds\n",
      "Consider adding default arguments to the njit implementation to trigger early compilation\n",
      "Querying the Agent...\n",
      "Agent: ShiftMagnify_CR using Threaded_guided ran in 0.0013138749999939137 seconds\n",
      "Querying the Agent...\n",
      "Agent: ShiftMagnify_CR using Threaded_guided ran in 0.0013297920000070462 seconds\n",
      "Consider adding default arguments to the njit implementation to trigger early compilation\n",
      "Querying the Agent...\n",
      "Agent: ShiftMagnify_CR using Threaded_guided ran in 0.005425874999986036 seconds\n",
      "Consider adding default arguments to the njit implementation to trigger early compilation\n",
      "Querying the Agent...\n",
      "Agent: ShiftMagnify_CR using Threaded_guided ran in 0.005364249999985304 seconds\n",
      "Consider adding default arguments to the njit implementation to trigger early compilation\n",
      "Querying the Agent...\n",
      "Agent: ShiftMagnify_CR using Threaded_guided ran in 0.005818957999991881 seconds\n",
      "Consider adding default arguments to the njit implementation to trigger early compilation\n",
      "Querying the Agent...\n",
      "Agent: ShiftMagnify_CR using Threaded_guided ran in 0.0013095409999834828 seconds\n",
      "Querying the Agent...\n",
      "Agent: ShiftMagnify_CR using Threaded_guided ran in 0.0014537089999748787 seconds\n",
      "Run type Threaded_guided was delayed in the previous run. Delay factor: 1.0868255577600243, Delay probability: 0.38837201988393893\n",
      "Consider adding default arguments to the njit implementation to trigger early compilation\n",
      "Querying the Agent...\n",
      "Agent: ShiftMagnify_CR using Threaded_guided ran in 0.005578082999988965 seconds\n",
      "Consider adding default arguments to the njit implementation to trigger early compilation\n",
      "Querying the Agent...\n",
      "Agent: ShiftMagnify_CR using Threaded_guided ran in 0.005501291999991054 seconds\n",
      "Consider adding default arguments to the njit implementation to trigger early compilation\n",
      "Querying the Agent...\n",
      "Agent: ShiftMagnify_CR using Threaded_guided ran in 0.005426749999998037 seconds\n",
      "Consider adding default arguments to the njit implementation to trigger early compilation\n",
      "Querying the Agent...\n",
      "Agent: ShiftMagnify_CR using Threaded_guided ran in 0.0013102080000066962 seconds\n",
      "Querying the Agent...\n",
      "Agent: ShiftMagnify_CR using Threaded_guided ran in 0.0013212499999895044 seconds\n",
      "Consider adding default arguments to the njit implementation to trigger early compilation\n",
      "Querying the Agent...\n",
      "Agent: ShiftMagnify_CR using Threaded_guided ran in 0.005330791999995199 seconds\n",
      "Consider adding default arguments to the njit implementation to trigger early compilation\n",
      "Querying the Agent...\n",
      "Agent: ShiftMagnify_CR using Threaded_guided ran in 0.005402582999977312 seconds\n",
      "Consider adding default arguments to the njit implementation to trigger early compilation\n",
      "Querying the Agent...\n",
      "Agent: ShiftMagnify_CR using Threaded_guided ran in 0.005333500000006097 seconds\n",
      "Consider adding default arguments to the njit implementation to trigger early compilation\n",
      "Querying the Agent...\n",
      "Agent: ShiftMagnify_CR using Threaded_guided ran in 0.00135920799999667 seconds\n",
      "Querying the Agent...\n",
      "Agent: ShiftMagnify_CR using Threaded_guided ran in 0.0013410420000070644 seconds\n",
      "Consider adding default arguments to the njit implementation to trigger early compilation\n",
      "Querying the Agent...\n",
      "Agent: ShiftMagnify_CR using Threaded_guided ran in 0.0053479579999873295 seconds\n",
      "Consider adding default arguments to the njit implementation to trigger early compilation\n",
      "Querying the Agent...\n",
      "Agent: ShiftMagnify_CR using Threaded_guided ran in 0.005340125000003582 seconds\n",
      "Consider adding default arguments to the njit implementation to trigger early compilation\n",
      "Querying the Agent...\n",
      "Agent: ShiftMagnify_CR using Threaded_guided ran in 0.005395708000008881 seconds\n",
      "Consider adding default arguments to the njit implementation to trigger early compilation\n",
      "Querying the Agent...\n",
      "Agent: ShiftMagnify_CR using Threaded_guided ran in 0.001325500000007196 seconds\n",
      "Querying the Agent...\n",
      "Agent: ShiftMagnify_CR using Threaded_guided ran in 0.0013255419999893547 seconds\n",
      "Consider adding default arguments to the njit implementation to trigger early compilation\n",
      "Querying the Agent...\n",
      "Agent: ShiftMagnify_CR using Threaded_guided ran in 0.00543729200001053 seconds\n",
      "Consider adding default arguments to the njit implementation to trigger early compilation\n",
      "Querying the Agent...\n",
      "Agent: ShiftMagnify_CR using Threaded_guided ran in 0.005319667000009076 seconds\n",
      "Consider adding default arguments to the njit implementation to trigger early compilation\n",
      "Querying the Agent...\n",
      "Agent: ShiftMagnify_CR using Threaded_guided ran in 0.005410291999993433 seconds\n",
      "Consider adding default arguments to the njit implementation to trigger early compilation\n",
      "Querying the Agent...\n",
      "Agent: ShiftMagnify_CR using Threaded_guided ran in 0.0013777919999995447 seconds\n",
      "Run type Threaded_guided was delayed in the previous run. Delay factor: 1.0315619045992943, Delay probability: 0.4271908108851267\n",
      "Querying the Agent...\n",
      "Agent: ShiftMagnify_CR using Threaded_guided ran in 0.0014224580000075093 seconds\n",
      "Run type Threaded_guided was delayed in the previous run. Delay factor: 1.0650036316807867, Delay probability: 0.4271908108851267\n",
      "Consider adding default arguments to the njit implementation to trigger early compilation\n",
      "Querying the Agent...\n",
      "Agent: ShiftMagnify_CR using Threaded_guided ran in 0.0055249170000024606 seconds\n",
      "Consider adding default arguments to the njit implementation to trigger early compilation\n",
      "Querying the Agent...\n",
      "Agent: ShiftMagnify_CR using Threaded_guided ran in 0.005654290999984823 seconds\n",
      "Consider adding default arguments to the njit implementation to trigger early compilation\n",
      "Querying the Agent...\n",
      "Agent: ShiftMagnify_CR using Threaded_guided ran in 0.005406291000014107 seconds\n",
      "Agent: eSRRF_3D using Threaded ran in 33.727187708 seconds\n"
     ]
    }
   ],
   "source": [
    "esrrf = eSRRF3D()\n",
    "# int_img, grad_r_int, grad_c_int, grad_s_int, rgc_img = esrrf.run(img, magnification_xy=1, magnification_z=1, radius=3, sensitivity=2, run_type=\"Unthreaded\", doIntensityWeighting=True)\n",
    "# rgc_img = esrrf.run(img, magnification_xy=2, magnification_z=2, radius=3, sensitivity=2, run_type=\"Threaded\", doIntensityWeighting=True)\n",
    "\n",
    "# rgc_img = run_esrrf3d(img, magnification_xy=2, magnification_z=2, radius=3, sensitivity=2, run_type=\"Threaded\", correlation=\"AVG\", framewindow=0, rollingoverlap=1)\n",
    "rgc_img = run_esrrf3d(img4ana, magnification_xy=magnification_xy, magnification_z=magnification_z, radius=radius, radius_z =radius_z, ratio_px = ratio_px, sensitivity=sensitivity, run_type=run_type, correlation=correlation, framewindow=framewindow, rollingoverlap=rollingoverlap)"
   ]
  },
  {
   "cell_type": "code",
   "execution_count": 14,
   "metadata": {},
   "outputs": [
    {
     "data": {
      "text/plain": [
       "(21, 9, 50, 50)"
      ]
     },
     "execution_count": 14,
     "metadata": {},
     "output_type": "execute_result"
    }
   ],
   "source": [
    "img.shape"
   ]
  },
  {
   "cell_type": "code",
   "execution_count": 15,
   "metadata": {},
   "outputs": [
    {
     "data": {
      "text/plain": [
       "(9, 10, 100, 100)"
      ]
     },
     "execution_count": 15,
     "metadata": {},
     "output_type": "execute_result"
    }
   ],
   "source": [
    "rgc_img.shape\n"
   ]
  },
  {
   "cell_type": "code",
   "execution_count": 16,
   "metadata": {},
   "outputs": [],
   "source": [
    "from tifffile import imwrite\n",
    "\n",
    "rgc_img_fiji = rgc_img.squeeze()\n",
    "imwrite('/Users/avesga/Desktop/3DeSRRF/test/' + name_save + '.tif', rgc_img_fiji)"
   ]
  },
  {
   "cell_type": "code",
   "execution_count": 33,
   "metadata": {},
   "outputs": [],
   "source": [
    "# From https://imagej.net/plugins/trackmate/scripting/scripting\n",
    "# they claim that the default order of the hyperstacks in ImageJ is XYCZT\n",
    "\n",
    "# The RGC has dimensions (T, Z, X, Y)\n",
    "# Found that, to use imwrite('image.tif', rgc_img_fiji, imagej=True), the dimensions have to be (T, Z, C, X, Y)\n",
    "\n",
    "rgc_img.shape\n",
    "\n",
    "rgc_img_fiji = np.expand_dims(rgc_img, axis=4)\n",
    "rgc_img_fiji = np.transpose(rgc_img_fiji, (0, 1, 4, 2, 3))\n",
    "\n",
    "# rgc_img_fiji = np.transpose(rgc_img, (0, 1, 3, 2))\n",
    "# rgc_img_fiji = rgc_img\n",
    "# save the 4D array as a tiff file\n",
    "\n",
    "from tifffile import imwrite\n",
    "\n",
    "# # write OME-TIFF\n",
    "# imwrite('/Users/avesga/Desktop/rgc_img_0.tif', rgc_img)\n",
    "\n",
    "# write ImageJ hyperstack\n",
    "imwrite('/Users/avesga/Desktop/rgc_img_0.tif', rgc_img_fiji, imagej=True)\n"
   ]
  },
  {
   "cell_type": "code",
   "execution_count": 30,
   "metadata": {},
   "outputs": [
    {
     "data": {
      "application/vnd.jupyter.widget-view+json": {
       "model_id": "d870a17bc7b14ca28ea2bad9f3b57831",
       "version_major": 2,
       "version_minor": 0
      },
      "text/plain": [
       "VBox(children=(HBox(children=(VBox(children=(ImageWidget(height=100, width=100),)),)), IntSlider(value=5, desc…"
      ]
     },
     "execution_count": 30,
     "metadata": {},
     "output_type": "execute_result"
    }
   ],
   "source": [
    "rgc_img.shape\n",
    "stackview.slice(rgc_img[4])"
   ]
  },
  {
   "cell_type": "code",
   "execution_count": 31,
   "metadata": {},
   "outputs": [
    {
     "name": "stdout",
     "output_type": "stream",
     "text": [
      "Gradients not yet calculated\n"
     ]
    }
   ],
   "source": [
    "esrrf.get_gradients()"
   ]
  },
  {
   "cell_type": "code",
   "execution_count": 32,
   "metadata": {},
   "outputs": [
    {
     "ename": "NameError",
     "evalue": "name 'grad_r_int' is not defined",
     "output_type": "error",
     "traceback": [
      "\u001b[0;31m---------------------------------------------------------------------------\u001b[0m",
      "\u001b[0;31mNameError\u001b[0m                                 Traceback (most recent call last)",
      "Cell \u001b[0;32mIn[32], line 1\u001b[0m\n\u001b[0;32m----> 1\u001b[0m stackview\u001b[38;5;241m.\u001b[39mslice(\u001b[43mgrad_r_int\u001b[49m)\n",
      "\u001b[0;31mNameError\u001b[0m: name 'grad_r_int' is not defined"
     ]
    }
   ],
   "source": [
    "stackview.slice(grad_r_int)"
   ]
  },
  {
   "cell_type": "code",
   "execution_count": null,
   "metadata": {},
   "outputs": [
    {
     "data": {
      "application/vnd.jupyter.widget-view+json": {
       "model_id": "b6b3bdb0b12448b28fb86947d3decfce",
       "version_major": 2,
       "version_minor": 0
      },
      "text/plain": [
       "VBox(children=(HBox(children=(VBox(children=(ImageWidget(height=342, width=342),)),)), IntSlider(value=4, desc…"
      ]
     },
     "execution_count": 46,
     "metadata": {},
     "output_type": "execute_result"
    }
   ],
   "source": [
    "stackview.slice(grad_c_int)"
   ]
  },
  {
   "cell_type": "code",
   "execution_count": null,
   "metadata": {},
   "outputs": [
    {
     "data": {
      "application/vnd.jupyter.widget-view+json": {
       "model_id": "4bba6b7200944fba8da756cca12ea824",
       "version_major": 2,
       "version_minor": 0
      },
      "text/plain": [
       "VBox(children=(HBox(children=(VBox(children=(ImageWidget(height=342, width=342),)),)), IntSlider(value=4, desc…"
      ]
     },
     "execution_count": 54,
     "metadata": {},
     "output_type": "execute_result"
    }
   ],
   "source": [
    "stackview.slice(grad_s_int)"
   ]
  },
  {
   "cell_type": "code",
   "execution_count": null,
   "metadata": {},
   "outputs": [
    {
     "data": {
      "text/plain": [
       "(9, 342, 342)"
      ]
     },
     "execution_count": 48,
     "metadata": {},
     "output_type": "execute_result"
    }
   ],
   "source": [
    "grad_r_int.shape"
   ]
  },
  {
   "cell_type": "code",
   "execution_count": null,
   "metadata": {},
   "outputs": [
    {
     "data": {
      "text/plain": [
       "(9, 171, 171)"
      ]
     },
     "execution_count": 49,
     "metadata": {},
     "output_type": "execute_result"
    }
   ],
   "source": [
    "int_img.shape"
   ]
  },
  {
   "cell_type": "code",
   "execution_count": null,
   "metadata": {},
   "outputs": [
    {
     "data": {
      "text/plain": [
       "<MemoryView of 'ndarray' at 0x2907fe6c0>"
      ]
     },
     "execution_count": 25,
     "metadata": {},
     "output_type": "execute_result"
    }
   ],
   "source": [
    "rgc_img\n"
   ]
  },
  {
   "cell_type": "code",
   "execution_count": null,
   "metadata": {},
   "outputs": [
    {
     "ename": "IndexError",
     "evalue": "cannot do a non-empty take from an empty axes.",
     "output_type": "error",
     "traceback": [
      "\u001b[0;31m---------------------------------------------------------------------------\u001b[0m",
      "\u001b[0;31mIndexError\u001b[0m                                Traceback (most recent call last)",
      "Cell \u001b[0;32mIn[20], line 1\u001b[0m\n\u001b[0;32m----> 1\u001b[0m \u001b[43mstackview\u001b[49m\u001b[38;5;241;43m.\u001b[39;49m\u001b[43mslice\u001b[49m\u001b[43m(\u001b[49m\u001b[43mA\u001b[49m\u001b[43m)\u001b[49m\n\u001b[1;32m      2\u001b[0m \u001b[38;5;66;03m# # save rgc_img[0] as tiff\u001b[39;00m\n\u001b[1;32m      3\u001b[0m \u001b[38;5;66;03m# from tifffile import imsave\u001b[39;00m\n\u001b[1;32m      4\u001b[0m \u001b[38;5;66;03m# imsave('/Users/avesga/Desktop/rgc_img_0.tif', rgc_img[0])\u001b[39;00m\n",
      "File \u001b[0;32m~/miniforge3/envs/nanopyxdev/lib/python3.9/site-packages/stackview/_slice.py:53\u001b[0m, in \u001b[0;36mslice\u001b[0;34m(image, slice_number, axis, display_width, display_height, continuous_update, slider_text, zoom_factor, zoom_spline_order, colormap, display_min, display_max)\u001b[0m\n\u001b[1;32m     50\u001b[0m     image \u001b[38;5;241m=\u001b[39m image\u001b[38;5;241m.\u001b[39mget()\n\u001b[1;32m     52\u001b[0m \u001b[38;5;28;01mimport\u001b[39;00m \u001b[38;5;21;01mipywidgets\u001b[39;00m\n\u001b[0;32m---> 53\u001b[0m viewer \u001b[38;5;241m=\u001b[39m \u001b[43m_SliceViewer\u001b[49m\u001b[43m(\u001b[49m\u001b[43mimage\u001b[49m\u001b[43m,\u001b[49m\n\u001b[1;32m     54\u001b[0m \u001b[43m    \u001b[49m\u001b[43mslice_number\u001b[49m\u001b[43m,\u001b[49m\n\u001b[1;32m     55\u001b[0m \u001b[43m    \u001b[49m\u001b[43maxis\u001b[49m\u001b[43m,\u001b[49m\n\u001b[1;32m     56\u001b[0m \u001b[43m    \u001b[49m\u001b[43mdisplay_width\u001b[49m\u001b[43m,\u001b[49m\n\u001b[1;32m     57\u001b[0m \u001b[43m    \u001b[49m\u001b[43mdisplay_height\u001b[49m\u001b[43m,\u001b[49m\n\u001b[1;32m     58\u001b[0m \u001b[43m    \u001b[49m\u001b[43mcontinuous_update\u001b[49m\u001b[43m,\u001b[49m\n\u001b[1;32m     59\u001b[0m \u001b[43m    \u001b[49m\u001b[43mslider_text\u001b[49m\u001b[43m,\u001b[49m\n\u001b[1;32m     60\u001b[0m \u001b[43m    \u001b[49m\u001b[43mzoom_factor\u001b[49m\u001b[38;5;241;43m=\u001b[39;49m\u001b[43mzoom_factor\u001b[49m\u001b[43m,\u001b[49m\n\u001b[1;32m     61\u001b[0m \u001b[43m    \u001b[49m\u001b[43mzoom_spline_order\u001b[49m\u001b[38;5;241;43m=\u001b[39;49m\u001b[43mzoom_spline_order\u001b[49m\u001b[43m,\u001b[49m\n\u001b[1;32m     62\u001b[0m \u001b[43m    \u001b[49m\u001b[43mcolormap\u001b[49m\u001b[38;5;241;43m=\u001b[39;49m\u001b[43mcolormap\u001b[49m\u001b[43m,\u001b[49m\n\u001b[1;32m     63\u001b[0m \u001b[43m    \u001b[49m\u001b[43mdisplay_min\u001b[49m\u001b[38;5;241;43m=\u001b[39;49m\u001b[43mdisplay_min\u001b[49m\u001b[43m,\u001b[49m\n\u001b[1;32m     64\u001b[0m \u001b[43m    \u001b[49m\u001b[43mdisplay_max\u001b[49m\u001b[38;5;241;43m=\u001b[39;49m\u001b[43mdisplay_max\u001b[49m\n\u001b[1;32m     65\u001b[0m \u001b[43m\u001b[49m\u001b[43m)\u001b[49m\n\u001b[1;32m     66\u001b[0m view \u001b[38;5;241m=\u001b[39m viewer\u001b[38;5;241m.\u001b[39mview\n\u001b[1;32m     67\u001b[0m slice_slider \u001b[38;5;241m=\u001b[39m viewer\u001b[38;5;241m.\u001b[39mslice_slider\n",
      "File \u001b[0;32m~/miniforge3/envs/nanopyxdev/lib/python3.9/site-packages/stackview/_slice_viewer.py:27\u001b[0m, in \u001b[0;36m_SliceViewer.__init__\u001b[0;34m(self, image, slice_number, axis, display_width, display_height, continuous_update, slider_text, zoom_factor, zoom_spline_order, colormap, display_min, display_max)\u001b[0m\n\u001b[1;32m     24\u001b[0m     slice_number \u001b[38;5;241m=\u001b[39m \u001b[38;5;28mint\u001b[39m(image\u001b[38;5;241m.\u001b[39mshape[axis] \u001b[38;5;241m/\u001b[39m \u001b[38;5;241m2\u001b[39m)\n\u001b[1;32m     26\u001b[0m \u001b[38;5;28;01mif\u001b[39;00m \u001b[38;5;28mlen\u001b[39m(\u001b[38;5;28mself\u001b[39m\u001b[38;5;241m.\u001b[39mimage\u001b[38;5;241m.\u001b[39mshape) \u001b[38;5;241m>\u001b[39m \u001b[38;5;241m2\u001b[39m: \u001b[38;5;66;03m# and self.image.shape[-1] != 3:\u001b[39;00m\n\u001b[0;32m---> 27\u001b[0m     sliced_image \u001b[38;5;241m=\u001b[39m \u001b[43mnp\u001b[49m\u001b[38;5;241;43m.\u001b[39;49m\u001b[43mtake\u001b[49m\u001b[43m(\u001b[49m\u001b[43mimage\u001b[49m\u001b[43m,\u001b[49m\u001b[43m \u001b[49m\u001b[43mslice_number\u001b[49m\u001b[43m,\u001b[49m\u001b[43m \u001b[49m\u001b[43maxis\u001b[49m\u001b[38;5;241;43m=\u001b[39;49m\u001b[43maxis\u001b[49m\u001b[43m)\u001b[49m\n\u001b[1;32m     28\u001b[0m \u001b[38;5;28;01melse\u001b[39;00m:\n\u001b[1;32m     29\u001b[0m     sliced_image \u001b[38;5;241m=\u001b[39m image\n",
      "File \u001b[0;32m~/miniforge3/envs/nanopyxdev/lib/python3.9/site-packages/numpy/core/fromnumeric.py:192\u001b[0m, in \u001b[0;36mtake\u001b[0;34m(a, indices, axis, out, mode)\u001b[0m\n\u001b[1;32m     95\u001b[0m \u001b[38;5;129m@array_function_dispatch\u001b[39m(_take_dispatcher)\n\u001b[1;32m     96\u001b[0m \u001b[38;5;28;01mdef\u001b[39;00m \u001b[38;5;21mtake\u001b[39m(a, indices, axis\u001b[38;5;241m=\u001b[39m\u001b[38;5;28;01mNone\u001b[39;00m, out\u001b[38;5;241m=\u001b[39m\u001b[38;5;28;01mNone\u001b[39;00m, mode\u001b[38;5;241m=\u001b[39m\u001b[38;5;124m'\u001b[39m\u001b[38;5;124mraise\u001b[39m\u001b[38;5;124m'\u001b[39m):\n\u001b[1;32m     97\u001b[0m \u001b[38;5;250m    \u001b[39m\u001b[38;5;124;03m\"\"\"\u001b[39;00m\n\u001b[1;32m     98\u001b[0m \u001b[38;5;124;03m    Take elements from an array along an axis.\u001b[39;00m\n\u001b[1;32m     99\u001b[0m \n\u001b[0;32m   (...)\u001b[0m\n\u001b[1;32m    190\u001b[0m \u001b[38;5;124;03m           [5, 7]])\u001b[39;00m\n\u001b[1;32m    191\u001b[0m \u001b[38;5;124;03m    \"\"\"\u001b[39;00m\n\u001b[0;32m--> 192\u001b[0m     \u001b[38;5;28;01mreturn\u001b[39;00m \u001b[43m_wrapfunc\u001b[49m\u001b[43m(\u001b[49m\u001b[43ma\u001b[49m\u001b[43m,\u001b[49m\u001b[43m \u001b[49m\u001b[38;5;124;43m'\u001b[39;49m\u001b[38;5;124;43mtake\u001b[39;49m\u001b[38;5;124;43m'\u001b[39;49m\u001b[43m,\u001b[49m\u001b[43m \u001b[49m\u001b[43mindices\u001b[49m\u001b[43m,\u001b[49m\u001b[43m \u001b[49m\u001b[43maxis\u001b[49m\u001b[38;5;241;43m=\u001b[39;49m\u001b[43maxis\u001b[49m\u001b[43m,\u001b[49m\u001b[43m \u001b[49m\u001b[43mout\u001b[49m\u001b[38;5;241;43m=\u001b[39;49m\u001b[43mout\u001b[49m\u001b[43m,\u001b[49m\u001b[43m \u001b[49m\u001b[43mmode\u001b[49m\u001b[38;5;241;43m=\u001b[39;49m\u001b[43mmode\u001b[49m\u001b[43m)\u001b[49m\n",
      "File \u001b[0;32m~/miniforge3/envs/nanopyxdev/lib/python3.9/site-packages/numpy/core/fromnumeric.py:59\u001b[0m, in \u001b[0;36m_wrapfunc\u001b[0;34m(obj, method, *args, **kwds)\u001b[0m\n\u001b[1;32m     56\u001b[0m     \u001b[38;5;28;01mreturn\u001b[39;00m _wrapit(obj, method, \u001b[38;5;241m*\u001b[39margs, \u001b[38;5;241m*\u001b[39m\u001b[38;5;241m*\u001b[39mkwds)\n\u001b[1;32m     58\u001b[0m \u001b[38;5;28;01mtry\u001b[39;00m:\n\u001b[0;32m---> 59\u001b[0m     \u001b[38;5;28;01mreturn\u001b[39;00m \u001b[43mbound\u001b[49m\u001b[43m(\u001b[49m\u001b[38;5;241;43m*\u001b[39;49m\u001b[43margs\u001b[49m\u001b[43m,\u001b[49m\u001b[43m \u001b[49m\u001b[38;5;241;43m*\u001b[39;49m\u001b[38;5;241;43m*\u001b[39;49m\u001b[43mkwds\u001b[49m\u001b[43m)\u001b[49m\n\u001b[1;32m     60\u001b[0m \u001b[38;5;28;01mexcept\u001b[39;00m \u001b[38;5;167;01mTypeError\u001b[39;00m:\n\u001b[1;32m     61\u001b[0m     \u001b[38;5;66;03m# A TypeError occurs if the object does have such a method in its\u001b[39;00m\n\u001b[1;32m     62\u001b[0m     \u001b[38;5;66;03m# class, but its signature is not identical to that of NumPy's. This\u001b[39;00m\n\u001b[0;32m   (...)\u001b[0m\n\u001b[1;32m     66\u001b[0m     \u001b[38;5;66;03m# Call _wrapit from within the except clause to ensure a potential\u001b[39;00m\n\u001b[1;32m     67\u001b[0m     \u001b[38;5;66;03m# exception has a traceback chain.\u001b[39;00m\n\u001b[1;32m     68\u001b[0m     \u001b[38;5;28;01mreturn\u001b[39;00m _wrapit(obj, method, \u001b[38;5;241m*\u001b[39margs, \u001b[38;5;241m*\u001b[39m\u001b[38;5;241m*\u001b[39mkwds)\n",
      "\u001b[0;31mIndexError\u001b[0m: cannot do a non-empty take from an empty axes."
     ]
    }
   ],
   "source": [
    "stackview.slice(A)\n",
    "# # save rgc_img[0] as tiff\n",
    "# from tifffile import imsave\n",
    "# imsave('/Users/avesga/Desktop/rgc_img_0.tif', rgc_img[0])"
   ]
  },
  {
   "cell_type": "code",
   "execution_count": null,
   "metadata": {},
   "outputs": [
    {
     "data": {
      "application/vnd.jupyter.widget-view+json": {
       "model_id": "421ef57539b44747801395a886b68c99",
       "version_major": 2,
       "version_minor": 0
      },
      "text/plain": [
       "VBox(children=(HBox(children=(VBox(children=(ImageWidget(height=171, width=171),)),)), IntSlider(value=4, desc…"
      ]
     },
     "execution_count": 15,
     "metadata": {},
     "output_type": "execute_result"
    }
   ],
   "source": [
    "stackview.slice(np.mean(rgc_img, axis=0))"
   ]
  },
  {
   "cell_type": "code",
   "execution_count": null,
   "metadata": {},
   "outputs": [
    {
     "data": {
      "application/vnd.jupyter.widget-view+json": {
       "model_id": "1b99a04beeaa4488bfadc2fbd5b184f7",
       "version_major": 2,
       "version_minor": 0
      },
      "text/plain": [
       "VBox(children=(HBox(children=(VBox(children=(ImageWidget(height=171, width=171),)),)), IntSlider(value=4, desc…"
      ]
     },
     "execution_count": 53,
     "metadata": {},
     "output_type": "execute_result"
    }
   ],
   "source": [
    "stackview.slice(int_img)"
   ]
  }
 ],
 "metadata": {
  "kernelspec": {
   "display_name": "nanopyxdev",
   "language": "python",
   "name": "python3"
  },
  "language_info": {
   "codemirror_mode": {
    "name": "ipython",
    "version": 3
   },
   "file_extension": ".py",
   "mimetype": "text/x-python",
   "name": "python",
   "nbconvert_exporter": "python",
   "pygments_lexer": "ipython3",
   "version": "3.9.18"
  }
 },
 "nbformat": 4,
 "nbformat_minor": 2
}
