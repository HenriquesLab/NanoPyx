{
 "cells": [
  {
   "cell_type": "code",
   "execution_count": 1,
   "metadata": {},
   "outputs": [],
   "source": [
    "import stackview\n",
    "import numpy as np\n",
    "from matplotlib import pyplot as plt\n",
    "from tifffile import imread\n",
    "\n",
    "from nanopyx.core.transform._le_esrrf3d import eSRRF3D"
   ]
  },
  {
   "cell_type": "code",
   "execution_count": 2,
   "metadata": {},
   "outputs": [
    {
     "data": {
      "application/vnd.jupyter.widget-view+json": {
       "model_id": "bf0fe048b134440e94635d2436edd45b",
       "version_major": 2,
       "version_minor": 0
      },
      "text/plain": [
       "VBox(children=(HBox(children=(VBox(children=(ImageWidget(height=50, width=50),)),)), IntSlider(value=8, descri…"
      ]
     },
     "execution_count": 2,
     "metadata": {},
     "output_type": "execute_result"
    }
   ],
   "source": [
    "img = imread(\"/Users/bsaraiva/Code/NanoPyx/sphere.tif\").astype(np.float32)\n",
    "stackview.slice(img)"
   ]
  },
  {
   "cell_type": "code",
   "execution_count": 3,
   "metadata": {},
   "outputs": [
    {
     "name": "stdout",
     "output_type": "stream",
     "text": [
      "Consider adding default arguments to the njit implementation to trigger early compilation\n",
      "Querying the Agent...\n",
      "Agent: ShiftMagnify_CR using OpenCL_Apple M1 ran in 0.020079792000000207 seconds\n",
      "Run type OpenCL_Apple M1 was delayed in the previous run. Delay factor: 2.875227950099236, Delay probability: 0.5893735987032526\n",
      "Querying the Agent...\n",
      "Agent: ShiftMagnify_CR using OpenCL_Apple M1 ran in 0.011560082999999999 seconds\n",
      "Querying the Agent...\n",
      "Agent: ShiftMagnify_CR using Threaded_guided ran in 0.019907625000000095 seconds\n",
      "Consider adding default arguments to the njit implementation to trigger early compilation\n",
      "Querying the Agent...\n",
      "Agent: ShiftMagnify_CR using OpenCL_Apple M1 ran in 0.007537125000000255 seconds\n",
      "Querying the Agent...\n",
      "Agent: ShiftMagnify_CR using OpenCL_Apple M1 ran in 0.010370582999999822 seconds\n",
      "Querying the Agent...\n",
      "Agent: ShiftMagnify_CR using OpenCL_Apple M1 ran in 0.008787583000000154 seconds\n",
      "Consider adding default arguments to the njit implementation to trigger early compilation\n",
      "Querying the Agent...\n",
      "Agent: ShiftMagnify_CR using OpenCL_Apple M1 ran in 0.006866916999999972 seconds\n",
      "Querying the Agent...\n",
      "Agent: ShiftMagnify_CR using OpenCL_Apple M1 ran in 0.00900195799999981 seconds\n",
      "Querying the Agent...\n",
      "Agent: ShiftMagnify_CR using OpenCL_Apple M1 ran in 0.009124541999999902 seconds\n",
      "Consider adding default arguments to the njit implementation to trigger early compilation\n",
      "Querying the Agent...\n",
      "Agent: ShiftMagnify_CR using OpenCL_Apple M1 ran in 0.016188042000000014 seconds\n",
      "Run type OpenCL_Apple M1 was delayed in the previous run. Delay factor: 2.3387598180117055, Delay probability: 0.558085032547207\n",
      "Querying the Agent...\n",
      "Agent: ShiftMagnify_CR using OpenCL_Apple M1 ran in 0.01791374999999995 seconds\n",
      "Querying the Agent...\n",
      "Agent: ShiftMagnify_CR using OpenCL_Apple M1 ran in 0.009524540999999775 seconds\n",
      "Agent: eSRRF_3D using Unthreaded ran in 0.31416999999999984 seconds\n"
     ]
    }
   ],
   "source": [
    "esrrf = eSRRF3D()\n",
    "int_img, grad_r_int, grad_c_int, grad_s_int = esrrf.run(img, magnification_xy=2, magnification_z=6, run_type=\"Unthreaded\")"
   ]
  },
  {
   "cell_type": "code",
   "execution_count": 4,
   "metadata": {},
   "outputs": [
    {
     "data": {
      "text/plain": [
       "(102, 100, 100)"
      ]
     },
     "execution_count": 4,
     "metadata": {},
     "output_type": "execute_result"
    }
   ],
   "source": [
    "int_img.shape"
   ]
  },
  {
   "cell_type": "code",
   "execution_count": 5,
   "metadata": {},
   "outputs": [
    {
     "data": {
      "application/vnd.jupyter.widget-view+json": {
       "model_id": "be83c05cce8243d79c9d6ca168e3aa9f",
       "version_major": 2,
       "version_minor": 0
      },
      "text/plain": [
       "VBox(children=(HBox(children=(VBox(children=(ImageWidget(height=100, width=100),)),)), IntSlider(value=51, des…"
      ]
     },
     "execution_count": 5,
     "metadata": {},
     "output_type": "execute_result"
    }
   ],
   "source": [
    "stackview.slice(int_img)"
   ]
  },
  {
   "cell_type": "code",
   "execution_count": 6,
   "metadata": {},
   "outputs": [
    {
     "data": {
      "application/vnd.jupyter.widget-view+json": {
       "model_id": "c825d80b082f434f971c5cb042b9e057",
       "version_major": 2,
       "version_minor": 0
      },
      "text/plain": [
       "VBox(children=(HBox(children=(VBox(children=(ImageWidget(height=100, width=100),)),)), IntSlider(value=51, des…"
      ]
     },
     "execution_count": 6,
     "metadata": {},
     "output_type": "execute_result"
    }
   ],
   "source": [
    "stackview.slice(grad_r_int)"
   ]
  },
  {
   "cell_type": "code",
   "execution_count": 7,
   "metadata": {},
   "outputs": [
    {
     "data": {
      "application/vnd.jupyter.widget-view+json": {
       "model_id": "a7892ae9ab6c44aeaaf51866326daefd",
       "version_major": 2,
       "version_minor": 0
      },
      "text/plain": [
       "VBox(children=(HBox(children=(VBox(children=(ImageWidget(height=100, width=100),)),)), IntSlider(value=51, des…"
      ]
     },
     "execution_count": 7,
     "metadata": {},
     "output_type": "execute_result"
    }
   ],
   "source": [
    "stackview.slice(grad_c_int)"
   ]
  },
  {
   "cell_type": "code",
   "execution_count": 8,
   "metadata": {},
   "outputs": [
    {
     "data": {
      "application/vnd.jupyter.widget-view+json": {
       "model_id": "4cf284ab5c2c44f9a83b19c534b050f4",
       "version_major": 2,
       "version_minor": 0
      },
      "text/plain": [
       "VBox(children=(HBox(children=(VBox(children=(ImageWidget(height=100, width=100),)),)), IntSlider(value=51, des…"
      ]
     },
     "execution_count": 8,
     "metadata": {},
     "output_type": "execute_result"
    }
   ],
   "source": [
    "stackview.slice(grad_s_int)"
   ]
  },
  {
   "cell_type": "code",
   "execution_count": null,
   "metadata": {},
   "outputs": [],
   "source": []
  }
 ],
 "metadata": {
  "kernelspec": {
   "display_name": "nanopyxdev",
   "language": "python",
   "name": "python3"
  },
  "language_info": {
   "codemirror_mode": {
    "name": "ipython",
    "version": 3
   },
   "file_extension": ".py",
   "mimetype": "text/x-python",
   "name": "python",
   "nbconvert_exporter": "python",
   "pygments_lexer": "ipython3",
   "version": "3.9.16"
  }
 },
 "nbformat": 4,
 "nbformat_minor": 2
}
