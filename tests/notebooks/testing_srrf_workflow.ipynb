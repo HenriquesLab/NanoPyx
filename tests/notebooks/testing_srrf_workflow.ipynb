{
 "cells": [
  {
   "cell_type": "code",
   "execution_count": null,
   "metadata": {},
   "outputs": [],
   "source": [
    "from nanopyx.methods import SRRF_w\n",
    "from nanopyx.liquid import Radiality, CRShiftAndMagnify\n",
    "\n",
    "from nanopyx.data.download import ExampleDataManager\n",
    "import numpy as np\n",
    "\n",
    "downloader = ExampleDataManager()\n",
    "im = downloader.get_ZipTiffIterator(\n",
    "    \"SMLMS2013_HDTubulinAlexa647\", as_ndarray=True)\n",
    "im = im[0:50,0:50,0:50]\n",
    "\n",
    "\n",
    "#CRShiftAndMagnify(testing=False).benchmark(im,0,0,4,4)\n",
    "#Radiality(testing=False).benchmark(im,im)"
   ]
  },
  {
   "cell_type": "code",
   "execution_count": null,
   "metadata": {},
   "outputs": [],
   "source": [
    "srrf = SRRF_w(im, 2, ringRadius=0.5, border=0, radialityPositivityConstraint=True, doIntensityWeighting=True)\n",
    "imRad,_,_ = srrf.run()"
   ]
  },
  {
   "cell_type": "code",
   "execution_count": null,
   "metadata": {},
   "outputs": [],
   "source": [
    "from matplotlib import pyplot as plt\n",
    "plt.imshow(np.mean(imRad[0], 0), interpolation='nearest')\n",
    "plt.show()"
   ]
  }
 ],
 "metadata": {
  "kernelspec": {
   "display_name": "nanopyx",
   "language": "python",
   "name": "python3"
  },
  "language_info": {
   "codemirror_mode": {
    "name": "ipython",
    "version": 3
   },
   "file_extension": ".py",
   "mimetype": "text/x-python",
   "name": "python",
   "nbconvert_exporter": "python",
   "pygments_lexer": "ipython3",
   "version": "3.10.9"
  },
  "orig_nbformat": 4
 },
 "nbformat": 4,
 "nbformat_minor": 2
}
