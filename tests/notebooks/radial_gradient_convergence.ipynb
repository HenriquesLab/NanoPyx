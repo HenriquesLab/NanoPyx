{
 "cells": [
  {
   "cell_type": "code",
   "execution_count": null,
   "metadata": {},
   "outputs": [],
   "source": [
    "import stackview\n",
    "from nanopyx.data.download import ExampleDataManager\n",
    "import numpy as np\n",
    "from matplotlib import pyplot as plt\n",
    "from nanopyx.core.sr.radial_gradient_convergence import RadialGradientConvergence\n",
    "\n",
    "downloader = ExampleDataManager()\n",
    "im = downloader.get_ZipTiffIterator(\n",
    "    \"SMLMS2013_HDTubulinAlexa647\", as_ndarray=True)\n",
    "\n",
    "print(\"Input image shape:\", im.shape)\n",
    "\n",
    "# , display_width=512, display_height=512)\n",
    "stackview.slice(im, continuous_update=True, zoom_factor=2, zoom_spline_order=0)"
   ]
  },
  {
   "cell_type": "code",
   "execution_count": null,
   "metadata": {},
   "outputs": [],
   "source": [
    "imSmall = im[:,:50,:50]\n",
    "rgc = RadialGradientConvergence(sensitivity=2)\n",
    "imRad, imIW, imGx, imGy = rgc.calculate(imSmall)"
   ]
  },
  {
   "cell_type": "code",
   "execution_count": null,
   "metadata": {},
   "outputs": [],
   "source": [
    "# Plot of the mean of radiality maps\n",
    "plt.imshow(np.mean(imRad,0),cmap=\"magma_r\")"
   ]
  },
  {
   "cell_type": "code",
   "execution_count": null,
   "metadata": {},
   "outputs": [],
   "source": [
    "stackview.curtain(imIW, imRad, continuous_update=True, zoom_factor=2,\n",
    "                  zoom_spline_order=0) "
   ]
  }
 ],
 "metadata": {
  "kernelspec": {
   "display_name": "nanopyx310",
   "language": "python",
   "name": "python3"
  },
  "language_info": {
   "codemirror_mode": {
    "name": "ipython",
    "version": 3
   },
   "file_extension": ".py",
   "mimetype": "text/x-python",
   "name": "python",
   "nbconvert_exporter": "python",
   "pygments_lexer": "ipython3",
   "version": "3.10.9"
  },
  "orig_nbformat": 4,
  "vscode": {
   "interpreter": {
    "hash": "23014dd0089ae86ed165593797acf862b443155fd4e683d207d2c48ed53793f5"
   }
  }
 },
 "nbformat": 4,
 "nbformat_minor": 2
}
