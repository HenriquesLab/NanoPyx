{
 "cells": [
  {
   "cell_type": "code",
   "execution_count": null,
   "metadata": {},
   "outputs": [],
   "source": [
    "import matplotlib.pyplot as plt\n",
    "import seaborn as sns\n",
    "import numpy as np\n",
    "from nanopyx.core.generate.noise_add_simplex import (\n",
    "    get_simplex_noise, add_simplex_noise\n",
    ")\n",
    "\n",
    "# generate some random ground truth\n",
    "rows = 100\n",
    "cols = 100\n",
    "\n",
    "# image = get_simplex_noise(rows, cols, frequency=0.01, octaves=4, persistence=2, amplitude=1000, offset=1000)\n",
    "image = get_simplex_noise(rows, cols)\n",
    "\n",
    "# show the image with seaborn\n",
    "sns.heatmap(image, cmap=\"viridis\")\n",
    "plt.show()\n"
   ]
  },
  {
   "cell_type": "code",
   "execution_count": null,
   "metadata": {},
   "outputs": [],
   "source": [
    "# try to add some 3D noise\n",
    "\n",
    "# generate some random ground truth\n",
    "rows = 100\n",
    "cols = 100\n",
    "depth = 100\n",
    "\n",
    "dataset = np.zeros((rows, cols, depth), dtype=np.float32)\n",
    "add_simplex_noise(dataset)\n",
    "\n",
    "# show the dataset with stackview\n",
    "import stackview\n",
    "stackview.slice(dataset, continuous_update=True, zoom_factor=4, zoom_spline_order=0)\n"
   ]
  }
 ],
 "metadata": {
  "kernelspec": {
   "display_name": ".venv",
   "language": "python",
   "name": "python3"
  },
  "language_info": {
   "codemirror_mode": {
    "name": "ipython",
    "version": 3
   },
   "file_extension": ".py",
   "mimetype": "text/x-python",
   "name": "python",
   "nbconvert_exporter": "python",
   "pygments_lexer": "ipython3",
   "version": "3.10.9"
  }
 },
 "nbformat": 4,
 "nbformat_minor": 2
}
