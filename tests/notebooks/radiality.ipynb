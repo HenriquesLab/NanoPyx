{
 "cells": [
  {
   "cell_type": "code",
   "execution_count": null,
   "metadata": {},
   "outputs": [],
   "source": [
    "import stackview\n",
    "from nanopyx.data.download import ExampleDataManager\n",
    "\n",
    "downloader = ExampleDataManager()\n",
    "z = downloader.get_ZipTiffIterator(\n",
    "    \"SMLMS2013_HDTubulinAlexa647\", as_ndarray=True)\n",
    "\n",
    "# , display_width=512, display_height=512)\n",
    "stackview.slice(z, continuous_update=True, zoom_factor=2, zoom_spline_order=0)\n"
   ]
  },
  {
   "cell_type": "code",
   "execution_count": null,
   "metadata": {},
   "outputs": [],
   "source": [
    "%%prun -s cumulative -q -l 100 -T  prun_radiality.profile\n",
    "\n",
    "import numpy as np\n",
    "from nanopyx.core.transform.sr_radiality import Radiality\n",
    "\n",
    "imSmall = z[:, :, :]\n",
    "rad = Radiality(magnification=2, ringRadius=0.5, border=0,\n",
    "                radialityPositivityConstraint=1, doIntensityWeighting=1)\n",
    "imRad, imIW, imGx, imGy = rad.calculate(imSmall)\n"
   ]
  },
  {
   "cell_type": "code",
   "execution_count": null,
   "metadata": {},
   "outputs": [],
   "source": [
    "stackview.curtain(imIW, imRad, continuous_update=True, zoom_factor=2,\n",
    "                  zoom_spline_order=0)  # , display_width=512, display_height=512)\n"
   ]
  },
  {
   "cell_type": "code",
   "execution_count": null,
   "metadata": {},
   "outputs": [],
   "source": [
    "from matplotlib import pyplot as plt\n",
    "plt.imshow(np.mean(imRad, 0), interpolation='nearest')\n",
    "plt.show()\n"
   ]
  }
 ],
 "metadata": {
  "kernelspec": {
   "display_name": "Python 3 (ipykernel)",
   "language": "python",
   "name": "python3"
  },
  "language_info": {
   "codemirror_mode": {
    "name": "ipython",
    "version": 3
   },
   "file_extension": ".py",
   "mimetype": "text/x-python",
   "name": "python",
   "nbconvert_exporter": "python",
   "pygments_lexer": "ipython3",
   "version": "3.11.1"
  },
  "vscode": {
   "interpreter": {
    "hash": "ff43d62f8f6c4527fe53ff203f9f4b76bff05577ec2443f113edf97841413ea1"
   }
  }
 },
 "nbformat": 4,
 "nbformat_minor": 4
}
