{
 "cells": [
  {
   "cell_type": "code",
   "execution_count": null,
   "metadata": {},
   "outputs": [],
   "source": [
    "import numpy as np\n",
    "\n",
    "from nanopyx.core.transform.image_shift_rotate import *\n",
    "from skimage.draw import rectangle\n",
    "\n",
    "from matplotlib import pyplot as plt\n",
    "\n",
    "angle = np.pi\n",
    "cx = 512/2\n",
    "cy = 256/2\n",
    "\n",
    "image_GT = np.zeros((256, 512), dtype=np.float32) \n",
    "rr, cc = rectangle((int(cy-20), 256-40), extent=(40,-40), shape=image_GT.shape)\n",
    "image_GT[rr,cc] = 1\n",
    "\n",
    "image = np.zeros((256, 512), dtype=np.float32) \n",
    "rr, cc = rectangle((int(cy-20), 256+40), extent=(40,40), shape=image.shape)\n",
    "image[rr,cc] = 1\n"
   ]
  },
  {
   "cell_type": "code",
   "execution_count": null,
   "metadata": {},
   "outputs": [],
   "source": [
    "%%prun -s cumulative -q -l 100 -T prun_Rotation.profile\n",
    "# Profile the run\n",
    "\n",
    "imageNNRotation = nearest_neighbor_rotate_shift(image, angle, cx, cy)\n",
    "imageBLRotation = bilinear_rotate_shift(image, angle, cx, cy)\n",
    "imageBCRotation = bicubic_rotate_shift(image, angle, cx, cy)\n",
    "imageCRRotation = catmull_rom_rotate_shift(image, angle, cx, cy)\n",
    "imageLRotation = lanczos_rotate_shift(image, angle, cx, cy)\n",
    "#imageScipyRotation = scipy_rotate_shift(image, angle, cx, cy)\n",
    "imageSkiRotation = skimage_rotate_shift(image, angle, cx, cy)\n",
    "imageCVRotation = cv2_rotate_shift(image, angle, cx, cy)\n",
    "\n",
    "\n",
    "rotated_images = {\n",
    "    \"nearest-neighbor-rotation\": imageNNRotation,\n",
    "    \"bilinear-rotation\": imageBLRotation,\n",
    "    \"bilinear-rotation\": imageBLRotation,\n",
    "    \"bicubic-rotation\": imageBCRotation,\n",
    "    \"catmull-rom-rotation\": imageCRRotation,\n",
    "    \"lanczos-rotation\": imageLRotation,\n",
    "    #\"scipy-rotation\": imageScipyRotation,\n",
    "    \"skimage-rotation\": imageSkiRotation,\n",
    "    \"cv2-rotation\": imageCVRotation\n",
    "}"
   ]
  },
  {
   "cell_type": "code",
   "execution_count": null,
   "metadata": {},
   "outputs": [],
   "source": [
    "import seaborn as sns\n",
    "import matplotlib.pyplot as plt\n",
    "from nanopyx.core.analysis.pearson_correlation import pearson_correlation\n",
    "import numpy as np\n",
    "\n",
    "plt.close('all')\n",
    "# Create a figure with 3 subplots arranged in a row\n",
    "fig, axs = plt.subplots(len(rotated_images)+1, 2, figsize=(16, 3*16))\n",
    "sns.heatmap(image, ax=axs[0,0], cmap='inferno', cbar=False, square=True, xticklabels=False, yticklabels=False)\n",
    "sns.heatmap(image_GT, ax=axs[0,1], cmap='inferno', cbar=False, square=True, xticklabels=False, yticklabels=False)\n",
    "axs[0,0].set_title(\"original\")\n",
    "axs[0,1].set_title(f\"rotated {np.rad2deg(angle):.1f}\")\n",
    "\n",
    "for i, id in enumerate(rotated_images):\n",
    "    rotated_image = rotated_images[id]\n",
    "    error = image_GT-rotated_image\n",
    "    rmse = round((error**2).mean()**0.5)\n",
    "    pc = pearson_correlation(image, rotated_image)\n",
    "    sns.heatmap(rotated_image, ax=axs[i+1,0], cmap='inferno', cbar=False, square=True, xticklabels=False, yticklabels=False)\n",
    "    sns.heatmap(error, ax=axs[i+1,1], cmap='inferno', cbar=False, square=True, xticklabels=False, yticklabels=False)\n",
    "    axs[i+1,0].set_title(f\"{id}\")\n",
    "    axs[i+1,1].set_title(f\"{id}-error\")\n",
    "    axs[i+1,1].set_xlabel(f\"RMSE={rmse} PC={round(pc, 2)} MaxError={round(np.max(error))}\")\n",
    "\n",
    "# Show the figure\n",
    "plt.show()\n"
   ]
  },
  {
   "cell_type": "code",
   "execution_count": null,
   "metadata": {},
   "outputs": [],
   "source": []
  }
 ],
 "metadata": {
  "kernelspec": {
   "display_name": "nanopyx",
   "language": "python",
   "name": "python3"
  },
  "language_info": {
   "codemirror_mode": {
    "name": "ipython",
    "version": 3
   },
   "file_extension": ".py",
   "mimetype": "text/x-python",
   "name": "python",
   "nbconvert_exporter": "python",
   "pygments_lexer": "ipython3",
   "version": "3.10.9"
  },
  "orig_nbformat": 4,
  "vscode": {
   "interpreter": {
    "hash": "7603a37bd9dfed82c1c43d2e0a103f66c5b5a86e3543acd1be82d9c441c0be6e"
   }
  }
 },
 "nbformat": 4,
 "nbformat_minor": 2
}
