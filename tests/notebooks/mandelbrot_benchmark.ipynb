{
 "cells": [
  {
   "cell_type": "code",
   "execution_count": null,
   "metadata": {},
   "outputs": [],
   "source": [
    "from nanopyx.core.utils import mandelbrot_benchmark as bench\n",
    "\n",
    "data = bench.check_acceleration()\n",
    "im_python = data[0][0]\n",
    "im_nonthreaded = data[1][0]\n",
    "im_threaded = data[2][0]\n",
    "im_opencl = data[3][0]\n",
    "\n",
    "print(im_opencl.max(), im_opencl.min())\n"
   ]
  },
  {
   "cell_type": "code",
   "execution_count": null,
   "metadata": {},
   "outputs": [],
   "source": [
    "# show both images side by side in seaborn\n",
    "from matplotlib import pyplot as plt\n",
    "import seaborn as sns\n",
    "\n",
    "sns.set_style(\"white\")\n",
    "sns.set_context(\"talk\")\n",
    "fig, ax = plt.subplots(1, 4, figsize=(18, 6))\n",
    "ax[0].imshow(im_python)\n",
    "ax[0].set_title(\"Pure Python\")\n",
    "ax[1].imshow(im_threaded)   \n",
    "ax[1].set_title(\"Cython Threaded\")\n",
    "ax[1].set_axis_off()\n",
    "ax[2].imshow(im_nonthreaded)\n",
    "ax[2].set_title(\"Cython Non-threaded\")\n",
    "ax[2].set_axis_off()\n",
    "ax[3].imshow(im_opencl)\n",
    "ax[3].set_title(\"OpenCL\")\n",
    "ax[3].set_axis_off()\n",
    "\n",
    "plt.show()"
   ]
  }
 ],
 "metadata": {
  "kernelspec": {
   "display_name": ".venv",
   "language": "python",
   "name": "python3"
  },
  "language_info": {
   "codemirror_mode": {
    "name": "ipython",
    "version": 3
   },
   "file_extension": ".py",
   "mimetype": "text/x-python",
   "name": "python",
   "nbconvert_exporter": "python",
   "pygments_lexer": "ipython3",
   "version": "3.11.1"
  },
  "vscode": {
   "interpreter": {
    "hash": "ff43d62f8f6c4527fe53ff203f9f4b76bff05577ec2443f113edf97841413ea1"
   }
  }
 },
 "nbformat": 4,
 "nbformat_minor": 2
}
