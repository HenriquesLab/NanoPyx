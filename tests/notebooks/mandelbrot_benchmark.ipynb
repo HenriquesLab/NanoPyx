{
 "cells": [
  {
   "cell_type": "code",
   "execution_count": null,
   "metadata": {},
   "outputs": [],
   "source": [
    "from nanopyx.core.utils import mandelbrot_benchmark as bench\n",
    "\n",
    "bench_values = bench.check_acceleration(1024)\n",
    "images = []\n",
    "titles = []\n",
    "run_times = [] \n",
    "\n",
    "# unzip the values\n",
    "for run_time, title, image in bench_values:\n",
    "    images.append(image)\n",
    "    titles.append(title)\n",
    "    run_times.append(run_time)\n",
    "\n",
    "# show images in seaborn\n",
    "from matplotlib import pyplot as plt\n",
    "import seaborn as sns\n",
    "\n",
    "sns.set_style(\"white\")\n",
    "sns.set_context(\"talk\")\n",
    "fig, axes = plt.subplots(1, len(images), figsize=(20, 10))\n",
    "for i, ax in enumerate(axes):\n",
    "    ax.imshow(images[i], cmap=\"hot\")\n",
    "    ax.set_title(titles[i])\n",
    "    ax.axis(\"off\")\n",
    "plt.show()\n",
    "\n"
   ]
  }
 ],
 "metadata": {
  "kernelspec": {
   "display_name": ".venv",
   "language": "python",
   "name": "python3"
  },
  "language_info": {
   "codemirror_mode": {
    "name": "ipython",
    "version": 3
   },
   "file_extension": ".py",
   "mimetype": "text/x-python",
   "name": "python",
   "nbconvert_exporter": "python",
   "pygments_lexer": "ipython3",
   "version": "3.10.9"
  },
  "vscode": {
   "interpreter": {
    "hash": "ff43d62f8f6c4527fe53ff203f9f4b76bff05577ec2443f113edf97841413ea1"
   }
  }
 },
 "nbformat": 4,
 "nbformat_minor": 2
}
