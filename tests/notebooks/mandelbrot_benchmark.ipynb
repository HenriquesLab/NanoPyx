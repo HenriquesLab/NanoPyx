{
 "cells": [
  {
   "cell_type": "code",
   "execution_count": null,
   "metadata": {},
   "outputs": [],
   "source": [
    "from nanopyx.core.utils import mandelbrot_benchmark as bench\n",
    "\n",
    "images = bench.check_acceleration(128)\n",
    "image_opencl = images[0]\n",
    "image_threaded = images[1]\n",
    "image_unthreaded = images[2]\n",
    "\n",
    "# show images in seaborn\n",
    "from matplotlib import pyplot as plt\n",
    "import seaborn as sns\n",
    "\n",
    "sns.set_style(\"white\")\n",
    "sns.set_context(\"talk\")\n",
    "fig, ax = plt.subplots(1, 3, figsize=(18, 6))\n",
    "ax[0].imshow(images[0])\n",
    "ax[0].set_title(\"OpenCL\")\n",
    "ax[1].imshow(images[1])\n",
    "ax[1].set_title(\"Threaded\")\n",
    "ax[1].set_axis_off()\n",
    "ax[2].imshow(images[2])\n",
    "ax[2].set_title(\"Unthreaded\")\n",
    "ax[2].set_axis_off()\n"
   ]
  }
 ],
 "metadata": {
  "kernelspec": {
   "display_name": ".venv",
   "language": "python",
   "name": "python3"
  },
  "language_info": {
   "codemirror_mode": {
    "name": "ipython",
    "version": 3
   },
   "file_extension": ".py",
   "mimetype": "text/x-python",
   "name": "python",
   "nbconvert_exporter": "python",
   "pygments_lexer": "ipython3",
   "version": "3.10.9"
  },
  "vscode": {
   "interpreter": {
    "hash": "ff43d62f8f6c4527fe53ff203f9f4b76bff05577ec2443f113edf97841413ea1"
   }
  }
 },
 "nbformat": 4,
 "nbformat_minor": 2
}
