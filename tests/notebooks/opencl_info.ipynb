{
 "cells": [
  {
   "cell_type": "code",
   "execution_count": 1,
   "metadata": {},
   "outputs": [
    {
     "name": "stdout",
     "output_type": "stream",
     "text": [
      "Selecting OpenCL device: AMD Radeon Pro 5500M Compute Engine\n",
      "\n",
      "============================================================\n",
      "OpenCL Platforms and Devices\n",
      "============================================================\n",
      "Platform - Name:  Apple\n",
      "Platform - Vendor:  Apple\n",
      "Platform - Version:  OpenCL 1.2 (Dec 16 2022 20:35:20)\n",
      "Platform - Profile:  FULL_PROFILE\n",
      "\t--------------------------------------------------------\n",
      "\tDevice - Name: Intel(R) Core(TM) i9-9880H CPU @ 2.30GHz\n",
      "\tDevice - Type: ALL | CPU\n",
      "\tDevice - Max Clock Speed:  2300 Mhz\n",
      "\tDevice - Compute Units:  16\n",
      "\tDevice - Local Memory:  32 KB\n",
      "\tDevice - Constant Memory:  64 KB\n",
      "\tDevice - Global Memory: 32 GB\n",
      "\tDevice - Max Buffer/Image Size: 8192 MB\n",
      "\tDevice - Max Work Group Size: 1024\n",
      "\t--------------------------------------------------------\n",
      "\tDevice - Name: Intel(R) UHD Graphics 630\n",
      "\tDevice - Type: ALL | GPU\n",
      "\tDevice - Max Clock Speed:  1200 Mhz\n",
      "\tDevice - Compute Units:  24\n",
      "\tDevice - Local Memory:  64 KB\n",
      "\tDevice - Constant Memory:  64 KB\n",
      "\tDevice - Global Memory: 2 GB\n",
      "\tDevice - Max Buffer/Image Size: 384 MB\n",
      "\tDevice - Max Work Group Size: 256\n",
      "\t--------------------------------------------------------\n",
      "\tDevice - Name: AMD Radeon Pro 5500M Compute Engine\n",
      "\tDevice - Type: ALL | GPU\n",
      "\tDevice - Max Clock Speed:  1450 Mhz\n",
      "\tDevice - Compute Units:  24\n",
      "\tDevice - Local Memory:  64 KB\n",
      "\tDevice - Constant Memory:  64 KB\n",
      "\tDevice - Global Memory: 8 GB\n",
      "\tDevice - Max Buffer/Image Size: 2044 MB\n",
      "\tDevice - Max Work Group Size: 256\n",
      "\n",
      "\n"
     ]
    }
   ],
   "source": [
    "import nanopyx.liquid as npx_cl\n",
    "\n",
    "npx_cl.print_opencl_info()"
   ]
  }
 ],
 "metadata": {
  "kernelspec": {
   "display_name": ".venv",
   "language": "python",
   "name": "python3"
  },
  "language_info": {
   "codemirror_mode": {
    "name": "ipython",
    "version": 3
   },
   "file_extension": ".py",
   "mimetype": "text/x-python",
   "name": "python",
   "nbconvert_exporter": "python",
   "pygments_lexer": "ipython3",
   "version": "3.10.9"
  }
 },
 "nbformat": 4,
 "nbformat_minor": 2
}
