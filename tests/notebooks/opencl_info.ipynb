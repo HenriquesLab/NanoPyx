{
 "cells": [
  {
   "cell_type": "code",
   "execution_count": 1,
   "metadata": {},
   "outputs": [
    {
     "name": "stderr",
     "output_type": "stream",
     "text": [
      "C:\\Users\\abrito\\Documents\\GitHub\\NanoPyx\\src\\nanopyx\\liquid\\__njit__.py:15: UserWarning: Numba is not installed. Using pure python for _njit_interpolate\n",
      "  warnings.warn(\n",
      "C:\\Users\\abrito\\Documents\\GitHub\\NanoPyx\\src\\nanopyx\\liquid\\__njit__.py:15: UserWarning: Numba is not installed. Using pure python for njit_shift_magnify\n",
      "  warnings.warn(\n",
      "C:\\Users\\abrito\\Documents\\GitHub\\NanoPyx\\src\\nanopyx\\liquid\\__njit__.py:15: UserWarning: Numba is not installed. Using pure python for njit_shift_scale_rotate\n",
      "  warnings.warn(\n",
      "C:\\Users\\abrito\\Documents\\GitHub\\NanoPyx\\src\\nanopyx\\liquid\\_le_mandelbrot_benchmark_.py:17: UserWarning: Numba is not installed. Using pure python for _njit_mandelbrot\n",
      "  warnings.warn(\n",
      "C:\\Users\\abrito\\Documents\\GitHub\\NanoPyx\\src\\nanopyx\\liquid\\_le_mandelbrot_benchmark_.py:17: UserWarning: Numba is not installed. Using pure python for njit_mandelbrot\n",
      "  warnings.warn(\n"
     ]
    },
    {
     "name": "stdout",
     "output_type": "stream",
     "text": [
      "\n",
      "============================================================\n",
      "OpenCL Platforms and Devices \n",
      "============================================================\n",
      "Platform - Name:  Oclgrind\n",
      "Platform - Vendor:  Oclgrind\n",
      "Platform - Version:  OpenCL 1.2 (Oclgrind 21.10)\n",
      "Platform - Profile:  FULL_PROFILE\n",
      "\t--------------------------------------------------------\n",
      "\tDevice - Name: Oclgrind Simulator\n",
      "\tDevice - Type: ACCELERATOR | ALL | CPU | DEFAULT | GPU | _is_bitfield\n",
      "\tDevice - Max Clock Speed:  1 Mhz\n",
      "\tDevice - Compute Units:  1\n",
      "\tDevice - Local Memory:  32 KB\n",
      "\tDevice - Constant Memory:  64 KB\n",
      "\tDevice - Global Memory: 0 GB\n",
      "\tDevice - Max Buffer/Image Size: 128 MB\n",
      "\tDevice - Max Work Group Size: 1024\n",
      "============================================================\n",
      "Platform - Name:  NVIDIA CUDA\n",
      "Platform - Vendor:  NVIDIA Corporation\n",
      "Platform - Version:  OpenCL 3.0 CUDA 12.2.79\n",
      "Platform - Profile:  FULL_PROFILE\n",
      "\t--------------------------------------------------------\n",
      "\tDevice - Name: NVIDIA GeForce RTX 4090\n",
      "\tDevice - Type: ALL | GPU\n",
      "\tDevice - Max Clock Speed:  2550 Mhz\n",
      "\tDevice - Compute Units:  128\n",
      "\tDevice - Local Memory:  48 KB\n",
      "\tDevice - Constant Memory:  64 KB\n",
      "\tDevice - Global Memory: 24 GB\n",
      "\tDevice - Max Buffer/Image Size: 6141 MB\n",
      "\tDevice - Max Work Group Size: 1024\n",
      "============================================================\n",
      "Platform - Name:  Intel(R) OpenCL HD Graphics\n",
      "Platform - Vendor:  Intel(R) Corporation\n",
      "Platform - Version:  OpenCL 3.0 \n",
      "Platform - Profile:  FULL_PROFILE\n",
      "\t--------------------------------------------------------\n",
      "\tDevice - Name: Intel(R) UHD Graphics 770\n",
      "\tDevice - Type: ALL | GPU\n",
      "\tDevice - Max Clock Speed:  1650 Mhz\n",
      "\tDevice - Compute Units:  32\n",
      "\tDevice - Local Memory:  64 KB\n",
      "\tDevice - Constant Memory:  4194296 KB\n",
      "\tDevice - Global Memory: 51 GB\n",
      "\tDevice - Max Buffer/Image Size: 4096 MB\n",
      "\tDevice - Max Work Group Size: 256\n",
      "============================================================\n",
      "Platform - Name:  OpenCLOn12\n",
      "Platform - Vendor:  Microsoft\n",
      "Platform - Version:  OpenCL 1.2 D3D12 Implementation\n",
      "Platform - Profile:  FULL_PROFILE\n",
      "\t--------------------------------------------------------\n",
      "\tDevice - Name: Intel(R) UHD Graphics 770\n",
      "\tDevice - Type: ALL | GPU\n",
      "\tDevice - Max Clock Speed:  12 Mhz\n",
      "\tDevice - Compute Units:  1\n",
      "\tDevice - Local Memory:  32 KB\n",
      "\tDevice - Constant Memory:  64 KB\n",
      "\tDevice - Global Memory: 64 GB\n",
      "\tDevice - Max Buffer/Image Size: 1024 MB\n",
      "\tDevice - Max Work Group Size: 1024\n",
      "\t--------------------------------------------------------\n",
      "\tDevice - Name: Microsoft Basic Render Driver\n",
      "\tDevice - Type: ALL | GPU\n",
      "\tDevice - Max Clock Speed:  12 Mhz\n",
      "\tDevice - Compute Units:  1\n",
      "\tDevice - Local Memory:  32 KB\n",
      "\tDevice - Constant Memory:  64 KB\n",
      "\tDevice - Global Memory: 64 GB\n",
      "\tDevice - Max Buffer/Image Size: 1024 MB\n",
      "\tDevice - Max Work Group Size: 1024\n",
      "\t--------------------------------------------------------\n",
      "\tDevice - Name: NVIDIA GeForce RTX 4090\n",
      "\tDevice - Type: ALL | GPU\n",
      "\tDevice - Max Clock Speed:  12 Mhz\n",
      "\tDevice - Compute Units:  1\n",
      "\tDevice - Local Memory:  32 KB\n",
      "\tDevice - Constant Memory:  64 KB\n",
      "\tDevice - Global Memory: 24 GB\n",
      "\tDevice - Max Buffer/Image Size: 1024 MB\n",
      "\tDevice - Max Work Group Size: 1024\n",
      "\n"
     ]
    }
   ],
   "source": [
    "import nanopyx.liquid as npx_cl\n",
    "\n",
    "print(npx_cl.print_opencl_info())"
   ]
  },
  {
   "cell_type": "code",
   "execution_count": null,
   "metadata": {},
   "outputs": [],
   "source": [
    "from nanopyx.liquid.__opencl__ import cl_dp\n",
    "\n",
    "print(\"Double precision support for current device:\", cl_dp)"
   ]
  }
 ],
 "metadata": {
  "kernelspec": {
   "display_name": ".venv",
   "language": "python",
   "name": "python3"
  },
  "language_info": {
   "codemirror_mode": {
    "name": "ipython",
    "version": 3
   },
   "file_extension": ".py",
   "mimetype": "text/x-python",
   "name": "python",
   "nbconvert_exporter": "python",
   "pygments_lexer": "ipython3",
   "version": "3.10.12"
  },
  "vscode": {
   "interpreter": {
    "hash": "ff43d62f8f6c4527fe53ff203f9f4b76bff05577ec2443f113edf97841413ea1"
   }
  }
 },
 "nbformat": 4,
 "nbformat_minor": 2
}
