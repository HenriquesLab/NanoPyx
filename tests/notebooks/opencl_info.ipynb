{
 "cells": [
  {
   "cell_type": "code",
   "execution_count": null,
   "metadata": {},
   "outputs": [],
   "source": [
    "import nanopyx.opencl as npx_cl\n",
    "\n",
    "npx_cl.print_opencl_info()"
   ]
  },
  {
   "cell_type": "code",
   "execution_count": null,
   "metadata": {},
   "outputs": [],
   "source": [
    "import pyopencl as cl\n",
    "import pyopencl.array as pycl_array  # Import PyOpenCL Array (a Numpy array plus an OpenCL buffer object)\n",
    "import numpy as np\n",
    "import numpy.linalg as la\n",
    "import datetime\n",
    "from time import time\n",
    "\n",
    "a = np.random.rand(1000).astype(np.float32)\n",
    "b = np.random.rand(1000).astype(np.float32)\n",
    "c_result = np.empty_like(a)\n",
    "\n",
    "for platform in cl.get_platforms():\n",
    "    for device in platform.get_devices():\n",
    "        print(\"===============================================================\")\n",
    "        print(\"Platform name:\", platform.name)\n",
    "        print(\"Platform profile:\", platform.profile)\n",
    "        print(\"Platform vendor:\", platform.vendor)\n",
    "        print(\"Platform version:\", platform.version)\n",
    "        print(\"---------------------------------------------------------------\")\n",
    "        print(\"Device name:\", device.name)\n",
    "        print(\"Device type:\", cl.device_type.to_string(device.type))\n",
    "        print(\"Device memory: \", device.global_mem_size//1024//1024, 'MB')\n",
    "        print(\"Device max clock speed:\", device.max_clock_frequency, 'MHz')\n",
    "        print(\"Device compute units:\", device.max_compute_units)\n",
    "\n",
    "        # Simnple speed test\n",
    "        ctx = cl.Context([device])\n",
    "        queue = cl.CommandQueue(ctx, \n",
    "                properties=cl.command_queue_properties.PROFILING_ENABLE)\n",
    "\n",
    "        mf = cl.mem_flags\n",
    "\n",
    "        a = pycl_array.to_device(queue, np.arange(50000, dtype=np.float32))\n",
    "        b = pycl_array.to_device(queue, np.arange(50000, dtype=np.float32))  \n",
    "        # Create two random pyopencl arrays\n",
    "        c = pycl_array.empty_like(a)  # Create an empty pyopencl destination array\n",
    "\n",
    "        program = cl.Program(ctx, \"\"\"\n",
    "        __kernel void sum(__global const float *a, __global const float *b, __global float *c)\n",
    "        {\n",
    "        int i = get_global_id(0);\n",
    "        c[i] = a[i] + b[i];\n",
    "        }\"\"\").build()  # Create the OpenCL program\n",
    "\n",
    "        exec_evt = program.sum(queue, a.shape, None, a.data, b.data, c.data)  # Enqueue the program for execution and store the result in c\n",
    "        exec_evt.wait()\n",
    "        elapsed = 1e-9*(exec_evt.profile.end - exec_evt.profile.start)\n",
    "\n",
    "        print(c.get())\n",
    "\n",
    "        print(\"Execution time of test: %g s\" % elapsed)\n"
   ]
  },
  {
   "cell_type": "code",
   "execution_count": null,
   "metadata": {},
   "outputs": [],
   "source": [
    "import nanopyx.opencl as npx_cl\n",
    "import nanopyx.opencl._cl_mandelbrot_benchmark as npx_cl_mandelbrot\n",
    "import matplotlib.pyplot as plt\n",
    "\n",
    "im = npx_cl_mandelbrot.mandelbrot(1000, 1000, 4)\n",
    "plt.imshow(im)"
   ]
  }
 ],
 "metadata": {
  "kernelspec": {
   "display_name": ".venv",
   "language": "python",
   "name": "python3"
  },
  "language_info": {
   "codemirror_mode": {
    "name": "ipython",
    "version": 3
   },
   "file_extension": ".py",
   "mimetype": "text/x-python",
   "name": "python",
   "nbconvert_exporter": "python",
   "pygments_lexer": "ipython3",
   "version": "3.11.1"
  }
 },
 "nbformat": 4,
 "nbformat_minor": 2
}
