{
 "cells": [
  {
   "cell_type": "code",
   "execution_count": 3,
   "metadata": {},
   "outputs": [
    {
     "name": "stdout",
     "output_type": "stream",
     "text": [
      "\n",
      "============================================================\n",
      "OpenCL Platforms and Devices \n",
      "============================================================\n",
      "Platform - Name:  Apple\n",
      "Platform - Vendor:  Apple\n",
      "Platform - Version:  OpenCL 1.2 (Dec 16 2022 20:37:40)\n",
      "Platform - Profile:  FULL_PROFILE\n",
      "\t--------------------------------------------------------\n",
      "\tDevice - Name: Apple M1 Pro\n",
      "\tDevice - Type: ALL | GPU\n",
      "\tDevice - Max Clock Speed:  1000 Mhz\n",
      "\tDevice - Compute Units:  14\n",
      "\tDevice - Local Memory:  32 KB\n",
      "\tDevice - Constant Memory:  1048576 KB\n",
      "\tDevice - Global Memory: 11 GB\n",
      "\tDevice - Max Buffer/Image Size: 2048 MB\n",
      "\tDevice - Max Work Group Size: 256\n",
      "\n"
     ]
    }
   ],
   "source": [
    "import nanopyx.__opencl__ as npx_cl\n",
    "\n",
    "print(npx_cl.print_opencl_info())"
   ]
  },
  {
   "cell_type": "code",
   "execution_count": 4,
   "metadata": {},
   "outputs": [
    {
     "name": "stdout",
     "output_type": "stream",
     "text": [
      "Double precision support for current device: False\n"
     ]
    }
   ],
   "source": [
    "from nanopyx.__opencl__ import cl_dp\n",
    "\n",
    "print(\"Double precision support for current device:\", cl_dp)"
   ]
  },
  {
   "cell_type": "code",
   "execution_count": null,
   "metadata": {},
   "outputs": [],
   "source": []
  }
 ],
 "metadata": {
  "kernelspec": {
   "display_name": ".venv",
   "language": "python",
   "name": "python3"
  },
  "language_info": {
   "codemirror_mode": {
    "name": "ipython",
    "version": 3
   },
   "file_extension": ".py",
   "mimetype": "text/x-python",
   "name": "python",
   "nbconvert_exporter": "python",
   "pygments_lexer": "ipython3",
   "version": "3.10.9"
  },
  "vscode": {
   "interpreter": {
    "hash": "ff43d62f8f6c4527fe53ff203f9f4b76bff05577ec2443f113edf97841413ea1"
   }
  }
 },
 "nbformat": 4,
 "nbformat_minor": 2
}
