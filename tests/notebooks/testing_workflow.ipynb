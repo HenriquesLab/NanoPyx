{
 "cells": [
  {
   "cell_type": "code",
   "execution_count": null,
   "metadata": {},
   "outputs": [],
   "source": [
    "from nanopyx.liquid import DUMMY\n",
    "from functools import partial\n",
    "from nanopyx.methods.workflow import Workflow"
   ]
  },
  {
   "cell_type": "code",
   "execution_count": null,
   "metadata": {},
   "outputs": [],
   "source": [
    "injured_DUMMY = DUMMY(delay=\"OpenCL\", delay_amount=2)\n",
    "normal_dummy = DUMMY()\n",
    "\n",
    "for n in range(5):\n",
    "        print(\"RUNNING WORKFLOW {}\".format(n))\n",
    "        example_workflow = Workflow((normal_dummy,(),{}),\n",
    "                            (injured_DUMMY,(),{}),\n",
    "                            (normal_dummy,(),{}),\n",
    "                            (normal_dummy,(),{}),)\n",
    "        example_workflow.run()\n"
   ]
  }
 ],
 "metadata": {
  "kernelspec": {
   "display_name": "nanopyx",
   "language": "python",
   "name": "python3"
  },
  "language_info": {
   "codemirror_mode": {
    "name": "ipython",
    "version": 3
   },
   "file_extension": ".py",
   "mimetype": "text/x-python",
   "name": "python",
   "nbconvert_exporter": "python",
   "pygments_lexer": "ipython3",
   "version": "3.10.9"
  },
  "orig_nbformat": 4
 },
 "nbformat": 4,
 "nbformat_minor": 2
}
