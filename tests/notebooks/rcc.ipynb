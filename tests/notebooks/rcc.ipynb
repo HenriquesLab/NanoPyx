{
 "cells": [
  {
   "cell_type": "code",
   "execution_count": null,
   "metadata": {},
   "outputs": [],
   "source": [
    "%load_ext autoreload\n",
    "%autoreload 2\n",
    "\n",
    "from nanopyx.data.download import ExampleDataManager\n",
    "\n",
    "downloader = ExampleDataManager()\n",
    "z = downloader.get_ZipTiffIterator(\"SMLMS2013_HDTubulinAlexa647\", as_ndarray = True)\n",
    "\n",
    "import stackview\n",
    "stackview.slice(z, continuous_update=True, zoom_factor=4, zoom_spline_order=0)#, display_width=512, display_height=512)\n"
   ]
  },
  {
   "cell_type": "code",
   "execution_count": null,
   "metadata": {},
   "outputs": [],
   "source": [
    "%%prun -s cumulative -q -l 100 -T prun_rcc.profile\n",
    "\n",
    "from nanopyx.methods.drift_alignment import estimate_drift_alignment\n",
    "\n",
    "imSmall = z[:,:,:]\n",
    "\n",
    "imShifted = estimate_drift_alignment(imSmall, time_averaging=10, max_expected_drift=100, shift_calc_method=\"rcc\", apply=\"True\", save_drift_table_path=\"\")\n",
    "stackview.slice(imShifted, continuous_update=True, zoom_factor=4, zoom_spline_order=0)\n"
   ]
  },
  {
   "cell_type": "code",
   "execution_count": null,
   "metadata": {},
   "outputs": [],
   "source": []
  }
 ],
 "metadata": {
  "kernelspec": {
   "display_name": ".venv",
   "language": "python",
   "name": "python3"
  },
  "language_info": {
   "codemirror_mode": {
    "name": "ipython",
    "version": 3
   },
   "file_extension": ".py",
   "mimetype": "text/x-python",
   "name": "python",
   "nbconvert_exporter": "python",
   "pygments_lexer": "ipython3",
   "version": "3.10.9 (main, Dec 15 2022, 18:18:30) [Clang 14.0.0 (clang-1400.0.29.202)]"
  },
  "vscode": {
   "interpreter": {
    "hash": "ff43d62f8f6c4527fe53ff203f9f4b76bff05577ec2443f113edf97841413ea1"
   }
  }
 },
 "nbformat": 4,
 "nbformat_minor": 2
}
