{
 "cells": [
  {
   "cell_type": "code",
   "execution_count": null,
   "metadata": {},
   "outputs": [],
   "source": [
    "from nanopyx.data.download import ExampleDataManager\n",
    "from nanopyx.liquid import Radiality, CRShiftAndMagnify\n",
    "import numpy as np\n",
    "\n",
    "downloader = ExampleDataManager()\n",
    "image_og = downloader.get_ZipTiffIterator(\n",
    "    \"SMLMS2013_HDTubulinAlexa647\", as_ndarray=True)\n",
    "\n",
    "image_og = image_og[0:50,0:50,0:50]\n",
    "\n",
    "magnification = 3\n",
    "\n",
    "interpolator = CRShiftAndMagnify()\n",
    "image_interp = interpolator.run(image_og,0,0,magnification,magnification,run_type='Threaded')\n",
    "image_interp = np.array(image_interp)\n",
    "\n",
    "print(image_og.shape)"
   ]
  },
  {
   "cell_type": "code",
   "execution_count": null,
   "metadata": {},
   "outputs": [],
   "source": [
    "rad = Radiality(testing=True)\n",
    "bench_values = rad.benchmark(image_og, image_interp, magnification=magnification, ringRadius=1, border=10, radialityPositivityConstraint=True, doIntensityWeighting=True)\n",
    "\n",
    "images = []\n",
    "titles = []\n",
    "run_times = [] \n",
    "\n",
    "# unzip the values\n",
    "for run_time, title, image in bench_values:\n",
    "    run_times.append(run_time)\n",
    "    titles.append(title)\n",
    "    images.append(image[0])\n",
    "    \n",
    "# show images in seaborn\n",
    "from matplotlib import pyplot as plt\n",
    "import seaborn as sns\n",
    "\n",
    "sns.set_style(\"white\")\n",
    "sns.set_context(\"talk\")\n",
    "fig, axes = plt.subplots(1, len(images), figsize=(20, 10))\n",
    "for i, ax in enumerate(axes):\n",
    "    ax.imshow(images[i], cmap=\"hot\")\n",
    "    ax.set_title(titles[i])\n",
    "    ax.axis(\"off\")\n",
    "plt.show()"
   ]
  }
 ],
 "metadata": {
  "kernelspec": {
   "display_name": "nanopyx",
   "language": "python",
   "name": "python3"
  },
  "language_info": {
   "codemirror_mode": {
    "name": "ipython",
    "version": 3
   },
   "file_extension": ".py",
   "mimetype": "text/x-python",
   "name": "python",
   "nbconvert_exporter": "python",
   "pygments_lexer": "ipython3",
   "version": "3.10.9"
  },
  "orig_nbformat": 4
 },
 "nbformat": 4,
 "nbformat_minor": 2
}
