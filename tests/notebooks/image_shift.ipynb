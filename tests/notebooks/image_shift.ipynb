{
 "cells": [
  {
   "cell_type": "code",
   "execution_count": null,
   "metadata": {},
   "outputs": [],
   "source": [
    "# type: ignore\n",
    "import numpy as np\n",
    "\n",
    "from nanopyx.core.transform.binning import rebin_2d\n",
    "from nanopyx.core.transform.image_shift import *\n",
    "from nanopyx.data.download import ExampleDataManager\n",
    "from nanopyx.core.image.add_random_noise import get_perlin_noise\n",
    "\n",
    "# downloader = ExampleDataManager()\n",
    "# z = downloader.get_ZipTiffIterator('LongContinuous_UtrGFP')\n",
    "# z = downloader.get_ZipTiffIterator('SMLMS2013_HDTubulinAlexa647')\n",
    "\n",
    "# image = z[0]\n",
    "M = 8\n",
    "shiftM_x = 10\n",
    "shiftM_y = 45\n",
    "shift_x = shiftM_x / M\n",
    "shift_y = shiftM_y / M\n",
    "imageM = get_perlin_noise(32*M, 64*M, amp=1000, f=10, octaves=3)\n",
    "imageM_shifted = np.zeros_like(imageM)\n",
    "imageM_shifted[shiftM_y:, shiftM_x:] = imageM[:-shiftM_y, :-shiftM_x]\n",
    "image = rebin_2d(imageM, M, mode=\"mean\")\n",
    "image_shifted_gt = rebin_2d(imageM_shifted, M, mode=\"mean\")\n"
   ]
  },
  {
   "cell_type": "code",
   "execution_count": null,
   "metadata": {},
   "outputs": [],
   "source": [
    "%%prun -s cumulative -q -l 100 -T prun_shift.profile\n",
    "# Profile the run\n",
    "\n",
    "imageNNShift = nearest_neighbor_shift(image, shift_x, shift_y)\n",
    "imageBLShift = bilinear_shift(image, shift_x, shift_y)\n",
    "imageBCShift = bicubic_shift(image, shift_x, shift_y)\n",
    "imageCRShift = catmull_rom_shift(image, shift_x, shift_y)\n",
    "imageLShift = lanczos_shift(image, shift_x, shift_y)\n",
    "imageScipyShift = scipy_shift(image, shift_x, shift_y)\n",
    "imageSkiShift = skimage_shift(image, shift_x, shift_y)\n",
    "imageCVShift = cv2_shift(image, shift_x, shift_y)\n",
    "\n",
    "\n",
    "shifted_images = {\n",
    "    \"nearest-neighbor-shift\": imageNNShift,\n",
    "    \"bilinear-shift\": imageBLShift,\n",
    "    \"bilinear-shift\": imageBLShift,\n",
    "    \"bicubic-shift\": imageBCShift,\n",
    "    \"catmull-rom-shift\": imageCRShift,\n",
    "    \"lanczos-shift\": imageLShift,\n",
    "    \"scipy-shift\": imageScipyShift,\n",
    "    \"skimage-shift\": imageSkiShift,\n",
    "    \"cv2-shift\": imageCVShift\n",
    "}"
   ]
  },
  {
   "cell_type": "code",
   "execution_count": null,
   "metadata": {},
   "outputs": [],
   "source": [
    "import seaborn as sns\n",
    "import matplotlib.pyplot as plt\n",
    "from nanopyx.core.analysis.pearson_correlation import pearson_correlation\n",
    "import numpy as np\n",
    "\n",
    "# Create a figure with 3 subplots arranged in a row\n",
    "fig, axs = plt.subplots(len(shifted_images)+1, 2, figsize=(16, 3*16))\n",
    "sns.heatmap(image, ax=axs[0,0], cmap='inferno', cbar=False, square=True, xticklabels=False, yticklabels=False)\n",
    "sns.heatmap(image_shifted_gt, ax=axs[0,1], cmap='inferno', cbar=False, square=True, xticklabels=False, yticklabels=False)\n",
    "axs[0,0].set_title(\"orginal\")\n",
    "axs[0,1].set_title(f\"shifted dx={shift_x} dy={shift_y}\")\n",
    "\n",
    "for i, id in enumerate(shifted_images):\n",
    "    shifted_image = shifted_images[id]\n",
    "    error = image_shifted_gt-shifted_image\n",
    "    rmse = round((error**2).mean()**0.5)\n",
    "    pc = pearson_correlation(image, shifted_image)\n",
    "    sns.heatmap(shifted_image, ax=axs[i+1,0], cmap='inferno', cbar=False, square=True, xticklabels=False, yticklabels=False)\n",
    "    sns.heatmap(error, ax=axs[i+1,1], cmap='inferno', cbar=False, square=True, xticklabels=False, yticklabels=False)\n",
    "    axs[i+1,0].set_title(f\"{id}\")\n",
    "    axs[i+1,1].set_title(f\"{id}-error\")\n",
    "    axs[i+1,1].set_xlabel(f\"RMSE={rmse} PC={round(pc, 2)} MaxError={round(np.max(error))}\")\n",
    "\n",
    "# Show the figure\n",
    "plt.show()\n"
   ]
  }
 ],
 "metadata": {
  "kernelspec": {
   "display_name": ".venv",
   "language": "python",
   "name": "python3"
  },
  "language_info": {
   "codemirror_mode": {
    "name": "ipython",
    "version": 3
   },
   "file_extension": ".py",
   "mimetype": "text/x-python",
   "name": "python",
   "nbconvert_exporter": "python",
   "pygments_lexer": "ipython3",
   "version": "3.10.9 (main, Dec 15 2022, 18:18:30) [Clang 14.0.0 (clang-1400.0.29.202)]"
  },
  "vscode": {
   "interpreter": {
    "hash": "ff43d62f8f6c4527fe53ff203f9f4b76bff05577ec2443f113edf97841413ea1"
   }
  }
 },
 "nbformat": 4,
 "nbformat_minor": 4
}
