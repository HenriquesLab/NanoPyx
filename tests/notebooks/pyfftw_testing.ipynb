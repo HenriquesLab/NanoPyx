{
 "cells": [
  {
   "cell_type": "code",
   "execution_count": 10,
   "metadata": {},
   "outputs": [],
   "source": [
    "import pyfftw\n",
    "import numpy\n",
    "\n",
    "import multiprocessing\n",
    "\n",
    "pyfftw.interfaces.cache.enable()\n",
    "pyfftw.config.NUM_THREADS = multiprocessing.cpu_count()\n",
    "pyfftw.config.PLANNER_EFFORT = 'FFTW_ESTIMATE'\n"
   ]
  },
  {
   "cell_type": "code",
   "execution_count": 11,
   "metadata": {},
   "outputs": [
    {
     "name": "stdout",
     "output_type": "stream",
     "text": [
      "True\n"
     ]
    }
   ],
   "source": [
    "a = pyfftw.empty_aligned(2^20, dtype='complex128', n=16)\n",
    "a[:] = numpy.random.randn(2^20) + 1j*numpy.random.randn(2^20)\n",
    "\n",
    "b = pyfftw.interfaces.numpy_fft.fft(a)\n",
    "c = numpy.fft.fft(a)\n",
    "print(numpy.allclose(b, c))"
   ]
  },
  {
   "cell_type": "code",
   "execution_count": 12,
   "metadata": {},
   "outputs": [
    {
     "name": "stdout",
     "output_type": "stream",
     "text": [
      "1.17 µs ± 3.97 ns per loop (mean ± std. dev. of 7 runs, 1,000,000 loops each)\n"
     ]
    }
   ],
   "source": [
    "%timeit numpy.fft.fft(a)"
   ]
  },
  {
   "cell_type": "code",
   "execution_count": 13,
   "metadata": {},
   "outputs": [
    {
     "name": "stdout",
     "output_type": "stream",
     "text": [
      "18.6 µs ± 115 ns per loop (mean ± std. dev. of 7 runs, 100,000 loops each)\n"
     ]
    }
   ],
   "source": [
    "%timeit pyfftw.interfaces.numpy_fft.fft(a)"
   ]
  },
  {
   "cell_type": "code",
   "execution_count": 14,
   "metadata": {},
   "outputs": [
    {
     "name": "stdout",
     "output_type": "stream",
     "text": [
      "18.7 µs ± 309 ns per loop (mean ± std. dev. of 7 runs, 100,000 loops each)\n"
     ]
    }
   ],
   "source": [
    "%timeit pyfftw.interfaces.numpy_fft.fft(a)"
   ]
  },
  {
   "cell_type": "code",
   "execution_count": 15,
   "metadata": {},
   "outputs": [
    {
     "name": "stdout",
     "output_type": "stream",
     "text": [
      "True\n"
     ]
    }
   ],
   "source": [
    "fft_object = pyfftw.builders.fft(a)\n",
    "\n",
    "print(numpy.allclose(fft_object(), c))"
   ]
  },
  {
   "cell_type": "code",
   "execution_count": 16,
   "metadata": {},
   "outputs": [
    {
     "name": "stdout",
     "output_type": "stream",
     "text": [
      "11.9 µs ± 134 ns per loop (mean ± std. dev. of 7 runs, 100,000 loops each)\n"
     ]
    }
   ],
   "source": [
    "%timeit fft_object()"
   ]
  },
  {
   "cell_type": "code",
   "execution_count": 17,
   "metadata": {},
   "outputs": [
    {
     "name": "stdout",
     "output_type": "stream",
     "text": [
      "True\n"
     ]
    }
   ],
   "source": [
    "a = pyfftw.empty_aligned((512,512), dtype='complex128')\n",
    "ar, ai = numpy.random.randn(2, 512, 512)\n",
    "a[:] = ar + 1j*ai\n",
    "\n",
    "fft_object = pyfftw.builders.fftn(a)\n",
    "\n",
    "print(numpy.allclose(numpy.fft.fft2(a),fft_object()))\n"
   ]
  },
  {
   "cell_type": "code",
   "execution_count": 18,
   "metadata": {},
   "outputs": [
    {
     "name": "stdout",
     "output_type": "stream",
     "text": [
      "997 µs ± 12.8 µs per loop (mean ± std. dev. of 7 runs, 1,000 loops each)\n"
     ]
    }
   ],
   "source": [
    "%timeit fft_object()"
   ]
  },
  {
   "cell_type": "code",
   "execution_count": 19,
   "metadata": {},
   "outputs": [
    {
     "name": "stdout",
     "output_type": "stream",
     "text": [
      "2.7 ms ± 76.7 µs per loop (mean ± std. dev. of 7 runs, 100 loops each)\n"
     ]
    }
   ],
   "source": [
    "%timeit numpy.fft.fft2(a)"
   ]
  }
 ],
 "metadata": {
  "kernelspec": {
   "display_name": "testfftw",
   "language": "python",
   "name": "python3"
  },
  "language_info": {
   "codemirror_mode": {
    "name": "ipython",
    "version": 3
   },
   "file_extension": ".py",
   "mimetype": "text/x-python",
   "name": "python",
   "nbconvert_exporter": "python",
   "pygments_lexer": "ipython3",
   "version": "3.10.9"
  },
  "orig_nbformat": 4,
  "vscode": {
   "interpreter": {
    "hash": "5aaaa8a97fd80af9d6917a6173e84d64f807a5a6d15b9f2412cdc9baff6f56c2"
   }
  }
 },
 "nbformat": 4,
 "nbformat_minor": 2
}
