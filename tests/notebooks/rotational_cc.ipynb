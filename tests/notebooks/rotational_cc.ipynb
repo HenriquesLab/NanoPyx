{
 "cells": [
  {
   "cell_type": "code",
   "execution_count": null,
   "metadata": {},
   "outputs": [],
   "source": [
    "from nanopyx.core.transform.interpolation import catmull_rom\n",
    "from nanopyx.core.analysis.ccm.rotational_cross_correlation import calculate_rotation_shift, calculate_rotation_polar\n",
    "\n",
    "import numpy as np\n",
    "from matplotlib import pyplot as plt\n",
    "\n",
    "from skimage.draw import rectangle "
   ]
  },
  {
   "cell_type": "code",
   "execution_count": null,
   "metadata": {},
   "outputs": [],
   "source": [
    "image = np.zeros((512, 512), dtype=np.float32)\n",
    "rr, cc = rectangle((256-20, 256-20), extent=(40,40), shape=image.shape)\n",
    "image[rr,cc] = 10\n",
    "\n",
    "image_2 = catmull_rom.Interpolator(image).rotate(180)\n",
    "\n",
    "fig, axs = plt.subplots(1, 2)\n",
    "axs[0].imshow(image)\n",
    "axs[1].imshow(image_2)\n",
    "plt.show()"
   ]
  },
  {
   "cell_type": "code",
   "execution_count": null,
   "metadata": {},
   "outputs": [],
   "source": [
    "dy, dx, dtheta, sim = calculate_rotation_shift(image_2, image)\n",
    "theta, r, sim_p = calculate_rotation_shift_polar(image_2, image)"
   ]
  },
  {
   "cell_type": "code",
   "execution_count": null,
   "metadata": {},
   "outputs": [],
   "source": [
    "print(dy, dx, dtheta)\n",
    "print(theta, r)\n"
   ]
  },
  {
   "cell_type": "code",
   "execution_count": null,
   "metadata": {},
   "outputs": [],
   "source": [
    "rotated = catmull_rom.Interpolator(image_2).rotate(dtheta)\n",
    "rotated_and_shifted = catmull_rom.Interpolator(rotated).shift(dx,dy)\n",
    "\n",
    "plt.close('all')\n",
    "fig, axs = plt.subplots(1,4, figsize=(16,9))\n",
    "axs[0].imshow(image_2)\n",
    "axs[0].axis('off')\n",
    "\n",
    "axs[1].imshow(rotated)\n",
    "axs[1].axis('off')\n",
    "\n",
    "axs[2].imshow(rotated_and_shifted)\n",
    "axs[2].axis('off')\n",
    "\n",
    "axs[3].imshow(np.sqrt((image-rotated_and_shifted)**2))\n",
    "axs[3].axis('off')\n",
    "\n",
    "plt.show()"
   ]
  }
 ],
 "metadata": {
  "kernelspec": {
   "display_name": "nanopyx",
   "language": "python",
   "name": "python3"
  },
  "language_info": {
   "codemirror_mode": {
    "name": "ipython",
    "version": 3
   },
   "file_extension": ".py",
   "mimetype": "text/x-python",
   "name": "python",
   "nbconvert_exporter": "python",
   "pygments_lexer": "ipython3",
   "version": "3.10.9"
  },
  "orig_nbformat": 4,
  "vscode": {
   "interpreter": {
    "hash": "7603a37bd9dfed82c1c43d2e0a103f66c5b5a86e3543acd1be82d9c441c0be6e"
   }
  }
 },
 "nbformat": 4,
 "nbformat_minor": 2
}
