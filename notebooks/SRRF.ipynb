{
 "cells": [
  {
   "cell_type": "code",
   "execution_count": null,
   "metadata": {},
   "outputs": [],
   "source": [
    "import ipywidgets as widgets\n",
    "from IPython.display import display\n",
    "\n",
    "\n",
    "layout = widgets.Layout(width='50%')\n",
    "style = {'description_width': 'initial'}\n",
    "\n",
    "data_source_options = ['Upload file...', 'Local file...', 'Example: SMLMS2013_HDTubulinAlexa647']\n",
    "w = {\n",
    "    \"data_source\": widgets.Dropdown(options=data_source_options, \n",
    "        value=data_source_options[0], description='Data source:', layout=layout, style=style),\n",
    "    \"data_source_action\": widgets.Button(description=\"Set data!\"), \n",
    "    \"ring_radius\": widgets.FloatSlider(value=0.5, min=0.1, max=3.0, description='Ring Radius:', layout=layout, style=style),\n",
    "    \"magnification\": widgets.IntSlider(value=4, min=1, max=10, description='Magnification:', layout=layout, style=style),\n",
    "    \"do_drift_correction\": widgets.Checkbox(value=False, description='Do drift correction', layout=layout),\n",
    "    \"m1\": widgets.Label(\"-=-= Time-Lapse =-=-\"),\n",
    "    \"frames_per_timepoint\": widgets.IntText(value=0, description='Frames per time-point (0 - auto)', style=style),\n",
    "    \"m2\": widgets.Label(\"-=-= Crop Data =-=-\"),\n",
    "    \"start_frame\": widgets.IntText(value=0, description='Start analysis on frame (0 - auto)', style=style),\n",
    "    \"end_frame\": widgets.IntText(value=0, description='End analysis on frame (0 - auto)', style=style),\n",
    "}\n",
    "\n",
    "\n",
    "def on_file_upload(change):\n",
    "    # Handle the uploaded file here\n",
    "    print(change)\n",
    "\n",
    "def data_source_action(b):\n",
    "    print(w['data_source'].value)\n",
    "    if w['data_source'].value == 'Upload file...':\n",
    "        # make the jupyter notebook display a file upload dialog\n",
    "        fu = widgets.FileUpload(accept='image/*', multiple=False)\n",
    "        fu.observe(on_file_upload, names='value') \n",
    "        display(fu)\n",
    "\n",
    "w['data_source_action'].on_click(data_source_action)\n",
    "\n",
    "display(*w.values())\n"
   ]
  },
  {
   "cell_type": "code",
   "execution_count": null,
   "metadata": {},
   "outputs": [],
   "source": [
    "print(w['frames_per_timepoint'].value)"
   ]
  }
 ],
 "metadata": {
  "kernelspec": {
   "display_name": "Python 3 (ipykernel)",
   "language": "python",
   "name": "python3"
  },
  "language_info": {
   "codemirror_mode": {
    "name": "ipython",
    "version": 3
   },
   "file_extension": ".py",
   "mimetype": "text/x-python",
   "name": "python",
   "nbconvert_exporter": "python",
   "pygments_lexer": "ipython3",
   "version": "3.10.9"
  },
  "vscode": {
   "interpreter": {
    "hash": "ff43d62f8f6c4527fe53ff203f9f4b76bff05577ec2443f113edf97841413ea1"
   }
  }
 },
 "nbformat": 4,
 "nbformat_minor": 4
}
