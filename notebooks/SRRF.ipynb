{
 "cells": [
  {
   "cell_type": "code",
   "execution_count": 2,
   "metadata": {},
   "outputs": [
    {
     "data": {
      "application/vnd.jupyter.widget-view+json": {
       "model_id": "c4154bf971774e15a6134c58c0585c1e",
       "version_major": 2,
       "version_minor": 0
      },
      "text/plain": [
       "Dropdown(description='Data source:', layout=Layout(width='50%'), options=('Upload file...', 'Local file...', '…"
      ]
     },
     "metadata": {},
     "output_type": "display_data"
    },
    {
     "data": {
      "application/vnd.jupyter.widget-view+json": {
       "model_id": "28dc095f494c4a128f55d12e6ade17a4",
       "version_major": 2,
       "version_minor": 0
      },
      "text/plain": [
       "Button(description='Set data!', style=ButtonStyle())"
      ]
     },
     "metadata": {},
     "output_type": "display_data"
    },
    {
     "data": {
      "application/vnd.jupyter.widget-view+json": {
       "model_id": "ca9c9745e24b459a8b18a485ad8d2ac0",
       "version_major": 2,
       "version_minor": 0
      },
      "text/plain": [
       "FloatSlider(value=0.5, description='Ring Radius:', layout=Layout(width='50%'), max=3.0, min=0.1, style=SliderS…"
      ]
     },
     "metadata": {},
     "output_type": "display_data"
    },
    {
     "data": {
      "application/vnd.jupyter.widget-view+json": {
       "model_id": "71b569505da94fb7a12992cf2ba8696a",
       "version_major": 2,
       "version_minor": 0
      },
      "text/plain": [
       "IntSlider(value=4, description='Magnification:', layout=Layout(width='50%'), max=10, min=1, style=SliderStyle(…"
      ]
     },
     "metadata": {},
     "output_type": "display_data"
    },
    {
     "data": {
      "application/vnd.jupyter.widget-view+json": {
       "model_id": "9d1c20ee2c1a41a3b21d0e205278d1c5",
       "version_major": 2,
       "version_minor": 0
      },
      "text/plain": [
       "Checkbox(value=False, description='Do drift correction', layout=Layout(width='50%'))"
      ]
     },
     "metadata": {},
     "output_type": "display_data"
    },
    {
     "data": {
      "application/vnd.jupyter.widget-view+json": {
       "model_id": "c82034a9175440abac513cb388ea8656",
       "version_major": 2,
       "version_minor": 0
      },
      "text/plain": [
       "Label(value='-=-= Time-Lapse =-=-')"
      ]
     },
     "metadata": {},
     "output_type": "display_data"
    },
    {
     "data": {
      "application/vnd.jupyter.widget-view+json": {
       "model_id": "97614ab83ee94c64bda8b948b1cc9ad9",
       "version_major": 2,
       "version_minor": 0
      },
      "text/plain": [
       "IntText(value=0, description='Frames per time-point (0 - auto)', style=DescriptionStyle(description_width='ini…"
      ]
     },
     "metadata": {},
     "output_type": "display_data"
    },
    {
     "data": {
      "application/vnd.jupyter.widget-view+json": {
       "model_id": "4d439d6dbfd543b983a1ffec7e960f24",
       "version_major": 2,
       "version_minor": 0
      },
      "text/plain": [
       "Label(value='-=-= Crop Data =-=-')"
      ]
     },
     "metadata": {},
     "output_type": "display_data"
    },
    {
     "data": {
      "application/vnd.jupyter.widget-view+json": {
       "model_id": "5d693894ddd042f6bac2bd876d1a2884",
       "version_major": 2,
       "version_minor": 0
      },
      "text/plain": [
       "IntText(value=0, description='Start analysis on frame (0 - auto)', style=DescriptionStyle(description_width='i…"
      ]
     },
     "metadata": {},
     "output_type": "display_data"
    },
    {
     "data": {
      "application/vnd.jupyter.widget-view+json": {
       "model_id": "ba74d5cf05ba4c148df86243b924e86f",
       "version_major": 2,
       "version_minor": 0
      },
      "text/plain": [
       "IntText(value=0, description='End analysis on frame (0 - auto)', style=DescriptionStyle(description_width='ini…"
      ]
     },
     "metadata": {},
     "output_type": "display_data"
    }
   ],
   "source": [
    "import ipywidgets as widgets\n",
    "from IPython.display import display\n",
    "\n",
    "\n",
    "layout = widgets.Layout(width='50%')\n",
    "style = {'description_width': 'initial'}\n",
    "\n",
    "data_source_options = ['Upload file...', 'Local file...', 'Example: SMLMS2013_HDTubulinAlexa647']\n",
    "w = {\n",
    "    \"data_source\": widgets.Dropdown(options=data_source_options, \n",
    "        value=data_source_options[0], description='Data source:', layout=layout, style=style),\n",
    "    \"data_source_action\": widgets.Button(description=\"Set data!\"), \n",
    "    \"ring_radius\": widgets.FloatSlider(value=0.5, min=0.1, max=3.0, description='Ring Radius:', layout=layout, style=style),\n",
    "    \"magnification\": widgets.IntSlider(value=4, min=1, max=10, description='Magnification:', layout=layout, style=style),\n",
    "    \"do_drift_correction\": widgets.Checkbox(value=False, description='Do drift correction', layout=layout),\n",
    "    \"m1\": widgets.Label(\"-=-= Time-Lapse =-=-\"),\n",
    "    \"frames_per_timepoint\": widgets.IntText(value=0, description='Frames per time-point (0 - auto)', style=style),\n",
    "    \"m2\": widgets.Label(\"-=-= Crop Data =-=-\"),\n",
    "    \"start_frame\": widgets.IntText(value=0, description='Start analysis on frame (0 - auto)', style=style),\n",
    "    \"end_frame\": widgets.IntText(value=0, description='End analysis on frame (0 - auto)', style=style),\n",
    "}\n",
    "\n",
    "\n",
    "def on_file_upload(change):\n",
    "    # Handle the uploaded file here\n",
    "    print(change)\n",
    "\n",
    "def data_source_action(b):\n",
    "    print(w['data_source'].value)\n",
    "    if w['data_source'].value == 'Upload file...':\n",
    "        # make the jupyter notebook display a file upload dialog\n",
    "        fu = widgets.FileUpload(accept='image/*', multiple=False)\n",
    "        fu.observe(on_file_upload, names='value') \n",
    "        display(fu)\n",
    "\n",
    "w['data_source_action'].on_click(data_source_action)\n",
    "\n",
    "display(*w.values())\n"
   ]
  },
  {
   "cell_type": "code",
   "execution_count": 8,
   "metadata": {},
   "outputs": [
    {
     "name": "stdout",
     "output_type": "stream",
     "text": [
      "{'ip': '88.157.205.58', 'hostname': 'a88-157-205-58.static.cpe.netcabo.pt', 'city': 'Lisbon', 'region': 'Lisbon', 'country': 'PT', 'loc': '38.7167,-9.1333', 'org': 'AS2860 NOS COMUNICACOES, S.A.', 'postal': '1000-001', 'timezone': 'Europe/Lisbon', 'readme': 'https://ipinfo.io/missingauth'}\n"
     ]
    },
    {
     "data": {
      "text/plain": [
       "{'id': 109716021811657167,\n",
       " 'created_at': datetime.datetime(2023, 1, 19, 13, 7, 13, 600000, tzinfo=tzutc()),\n",
       " 'in_reply_to_id': None,\n",
       " 'in_reply_to_account_id': None,\n",
       " 'sensitive': False,\n",
       " 'spoiler_text': '',\n",
       " 'visibility': 'public',\n",
       " 'language': 'en',\n",
       " 'uri': 'https://botsin.space/users/nanopyx/statuses/109716021811657167',\n",
       " 'url': 'https://botsin.space/@nanopyx/109716021811657167',\n",
       " 'replies_count': 0,\n",
       " 'reblogs_count': 0,\n",
       " 'favourites_count': 0,\n",
       " 'edited_at': None,\n",
       " 'favourited': False,\n",
       " 'reblogged': False,\n",
       " 'muted': False,\n",
       " 'bookmarked': False,\n",
       " 'pinned': False,\n",
       " 'content': '<p>[Lisbon:PT]: Hello world!</p>',\n",
       " 'filtered': [],\n",
       " 'reblog': None,\n",
       " 'application': {'name': 'nanopyx', 'website': None},\n",
       " 'account': {'id': 109715292082810143,\n",
       "  'username': 'nanopyx',\n",
       "  'acct': 'nanopyx',\n",
       "  'display_name': 'NanoPyx',\n",
       "  'locked': False,\n",
       "  'bot': False,\n",
       "  'discoverable': None,\n",
       "  'group': False,\n",
       "  'created_at': datetime.datetime(2023, 1, 19, 0, 0, tzinfo=tzutc()),\n",
       "  'note': '',\n",
       "  'url': 'https://botsin.space/@nanopyx',\n",
       "  'avatar': 'https://botsin.space/avatars/original/missing.png',\n",
       "  'avatar_static': 'https://botsin.space/avatars/original/missing.png',\n",
       "  'header': 'https://botsin.space/headers/original/missing.png',\n",
       "  'header_static': 'https://botsin.space/headers/original/missing.png',\n",
       "  'followers_count': 0,\n",
       "  'following_count': 0,\n",
       "  'statuses_count': 4,\n",
       "  'last_status_at': datetime.datetime(2023, 1, 19, 0, 0),\n",
       "  'noindex': True,\n",
       "  'emojis': [],\n",
       "  'fields': []},\n",
       " 'media_attachments': [],\n",
       " 'mentions': [],\n",
       " 'tags': [],\n",
       " 'emojis': [],\n",
       " 'card': None,\n",
       " 'poll': None}"
      ]
     },
     "execution_count": 8,
     "metadata": {},
     "output_type": "execute_result"
    }
   ],
   "source": [
    "from mastodon import Mastodon\n",
    "\n",
    "import requests\n",
    "r = requests.get('https://ipinfo.io')\n",
    "data = r.json()\n",
    "msg = f\"[{data['city']}:{data['country']}]: Hello world!\"\n",
    "\n",
    "#   Set up Mastodon\n",
    "mastodon = Mastodon(\n",
    "    access_token = 'qdFtF6ODx-z4w9O-GIu5iYUyddieCZeAUWXgyQ2scpE',\n",
    "    api_base_url = 'https://botsin.space/'\n",
    ")\n",
    "\n",
    "mastodon.status_post(msg)\n",
    "\n"
   ]
  },
  {
   "cell_type": "code",
   "execution_count": 5,
   "metadata": {},
   "outputs": [
    {
     "name": "stdout",
     "output_type": "stream",
     "text": [
      "{'ip': '88.157.205.58', 'hostname': 'a88-157-205-58.static.cpe.netcabo.pt', 'city': 'Lisbon', 'region': 'Lisbon', 'country': 'PT', 'loc': '38.7167,-9.1333', 'org': 'AS2860 NOS COMUNICACOES, S.A.', 'postal': '1000-001', 'timezone': 'Europe/Lisbon', 'readme': 'https://ipinfo.io/missingauth'}\n",
      "ip 88.157.205.58\n",
      "hostname a88-157-205-58.static.cpe.netcabo.pt\n",
      "city Lisbon\n",
      "region Lisbon\n",
      "country PT\n",
      "loc 38.7167,-9.1333\n",
      "org AS2860 NOS COMUNICACOES, S.A.\n",
      "postal 1000-001\n",
      "timezone Europe/Lisbon\n",
      "readme https://ipinfo.io/missingauth\n"
     ]
    }
   ],
   "source": [
    "# get my ip, country, city and isp\n",
    "import requests\n",
    "r = requests.get('https://ipinfo.io')\n",
    "data = r.json()\n",
    "print(data)\n",
    "\n",
    "for key in data:\n",
    "    print(key, data[key])\n",
    "\n"
   ]
  },
  {
   "cell_type": "code",
   "execution_count": 3,
   "metadata": {},
   "outputs": [
    {
     "name": "stdout",
     "output_type": "stream",
     "text": [
      "0\n"
     ]
    }
   ],
   "source": [
    "print(w['frames_per_timepoint'].value)"
   ]
  }
 ],
 "metadata": {
  "kernelspec": {
   "display_name": "Python 3 (ipykernel)",
   "language": "python",
   "name": "python3"
  },
  "language_info": {
   "codemirror_mode": {
    "name": "ipython",
    "version": 3
   },
   "file_extension": ".py",
   "mimetype": "text/x-python",
   "name": "python",
   "nbconvert_exporter": "python",
   "pygments_lexer": "ipython3",
   "version": "3.10.9"
  },
  "vscode": {
   "interpreter": {
    "hash": "ff43d62f8f6c4527fe53ff203f9f4b76bff05577ec2443f113edf97841413ea1"
   }
  }
 },
 "nbformat": 4,
 "nbformat_minor": 4
}
