{
 "cells": [
  {
   "cell_type": "markdown",
   "metadata": {},
   "source": [
    "# NanoPyx-SRRF\n",
    "A python reimplementation of the original [NanoJ-SRRF](https://github.com/HenriquesLab/NanoJ-SRRF) algorithm"
   ]
  },
  {
   "cell_type": "code",
   "execution_count": 1,
   "metadata": {
    "tags": []
   },
   "outputs": [
    {
     "data": {
      "application/vnd.jupyter.widget-view+json": {
       "model_id": "7ddaedb09b6a4867ad5e7a29a2ed367d",
       "version_major": 2,
       "version_minor": 0
      },
      "text/plain": [
       "Label(value='Select data to use:', layout=Layout(width='50%'), style=LabelStyle(description_width='initial'))"
      ]
     },
     "metadata": {},
     "output_type": "display_data"
    },
    {
     "data": {
      "application/vnd.jupyter.widget-view+json": {
       "model_id": "ef8482bdb7e24eba911df5e148267fe9",
       "version_major": 2,
       "version_minor": 0
      },
      "text/plain": [
       "Dropdown(index=4, layout=Layout(width='50%'), options=('Example dataset: EMBL_TubulinGFP', 'Example dataset: I…"
      ]
     },
     "metadata": {},
     "output_type": "display_data"
    },
    {
     "data": {
      "application/vnd.jupyter.widget-view+json": {
       "model_id": "8c56ac23197e48df96bd2729df4e523e",
       "version_major": 2,
       "version_minor": 0
      },
      "text/plain": [
       "Button(description='Load data', layout=Layout(width='50%'), style=ButtonStyle())"
      ]
     },
     "metadata": {},
     "output_type": "display_data"
    }
   ],
   "source": [
    "# Load the dataset to analyse\n",
    "\n",
    "import os\n",
    "\n",
    "import ipywidgets as widgets\n",
    "import skimage\n",
    "import stackview\n",
    "from IPython.display import display\n",
    "\n",
    "from nanopyx.core.utils.easy_gui import EasyGui\n",
    "from nanopyx.core.utils.find_files import find_files\n",
    "from nanopyx.data.download import ExampleDataManager\n",
    "\n",
    "cwd = os.getcwd()\n",
    "image_folder = \"datasets\"\n",
    "image_files = []\n",
    "EDM = ExampleDataManager()\n",
    "example_datasets = EDM.list_datasets()\n",
    "\n",
    "_path = os.path.join(\"..\", image_folder)\n",
    "if os.path.exists(_path):\n",
    "    image_files += find_files(_path, \".tif\")\n",
    "if os.path.exists(image_folder):\n",
    "    image_files += find_files(image_folder, \".tif\")\n",
    "image_files += [\"Example dataset: \"+dataset for dataset in example_datasets]\n",
    "\n",
    "# Create a GUI\n",
    "gui = EasyGui(\"srrf\")\n",
    "\n",
    "def on_button_load_data_clicked(b):\n",
    "    global dataset_original\n",
    "    if gui[\"data_source\"].value.startswith(\"Example dataset: \"):\n",
    "        dataset_name = gui[\"data_source\"].value.replace(\n",
    "            \"Example dataset: \", \"\")\n",
    "        dataset_original = EDM.get_ZipTiffIterator(dataset_name, as_ndarray=True)\n",
    "    else:\n",
    "        dataset_original = skimage.io.imread(gui[\"data_source\"].value)\n",
    "\n",
    "gui.add_label(\"Select data to use:\")\n",
    "gui.add_dropdown(\"data_source\", options=image_files,\n",
    "                 value=\"Example dataset: \"+example_datasets[4])\n",
    "gui.add_button(\"load_data\", description=\"Load data\")\n",
    "gui[\"load_data\"].on_click(on_button_load_data_clicked)\n",
    "gui.show()"
   ]
  },
  {
   "cell_type": "code",
   "execution_count": 2,
   "metadata": {},
   "outputs": [
    {
     "data": {
      "application/vnd.jupyter.widget-view+json": {
       "model_id": "8b28b1561c224350a7c04d6c75bfea64",
       "version_major": 2,
       "version_minor": 0
      },
      "text/plain": [
       "IntSlider(value=0, description='Frame start:', layout=Layout(width='50%'), max=499, style=SliderStyle(descript…"
      ]
     },
     "metadata": {},
     "output_type": "display_data"
    },
    {
     "data": {
      "application/vnd.jupyter.widget-view+json": {
       "model_id": "dfc5808b20ad48c4b9742a1de80f91d1",
       "version_major": 2,
       "version_minor": 0
      },
      "text/plain": [
       "IntSlider(value=499, description='Frame stop:', layout=Layout(width='50%'), max=499, style=SliderStyle(descrip…"
      ]
     },
     "metadata": {},
     "output_type": "display_data"
    },
    {
     "data": {
      "application/vnd.jupyter.widget-view+json": {
       "model_id": "8a35f1ed7a644d039e5ce50215fa47d2",
       "version_major": 2,
       "version_minor": 0
      },
      "text/plain": [
       "IntSlider(value=0, description='X start:', layout=Layout(width='50%'), max=128, style=SliderStyle(description_…"
      ]
     },
     "metadata": {},
     "output_type": "display_data"
    },
    {
     "data": {
      "application/vnd.jupyter.widget-view+json": {
       "model_id": "1e9ce23ff1834bd09fc0696067ee1cab",
       "version_major": 2,
       "version_minor": 0
      },
      "text/plain": [
       "IntSlider(value=127, description='X stop:', layout=Layout(width='50%'), max=128, style=SliderStyle(description…"
      ]
     },
     "metadata": {},
     "output_type": "display_data"
    },
    {
     "data": {
      "application/vnd.jupyter.widget-view+json": {
       "model_id": "84695ab61e464bd78314b858ada9f88c",
       "version_major": 2,
       "version_minor": 0
      },
      "text/plain": [
       "IntSlider(value=0, description='Y start:', layout=Layout(width='50%'), max=128, style=SliderStyle(description_…"
      ]
     },
     "metadata": {},
     "output_type": "display_data"
    },
    {
     "data": {
      "application/vnd.jupyter.widget-view+json": {
       "model_id": "d0dba1ff08384786899f099b0fbb5f7d",
       "version_major": 2,
       "version_minor": 0
      },
      "text/plain": [
       "IntSlider(value=127, description='Y stop:', layout=Layout(width='50%'), max=128, style=SliderStyle(description…"
      ]
     },
     "metadata": {},
     "output_type": "display_data"
    },
    {
     "data": {
      "application/vnd.jupyter.widget-view+json": {
       "model_id": "fcacafe90e3d436898273fcae460bfc5",
       "version_major": 2,
       "version_minor": 0
      },
      "text/plain": [
       "Button(description='Crop', layout=Layout(width='50%'), style=ButtonStyle())"
      ]
     },
     "metadata": {},
     "output_type": "display_data"
    }
   ],
   "source": [
    "# Crop the dataset\n",
    "\n",
    "nFrames = dataset_original.shape[0]\n",
    "h = dataset_original.shape[1]\n",
    "w = dataset_original.shape[2]\n",
    "\n",
    "dataset = dataset_original\n",
    "\n",
    "def on_button_crop_clicked(b):\n",
    "    f_start = gui[\"f_start\"].value\n",
    "    f_stop = gui[\"f_stop\"].value\n",
    "    x_start = gui[\"x_start\"].value\n",
    "    x_stop = gui[\"x_stop\"].value\n",
    "    y_start = gui[\"y_start\"].value\n",
    "    y_stop = gui[\"y_stop\"].value\n",
    "    assert f_start < f_stop\n",
    "    assert x_start < x_stop\n",
    "    assert y_start < y_stop\n",
    "\n",
    "    global dataset\n",
    "    dataset = dataset_original[\n",
    "        f_start:f_stop+1,\n",
    "        y_start:y_stop+1,\n",
    "        x_start:x_stop+1\n",
    "    ]\n",
    "\n",
    "gui = EasyGui(\"srrf\")\n",
    "gui.add_int_slider(\"x_start\", description=\"X start:\", min=0, max=w, value=0)\n",
    "gui.add_int_slider(\"x_stop\", description=\"X stop:\", min=0, max=w, value=w-1)\n",
    "gui.add_int_slider(\"y_start\", description=\"Y start:\", min=0, max=h, value=0)\n",
    "gui.add_int_slider(\"y_stop\", description=\"Y stop:\", min=0, max=h, value=h-1)\n",
    "gui.add_int_slider(\"f_start\", description=\"Frame start:\", min=0, max=nFrames-1, value=0)\n",
    "gui.add_int_slider(\"f_stop\", description=\"Frame stop:\", min=0, max=nFrames-1, value=nFrames-1)\n",
    "gui.add_button(\"crop\", description=\"Crop\")\n",
    "gui[\"crop\"].on_click(on_button_crop_clicked)\n",
    "gui.show()\n",
    "\n"
   ]
  },
  {
   "cell_type": "code",
   "execution_count": 3,
   "metadata": {
    "tags": []
   },
   "outputs": [
    {
     "data": {
      "application/vnd.jupyter.widget-view+json": {
       "model_id": "46e7c8280d7a4cc28f8f257a09683875",
       "version_major": 2,
       "version_minor": 0
      },
      "text/plain": [
       "VBox(children=(HBox(children=(VBox(children=(ImageWidget(height=256, width=256),)),)), IntSlider(value=250, de…"
      ]
     },
     "execution_count": 3,
     "metadata": {},
     "output_type": "execute_result"
    }
   ],
   "source": [
    "stackview.slice(dataset, continuous_update=True, zoom_factor=2, zoom_spline_order=0)"
   ]
  },
  {
   "cell_type": "code",
   "execution_count": 4,
   "metadata": {
    "tags": []
   },
   "outputs": [
    {
     "data": {
      "application/vnd.jupyter.widget-view+json": {
       "model_id": "0b1c3c6d00bc413b9a6a1bb2e4d2561e",
       "version_major": 2,
       "version_minor": 0
      },
      "text/plain": [
       "FloatSlider(value=0.5, description='Ring Radius:', layout=Layout(width='50%'), max=3.0, min=0.1, style=SliderS…"
      ]
     },
     "metadata": {},
     "output_type": "display_data"
    },
    {
     "data": {
      "application/vnd.jupyter.widget-view+json": {
       "model_id": "be3641e56a5e4578a8a94fc46efcc71c",
       "version_major": 2,
       "version_minor": 0
      },
      "text/plain": [
       "IntSlider(value=4, description='Magnification:', layout=Layout(width='50%'), max=10, min=1, style=SliderStyle(…"
      ]
     },
     "metadata": {},
     "output_type": "display_data"
    },
    {
     "data": {
      "application/vnd.jupyter.widget-view+json": {
       "model_id": "b313a290a3ca46ffa84c6e9190ea1666",
       "version_major": 2,
       "version_minor": 0
      },
      "text/plain": [
       "Checkbox(value=False, description='Do drift correction', layout=Layout(width='50%'), style=CheckboxStyle(descr…"
      ]
     },
     "metadata": {},
     "output_type": "display_data"
    },
    {
     "data": {
      "application/vnd.jupyter.widget-view+json": {
       "model_id": "1ed9aa18391e470ab8f019cd3ff85953",
       "version_major": 2,
       "version_minor": 0
      },
      "text/plain": [
       "Label(value='-=-= Time-Lapse =-=-', layout=Layout(width='50%'), style=LabelStyle(description_width='initial'))"
      ]
     },
     "metadata": {},
     "output_type": "display_data"
    },
    {
     "data": {
      "application/vnd.jupyter.widget-view+json": {
       "model_id": "8d0832889ff44495ae6655eb8bedaad8",
       "version_major": 2,
       "version_minor": 0
      },
      "text/plain": [
       "IntText(value=0, description='Frames per time-point (0 - auto)', layout=Layout(width='50%'), style=Description…"
      ]
     },
     "metadata": {},
     "output_type": "display_data"
    }
   ],
   "source": [
    "\n",
    "gui = EasyGui(\"srrf\")\n",
    "gui.add_float_slider(\"ring_radius\", description=\"Ring Radius:\", min=0.1, max=3.0, value=0.5, remember_value=True)\n",
    "gui.add_int_slider(\"magnification\", description=\"Magnification:\", min=1, max=10, value=4)\n",
    "gui.add_checkbox(\"do_drift_correction\", description=\"Do drift correction\", value=False)\n",
    "gui.add_label(\"-=-= Time-Lapse =-=-\")\n",
    "gui.add_int_text(\"frames_per_timepoint\", description=\"Frames per time-point (0 - auto)\", value=0)\n",
    "gui.show()\n",
    "\n"
   ]
  },
  {
   "cell_type": "code",
   "execution_count": null,
   "metadata": {},
   "outputs": [],
   "source": []
  }
 ],
 "metadata": {
  "kernelspec": {
   "display_name": "Python 3 (ipykernel)",
   "language": "python",
   "name": "python3"
  },
  "language_info": {
   "codemirror_mode": {
    "name": "ipython",
    "version": 3
   },
   "file_extension": ".py",
   "mimetype": "text/x-python",
   "name": "python",
   "nbconvert_exporter": "python",
   "pygments_lexer": "ipython3",
   "version": "3.10.9"
  },
  "vscode": {
   "interpreter": {
    "hash": "ff43d62f8f6c4527fe53ff203f9f4b76bff05577ec2443f113edf97841413ea1"
   }
  }
 },
 "nbformat": 4,
 "nbformat_minor": 4
}
