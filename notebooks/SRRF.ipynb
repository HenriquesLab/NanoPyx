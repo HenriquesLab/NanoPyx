{
 "cells": [
  {
   "cell_type": "markdown",
   "metadata": {},
   "source": [
    "# NanoPyx-SRRF\n",
    "A python reimplementation of the original [NanoJ-SRRF](https://github.com/HenriquesLab/NanoJ-SRRF) algorithm"
   ]
  },
  {
   "cell_type": "code",
   "execution_count": null,
   "metadata": {
    "tags": []
   },
   "outputs": [],
   "source": [
    "# Load the dataset to analyse\n",
    "\n",
    "import os\n",
    "\n",
    "import ipywidgets as widgets\n",
    "import skimage\n",
    "from IPython.display import display\n",
    "\n",
    "from nanopyx.core.utils.easy_gui import EasyGui\n",
    "from nanopyx.core.utils.find_files import find_files\n",
    "from nanopyx.data.download import ExampleDataManager\n",
    "\n",
    "cwd = os.getcwd()\n",
    "image_folder = \"datasets\"\n",
    "image_files = []\n",
    "EDM = ExampleDataManager()\n",
    "example_datasets = EDM.list_datasets()\n",
    "\n",
    "_path = os.path.join(\"..\", image_folder)\n",
    "if os.path.exists(_path):\n",
    "    image_files += find_files(_path, \".tif\")\n",
    "if os.path.exists(image_folder):\n",
    "    image_files += find_files(image_folder, \".tif\")\n",
    "image_files += [\"Example dataset: \"+dataset for dataset in example_datasets]\n",
    "\n",
    "# Create a GUI\n",
    "gui = EasyGui(\"srrf\")\n",
    "\n",
    "def on_button_load_data_clicked(b):\n",
    "    global dataset_original\n",
    "    if gui[\"data_source\"].value.startswith(\"Example dataset: \"):\n",
    "        dataset_name = gui[\"data_source\"].value.replace(\n",
    "            \"Example dataset: \", \"\")\n",
    "        dataset_original = EDM.get_ZipTiffIterator(dataset_name, as_ndarray=True)\n",
    "    else:\n",
    "        dataset_original = skimage.io.imread(gui[\"data_source\"].value)\n",
    "    gui.save_settings()\n",
    "\n",
    "gui.add_label(\"Select data to use:\")\n",
    "gui.add_dropdown(\"data_source\", options=image_files,\n",
    "                 value=\"Example dataset: \"+example_datasets[4], remember_value=True)\n",
    "gui.add_button(\"load_data\", description=\"Load data\")\n",
    "gui[\"load_data\"].on_click(on_button_load_data_clicked)\n",
    "gui.show()"
   ]
  },
  {
   "cell_type": "code",
   "execution_count": null,
   "metadata": {},
   "outputs": [],
   "source": [
    "import stackview\n",
    "\n",
    "cropper = stackview.crop(dataset_original, continuous_update=True,\n",
    "                         zoom_factor=2, slider_text=\"frame\",\n",
    "                         axis_names=[\"frame\", \"y\", \"x\"])\n",
    "cropper\n"
   ]
  },
  {
   "cell_type": "code",
   "execution_count": null,
   "metadata": {},
   "outputs": [],
   "source": [
    "dataset = cropper.crop()\n",
    "dataset"
   ]
  },
  {
   "cell_type": "code",
   "execution_count": null,
   "metadata": {
    "tags": []
   },
   "outputs": [],
   "source": [
    "gui = EasyGui(\"srrf\")\n",
    "from nanopyx.methods.srrf import SRRF\n",
    "\n",
    "def run_srrf(b):\n",
    "    gui.save_settings()\n",
    "    ring_radius = gui[\"ring_radius\"].value\n",
    "    magnification = gui[\"magnification\"].value\n",
    "    do_drift_correction = gui[\"do_drift_correction\"].value\n",
    "    frames_per_timepoint = gui[\"frames_per_timepoint\"].value\n",
    "\n",
    "    srrf = SRRF(magnification, ring_radius)\n",
    "    global dataset_srrf\n",
    "    dataset_srrf = srrf.calculate(dataset, frames_per_timepoint=frames_per_timepoint)\n",
    "\n",
    "gui.add_float_slider(\"ring_radius\", description=\"Ring Radius:\", min=0.1, max=3.0, value=0.5, remember_value=True)\n",
    "gui.add_int_slider(\"magnification\", description=\"Magnification:\", min=1, max=10, value=4)\n",
    "gui.add_checkbox(\"do_drift_correction\", description=\"Do drift correction\", value=False)\n",
    "gui.add_label(\"-=-= Time-Lapse =-=-\")\n",
    "gui.add_int_text(\"frames_per_timepoint\", description=\"Frames per time-point (0 - auto)\", value=0)\n",
    "gui.add_button(\"run\", description=\"Run\")\n",
    "gui['run'].on_click(run_srrf)\n",
    "gui.show()"
   ]
  },
  {
   "cell_type": "code",
   "execution_count": null,
   "metadata": {},
   "outputs": [],
   "source": [
    "import stackview\n",
    "stackview.curtain(dataset_srrf[0], dataset_srrf[1], continuous_update=True, zoom_factor=1,\n",
    "                  zoom_spline_order=0)  # , display_width=512, display_height=512)"
   ]
  }
 ],
 "metadata": {
  "kernelspec": {
   "display_name": "Python 3 (ipykernel)",
   "language": "python",
   "name": "python3"
  },
  "language_info": {
   "codemirror_mode": {
    "name": "ipython",
    "version": 3
   },
   "file_extension": ".py",
   "mimetype": "text/x-python",
   "name": "python",
   "nbconvert_exporter": "python",
   "pygments_lexer": "ipython3",
   "version": "3.9.7"
  },
  "vscode": {
   "interpreter": {
    "hash": "ff43d62f8f6c4527fe53ff203f9f4b76bff05577ec2443f113edf97841413ea1"
   }
  }
 },
 "nbformat": 4,
 "nbformat_minor": 4
}
