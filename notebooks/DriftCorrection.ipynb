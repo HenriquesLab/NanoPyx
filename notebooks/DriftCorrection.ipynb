{
 "cells": [
  {
   "attachments": {},
   "cell_type": "markdown",
   "metadata": {},
   "source": [
    "# NanoPyx \"Codeless\" Jupyter Notebook\n",
    "\n",
    "### This notebook allows you to generate align a timelapse\n",
    "\n",
    "**Drift Correction** Romain F Laine et al 2019 J. Phys. D: Appl. Phys. 52 163001"
   ]
  },
  {
   "attachments": {},
   "cell_type": "markdown",
   "metadata": {},
   "source": [
    "## Notebook setup cell\n",
    "Run the following cell to install nanopyx"
   ]
  },
  {
   "cell_type": "code",
   "execution_count": null,
   "metadata": {},
   "outputs": [],
   "source": [
    "!pip install git+https://github.com/HenriquesLab/NanoPyx.git"
   ]
  },
  {
   "attachments": {},
   "cell_type": "markdown",
   "metadata": {},
   "source": [
    "Now, import all necessary python libraries"
   ]
  },
  {
   "cell_type": "code",
   "execution_count": null,
   "metadata": {},
   "outputs": [],
   "source": [
    "import io\n",
    "import os\n",
    "import skimage\n",
    "import numpy as np\n",
    "import tifffile as tiff\n",
    "import ipywidgets as widgets\n",
    "from IPython.display import display, clear_output\n",
    "from matplotlib import pyplot as plt\n",
    "\n",
    "from nanopyx.methods import drift_alignment\n",
    "from nanopyx.core.utils.easy_gui import EasyGui\n",
    "from nanopyx.core.utils.easy_gui import view_image_stack, view_curtain_stack, view_image"
   ]
  },
  {
   "attachments": {},
   "cell_type": "markdown",
   "metadata": {},
   "source": [
    "## Select which image to load"
   ]
  },
  {
   "cell_type": "code",
   "execution_count": null,
   "metadata": {},
   "outputs": [],
   "source": [
    "%matplotlib widget\n",
    "# Create a GUI\n",
    "gui_data = EasyGui(\"Data Loader\")\n",
    "\n",
    "def on_button_load_data_clicked(b):\n",
    "    clear_output()\n",
    "    gui_data.show()\n",
    "    global dataset_original\n",
    "    # disable button\n",
    "    gui_data[\"load_data\"].disabled = True\n",
    "    gui_data[\"load_data\"].description = \"Loading...\"\n",
    "    dataset_original = tiff.imread(gui_data[\"upload\"].selected)\n",
    "    gui_data[\"load_data\"].disabled = False\n",
    "    gui_data[\"load_data\"].description = \"Load data\"\n",
    "    view_image_stack(dataset_original)\n",
    "\n",
    "gui_data.add_label(\"Select data to use:\")\n",
    "gui_data.add_file_upload(\"upload\")\n",
    "gui_data.add_button(\"load_data\", description=\"Load data\")\n",
    "gui_data[\"load_data\"].on_click(on_button_load_data_clicked)\n",
    "gui_data.show()"
   ]
  },
  {
   "attachments": {},
   "cell_type": "markdown",
   "metadata": {},
   "source": [
    "## Now let's perform the alignment"
   ]
  },
  {
   "cell_type": "code",
   "execution_count": null,
   "metadata": {},
   "outputs": [],
   "source": [
    "gui_drift = EasyGui(\"Drift Correction\")\n",
    "\n",
    "def on_button_align(b):\n",
    "    clear_output()\n",
    "    gui_drift.show()\n",
    "    if gui_drift[\"ref\"].value == \"First frame\":\n",
    "        ref_option = 0\n",
    "    else:\n",
    "        ref_option = 1\n",
    "    avg = gui_drift[\"time_averaging\"].value\n",
    "    max_drift = gui_drift[\"max\"].value\n",
    "    global dataset_aligned\n",
    "    gui_drift[\"align\"].disabled = True\n",
    "    gui_drift[\"align\"].description = \"Aligning...\"\n",
    "    dataset_aligned = drift_alignment.estimate_drift_alignment(dataset_original,\n",
    "                                                               save_drift_table_path=\"\",\n",
    "                                                               time_averaging=avg,\n",
    "                                                               max_expected_drift=max_drift,\n",
    "                                                               ref_option=ref_option,\n",
    "                                                               apply=True)\n",
    "    gui_drift[\"align\"].disabled = False\n",
    "    gui_drift[\"align\"].description = \"Align\"\n",
    "    view_image_stack(dataset_aligned)\n",
    "\n",
    "gui_drift.add_label(\"Drift Correction parameters:\")\n",
    "gui_drift.add_dropdown(\"ref\", description=\"Reference frame\", options=[\"First frame\", \"Previous frame\"], value=\"First frame\")\n",
    "gui_drift.add_int_slider(\"max\", description=\"Max expected drift\", min=0, max=1000, value=10)\n",
    "gui_drift.add_int_slider(\"time_averaging\", description=\"Time averaging\", min=1, max=dataset_original.shape[0], value=1)\n",
    "gui_drift.add_button(\"align\", description=\"Align\")\n",
    "gui_drift[\"align\"].on_click(on_button_align)\n",
    "gui_drift.show()"
   ]
  }
 ],
 "metadata": {
  "kernelspec": {
   "display_name": "Python 3.9.12 ('nanojdev')",
   "language": "python",
   "name": "python3"
  },
  "language_info": {
   "codemirror_mode": {
    "name": "ipython",
    "version": 3
   },
   "file_extension": ".py",
   "mimetype": "text/x-python",
   "name": "python",
   "nbconvert_exporter": "python",
   "pygments_lexer": "ipython3",
   "version": "3.10.9"
  },
  "vscode": {
   "interpreter": {
    "hash": "d2cabc474857603d261aaea8f544bda49fe7f92ad884e88ea462478db24ad80c"
   }
  }
 },
 "nbformat": 4,
 "nbformat_minor": 2
}
