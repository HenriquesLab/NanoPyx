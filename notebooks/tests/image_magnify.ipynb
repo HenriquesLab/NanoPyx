{
 "cells": [
  {
   "cell_type": "code",
   "execution_count": null,
   "metadata": {},
   "outputs": [],
   "source": [
    "%load_ext autoreload\n",
    "%autoreload 2\n",
    "\n",
    "from nanopyx.data.examples.download import ExampleDataManager\n",
    "\n",
    "downloader = ExampleDataManager()\n",
    "z = downloader.get_zarr(\"SMLMS2013_HDTubulinAlexa647\")\n",
    "image = z['data'][0]\n"
   ]
  },
  {
   "cell_type": "code",
   "execution_count": null,
   "metadata": {},
   "outputs": [],
   "source": [
    "import seaborn as sns\n",
    "import matplotlib.pyplot as plt\n",
    "from nanopyx.core.transform.image_magnify import fourier_zoom\n",
    "\n",
    "# Create a figure with 3 subplots arranged in a row\n",
    "fig, axs = plt.subplots(1, 2, figsize=(24, 24))\n",
    "sns.heatmap(image, ax=axs[0], cmap='inferno', cbar=False, square=True, xticklabels=10, yticklabels=10)\n",
    "sns.heatmap(fourier_zoom(image, 2), ax=axs[1], cmap='inferno', cbar=False, square=True, xticklabels=10, yticklabels=10)\n",
    "axs[0].set_title(\"orginal\")\n",
    "axs[1].set_title(\"zoomed\")\n",
    "\n",
    "# Show the figure\n",
    "plt.show()"
   ]
  }
 ],
 "metadata": {
  "kernelspec": {
   "display_name": ".venv",
   "language": "python",
   "name": "python3"
  },
  "language_info": {
   "codemirror_mode": {
    "name": "ipython",
    "version": 3
   },
   "file_extension": ".py",
   "mimetype": "text/x-python",
   "name": "python",
   "nbconvert_exporter": "python",
   "pygments_lexer": "ipython3",
   "version": "3.10.9"
  },
  "vscode": {
   "interpreter": {
    "hash": "ff43d62f8f6c4527fe53ff203f9f4b76bff05577ec2443f113edf97841413ea1"
   }
  }
 },
 "nbformat": 4,
 "nbformat_minor": 2
}
