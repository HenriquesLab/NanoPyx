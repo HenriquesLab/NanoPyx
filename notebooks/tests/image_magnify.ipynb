{
 "cells": [
  {
   "cell_type": "code",
   "execution_count": null,
   "metadata": {},
   "outputs": [],
   "source": [
    "# type: ignore\n",
    "import numpy as np\n",
    "\n",
    "from nanopyx.core.transform.binning import rebin2d\n",
    "from nanopyx.core.transform.image_magnify import *\n",
    "from nanopyx.data.examples.download import ExampleDataManager\n",
    "from nanopyx.core.transform.image_add_random_noise import getRamp, getPerlinNoise\n",
    "\n",
    "M = 2\n",
    "downloader = ExampleDataManager()\n",
    "# z = downloader.get_ZipTiffIterator('LongContinuous_UtrGFP')\n",
    "z = downloader.get_ZipTiffIterator('SMLMS2013_HDTubulinAlexa647')\n",
    "#image = z[0]\n",
    "# image = getRamp(128, 256)\n",
    "image = getPerlinNoise(64, 128, amp=1000, f=10, octaves=3)\n",
    "\n",
    "imageDownsampled = rebin2d(image, M, mode=\"mean\")"
   ]
  },
  {
   "cell_type": "code",
   "execution_count": null,
   "metadata": {},
   "outputs": [],
   "source": [
    "%%prun -s cumulative -q -l 100 -T prun_magnify.profile\n",
    "# Profile the run\n",
    "\n",
    "imageFFTZoom = fourier_zoom(imageDownsampled.astype(np.float32), M)\n",
    "imageCRZoom = catmull_rom_zoom(imageDownsampled, M)\n",
    "imageBCZoom = bicubic_zoom(imageDownsampled, M)\n",
    "imageLZoom = lanczos_zoom(imageDownsampled, M, taps = 4)\n",
    "imageScipyZoom = scipy_zoom(imageDownsampled, M)\n",
    "imageSkiZoom = skimage_zoom(imageDownsampled, M)\n",
    "imageCVZoom = cv2_zoom(imageDownsampled, M)\n",
    "\n",
    "\n",
    "interpolated_images = {\n",
    "    \"fft-zoom\": imageFFTZoom,\n",
    "    \"catmull-rom-zoom\": imageCRZoom,\n",
    "    \"bicubic-zoom\": imageBCZoom,\n",
    "    \"lanczos-zoom\": imageLZoom,\n",
    "    \"scipy-zoom\": imageScipyZoom,\n",
    "    \"skimage-rescale\": imageSkiZoom,\n",
    "    \"cv2-resize\": imageCVZoom\n",
    "}"
   ]
  },
  {
   "cell_type": "code",
   "execution_count": null,
   "metadata": {},
   "outputs": [],
   "source": [
    "import seaborn as sns\n",
    "import matplotlib.pyplot as plt\n",
    "from nanopyx.core.analysis.pearson_correlation import pearson_correlation\n",
    "import numpy as np\n",
    "\n",
    "# Create a figure with 3 subplots arranged in a row\n",
    "fig, axs = plt.subplots(len(interpolated_images)+1, 2, figsize=(16, 2*16))\n",
    "sns.heatmap(image, ax=axs[0,0], cmap='inferno', cbar=False, square=True, xticklabels=False, yticklabels=False)\n",
    "sns.heatmap(imageDownsampled, ax=axs[0,1], cmap='inferno', cbar=False, square=True, xticklabels=False, yticklabels=False)\n",
    "axs[0,0].set_title(\"orginal\")\n",
    "axs[0,1].set_title(f\"downsampled {M}x\")\n",
    "\n",
    "for i, id in enumerate(interpolated_images):\n",
    "    interpolated_image = interpolated_images[id]\n",
    "    error = image-interpolated_image\n",
    "    rmse = round((error**2).mean()**0.5)\n",
    "    pc = pearson_correlation(image, interpolated_image)\n",
    "    sns.heatmap(interpolated_image, ax=axs[i+1,0], cmap='inferno', cbar=False, square=True, xticklabels=False, yticklabels=False)\n",
    "    sns.heatmap(error, ax=axs[i+1,1], cmap='inferno', cbar=False, square=True, xticklabels=False, yticklabels=False)\n",
    "    axs[i+1,0].set_title(f\"{id}\")\n",
    "    axs[i+1,1].set_title(f\"{id}-error\")\n",
    "    axs[i+1,1].set_xlabel(f\"RMSE={rmse} PC={round(pc, 2)} MaxError={round(np.max(error))}\")\n",
    "\n",
    "# Show the figure\n",
    "plt.show()\n"
   ]
  }
 ],
 "metadata": {
  "kernelspec": {
   "display_name": ".venv",
   "language": "python",
   "name": "python3"
  },
  "language_info": {
   "codemirror_mode": {
    "name": "ipython",
    "version": 3
   },
   "file_extension": ".py",
   "mimetype": "text/x-python",
   "name": "python",
   "nbconvert_exporter": "python",
   "pygments_lexer": "ipython3",
   "version": "3.10.9"
  },
  "vscode": {
   "interpreter": {
    "hash": "ff43d62f8f6c4527fe53ff203f9f4b76bff05577ec2443f113edf97841413ea1"
   }
  }
 },
 "nbformat": 4,
 "nbformat_minor": 4
}
