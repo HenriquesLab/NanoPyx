{
 "cells": [
  {
   "cell_type": "code",
   "execution_count": null,
   "metadata": {},
   "outputs": [],
   "source": [
    "%load_ext autoreload\n",
    "%autoreload 2\n",
    "# type: ignore\n",
    "from nanopyx.data.examples.download import ExampleDataManager\n",
    "from nanopyx.core.transform.binning import rebin2d\n",
    "from nanopyx.core.transform.image_magnify import fourier_zoom, catmull_rom_zoom\n",
    "from scipy.ndimage import zoom as scipy_zoom\n",
    "from skimage.transform import (\n",
    "    rescale as ski_rescale, \n",
    "    resize as ski_resize, \n",
    "    downscale_local_mean as ski_downscale_local_mean\n",
    "    )\n",
    "from cv2 import resize as cv_resize\n",
    "from cv2 import INTER_LANCZOS4\n",
    "\n",
    "downloader = ExampleDataManager()\n",
    "z = downloader.get_zarr(\"SMLMS2013_HDTubulinAlexa647\")\n",
    "image = z['data'][0]\n",
    "imageHalfSize = rebin2d(image, 2, mode=\"mean\")"
   ]
  },
  {
   "cell_type": "code",
   "execution_count": null,
   "metadata": {},
   "outputs": [],
   "source": [
    "%%prun -s cumulative -q -l 100 -T prun_magnify.profile\n",
    "# Profile the run\n",
    "\n",
    "imageFFTZoom = fourier_zoom(imageHalfSize, 2)\n",
    "imageCRZoom = catmull_rom_zoom(imageHalfSize, 2)\n",
    "imageScipyZoom = scipy_zoom(imageHalfSize, 2)\n",
    "imageSkiZoom = ski_rescale(imageHalfSize, 2, anti_aliasing=False)\n",
    "imageCVZoom = cv_resize(imageHalfSize, None, fx=2, fy=2, interpolation = INTER_LANCZOS4)"
   ]
  },
  {
   "cell_type": "code",
   "execution_count": null,
   "metadata": {},
   "outputs": [],
   "source": [
    "# Show profiling\n",
    "print(open('prun_magnify', 'r').read())"
   ]
  },
  {
   "cell_type": "code",
   "execution_count": null,
   "metadata": {},
   "outputs": [],
   "source": [
    "import seaborn as sns\n",
    "import matplotlib.pyplot as plt\n",
    "from nanopyx.core.analysis.pearson_correlation import pearson_correlation\n",
    "import numpy as np\n",
    "\n",
    "# Create a figure with 3 subplots arranged in a row\n",
    "fig, axs = plt.subplots(6, 2, figsize=(16, 3*16))\n",
    "sns.heatmap(image, ax=axs[0,0], cmap='inferno', cbar=False, square=True, xticklabels=False, yticklabels=False)\n",
    "sns.heatmap(imageHalfSize, ax=axs[0,1], cmap='inferno', cbar=False, square=True, xticklabels=False, yticklabels=False)\n",
    "axs[0,0].set_title(\"orginal\")\n",
    "axs[0,1].set_title(\"half-size\")\n",
    "\n",
    "error = image-imageFFTZoom\n",
    "rmse = round((error**2).mean()**0.5)\n",
    "pc = pearson_correlation(image, imageFFTZoom)\n",
    "sns.heatmap(imageFFTZoom, ax=axs[1,0], cmap='inferno', cbar=False, square=True, xticklabels=False, yticklabels=False)\n",
    "sns.heatmap(error, ax=axs[1,1], cmap='inferno', cbar=False, square=True, xticklabels=False, yticklabels=False)\n",
    "axs[1,0].set_title(\"fft-zoom\")\n",
    "axs[1,1].set_title(\"fft-zoom-error\")\n",
    "axs[1,1].set_xlabel(f\"RMSE={rmse} PC={round(pc, 2)} MaxError={round(np.max(error))}\")\n",
    "\n",
    "error = image-imageCRZoom\n",
    "rmse = round((error**2).mean()**0.5)\n",
    "pc = pearson_correlation(image, imageCRZoom)\n",
    "sns.heatmap(imageCRZoom, ax=axs[2,0], cmap='inferno', cbar=False, square=True, xticklabels=False, yticklabels=False)\n",
    "sns.heatmap(error, ax=axs[2,1], cmap='inferno', cbar=False, square=True, xticklabels=False, yticklabels=False)\n",
    "axs[2,0].set_title(\"cr-zoom\")\n",
    "axs[2,1].set_title(\"cr-zoom-error\")\n",
    "axs[2,1].set_xlabel(f\"RMSE={rmse} PC={round(pc, 2)} MaxError={round(np.max(error))}\")\n",
    "\n",
    "error = image-imageScipyZoom\n",
    "rmse = round((error**2).mean()**0.5)\n",
    "pc = pearson_correlation(image, imageScipyZoom)\n",
    "sns.heatmap(imageScipyZoom, ax=axs[3,0], cmap='inferno', cbar=False, square=True, xticklabels=False, yticklabels=False)\n",
    "sns.heatmap(error, ax=axs[3,1], cmap='inferno', cbar=False, square=True, xticklabels=False, yticklabels=False)\n",
    "axs[3,0].set_title(\"scipy-zoom\")\n",
    "axs[3,1].set_title(\"scipy-zoom-error\")\n",
    "axs[3,1].set_xlabel(f\"RMSE={rmse} PC={round(pc, 2)} MaxError={round(np.max(error))}\")\n",
    "\n",
    "error = image-imageSkiZoom\n",
    "rmse = round((error**2).mean()**0.5)\n",
    "pc = pearson_correlation(image, imageSkiZoom)\n",
    "sns.heatmap(imageSkiZoom, ax=axs[4,0], cmap='inferno', cbar=False, square=True, xticklabels=False, yticklabels=False)\n",
    "sns.heatmap(error, ax=axs[4,1], cmap='inferno', cbar=False, square=True, xticklabels=False, yticklabels=False)\n",
    "axs[4,0].set_title(\"skimage-zoom\")\n",
    "axs[4,1].set_title(\"skimage-zoom-error\")\n",
    "axs[4,1].set_xlabel(f\"RMSE={rmse} PC={round(pc, 2)} MaxError={round(np.max(error))}\")\n",
    "\n",
    "\n",
    "error = image-imageCVZoom\n",
    "rmse = round((error**2).mean()**0.5)\n",
    "pc = pearson_correlation(image, imageCVZoom)\n",
    "sns.heatmap(imageCVZoom, ax=axs[5,0], cmap='inferno', cbar=False, square=True, xticklabels=False, yticklabels=False)\n",
    "sns.heatmap(error, ax=axs[5,1], cmap='inferno', cbar=False, square=True, xticklabels=False, yticklabels=False)\n",
    "axs[5,0].set_title(\"cv-zoom\")\n",
    "axs[5,1].set_title(\"cv-zoom-error\")\n",
    "axs[5,1].set_xlabel(f\"RMSE={rmse} PC={round(pc, 2)} MaxError={round(np.max(error))}\")\n",
    "\n",
    "# Show the figure\n",
    "plt.show()\n"
   ]
  },
  {
   "cell_type": "code",
   "execution_count": null,
   "metadata": {},
   "outputs": [],
   "source": []
  }
 ],
 "metadata": {
  "kernelspec": {
   "display_name": "Python 3 (ipykernel)",
   "language": "python",
   "name": "python3"
  },
  "language_info": {
   "codemirror_mode": {
    "name": "ipython",
    "version": 3
   },
   "file_extension": ".py",
   "mimetype": "text/x-python",
   "name": "python",
   "nbconvert_exporter": "python",
   "pygments_lexer": "ipython3",
   "version": "3.10.9"
  },
  "vscode": {
   "interpreter": {
    "hash": "ff43d62f8f6c4527fe53ff203f9f4b76bff05577ec2443f113edf97841413ea1"
   }
  }
 },
 "nbformat": 4,
 "nbformat_minor": 4
}
