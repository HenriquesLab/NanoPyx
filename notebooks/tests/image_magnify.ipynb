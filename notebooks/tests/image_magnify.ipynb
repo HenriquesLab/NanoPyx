{
 "cells": [
  {
   "cell_type": "code",
   "execution_count": null,
   "metadata": {},
   "outputs": [],
   "source": [
    "%load_ext autoreload\n",
    "%autoreload 2\n",
    "\n",
    "from nanopyx.data.examples.download import ExampleDataManager\n",
    "from nanopyx.core.transform.binning import rebin2d\n",
    "from nanopyx.core.transform.image_magnify import fourier_zoom\n",
    "\n",
    "downloader = ExampleDataManager()\n",
    "z = downloader.get_zarr(\"SMLMS2013_HDTubulinAlexa647\")\n",
    "image = z['data'][0]\n",
    "imageHalfSize = rebin2d(image, 2, mode=\"mean\")\n",
    "imageTwiceSize = fourier_zoom(imageHalfSize, 2)\n"
   ]
  },
  {
   "cell_type": "code",
   "execution_count": null,
   "metadata": {},
   "outputs": [],
   "source": [
    "import seaborn as sns\n",
    "import matplotlib.pyplot as plt\n",
    "from nanopyx.core.transform.image_magnify import fourier_zoom\n",
    "\n",
    "# Create a figure with 3 subplots arranged in a row\n",
    "fig, axs = plt.subplots(1, 3, figsize=(32, 8))\n",
    "sns.heatmap(image, ax=axs[0], cmap='inferno', cbar=False, square=True, xticklabels=10, yticklabels=10)\n",
    "sns.heatmap(imageTwiceSize, ax=axs[1], cmap='inferno', cbar=False, square=True, xticklabels=10, yticklabels=10)\n",
    "sns.heatmap(image-imageTwiceSize, ax=axs[2], cmap='inferno', cbar=True, square=True, xticklabels=10, yticklabels=10)\n",
    "axs[0].set_title(\"orginal\")\n",
    "axs[1].set_title(\"bin-zoomed\")\n",
    "axs[2].set_title(\"error\")\n",
    "print(image.shape, imageTwiceSize.shape)\n",
    "\n",
    "# Show the figure\n",
    "plt.show()\n"
   ]
  },
  {
   "cell_type": "code",
   "execution_count": null,
   "metadata": {},
   "outputs": [],
   "source": [
    "%%prun -s cumulative -q -l 1000 -T prun_magnify\n",
    "# Profile the run\n",
    "\n",
    "image_zoom = fourier_zoom(image, 10)"
   ]
  },
  {
   "cell_type": "code",
   "execution_count": null,
   "metadata": {},
   "outputs": [],
   "source": [
    "# Show profiling\n",
    "print(open('prun_magnify', 'r').read())"
   ]
  }
 ],
 "metadata": {
  "kernelspec": {
   "display_name": ".venv",
   "language": "python",
   "name": "python3"
  },
  "language_info": {
   "codemirror_mode": {
    "name": "ipython",
    "version": 3
   },
   "file_extension": ".py",
   "mimetype": "text/x-python",
   "name": "python",
   "nbconvert_exporter": "python",
   "pygments_lexer": "ipython3",
   "version": "3.10.9"
  },
  "vscode": {
   "interpreter": {
    "hash": "ff43d62f8f6c4527fe53ff203f9f4b76bff05577ec2443f113edf97841413ea1"
   }
  }
 },
 "nbformat": 4,
 "nbformat_minor": 2
}
