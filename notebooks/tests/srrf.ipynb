{
 "cells": [
  {
   "cell_type": "code",
   "execution_count": null,
   "metadata": {},
   "outputs": [],
   "source": [
    "%load_ext autoreload\n",
    "%autoreload 2\n",
    "\n",
    "from nanopyx.data.examples.download import ExampleDataManager\n",
    "\n",
    "downloader = ExampleDataManager()\n",
    "z = downloader.get_zarr(\"SMLMS2013_HDTubulinAlexa647\")\n",
    "\n",
    "import stackview\n",
    "stackview.slice(z['data'], continuous_update=True, zoom_factor=4, zoom_spline_order=0)#, display_width=512, display_height=512)\n"
   ]
  },
  {
   "cell_type": "code",
   "execution_count": null,
   "metadata": {},
   "outputs": [],
   "source": [
    "from nanopyx.core.sr.srrf import SRRF\n",
    "import numpy as np\n",
    "\n",
    "srrf = SRRF(magnification = 2, order=1, symmetryAxis = 6, spatialRadius = 0.5, border = 0, doIntegrateLagTimes = 1, radialityPositivityConstraint = 1, doIntensityWeighting = 1)\n",
    "imSmall = z['data'][:10,:,:]\n",
    "\n",
    "imRad, imIW, imGx, imGy = srrf.calculateRadiality(imSmall)\n",
    "print(np.max(imRad))\n",
    "print(np.max(imIW))\n",
    "print(np.max(imGx))\n",
    "print(np.max(imGy))\n",
    "\n",
    "stackview.curtain(imIW, imRad, continuous_update=True, zoom_factor=4, zoom_spline_order=0)#, display_width=512, display_height=512)\n"
   ]
  }
 ],
 "metadata": {
  "kernelspec": {
   "display_name": "Python 3 (ipykernel)",
   "language": "python",
   "name": "python3"
  },
  "language_info": {
   "codemirror_mode": {
    "name": "ipython",
    "version": 3
   },
   "file_extension": ".py",
   "mimetype": "text/x-python",
   "name": "python",
   "nbconvert_exporter": "python",
   "pygments_lexer": "ipython3",
   "version": "3.10.9"
  },
  "vscode": {
   "interpreter": {
    "hash": "ff43d62f8f6c4527fe53ff203f9f4b76bff05577ec2443f113edf97841413ea1"
   }
  }
 },
 "nbformat": 4,
 "nbformat_minor": 4
}
