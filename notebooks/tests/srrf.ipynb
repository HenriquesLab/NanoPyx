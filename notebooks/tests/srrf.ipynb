{
 "cells": [
  {
   "cell_type": "code",
   "execution_count": null,
   "metadata": {},
   "outputs": [],
   "source": [
    "%load_ext autoreload\n",
    "%autoreload 2\n",
    "\n",
    "from nanopyx.data.examples.download import ExampleDataManager\n",
    "\n",
    "downloader = ExampleDataManager()\n",
    "z = downloader.get_zarr(\"SMLMS2013_HDTubulinAlexa647\")\n",
    "\n",
    "import stackview\n",
    "stackview.slice(z['data'], continuous_update=True, zoom_factor=4, zoom_spline_order=0)#, display_width=512, display_height=512)"
   ]
  },
  {
   "cell_type": "code",
   "execution_count": null,
   "metadata": {},
   "outputs": [],
   "source": [
    "%%prun -s cumulative -q -l 1000 -T prun_srrf\n",
    "\n",
    "from nanopyx.core.sr.srrf import CalculateRadiality\n",
    "import numpy as np\n",
    "\n",
    "cRad = CalculateRadiality(magnification = 4, ringRadius = 0.5, border = 0, radialityPositivityConstraint = 1, doIntensityWeighting = 1)\n",
    "imSmall = z['data'][:,:,:]\n",
    "\n",
    "imRad, imIW, imGx, imGy = cRad.calculate(imSmall)\n"
   ]
  },
  {
   "cell_type": "code",
   "execution_count": null,
   "metadata": {},
   "outputs": [],
   "source": [
    "print(open('prun_srrf', 'r').read())"
   ]
  },
  {
   "cell_type": "code",
   "execution_count": null,
   "metadata": {},
   "outputs": [],
   "source": [
    "stackview.curtain(imIW, imRad, continuous_update=True, zoom_factor=4, zoom_spline_order=0)#, display_width=512, display_height=512)"
   ]
  },
  {
   "cell_type": "code",
   "execution_count": null,
   "metadata": {},
   "outputs": [],
   "source": [
    "from matplotlib import pyplot as plt\n",
    "plt.imshow(np.mean(imRad, 0), interpolation='nearest')\n",
    "plt.show()"
   ]
  }
 ],
 "metadata": {
  "kernelspec": {
   "display_name": "Python 3 (ipykernel)",
   "language": "python",
   "name": "python3"
  },
  "language_info": {
   "codemirror_mode": {
    "name": "ipython",
    "version": 3
   },
   "file_extension": ".py",
   "mimetype": "text/x-python",
   "name": "python",
   "nbconvert_exporter": "python",
   "pygments_lexer": "ipython3",
   "version": "3.10.9"
  },
  "vscode": {
   "interpreter": {
    "hash": "ff43d62f8f6c4527fe53ff203f9f4b76bff05577ec2443f113edf97841413ea1"
   }
  }
 },
 "nbformat": 4,
 "nbformat_minor": 4
}
