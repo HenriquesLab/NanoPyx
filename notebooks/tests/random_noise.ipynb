{
 "cells": [
  {
   "cell_type": "code",
   "execution_count": null,
   "metadata": {},
   "outputs": [],
   "source": [
    "!cd ../../ && python3 setup.py build_ext --inplace\n",
    "%load_ext autoreload\n",
    "%autoreload 2\n",
    "\n",
    "import plotly.express as px\n",
    "from plotly.offline import init_notebook_mode\n",
    "from plotly.subplots import make_subplots\n",
    "import plotly.graph_objects as go\n",
    "# Initialize the Plotly notebook mode\n",
    "init_notebook_mode(connected=True)"
   ]
  },
  {
   "cell_type": "code",
   "execution_count": null,
   "metadata": {},
   "outputs": [],
   "source": [
    "import numpy as np\n",
    "from nanopyx.core.transform.random_noise import addSquares, addRamp\n",
    "\n",
    "\n",
    "# create an intensity gradient image\n",
    "w = 128\n",
    "h = 128\n",
    "image = np.zeros((w, h), dtype=\"float32\")\n",
    "addRamp(image, 1000)\n",
    "addSquares(image, 100, nSquares=10)\n",
    "image_original = image.copy()\n",
    "\n",
    "px.imshow(image).show()\n",
    "px.histogram(x=image.flatten()).show()\n"
   ]
  },
  {
   "cell_type": "code",
   "execution_count": null,
   "metadata": {},
   "outputs": [],
   "source": [
    "from nanopyx.core.transform.noise.randomNoise import (\n",
    "    addMixedGaussianPoissonNoise,\n",
    "    addMixedGaussianPoissonNoise2,\n",
    "    addPerlinNoise,\n",
    ")\n",
    "\n",
    "image = image_original.copy()\n",
    "\n",
    "fig = make_subplots(\n",
    "    rows=1,\n",
    "    cols=3,\n",
    "    subplot_titles=(\"ramp + squares\", \"with perlin\", \"with mixed-poison-gaussian\"),\n",
    ")\n",
    "fig.add_trace(go.Heatmap(z=image), 1, 1)\n",
    "\n",
    "addPerlinNoise(image, amp=1000, f=50)\n",
    "fig.add_trace(go.Heatmap(z=image), 1, 2)\n",
    "\n",
    "addMixedGaussianPoissonNoise(image, gaussSigma=100, gaussMean=100)\n",
    "fig.add_trace(go.Heatmap(z=image), 1, 3)\n"
   ]
  },
  {
   "cell_type": "code",
   "execution_count": null,
   "metadata": {},
   "outputs": [],
   "source": [
    "gaussSigma = 100\n",
    "gaussMean = 500\n",
    "\n",
    "image = image_original.copy() \n",
    "%timeit addMixedGaussianPoissonNoise2(image, gaussSigma = gaussSigma, gaussMean = gaussMean)\n",
    "\n",
    "image = image_original.copy()\n",
    "%timeit addMixedGaussianPoissonNoise(image, gaussSigma = gaussSigma, gaussMean = gaussMean)"
   ]
  }
 ],
 "metadata": {
  "kernelspec": {
   "display_name": "Python 3 (ipykernel)",
   "language": "python",
   "name": "python3"
  },
  "language_info": {
   "codemirror_mode": {
    "name": "ipython",
    "version": 3
   },
   "file_extension": ".py",
   "mimetype": "text/x-python",
   "name": "python",
   "nbconvert_exporter": "python",
   "pygments_lexer": "ipython3",
   "version": "3.10.8 (main, Oct 13 2022, 10:17:43) [Clang 14.0.0 (clang-1400.0.29.102)]"
  },
  "vscode": {
   "interpreter": {
    "hash": "ff43d62f8f6c4527fe53ff203f9f4b76bff05577ec2443f113edf97841413ea1"
   }
  }
 },
 "nbformat": 4,
 "nbformat_minor": 4
}
