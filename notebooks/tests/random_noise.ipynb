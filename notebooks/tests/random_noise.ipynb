{
 "cells": [
  {
   "cell_type": "code",
   "execution_count": null,
   "metadata": {},
   "outputs": [],
   "source": [
    "import numpy as np\n",
    "from nanopyx.core.transform.image_add_random_noise import addSquares, addRamp\n",
    "\n",
    "\n",
    "# create an intensity gradient image\n",
    "w = 128\n",
    "h = 128\n",
    "image = np.zeros((w, h), dtype=\"float32\")\n",
    "addRamp(image, 1000)\n",
    "addSquares(image, 100, nSquares=10)\n",
    "image_original = image.copy()\n",
    "\n",
    "import seaborn as sns\n",
    "import matplotlib.pyplot as plt\n",
    "\n",
    "# Create a figure with 2 subplots arranged in a row\n",
    "fig, axs = plt.subplots(1, 2, figsize=(12, 4))\n",
    "\n",
    "# Plot the image\n",
    "sns.heatmap(image, ax=axs[0], cmap='inferno', square=True)\n",
    "axs[0].set_title(\"Image\")\n",
    "\n",
    "# Plot the histogram\n",
    "sns.histplot(image.flatten(), ax=axs[1], color='black')\n",
    "axs[1].set_title(\"Histogram\")\n",
    "\n",
    "# Show the figure\n",
    "plt.show()"
   ]
  },
  {
   "cell_type": "code",
   "execution_count": null,
   "metadata": {},
   "outputs": [],
   "source": [
    "from nanopyx.core.transform.image_add_random_noise import (\n",
    "    addMixedGaussianPoissonNoise,\n",
    "    addMixedGaussianPoissonNoise2,\n",
    "    addPerlinNoise,\n",
    ")\n",
    "\n",
    "image = image_original.copy()\n",
    "\n",
    "# Create a figure with 3 subplots arranged in a row\n",
    "fig, axs = plt.subplots(1, 3, figsize=(24, 24))\n",
    "sns.heatmap(image, ax=axs[0], cmap='inferno', cbar=False, square=True, xticklabels=False, yticklabels=False)\n",
    "addPerlinNoise(image, amp=1000, f=50)\n",
    "sns.heatmap(image, ax=axs[1], cmap='inferno', cbar=False, square=True, xticklabels=False, yticklabels=False)\n",
    "addMixedGaussianPoissonNoise(image, gaussSigma=100, gaussMean=100)\n",
    "sns.heatmap(image, ax=axs[2], cmap='inferno', cbar=False, square=True, xticklabels=False, yticklabels=False)\n",
    "axs[0].set_title(\"ramp + squares\")\n",
    "axs[1].set_title(\"with perlin\")\n",
    "axs[2].set_title(\"with mixed-poison-gaussian\")\n"
   ]
  },
  {
   "cell_type": "code",
   "execution_count": null,
   "metadata": {},
   "outputs": [],
   "source": [
    "from nanopyx.core.transform.image_add_random_noise import (\n",
    "    addMixedGaussianPoissonNoise,\n",
    "    addMixedGaussianPoissonNoise2,\n",
    "    addPerlinNoise,\n",
    ")\n",
    "\n",
    "gaussSigma = 100\n",
    "gaussMean = 500\n",
    "\n",
    "image = image_original.copy() \n",
    "%timeit addMixedGaussianPoissonNoise2(image, gaussSigma = gaussSigma, gaussMean = gaussMean)\n",
    "\n",
    "image = image_original.copy()\n",
    "%timeit addMixedGaussianPoissonNoise(image, gaussSigma = gaussSigma, gaussMean = gaussMean)"
   ]
  }
 ],
 "metadata": {
  "kernelspec": {
   "display_name": "Python 3 (ipykernel)",
   "language": "python",
   "name": "python3"
  },
  "language_info": {
   "codemirror_mode": {
    "name": "ipython",
    "version": 3
   },
   "file_extension": ".py",
   "mimetype": "text/x-python",
   "name": "python",
   "nbconvert_exporter": "python",
   "pygments_lexer": "ipython3",
   "version": "3.10.9"
  },
  "vscode": {
   "interpreter": {
    "hash": "ff43d62f8f6c4527fe53ff203f9f4b76bff05577ec2443f113edf97841413ea1"
   }
  }
 },
 "nbformat": 4,
 "nbformat_minor": 4
}
