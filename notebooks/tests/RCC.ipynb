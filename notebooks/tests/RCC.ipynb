{
 "cells": [
  {
   "cell_type": "code",
   "execution_count": null,
   "metadata": {},
   "outputs": [],
   "source": [
    "%load_ext autoreload\n",
    "%autoreload 2\n",
    "\n",
    "from nanopyx.data.examples.download import ExampleDataManager\n",
    "\n",
    "downloader = ExampleDataManager()\n",
    "z = downloader.get_zarr(\"ShortContinuous_UtrGFP\")\n",
    "\n",
    "import stackview\n",
    "stackview.slice(z['data'], continuous_update=True, zoom_factor=4, zoom_spline_order=0)#, display_width=512, display_height=512)\n"
   ]
  },
  {
   "cell_type": "code",
   "execution_count": null,
   "metadata": {},
   "outputs": [],
   "source": [
    "%%prun -s cumulative -q -l 1000 -T prun_rcc\n",
    "\n",
    "from nanopyx.core.image.rcc import rcc\n",
    "import numpy as np\n",
    "\n",
    "imSmall = z['data'][:,:,:]\n",
    "\n",
    "shift = rcc(imSmall)\n",
    "shift\n"
   ]
  },
  {
   "cell_type": "code",
   "execution_count": null,
   "metadata": {},
   "outputs": [],
   "source": [
    "from nanopyx.core.image.shift import shift_t2d\n",
    "\n",
    "imShifted = shift_t2d(imSmall, shift[0], shift[1])\n",
    "stackview.slice(imShifted, continuous_update=True, zoom_factor=4, zoom_spline_order=0)\n"
   ]
  },
  {
   "cell_type": "code",
   "execution_count": null,
   "metadata": {},
   "outputs": [],
   "source": [
    "print(open('prun_rcc', 'r').read())"
   ]
  }
 ],
 "metadata": {
  "kernelspec": {
   "display_name": ".venv",
   "language": "python",
   "name": "python3"
  },
  "language_info": {
   "codemirror_mode": {
    "name": "ipython",
    "version": 3
   },
   "file_extension": ".py",
   "mimetype": "text/x-python",
   "name": "python",
   "nbconvert_exporter": "python",
   "pygments_lexer": "ipython3",
   "version": "3.10.8 (main, Oct 13 2022, 10:17:43) [Clang 14.0.0 (clang-1400.0.29.102)]"
  },
  "vscode": {
   "interpreter": {
    "hash": "ff43d62f8f6c4527fe53ff203f9f4b76bff05577ec2443f113edf97841413ea1"
   }
  }
 },
 "nbformat": 4,
 "nbformat_minor": 2
}
