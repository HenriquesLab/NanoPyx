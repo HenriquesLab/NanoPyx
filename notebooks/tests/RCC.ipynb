{
 "cells": [
  {
   "cell_type": "code",
   "execution_count": 1,
   "metadata": {},
   "outputs": [
    {
     "name": "stdout",
     "output_type": "stream",
     "text": [
      "If you find the 'SMLMS2013_HDTubulinAlexa647' dataset useful, please cite: Sage et al, Nature Methods, 2015 - https://doi.org/10.1038/nmeth.3442\n"
     ]
    },
    {
     "data": {
      "text/plain": "VBox(children=(HBox(children=(VBox(children=(ImageWidget(height=512, width=512),)),)), IntSlider(value=250, de…",
      "application/vnd.jupyter.widget-view+json": {
       "version_major": 2,
       "version_minor": 0,
       "model_id": "93aee086d355446bb3c9db8f14bc2be0"
      }
     },
     "metadata": {},
     "output_type": "display_data"
    }
   ],
   "source": [
    "%load_ext autoreload\n",
    "%autoreload 2\n",
    "\n",
    "from nanopyx.data.examples.download import ExampleDataManager\n",
    "\n",
    "downloader = ExampleDataManager()\n",
    "z = downloader.get_ZipTiffIterator(\"SMLMS2013_HDTubulinAlexa647\", as_ndarray = True)\n",
    "\n",
    "import stackview\n",
    "stackview.slice(z, continuous_update=True, zoom_factor=4, zoom_spline_order=0)#, display_width=512, display_height=512)\n"
   ]
  },
  {
   "cell_type": "code",
   "execution_count": 4,
   "metadata": {},
   "outputs": [
    {
     "name": "stdout",
     "output_type": "stream",
     "text": [
      "running rcc\n"
     ]
    },
    {
     "name": "stderr",
     "output_type": "stream",
     "text": [
      "Correlating image pairs: 100%|██████████| 1225/1225 [00:10<00:00, 117.88pairs/s]\n"
     ]
    },
    {
     "name": "stdout",
     "output_type": "stream",
     "text": [
      "Interpolating time points\n",
      "apply_correction took 0.296 seconds\n",
      "estimate took 10.739 seconds\n",
      "\n",
      "estimate_drift_alignment took 10.743 seconds\n",
      " \n",
      "*** Profile printout saved to text file 'prun_rcc.profile'.\n"
     ]
    }
   ],
   "source": [
    "%%prun -s cumulative -q -l 100 -T prun_rcc.profile\n",
    "\n",
    "from nanopyx.methods.drift_alignment import estimate_drift_alignment\n",
    "\n",
    "imSmall = z[:,:,:]\n",
    "\n",
    "imShifted = estimate_drift_alignment(imSmall, time_averaging=10, max_expected_drift=100, shift_calc_method=\"rcc\", apply=\"True\", save_drift_table_path=\"\")\n",
    "stackview.slice(imShifted, continuous_update=True, zoom_factor=4, zoom_spline_order=0)\n"
   ]
  },
  {
   "cell_type": "code",
   "execution_count": null,
   "outputs": [],
   "source": [],
   "metadata": {
    "collapsed": false
   }
  }
 ],
 "metadata": {
  "kernelspec": {
   "display_name": ".venv",
   "language": "python",
   "name": "python3"
  },
  "language_info": {
   "codemirror_mode": {
    "name": "ipython",
    "version": 3
   },
   "file_extension": ".py",
   "mimetype": "text/x-python",
   "name": "python",
   "nbconvert_exporter": "python",
   "pygments_lexer": "ipython3",
   "version": "3.10.9"
  },
  "vscode": {
   "interpreter": {
    "hash": "ff43d62f8f6c4527fe53ff203f9f4b76bff05577ec2443f113edf97841413ea1"
   }
  }
 },
 "nbformat": 4,
 "nbformat_minor": 2
}
