{
 "cells": [
  {
   "cell_type": "code",
   "execution_count": 9,
   "metadata": {},
   "outputs": [
    {
     "name": "stderr",
     "output_type": "stream",
     "text": [
      "[autoreload of nanopyx.methods.drift_alignment.estimator failed: Traceback (most recent call last):\n",
      "  File \"/Users/bsaraiva/opt/miniconda3/envs/nanojdev/lib/python3.9/site-packages/IPython/extensions/autoreload.py\", line 257, in check\n",
      "    superreload(m, reload, self.old_objects)\n",
      "  File \"/Users/bsaraiva/opt/miniconda3/envs/nanojdev/lib/python3.9/site-packages/IPython/extensions/autoreload.py\", line 455, in superreload\n",
      "    module = reload(module)\n",
      "  File \"/Users/bsaraiva/opt/miniconda3/envs/nanojdev/lib/python3.9/importlib/__init__.py\", line 169, in reload\n",
      "    _bootstrap._exec(spec, module)\n",
      "  File \"<frozen importlib._bootstrap>\", line 613, in _exec\n",
      "  File \"<frozen importlib._bootstrap_external>\", line 850, in exec_module\n",
      "  File \"<frozen importlib._bootstrap>\", line 228, in _call_with_frames_removed\n",
      "  File \"/Users/bsaraiva/Code/NanoPyx/src/nanopyx/methods/drift_alignment/estimator.py\", line 10, in <module>\n",
      "    from ...core.analysis.ccm.rcc import rcc\n",
      "  File \"/Users/bsaraiva/Code/NanoPyx/src/nanopyx/core/analysis/ccm/rcc.py\", line 7, in <module>\n",
      "    from ..analysis.ccm.ccm import calculate_ccm_from_ref\n",
      "ModuleNotFoundError: No module named 'nanopyx.core.analysis.analysis'\n",
      "]\n"
     ]
    },
    {
     "name": "stdout",
     "output_type": "stream",
     "text": [
      "The autoreload extension is already loaded. To reload it, use:\n",
      "  %reload_ext autoreload\n",
      "If you find the 'SMLMS2013_HDTubulinAlexa647' dataset useful, please cite: Sage et al, Nature Methods, 2015 - https://doi.org/10.1038/nmeth.3442\n"
     ]
    },
    {
     "data": {
      "text/plain": "VBox(children=(HBox(children=(VBox(children=(ImageWidget(height=512, width=512),)),)), IntSlider(value=250, de…",
      "application/vnd.jupyter.widget-view+json": {
       "version_major": 2,
       "version_minor": 0,
       "model_id": "18efe8d1a1744ffe9c0127b528c598bb"
      }
     },
     "metadata": {},
     "output_type": "display_data"
    }
   ],
   "source": [
    "%load_ext autoreload\n",
    "%autoreload 2\n",
    "\n",
    "from nanopyx.data.examples.download import ExampleDataManager\n",
    "\n",
    "downloader = ExampleDataManager()\n",
    "z = downloader.get_ZipTiffIterator(\"SMLMS2013_HDTubulinAlexa647\", as_ndarray = True)\n",
    "\n",
    "import stackview\n",
    "stackview.slice(z, continuous_update=True, zoom_factor=4, zoom_spline_order=0)#, display_width=512, display_height=512)\n"
   ]
  },
  {
   "cell_type": "code",
   "execution_count": 11,
   "metadata": {},
   "outputs": [
    {
     "name": "stdout",
     "output_type": "stream",
     "text": [
      "Unexpected exception formatting exception. Falling back to standard exception\n"
     ]
    },
    {
     "name": "stderr",
     "output_type": "stream",
     "text": [
      "Traceback (most recent call last):\n",
      "  File \"/Users/bsaraiva/opt/miniconda3/envs/nanojdev/lib/python3.9/site-packages/IPython/core/interactiveshell.py\", line 3397, in run_code\n",
      "    exec(code_obj, self.user_global_ns, self.user_ns)\n",
      "  File \"/var/folders/r0/hl61n04j6sl4vkcp5tx062yx022cr6/T/ipykernel_98818/362795064.py\", line 1, in <cell line: 1>\n",
      "    get_ipython().run_cell_magic('prun', '-s cumulative -q -l 100 -T prun_rcc.profile', '\\nfrom nanopyx.methods.drift_alignment import estimate_drift_alignment\\n\\nimSmall = z[:,:,:]\\n\\nimShifted = estimate_drift_alignment(imSmall, shift_calc_method=\"rcc\", apply=\"True\")\\nstackview.slice(imShifted, continuous_update=True, zoom_factor=4, zoom_spline_order=0)\\n\\n')\n",
      "  File \"/Users/bsaraiva/opt/miniconda3/envs/nanojdev/lib/python3.9/site-packages/IPython/core/interactiveshell.py\", line 2357, in run_cell_magic\n",
      "    result = fn(*args, **kwargs)\n",
      "  File \"/Users/bsaraiva/opt/miniconda3/envs/nanojdev/lib/python3.9/site-packages/IPython/core/magics/execution.py\", line 296, in prun\n",
      "    return self._run_with_profiler(arg_str, opts, self.shell.user_ns)\n",
      "  File \"/Users/bsaraiva/opt/miniconda3/envs/nanojdev/lib/python3.9/site-packages/IPython/core/magics/execution.py\", line 318, in _run_with_profiler\n",
      "    prof = prof.runctx(code, namespace, namespace)\n",
      "  File \"/Users/bsaraiva/opt/miniconda3/envs/nanojdev/lib/python3.9/cProfile.py\", line 100, in runctx\n",
      "    exec(cmd, globals, locals)\n",
      "  File \"<string>\", line 5, in <module>\n",
      "  File \"/Users/bsaraiva/Code/NanoPyx/src/nanopyx/core/utils/time/timeit.py\", line 9, in wrapper\n",
      "    retval = func(*args, **kwargs)\n",
      "  File \"/Users/bsaraiva/Code/NanoPyx/src/nanopyx/methods/drift_alignment/__init__.py\", line 17, in estimate_drift_alignment\n",
      "    corrected_img = estimator.estimate(image_array, roi=roi, **kwargs)\n",
      "  File \"/Users/bsaraiva/Code/NanoPyx/src/nanopyx/core/utils/time/timeit.py\", line 9, in wrapper\n",
      "    retval = func(*args, **kwargs)\n",
      "  File \"/Users/bsaraiva/Code/NanoPyx/src/nanopyx/methods/drift_alignment/estimator.py\", line 51, in estimate\n",
      "    method = self.estimator_table.params[\"shift_calc_method\"]\n",
      "  File \"/Users/bsaraiva/Code/NanoPyx/src/nanopyx/methods/drift_alignment/estimator.py\", line 124, in get_shifts_from_ccm\n",
      "    return (shift_x, shift_y)\n",
      "  File \"/Users/bsaraiva/Code/NanoPyx/src/nanopyx/methods/drift_alignment/estimator.py\", line 112, in get_shift_from_ccm_slice\n",
      "UnboundLocalError: local variable 'shift_x' referenced before assignment\n",
      "\n",
      "During handling of the above exception, another exception occurred:\n",
      "\n",
      "Traceback (most recent call last):\n",
      "  File \"/Users/bsaraiva/opt/miniconda3/envs/nanojdev/lib/python3.9/site-packages/IPython/core/interactiveshell.py\", line 1992, in showtraceback\n",
      "    stb = self.InteractiveTB.structured_traceback(\n",
      "  File \"/Users/bsaraiva/opt/miniconda3/envs/nanojdev/lib/python3.9/site-packages/IPython/core/ultratb.py\", line 1118, in structured_traceback\n",
      "    return FormattedTB.structured_traceback(\n",
      "  File \"/Users/bsaraiva/opt/miniconda3/envs/nanojdev/lib/python3.9/site-packages/IPython/core/ultratb.py\", line 1012, in structured_traceback\n",
      "    return VerboseTB.structured_traceback(\n",
      "  File \"/Users/bsaraiva/opt/miniconda3/envs/nanojdev/lib/python3.9/site-packages/IPython/core/ultratb.py\", line 865, in structured_traceback\n",
      "    formatted_exception = self.format_exception_as_a_whole(etype, evalue, etb, number_of_lines_of_context,\n",
      "  File \"/Users/bsaraiva/opt/miniconda3/envs/nanojdev/lib/python3.9/site-packages/IPython/core/ultratb.py\", line 818, in format_exception_as_a_whole\n",
      "    frames.append(self.format_record(r))\n",
      "  File \"/Users/bsaraiva/opt/miniconda3/envs/nanojdev/lib/python3.9/site-packages/IPython/core/ultratb.py\", line 736, in format_record\n",
      "    result += ''.join(_format_traceback_lines(frame_info.lines, Colors, self.has_colors, lvals))\n",
      "  File \"/Users/bsaraiva/opt/miniconda3/envs/nanojdev/lib/python3.9/site-packages/stack_data/utils.py\", line 145, in cached_property_wrapper\n",
      "    value = obj.__dict__[self.func.__name__] = self.func(obj)\n",
      "  File \"/Users/bsaraiva/opt/miniconda3/envs/nanojdev/lib/python3.9/site-packages/stack_data/core.py\", line 698, in lines\n",
      "    pieces = self.included_pieces\n",
      "  File \"/Users/bsaraiva/opt/miniconda3/envs/nanojdev/lib/python3.9/site-packages/stack_data/utils.py\", line 145, in cached_property_wrapper\n",
      "    value = obj.__dict__[self.func.__name__] = self.func(obj)\n",
      "  File \"/Users/bsaraiva/opt/miniconda3/envs/nanojdev/lib/python3.9/site-packages/stack_data/core.py\", line 649, in included_pieces\n",
      "    pos = scope_pieces.index(self.executing_piece)\n",
      "  File \"/Users/bsaraiva/opt/miniconda3/envs/nanojdev/lib/python3.9/site-packages/stack_data/utils.py\", line 145, in cached_property_wrapper\n",
      "    value = obj.__dict__[self.func.__name__] = self.func(obj)\n",
      "  File \"/Users/bsaraiva/opt/miniconda3/envs/nanojdev/lib/python3.9/site-packages/stack_data/core.py\", line 628, in executing_piece\n",
      "    return only(\n",
      "  File \"/Users/bsaraiva/opt/miniconda3/envs/nanojdev/lib/python3.9/site-packages/executing/executing.py\", line 164, in only\n",
      "    raise NotOneValueFound('Expected one value, found 0')\n",
      "executing.executing.NotOneValueFound: Expected one value, found 0\n"
     ]
    }
   ],
   "source": [
    "%%prun -s cumulative -q -l 100 -T prun_rcc.profile\n",
    "\n",
    "from nanopyx.methods.drift_alignment import estimate_drift_alignment\n",
    "\n",
    "imSmall = z[:,:,:]\n",
    "\n",
    "imShifted = estimate_drift_alignment(imSmall, shift_calc_method=\"rcc\", apply=\"True\")\n",
    "stackview.slice(imShifted, continuous_update=True, zoom_factor=4, zoom_spline_order=0)\n"
   ]
  },
  {
   "cell_type": "code",
   "execution_count": 6,
   "metadata": {},
   "outputs": [
    {
     "name": "stdout",
     "output_type": "stream",
     "text": [
      "apply_correction took 0.194 seconds\n"
     ]
    },
    {
     "data": {
      "text/plain": "VBox(children=(HBox(children=(VBox(children=(ImageWidget(height=512, width=512),)),)), IntSlider(value=250, de…",
      "application/vnd.jupyter.widget-view+json": {
       "version_major": 2,
       "version_minor": 0,
       "model_id": "a2f74a0f5f374f94927677b5dfb80b9f"
      }
     },
     "metadata": {},
     "output_type": "display_data"
    }
   ],
   "source": [
    "from nanopyx.core.analysis.ccm.rcc import rcc\n",
    "from nanopyx.methods.drift_alignment.corrector import DriftCorrector\n",
    "\n",
    "shift = rcc(imSmall)\n",
    "\n",
    "corrector = DriftCorrector()\n",
    "dt = [[0, shift[0][i], shift[1][i]] for i in range(shift[0].shape[0])]\n",
    "corrector.estimator_table.drift_table = dt\n",
    "imShifted = corrector.apply_correction(z)\n",
    "stackview.slice(imShifted, continuous_update=True, zoom_factor=4, zoom_spline_order=0)\n"
   ]
  }
 ],
 "metadata": {
  "kernelspec": {
   "display_name": ".venv",
   "language": "python",
   "name": "python3"
  },
  "language_info": {
   "codemirror_mode": {
    "name": "ipython",
    "version": 3
   },
   "file_extension": ".py",
   "mimetype": "text/x-python",
   "name": "python",
   "nbconvert_exporter": "python",
   "pygments_lexer": "ipython3",
   "version": "3.10.9"
  },
  "vscode": {
   "interpreter": {
    "hash": "ff43d62f8f6c4527fe53ff203f9f4b76bff05577ec2443f113edf97841413ea1"
   }
  }
 },
 "nbformat": 4,
 "nbformat_minor": 2
}
