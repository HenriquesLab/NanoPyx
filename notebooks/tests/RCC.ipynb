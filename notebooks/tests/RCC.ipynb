{
 "cells": [
  {
   "cell_type": "code",
   "execution_count": 1,
   "metadata": {},
   "outputs": [
    {
     "name": "stdout",
     "output_type": "stream",
     "text": [
      "If you find the 'SMLMS2013_HDTubulinAlexa647' dataset useful, please cite: Sage et al, Nature Methods, 2015 - https://doi.org/10.1038/nmeth.3442\n"
     ]
    },
    {
     "data": {
      "text/plain": "VBox(children=(HBox(children=(VBox(children=(ImageWidget(height=512, width=512),)),)), IntSlider(value=250, de…",
      "application/vnd.jupyter.widget-view+json": {
       "version_major": 2,
       "version_minor": 0,
       "model_id": "f223c815b8c644a68798356d2fab5eb5"
      }
     },
     "metadata": {},
     "output_type": "display_data"
    }
   ],
   "source": [
    "%load_ext autoreload\n",
    "%autoreload 2\n",
    "\n",
    "from nanopyx.data.examples.download import ExampleDataManager\n",
    "\n",
    "downloader = ExampleDataManager()\n",
    "z = downloader.get_ZipTiffIterator(\"SMLMS2013_HDTubulinAlexa647\", as_ndarray = True)\n",
    "\n",
    "import stackview\n",
    "stackview.slice(z, continuous_update=True, zoom_factor=4, zoom_spline_order=0)#, display_width=512, display_height=512)\n"
   ]
  },
  {
   "cell_type": "code",
   "execution_count": 3,
   "metadata": {},
   "outputs": [
    {
     "name": "stderr",
     "output_type": "stream",
     "text": [
      "Correlating image pairs: 100%|██████████| 124750/124750 [17:05<00:00, 121.71pairs/s]\n"
     ]
    },
    {
     "name": "stdout",
     "output_type": "stream",
     "text": [
      " \n",
      "*** Profile printout saved to text file 'prun_rcc.profile'.\n"
     ]
    }
   ],
   "source": [
    "%%prun -s cumulative -q -l 100 -T prun_rcc.profile\n",
    "\n",
    "from nanopyx.core.image.rcc import rcc\n",
    "import numpy as np\n",
    "\n",
    "imSmall = z[:,:,:]\n",
    "\n",
    "shift = rcc(imSmall)\n",
    "shift\n"
   ]
  },
  {
   "cell_type": "code",
   "execution_count": 6,
   "metadata": {},
   "outputs": [
    {
     "name": "stdout",
     "output_type": "stream",
     "text": [
      "apply_correction took 0.194 seconds\n"
     ]
    },
    {
     "data": {
      "text/plain": "VBox(children=(HBox(children=(VBox(children=(ImageWidget(height=512, width=512),)),)), IntSlider(value=250, de…",
      "application/vnd.jupyter.widget-view+json": {
       "version_major": 2,
       "version_minor": 0,
       "model_id": "a2f74a0f5f374f94927677b5dfb80b9f"
      }
     },
     "metadata": {},
     "output_type": "display_data"
    }
   ],
   "source": [
    "from nanopyx.methods.drift_alignment.corrector import DriftCorrector\n",
    "\n",
    "corrector = DriftCorrector()\n",
    "dt = [[0, shift[0][i], shift[1][i]] for i in range(shift[0].shape[0])]\n",
    "corrector.estimator_table.drift_table = dt\n",
    "imShifted = corrector.apply_correction(z)\n",
    "stackview.slice(imShifted, continuous_update=True, zoom_factor=4, zoom_spline_order=0)\n"
   ]
  }
 ],
 "metadata": {
  "kernelspec": {
   "display_name": ".venv",
   "language": "python",
   "name": "python3"
  },
  "language_info": {
   "codemirror_mode": {
    "name": "ipython",
    "version": 3
   },
   "file_extension": ".py",
   "mimetype": "text/x-python",
   "name": "python",
   "nbconvert_exporter": "python",
   "pygments_lexer": "ipython3",
   "version": "3.10.9"
  },
  "vscode": {
   "interpreter": {
    "hash": "ff43d62f8f6c4527fe53ff203f9f4b76bff05577ec2443f113edf97841413ea1"
   }
  }
 },
 "nbformat": 4,
 "nbformat_minor": 2
}
