{
 "cells": [
  {
   "cell_type": "code",
   "execution_count": null,
   "metadata": {},
   "outputs": [],
   "source": [
    "%load_ext autoreload\n",
    "%autoreload 2\n",
    "\n",
    "from nanopyx.data.examples.download import ExampleDataManager\n",
    "\n",
    "downloader = ExampleDataManager()\n",
    "z = downloader.get_ZipTiffIterator(\"SMLMS2013_HDTubulinAlexa647\", as_ndarray = True)\n",
    "\n",
    "import stackview\n",
    "stackview.slice(z, continuous_update=True, zoom_factor=4, zoom_spline_order=0)#, display_width=512, display_height=512)\n"
   ]
  },
  {
   "cell_type": "code",
   "execution_count": null,
   "metadata": {},
   "outputs": [],
   "source": [
    "%%prun -s cumulative -q -l 100 -T prun_rcc.profile\n",
    "\n",
    "from nanopyx.core.image.rcc import rcc\n",
    "import numpy as np\n",
    "\n",
    "imSmall = z[:,:,:]\n",
    "\n",
    "shift = rcc(imSmall)\n",
    "shift\n"
   ]
  },
  {
   "cell_type": "code",
   "execution_count": null,
   "metadata": {},
   "outputs": [],
   "source": [
    "from nanopyx.core.image.shift import shift_t2d\n",
    "\n",
    "imShifted = shift_t2d(imSmall, shift[0], shift[1])\n",
    "stackview.slice(imShifted, continuous_update=True, zoom_factor=4, zoom_spline_order=0)\n"
   ]
  }
 ],
 "metadata": {
  "kernelspec": {
   "display_name": ".venv",
   "language": "python",
   "name": "python3"
  },
  "language_info": {
   "codemirror_mode": {
    "name": "ipython",
    "version": 3
   },
   "file_extension": ".py",
   "mimetype": "text/x-python",
   "name": "python",
   "nbconvert_exporter": "python",
   "pygments_lexer": "ipython3",
   "version": "3.10.9"
  },
  "vscode": {
   "interpreter": {
    "hash": "ff43d62f8f6c4527fe53ff203f9f4b76bff05577ec2443f113edf97841413ea1"
   }
  }
 },
 "nbformat": 4,
 "nbformat_minor": 2
}
