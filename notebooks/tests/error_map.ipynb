{
 "cells": [
  {
   "cell_type": "code",
   "execution_count": null,
   "metadata": {},
   "outputs": [],
   "source": [
    "#!cd ../../ && python3 setup.py build_ext --inplace\n",
    "%load_ext autoreload\n",
    "%autoreload 2"
   ]
  },
  {
   "cell_type": "code",
   "execution_count": null,
   "metadata": {},
   "outputs": [],
   "source": [
    "import numpy as np\n",
    "from random import random\n",
    "from numpy.random import randint\n",
    "from scipy.ndimage import gaussian_filter\n",
    "from nanopyx.core.transform.binning import rebin2d\n",
    "from nanopyx.core.transform.image_add_random_noise import (\n",
    "    addMixedGaussianPoissonNoise,\n",
    "    addPerlinNoise,\n",
    "    addRamp,\n",
    ")\n",
    "\n",
    "# generate some random ground truth\n",
    "w = 640\n",
    "h = 640\n",
    "image_gt = np.ones((w, h), dtype=\"float32\") * 1000\n",
    "addPerlinNoise(image_gt, amp=1000, f=100, octaves=3)\n",
    "\n",
    "image_ref = gaussian_filter(image_gt, 15)\n",
    "image_ref = rebin2d(image_ref, 10, mode=\"mean\")\n",
    "# addRamp(image_ref, 1000)\n",
    "addMixedGaussianPoissonNoise(image_ref, 10, 10)\n",
    "\n",
    "image_sr = image_gt.copy()\n",
    "image_sr = gaussian_filter(image_sr, 3)\n",
    "# image_sr = rebin2d(image_sr, 10, mode=\"mean\")\n",
    "\n",
    "\n",
    "import seaborn as sns\n",
    "import matplotlib.pyplot as plt\n",
    "\n",
    "# Create a figure with 3 subplots arranged in a row\n",
    "fig, axs = plt.subplots(1, 3, figsize=(24, 24))\n",
    "sns.heatmap(image_gt, ax=axs[0], cmap='inferno', cbar=False, square=True, xticklabels=False, yticklabels=False)\n",
    "sns.heatmap(image_ref, ax=axs[1], cmap='inferno', cbar=False, square=True, xticklabels=False, yticklabels=False)\n",
    "sns.heatmap(image_sr, ax=axs[2], cmap='inferno', cbar=False, square=True, xticklabels=False, yticklabels=False)\n",
    "axs[0].set_title(\"GT\")\n",
    "axs[1].set_title(\"Ref\")\n",
    "axs[2].set_title(\"SR\")\n",
    "\n",
    "# Show the figure\n",
    "plt.show()\n"
   ]
  },
  {
   "cell_type": "code",
   "execution_count": null,
   "metadata": {},
   "outputs": [],
   "source": [
    "from nanopyx.core.sr.error_map import ErrorMap\n",
    "\n",
    "squirrelErrorMap = ErrorMap()\n",
    "squirrelErrorMap.optimise(image_ref, image_sr)\n",
    "\n",
    "print(f\"RSE: {squirrelErrorMap.getRSE()}\")\n",
    "print(f\"RSP: {squirrelErrorMap.getRSP()}\")\n",
    "print(f\"Sigma: {squirrelErrorMap.getSigma()}\")\n",
    "\n",
    "# Create a figure with 3 subplots arranged in a row\n",
    "fig, axs = plt.subplots(1, 3, figsize=(24, 24))\n",
    "\n",
    "sns.heatmap(squirrelErrorMap.imRSE, ax=axs[0], cmap='viridis', cbar=False, square=True, xticklabels=False, yticklabels=False)\n",
    "sns.heatmap(image_ref, ax=axs[1], cmap='inferno', cbar=False, square=True, xticklabels=False, yticklabels=False)\n",
    "sns.heatmap(squirrelErrorMap.imSRIntensityScaledBlurred, ax=axs[2], cmap='inferno', cbar=False, square=True, xticklabels=False, yticklabels=False)\n",
    "axs[0].set_title(\"Error Map\")\n",
    "axs[1].set_title(\"SR blurred\")\n",
    "axs[2].set_title(\"Ref\")\n",
    "\n",
    "# Show the figure\n",
    "plt.show()\n"
   ]
  }
 ],
 "metadata": {
  "kernelspec": {
   "display_name": "Python 3 (ipykernel)",
   "language": "python",
   "name": "python3"
  },
  "language_info": {
   "codemirror_mode": {
    "name": "ipython",
    "version": 3
   },
   "file_extension": ".py",
   "mimetype": "text/x-python",
   "name": "python",
   "nbconvert_exporter": "python",
   "pygments_lexer": "ipython3",
   "version": "3.10.9"
  },
  "vscode": {
   "interpreter": {
    "hash": "ff43d62f8f6c4527fe53ff203f9f4b76bff05577ec2443f113edf97841413ea1"
   }
  }
 },
 "nbformat": 4,
 "nbformat_minor": 4
}
