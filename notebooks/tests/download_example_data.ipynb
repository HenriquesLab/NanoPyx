{
 "cells": [
  {
   "cell_type": "code",
   "execution_count": 7,
   "metadata": {},
   "outputs": [
    {
     "name": "stdout",
     "output_type": "stream",
     "text": [
      "The autoreload extension is already loaded. To reload it, use:\n",
      "  %reload_ext autoreload\n",
      "r'\\d{5}\\.tif$'\n",
      "[]\n",
      "[]\n"
     ]
    }
   ],
   "source": [
    "%load_ext autoreload\n",
    "%autoreload 2\n",
    "\n",
    "from nanopyx.core.io.download_examples import GetExampleData\n",
    "\n",
    "downloader = GetExampleData()\n",
    "\n",
    "# print(downloader.list_datasets())\n",
    "print(downloader.download_dataset(\"HD_SMLM_Challenge2013_TubulinAlexa647\"))\n"
   ]
  },
  {
   "cell_type": "code",
   "execution_count": null,
   "metadata": {},
   "outputs": [],
   "source": [
    "downloader.list_datasets()\n",
    "# downloader.clear_downloads()"
   ]
  },
  {
   "cell_type": "code",
   "execution_count": null,
   "metadata": {},
   "outputs": [],
   "source": [
    "from nanopyx.core.io.zip_image_loader import open_tiffs_in_zip, zip2zarr\n",
    "import os\n",
    "\n",
    "# images = open_tiffs_in_zip('/var/folders/5h/k40_2g894bb4fv5q510s2mq80000gn/T/nanopix_data/HD_SMLM_Challenge2013_TubulinAlexa647.zip')\n",
    "path = '/var/folders/5h/k40_2g894bb4fv5q510s2mq80000gn/T/nanopix_data/HD_SMLM_Challenge2013_TubulinAlexa647.zarr'\n",
    "if os.path.exists(path):\n",
    "    os.remove(path)\n",
    "\n",
    "print(zip2zarr('/var/folders/5h/k40_2g894bb4fv5q510s2mq80000gn/T/nanopix_data/HD_SMLM_Challenge2013_TubulinAlexa647.zip'))\n",
    "!mv path ~/Downloads"
   ]
  }
 ],
 "metadata": {
  "kernelspec": {
   "display_name": "Python 3 (ipykernel)",
   "language": "python",
   "name": "python3"
  },
  "language_info": {
   "codemirror_mode": {
    "name": "ipython",
    "version": 3
   },
   "file_extension": ".py",
   "mimetype": "text/x-python",
   "name": "python",
   "nbconvert_exporter": "python",
   "pygments_lexer": "ipython3",
   "version": "3.10.8"
  },
  "vscode": {
   "interpreter": {
    "hash": "ff43d62f8f6c4527fe53ff203f9f4b76bff05577ec2443f113edf97841413ea1"
   }
  }
 },
 "nbformat": 4,
 "nbformat_minor": 4
}
