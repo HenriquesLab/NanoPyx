{
 "cells": [
  {
   "cell_type": "code",
   "execution_count": null,
   "metadata": {},
   "outputs": [],
   "source": [
    "%load_ext autoreload\n",
    "%autoreload 2\n",
    "\n",
    "import plotly.express as px\n",
    "from plotly.offline import init_notebook_mode\n",
    "from plotly.subplots import make_subplots\n",
    "import plotly.graph_objects as go\n",
    "# Initialize the Plotly notebook mode\n",
    "init_notebook_mode(connected=True)\n",
    "\n",
    "from nanopyx.data.examples.download import ExampleDataManager\n",
    "\n",
    "downloader = ExampleDataManager()\n",
    "\n",
    "datasets = downloader.list_datasets()\n",
    "print(\"Here is a list of example datasets:\")\n",
    "for i, label in enumerate(datasets):\n",
    "    print(f\"{i+1}) {label}\")\n"
   ]
  },
  {
   "cell_type": "code",
   "execution_count": null,
   "metadata": {},
   "outputs": [],
   "source": [
    "# This assumes that you have a list of filenames and a list of labels for each image\n",
    "filenames = [downloader.get_thumbnail(name) for name in datasets]\n",
    "labels = datasets\n",
    "\n",
    "fig = make_subplots(rows=1, cols=len(filenames), subplot_titles=labels)\n",
    "\n",
    "figs = []\n",
    "for i, filename in enumerate(filenames):\n",
    "    image = imread(filename)[::-1, :]\n",
    "    f = fig.add_trace(go.Heatmap(z=image, showscale=False), 1, i + 1)\n",
    "    # f[\"layout\"][\"yaxis\"][\"scaleanchor\"] = \"x\"\n",
    "    # f.update_layout(yaxis=dict(scaleanchor=\"x\"))\n",
    "\n",
    "fig\n"
   ]
  },
  {
   "cell_type": "code",
   "execution_count": null,
   "metadata": {},
   "outputs": [],
   "source": [
    "z = downloader.get_zarr(\"SMLMS2013_HDTubulinAlexa647\")\n",
    "print(z.info)\n",
    "print(z['data'].info)"
   ]
  }
 ],
 "metadata": {
  "kernelspec": {
   "display_name": "Python 3 (ipykernel)",
   "language": "python",
   "name": "python3"
  },
  "language_info": {
   "codemirror_mode": {
    "name": "ipython",
    "version": 3
   },
   "file_extension": ".py",
   "mimetype": "text/x-python",
   "name": "python",
   "nbconvert_exporter": "python",
   "pygments_lexer": "ipython3",
   "version": "3.10.8"
  },
  "vscode": {
   "interpreter": {
    "hash": "ff43d62f8f6c4527fe53ff203f9f4b76bff05577ec2443f113edf97841413ea1"
   }
  }
 },
 "nbformat": 4,
 "nbformat_minor": 4
}
