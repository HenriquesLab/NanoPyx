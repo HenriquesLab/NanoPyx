{
 "cells": [
  {
   "cell_type": "code",
   "execution_count": null,
   "metadata": {},
   "outputs": [],
   "source": [
    "!cd ../../ && python3 setup.py build_ext --inplace\n",
    "%load_ext autoreload\n",
    "%autoreload 2\n",
    "\n",
    "import plotly.express as px\n",
    "from plotly.offline import init_notebook_mode\n",
    "from plotly.subplots import make_subplots\n",
    "import plotly.graph_objects as go\n",
    "# Initialize the Plotly notebook mode\n",
    "init_notebook_mode(connected=True)"
   ]
  },
  {
   "cell_type": "code",
   "execution_count": null,
   "metadata": {},
   "outputs": [],
   "source": [
    "import numpy as np\n",
    "from random import random\n",
    "from numpy.random import randint\n",
    "from scipy.ndimage import gaussian_filter\n",
    "from nanopyx.core.transform.binning import rebin2d\n",
    "from nanopyx.core.transform.noise.randomNoise import addMixedGaussianPoissonNoise, addPerlinNoise, addRamp\n",
    "\n",
    "# generate some random ground truth\n",
    "w = 1280\n",
    "h = 1280\n",
    "image_gt = np.ones((w, h), dtype=\"float32\") * 1000\n",
    "addPerlinNoise(image_gt, amp=1000, f=100, octaves=3)\n",
    "    \n",
    "image_ref = gaussian_filter(image_gt, 15)\n",
    "image_ref = rebin2d(image_ref, 10, mode=\"mean\")\n",
    "addRamp(image_ref, 1000)\n",
    "addMixedGaussianPoissonNoise(image_ref, 10, 10)  \n",
    "\n",
    "image_sr = image_gt.copy()\n",
    "image_sr = gaussian_filter(image_sr, 3)\n",
    "image_sr = rebin2d(image_sr, 10, mode=\"mean\")\n",
    "\n",
    "fig = make_subplots(\n",
    "    rows=1, cols=3, \n",
    "    subplot_titles=('image_gt','image_ref', 'image_sr'))\n",
    "fig.add_trace(go.Heatmap(z=image_gt), 1, 1)\n",
    "fig.add_trace(go.Heatmap(z=image_ref), 1, 2)   \n",
    "fig.add_trace(go.Heatmap(z=image_sr), 1, 3)    \n"
   ]
  },
  {
   "cell_type": "code",
   "execution_count": null,
   "metadata": {},
   "outputs": [],
   "source": [
    "from nanopyx.core.sr.errorMap import ErrorMap\n",
    "\n",
    "squirrelErrorMap = ErrorMap()\n",
    "squirrelErrorMap.optimise(image_ref, image_sr)\n",
    "\n",
    "px.imshow(squirrelErrorMap.imRSE)"
   ]
  }
 ],
 "metadata": {
  "kernelspec": {
   "display_name": ".venv",
   "language": "python",
   "name": "python3"
  },
  "language_info": {
   "codemirror_mode": {
    "name": "ipython",
    "version": 3
   },
   "file_extension": ".py",
   "mimetype": "text/x-python",
   "name": "python",
   "nbconvert_exporter": "python",
   "pygments_lexer": "ipython3",
   "version": "3.10.8"
  },
  "orig_nbformat": 4,
  "vscode": {
   "interpreter": {
    "hash": "ff43d62f8f6c4527fe53ff203f9f4b76bff05577ec2443f113edf97841413ea1"
   }
  }
 },
 "nbformat": 4,
 "nbformat_minor": 2
}
