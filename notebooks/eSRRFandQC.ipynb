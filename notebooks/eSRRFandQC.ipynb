{
 "cells": [
  {
   "cell_type": "markdown",
   "id": "ff65de9b",
   "metadata": {},
   "source": [
    "# NanoPyx \"Codeless\" Jupyter Notebook\n",
    "\n",
    "This notebook allows you to generate a super-resolution image using SRRF (Super-Resolution Radiality Fluctuations) and then assess quality control metrics such as an Error Map (NanoJ-SQUIRREL), FRC (Fourier Ring Correlation) and Decorrelation analysis.\n",
    "\n",
    "To use this notebook you don't need to interact with any code, just run cells in order and a graphical user interface will pop-up showcasing the parameters for each step.\n",
    "When running this notebook on Colab, it will automatically prompt you to connect to your google Drive, from where you can select the input data.\n",
    "To save the output of this notebook, make sure to select the \"save output\" option. Output will be saved on the same directory as the loaded image. If using an example dataset it will be saved on the path Python is currently running (if locally running the notebook) or on Colab files (if running on Colab, files button on the left bar).\n",
    "If you found this work useful for your research please consider citing our [preprint](https://www.biorxiv.org/content/10.1101/2023.08.13.553080v1)  and out Github repo [![DOI](https://zenodo.org/badge/505388398.svg)](https://zenodo.org/badge/latestdoi/505388398)\n",
    "\n",
    "**SRRF**: Culley S, Tosheva KL, Matos Pereira P, Henriques R. SRRF: Universal live-cell super-resolution microscopy. Int J Biochem Cell Biol. 2018 Aug;101:74-79. doi: 10.1016/j.biocel.2018.05.014. Epub 2018 May 28. PMID: 29852248; PMCID: PMC6025290. \n",
    "\n",
    "**Error Map**: Culley, S., Albrecht, D., Jacobs, C. et al. Quantitative mapping and minimization of super-resolution optical imaging artifacts. Nat Methods 15, 263–266 (2018). https://doi.org/10.1038/nmeth.4605\n",
    "\n",
    "**FRC**: Nieuwenhuizen RP, Lidke KA, Bates M, Puig DL, Grünwald D, Stallinga S, Rieger B. Measuring image resolution in optical nanoscopy. Nat Methods. 2013 Jun;10(6):557-62. doi: 10.1038/nmeth.2448. Epub 2013 Apr 28. PMID: 23624665; PMCID: PMC4149789.\n",
    "\n",
    "**DecorrAnalysis**: Descloux A, Grußmayer KS, Radenovic A. Parameter-free image resolution estimation based on decorrelation analysis. Nat Methods. 2019 Sep;16(9):918-924. doi: 10.1038/s41592-019-0515-7. Epub 2019 Aug 26. PMID: 31451766.  \n",
    "\n",
    "\n"
   ]
  },
  {
   "cell_type": "code",
   "execution_count": null,
   "id": "66cb1942",
   "metadata": {
    "cellView": "form"
   },
   "outputs": [],
   "source": [
    "#@title Fix OpenCL if needed in Google Colab\n",
    "import sys\n",
    "\n",
    "IN_COLAB = 'google.colab' in sys.modules\n",
    "if IN_COLAB:\n",
    "    !sudo apt-get update -qq\n",
    "    !sudo apt-get purge -qq *nvidia* -y\n",
    "    !sudo DEBIAN_FRONTEND=noninteractive apt-get install -qq nvidia-driver-530 -y\n",
    "    exit(0)\n",
    "\n",
    "\n"
   ]
  },
  {
   "cell_type": "code",
   "execution_count": 1,
   "id": "c4f9e0b7",
   "metadata": {
    "cellView": "form"
   },
   "outputs": [
    {
     "name": "stderr",
     "output_type": "stream",
     "text": [
      "/opt/miniconda3/envs/aiobio/lib/python3.11/site-packages/pytools/persistent_dict.py:52: RecommendedHashNotFoundWarning: Unable to import recommended hash 'siphash24.siphash13', falling back to 'hashlib.sha256'. Run 'python3 -m pip install siphash24' to install the recommended hash.\n",
      "  warn(\"Unable to import recommended hash 'siphash24.siphash13', \"\n"
     ]
    },
    {
     "name": "stdout",
     "output_type": "stream",
     "text": [
      "Cupy implementation is not available. Make sure you have the right version of Cupy and CUDA installed.\n"
     ]
    }
   ],
   "source": [
    "#@title Install NanoPyx, import necessary libraries and connect to Google Drive\n",
    "import sys\n",
    "IN_COLAB = 'google.colab' in sys.modules\n",
    "if IN_COLAB:\n",
    "    !pip install -q \"nanopyx[colab]\"\n",
    "    from google.colab import output\n",
    "    output.enable_custom_widget_manager()\n",
    "    from google.colab import drive\n",
    "    drive.mount('/content/drive')\n",
    "else:\n",
    "    !pip install -q \"nanopyx[jupyter]\"\n",
    "\n",
    "import io\n",
    "import os\n",
    "import cv2 as cv\n",
    "import skimage\n",
    "import nanopyx\n",
    "import stackview\n",
    "import numpy as np\n",
    "import tifffile as tiff\n",
    "import matplotlib as mpl\n",
    "import ipywidgets as widgets\n",
    "from PIL import Image\n",
    "from IPython.display import display, clear_output\n",
    "from matplotlib import pyplot as plt\n",
    "\n",
    "try:\n",
    "    from ezinput import EZInput as EasyGui\n",
    "except ImportError:\n",
    "    from nanopyx.core.utils.easy_gui import EasyGui\n",
    "from nanopyx.core.utils.find_files import find_files\n",
    "from nanopyx.data.download import ExampleDataManager\n",
    "\n",
    "cwd = os.getcwd()\n",
    "image_folder = \"datasets\"\n",
    "image_files = []\n",
    "EDM = ExampleDataManager()\n",
    "example_datasets = EDM.list_datasets()\n",
    "\n",
    "_path = os.path.join(\"..\", image_folder)\n",
    "if os.path.exists(_path):\n",
    "    image_files += find_files(_path, \".tif\")\n",
    "if os.path.exists(image_folder):\n",
    "    image_files += find_files(image_folder, \".tif\")\n",
    "image_files += [\"Example dataset: \"+dataset for dataset in example_datasets]\n",
    "\n",
    "\n"
   ]
  },
  {
   "cell_type": "code",
   "execution_count": null,
   "id": "b2dc1a3c",
   "metadata": {
    "cellView": "form"
   },
   "outputs": [
    {
     "data": {
      "application/vnd.jupyter.widget-view+json": {
       "model_id": "a57a99595a594f70afe42a3f7083f807",
       "version_major": 2,
       "version_minor": 0
      },
      "text/plain": [
       "VBox(children=(Button(description='Use Own data', layout=Layout(width='50%'), style=ButtonStyle()), Button(des…"
      ]
     },
     "metadata": {},
     "output_type": "display_data"
    }
   ],
   "source": [
    "#@title Load image stack\n",
    "# Create a GUI\n",
    "gui_data = EasyGui(\"Data Loader\")\n",
    "global own_data\n",
    "own_data = True\n",
    "\n",
    "def on_button_select_own(b):\n",
    "    clear_output()\n",
    "    gui_data.add_label(value=\"Select data to use:\")\n",
    "    gui_data.add_file_upload(\"upload\")\n",
    "    gui_data.add_dropdown(\"cmaps\", description=\"Colormap:\",\n",
    "                          options=sorted(list(mpl.colormaps)),\n",
    "                          value=\"viridis\", remember_value=True)\n",
    "    gui_data.add_button(\"load_data_own\", description=\"Load data\")\n",
    "    gui_data[\"load_data_own\"].on_click(on_button_load_data_clicked)\n",
    "    gui_data.show()\n",
    "\n",
    "def on_button_select_example(b):\n",
    "    clear_output()\n",
    "    gui_data.add_label(value=\"Select data to use:\")\n",
    "    gui_data.add_dropdown(\"data_source\", options=image_files,\n",
    "                    value=\"Example dataset: \"+example_datasets[4], remember_value=True)\n",
    "    gui_data.add_dropdown(\"cmaps\", description=\"Colormap:\",\n",
    "                          options=sorted(list(mpl.colormaps)),\n",
    "                          value=\"viridis\", remember_value=True)\n",
    "    gui_data.add_button(\"load_data\", description=\"Load data\")\n",
    "    gui_data[\"load_data\"].on_click(on_button_load_data_clicked_example)\n",
    "    gui_data.show()\n",
    "\n",
    "def on_button_load_data_clicked(b):\n",
    "    clear_output()\n",
    "    gui_data.show()\n",
    "    global dataset_original\n",
    "    global own_data\n",
    "    own_data = True\n",
    "    # disable button\n",
    "    gui_data[\"load_data_own\"].disabled = True\n",
    "    gui_data[\"load_data_own\"].description = \"Loading...\"\n",
    "    dataset_original = tiff.imread(gui_data[\"upload\"].selected)\n",
    "    gui_data[\"load_data_own\"].disabled = False\n",
    "    gui_data[\"load_data_own\"].description = \"Load data\"\n",
    "    gui_data._main_display.children = gui_data._main_display.children + (stackview.slice(dataset_original, colormap=gui_data[\"cmaps\"].value, continuous_update=True),)\n",
    "\n",
    "def on_button_load_data_clicked_example(b):\n",
    "    clear_output()\n",
    "    gui_data.show()\n",
    "    global dataset_original\n",
    "    global own_data\n",
    "    own_data = False\n",
    "    # disable button\n",
    "    gui_data[\"load_data\"].disabled = True\n",
    "    gui_data[\"load_data\"].description = \"Loading...\"\n",
    "\n",
    "    if gui_data[\"data_source\"].value.startswith(\"Example dataset: \"):\n",
    "        dataset_name = gui_data[\"data_source\"].value.replace(\n",
    "            \"Example dataset: \", \"\")\n",
    "        dataset_original = EDM.get_ZipTiffIterator(dataset_name, as_ndarray=True)\n",
    "        gui_data._main_display.children = gui_data._main_display.children + (stackview.slice(dataset_original, continuous_update=True, colormap=gui_data[\"cmaps\"].value),)\n",
    "    else:\n",
    "        dataset_original = skimage.io.imread(gui_data[\"data_source\"].value)\n",
    "        gui_data._main_display.children = gui_data._main_display.children + (stackview.slice(dataset_original, continuous_update=True, colormap=gui_data[\"cmaps\"].value),)\n",
    "\n",
    "    # enable button\n",
    "    gui_data[\"load_data\"].disabled = False\n",
    "    gui_data[\"load_data\"].description = \"Load data\"\n",
    "    gui_data.save_settings()\n",
    "\n",
    "gui_data.add_button(\"use_own_data\", description=\"Use Own data\")\n",
    "gui_data[\"use_own_data\"].on_click(on_button_select_own)\n",
    "gui_data.add_button(\"use_example_data\", description=\"Use Example data\")\n",
    "gui_data[\"use_example_data\"].on_click(on_button_select_example)\n",
    "gui_data.show()\n",
    "\n",
    "\n"
   ]
  },
  {
   "cell_type": "markdown",
   "id": "ff0fed51",
   "metadata": {},
   "source": [
    "# Use eSRRF to generate a super-resolved image\n",
    "# eSRRF Parameters:\n",
    "\n",
    "- **Ring Radius:** Radius of the ring used to calculate the radiality (in pixels).\n",
    "- **Magnification:** Desired magnification for the generated radiality image.\n",
    "- **eSRRF order:** Flag for types of eSRRF temporal correlations. Order = -1: pairwise product sum; Order = 0: maximum intensity projection; Order = 1: mean; Order = 2: variance ; Order = 3: autocorrelation function.\n",
    "- **Frames-per-timepoint:** How many frames of the original image stack are used to calculated a single eSRRF frame. For example, given an input image with 500 frames, if using 100 frames per timepoint, eSRRF will generate an image stack with 5 super-resolved frames.   \n",
    "\n",
    "\n"
   ]
  },
  {
   "cell_type": "code",
   "execution_count": 3,
   "id": "667d6292",
   "metadata": {
    "cellView": "form"
   },
   "outputs": [
    {
     "data": {
      "application/vnd.jupyter.widget-view+json": {
       "model_id": "0bc7997ab78f48699f1a3e53ddce5ab3",
       "version_major": 2,
       "version_minor": 0
      },
      "text/plain": [
       "VBox(children=(FloatSlider(value=1.5, description='Ring Radius:', layout=Layout(width='50%'), max=3.0, min=0.1…"
      ]
     },
     "metadata": {},
     "output_type": "display_data"
    }
   ],
   "source": [
    "# @title Create eSRRF GUI\n",
    "gui_esrrf = EasyGui(\"esrrf\")\n",
    "from nanopyx.methods import eSRRF\n",
    "from nanopyx.core.transform.sr_temporal_correlations import (\n",
    "    calculate_eSRRF_temporal_correlations,\n",
    ")\n",
    "\n",
    "\n",
    "def run_esrrf(b):\n",
    "    clear_output()\n",
    "    gui_esrrf.show()\n",
    "    gui_esrrf.save_settings()\n",
    "    ring_radius = gui_esrrf[\"ring_radius\"].value\n",
    "    magnification = gui_esrrf[\"magnification\"].value\n",
    "    frames_per_timepoint = gui_esrrf[\"frames_per_timepoint\"].value\n",
    "    sensitivity = gui_esrrf[\"sensitivity\"].value\n",
    "\n",
    "    esrrf_order = gui_esrrf[\"esrrf_order\"].value\n",
    "    if esrrf_order == 1:\n",
    "        esrrf_order = \"AVG\"\n",
    "    elif esrrf_order == 2:\n",
    "        esrrf_order = \"VAR\"\n",
    "    elif esrrf_order == 3:\n",
    "        esrrf_order = \"TAC2\"\n",
    "    # disable button while running\n",
    "    gui_esrrf[\"run\"].disabled = True\n",
    "    gui_esrrf[\"run\"].description = \"Running...\"\n",
    "    if frames_per_timepoint == 0:\n",
    "        frames_per_timepoint = dataset_original.shape[0]\n",
    "    elif frames_per_timepoint > dataset_original.shape[0]:\n",
    "        frames_per_timepoint = dataset_original.shape[0]\n",
    "\n",
    "    output = []\n",
    "\n",
    "    for i in range(dataset_original.shape[0] // frames_per_timepoint):\n",
    "        block = dataset_original[\n",
    "            i * frames_per_timepoint : (i + 1) * frames_per_timepoint\n",
    "        ]\n",
    "        result = eSRRF(\n",
    "            block,\n",
    "            magnification=magnification,\n",
    "            radius=ring_radius,\n",
    "            sensitivity=sensitivity,\n",
    "            doIntensityWeighting=True,\n",
    "        )\n",
    "        output.append(\n",
    "            calculate_eSRRF_temporal_correlations(result[0], esrrf_order)\n",
    "        )\n",
    "\n",
    "    global dataset_esrrf\n",
    "    dataset_esrrf = np.array(output)\n",
    "    # enable button again\n",
    "    gui_esrrf[\"run\"].disabled = False\n",
    "    gui_esrrf[\"run\"].description = \"Run\"\n",
    "    if gui_esrrf[\"save\"].value:\n",
    "        if own_data:\n",
    "            path = gui_data[\"upload\"].selected_path\n",
    "            name = gui_data[\"upload\"].selected_filename.split(\".\")[0]\n",
    "            tiff.imwrite(path + os.sep + name + \"_esrrf.tif\", dataset_esrrf)\n",
    "        else:\n",
    "            name = gui_data[\"data_source\"].value.replace(\n",
    "                \"Example dataset: \", \"\"\n",
    "            )\n",
    "            tiff.imwrite(name + \"_esrrf.tif\", dataset_esrrf)\n",
    "    gui_esrrf._main_display.children = gui_esrrf._main_display.children + (\n",
    "        stackview.slice(\n",
    "            dataset_esrrf,\n",
    "            colormap=gui_esrrf[\"cmaps\"].value,\n",
    "            continuous_update=True,\n",
    "        ),\n",
    "    )\n",
    "\n",
    "\n",
    "default_radius = 1.5\n",
    "default_sensitivity = 1\n",
    "default_magnification = 5\n",
    "default_esrrf_order = 1\n",
    "gui_esrrf.add_float_slider(\n",
    "    \"ring_radius\",\n",
    "    description=\"Ring Radius:\",\n",
    "    min=0.1,\n",
    "    max=3.0,\n",
    "    value=default_radius,\n",
    ")\n",
    "gui_esrrf.add_int_slider(\n",
    "    \"sensitivity\",\n",
    "    description=\"Sensitivity:\",\n",
    "    min=1,\n",
    "    max=10,\n",
    "    value=default_sensitivity,\n",
    ")\n",
    "gui_esrrf.add_int_slider(\n",
    "    \"magnification\",\n",
    "    description=\"Magnification:\",\n",
    "    min=1,\n",
    "    max=10,\n",
    "    value=default_magnification,\n",
    ")\n",
    "gui_esrrf.add_int_slider(\n",
    "    \"esrrf_order\",\n",
    "    description=\"eSRRF order:\",\n",
    "    min=1,\n",
    "    max=3,\n",
    "    value=default_esrrf_order,\n",
    ")\n",
    "gui_esrrf.add_label(value=\"-=-= Time-Lapse =-=-\")\n",
    "gui_esrrf.add_int_slider(\n",
    "    \"frames_per_timepoint\",\n",
    "    description=\"Frames per time-point (0 - auto)\",\n",
    "    min=0,\n",
    "    max=dataset_original.shape[0],\n",
    "    value=dataset_original.shape[0] // 2,\n",
    ")\n",
    "gui_esrrf.add_checkbox(\"save\", description=\"Save Output\", value=True)\n",
    "gui_esrrf.add_dropdown(\n",
    "    \"cmaps\",\n",
    "    description=\"Colormap:\",\n",
    "    options=sorted(list(mpl.colormaps)),\n",
    "    value=\"viridis\",\n",
    "    remember_value=True,\n",
    ")\n",
    "gui_esrrf.add_button(\"run\", description=\"Run\")\n",
    "gui_esrrf[\"run\"].on_click(run_esrrf)\n",
    "gui_esrrf.show()\n",
    "\n",
    "\n"
   ]
  },
  {
   "cell_type": "markdown",
   "id": "78fa1296",
   "metadata": {},
   "source": [
    "## Calculate error map for the eSRRF image\n",
    "\n"
   ]
  },
  {
   "cell_type": "code",
   "execution_count": 4,
   "id": "ee3e878c",
   "metadata": {
    "cellView": "form"
   },
   "outputs": [
    {
     "data": {
      "application/vnd.jupyter.widget-view+json": {
       "model_id": "d41fb6aafc6b494783d6f6a5564dfc34",
       "version_major": 2,
       "version_minor": 0
      },
      "text/plain": [
       "VBox(children=(Checkbox(value=True, description='Save output', layout=Layout(width='50%'), style=CheckboxStyle…"
      ]
     },
     "metadata": {},
     "output_type": "display_data"
    },
    {
     "data": {
      "text/html": [
       "<div>\n",
       "<style scoped>\n",
       "    .dataframe tbody tr th:only-of-type {\n",
       "        vertical-align: middle;\n",
       "    }\n",
       "\n",
       "    .dataframe tbody tr th {\n",
       "        vertical-align: top;\n",
       "    }\n",
       "\n",
       "    .dataframe thead th {\n",
       "        text-align: right;\n",
       "    }\n",
       "</style>\n",
       "<table border=\"1\" class=\"dataframe\">\n",
       "  <thead>\n",
       "    <tr style=\"text-align: right;\">\n",
       "      <th></th>\n",
       "      <th>Slice</th>\n",
       "      <th>RSE</th>\n",
       "      <th>RSP</th>\n",
       "    </tr>\n",
       "  </thead>\n",
       "  <tbody>\n",
       "    <tr>\n",
       "      <th>0</th>\n",
       "      <td>0</td>\n",
       "      <td>49.840855</td>\n",
       "      <td>0.931586</td>\n",
       "    </tr>\n",
       "    <tr>\n",
       "      <th>1</th>\n",
       "      <td>1</td>\n",
       "      <td>45.963131</td>\n",
       "      <td>0.936541</td>\n",
       "    </tr>\n",
       "  </tbody>\n",
       "</table>\n",
       "</div>"
      ],
      "text/plain": [
       "   Slice        RSE       RSP\n",
       "0      0  49.840855  0.931586\n",
       "1      1  45.963131  0.936541"
      ]
     },
     "metadata": {},
     "output_type": "display_data"
    },
    {
     "data": {
      "image/png": "[encoded data removed]",
      "text/plain": [
       "<Figure size 640x480 with 1 Axes>"
      ]
     },
     "metadata": {},
     "output_type": "display_data"
    },
    {
     "data": {
      "text/plain": [
       "<Figure size 640x480 with 0 Axes>"
      ]
     },
     "metadata": {},
     "output_type": "display_data"
    }
   ],
   "source": [
    "# @title Create Error Map GUI\n",
    "gui_error = EasyGui(\"Error\")\n",
    "\n",
    "import numpy as np\n",
    "import pandas as pd\n",
    "from tqdm import tqdm\n",
    "from matplotlib import pyplot as plt\n",
    "from nanopyx.core.transform import ErrorMap\n",
    "\n",
    "\n",
    "def run_error(b):\n",
    "    clear_output()\n",
    "    gui_error.show()\n",
    "    gui_error.save_settings()\n",
    "    gui_error[\"run\"].disabled = True\n",
    "    gui_error[\"run\"].description = \"Calculating...\"\n",
    "    global errormap\n",
    "    error_map = ErrorMap()\n",
    "    error_map.optimise(\n",
    "        np.mean(dataset_original, axis=0), np.mean(dataset_esrrf, axis=0)\n",
    "    )\n",
    "    gui_error[\"run\"].disabled = False\n",
    "    gui_error[\"run\"].description = \"Calculate\"\n",
    "    print(\"RSE: \", error_map.getRSE())\n",
    "    print(\"RSP: \", error_map.getRSP())\n",
    "    errormap = np.array(error_map.imRSE)\n",
    "    if gui_error[\"save\"].value:\n",
    "        if own_data:\n",
    "            path = gui_data[\"upload\"].selected_path\n",
    "            name = gui_data[\"upload\"].selected_filename.split(\".\")[0]\n",
    "            tiff.imwrite(path + os.sep + name + \"_error_map.tif\", errormap)\n",
    "        else:\n",
    "            name = gui_data[\"data_source\"].value.replace(\n",
    "                \"Example dataset: \", \"\"\n",
    "            )\n",
    "            tiff.imwrite(name + \"_error_map.tif\", errormap)\n",
    "    plt.imshow(errormap)\n",
    "    plt.axis(\"off\")\n",
    "    img_buf = io.BytesIO()\n",
    "    plt.savefig(img_buf, format=\"jpeg\")\n",
    "    output_plot = widgets.Output()\n",
    "    with output_plot:\n",
    "        display(Image.open(img_buf))\n",
    "    gui_error._main_display.children = gui_error._main_display.children + (\n",
    "        widgets.Label(value=\"RSE: \" + str(error_map.getRSE())),\n",
    "        widgets.Label(value=\"RSP: \" + str(error_map.getRSP())),\n",
    "        output_plot,\n",
    "    )\n",
    "    plt.clf()\n",
    "\n",
    "\n",
    "def run_error_stack(b):\n",
    "    clear_output()\n",
    "    gui_error.show()\n",
    "    gui_error.save_settings()\n",
    "    gui_error[\"run\"].disabled = True\n",
    "    gui_error[\"run\"].description = \"Calculating...\"\n",
    "\n",
    "    global errormap_stack, rse_rsp_table\n",
    "    global dataset_original, dataset_esrrf\n",
    "    errormap_stack = []\n",
    "    rse_rsp_table = []\n",
    "\n",
    "    # Ensure datasets are 3D\n",
    "    if np.ndim(dataset_original) == 2:\n",
    "        dataset_original = np.expand_dims(dataset_original, axis=0)\n",
    "    if np.ndim(dataset_esrrf) == 2:\n",
    "        dataset_esrrf = np.expand_dims(dataset_esrrf, axis=0)\n",
    "\n",
    "    # Ensures datasets have same number of frames\n",
    "\n",
    "    if dataset_original.shape[0] > dataset_esrrf.shape[0]:\n",
    "        factor = dataset_original.shape[0] // dataset_esrrf.shape[0]\n",
    "        remainder = dataset_original.shape[0] % dataset_esrrf.shape[0]\n",
    "        averaged_blocks = [\n",
    "            np.mean(dataset_original[i * factor : (i + 1) * factor], axis=0)\n",
    "            for i in range(dataset_esrrf.shape[0])\n",
    "        ]\n",
    "        if remainder > 0:\n",
    "            averaged_blocks.append(\n",
    "                np.mean(dataset_original[-remainder:], axis=0)\n",
    "            )\n",
    "        dataset_original = np.array(averaged_blocks)\n",
    "\n",
    "    # Iterate through each slice\n",
    "    print(\"Processing slices...\")\n",
    "    for i in tqdm(range(dataset_original.shape[0]), desc=\"Slices processed\"):\n",
    "        slice_df = dataset_original[i]  #\n",
    "        slice_sr = dataset_esrrf[i]  #\n",
    "\n",
    "        error_map = ErrorMap()\n",
    "        error_map.optimise(slice_df, slice_sr)\n",
    "\n",
    "        # Store the error map and RSE/RSP values\n",
    "        errormap_stack.append(np.array(error_map.imRSE))\n",
    "        rse_rsp_table.append(\n",
    "            {\"Slice\": i, \"RSE\": error_map.getRSE(), \"RSP\": error_map.getRSP()}\n",
    "        )\n",
    "\n",
    "    # Convert results to arrays\n",
    "    errormap_stack = np.array(errormap_stack)  # 3D stack of error maps\n",
    "    rse_rsp_table = pd.DataFrame(rse_rsp_table)  # Tabular results\n",
    "    # Save error map stack as .tif and RSE/RSP table to CSV if required\n",
    "    if gui_error[\"save\"].value:\n",
    "        if own_data:\n",
    "            path = gui_data[\"upload\"].selected_path\n",
    "            name = gui_data[\"upload\"].selected_filename.split(\".\")[0]\n",
    "            tiff.imwrite(\n",
    "                path + os.sep + name + \"_error_map_stack.tif\", errormap_stack\n",
    "            )\n",
    "            rse_rsp_table.to_csv(\n",
    "                path + os.sep + name + \"_rse_rsp_table.csv\", index=False\n",
    "            )\n",
    "        else:\n",
    "            name = gui_data[\"data_source\"].value.replace(\n",
    "                \"Example dataset: \", \"\"\n",
    "            )\n",
    "            tiff.imwrite(name + \"_error_map_stack.tif\", errormap_stack)\n",
    "            rse_rsp_table.to_csv(name + \"_rse_rsp_table.csv\", index=False)\n",
    "\n",
    "    gui_error[\"run\"].disabled = False\n",
    "    gui_error[\"run\"].description = \"Calculate\"\n",
    "\n",
    "    # Display summary\n",
    "    print(\"Calculation completed for all slices.\")\n",
    "    display(rse_rsp_table)\n",
    "    plt.imshow(errormap_stack.mean(axis=0))  # Show mean error map\n",
    "    plt.axis(\"off\")\n",
    "    plt.show()\n",
    "    plt.clf()\n",
    "\n",
    "\n",
    "gui_error.add_checkbox(\"save\", description=\"Save output\", value=True)\n",
    "gui_error.add_dropdown(\n",
    "    \"cmaps\",\n",
    "    description=\"Colormap:\",\n",
    "    options=sorted(list(mpl.colormaps)),\n",
    "    value=\"viridis\",\n",
    "    remember_value=True,\n",
    ")\n",
    "gui_error.add_button(\"run\", description=\"Calculate\")\n",
    "gui_error[\"run\"].on_click(run_error_stack)\n",
    "gui_error.show()\n",
    "\n",
    "\n"
   ]
  },
  {
   "cell_type": "markdown",
   "id": "edbc1fee",
   "metadata": {},
   "source": [
    "## Calculate FRC resolution of the diffraction limited image\n",
    "# FRC Parameters:\n",
    "\n",
    "- **Pixel Size:** Pixel size of the image. Used to calculte resolution values.\n",
    "- **Units:** Pixel size units.\n",
    "- **First/Second Frame:** As FRC is calculated between two frames of the same image stack, these parameters determines which two frames are used for the calculation.\n",
    "\n",
    "\n"
   ]
  },
  {
   "cell_type": "code",
   "execution_count": 5,
   "id": "4464be04",
   "metadata": {
    "cellView": "form"
   },
   "outputs": [
    {
     "data": {
      "application/vnd.jupyter.widget-view+json": {
       "model_id": "814291cbb1a64dea9413bed409e4ed85",
       "version_major": 2,
       "version_minor": 0
      },
      "text/plain": [
       "VBox(children=(IntSlider(value=100, description='Pixel Size:', layout=Layout(width='50%'), max=1000, style=Sli…"
      ]
     },
     "metadata": {},
     "output_type": "display_data"
    },
    {
     "data": {
      "text/plain": [
       "<Figure size 640x480 with 0 Axes>"
      ]
     },
     "metadata": {},
     "output_type": "display_data"
    }
   ],
   "source": [
    "#@title create FRC GUI for original image\n",
    "gui_frc = EasyGui(\"FRC\")\n",
    "\n",
    "import numpy as np\n",
    "from nanopyx.core.analysis.frc import FIRECalculator\n",
    "\n",
    "def run_frc(b):\n",
    "    clear_output()\n",
    "    gui_frc.show()\n",
    "    gui_frc.save_settings()\n",
    "    pixel_size = gui_frc[\"pixel_size\"].value\n",
    "    units = gui_frc[\"units\"].value\n",
    "    first_frame = gui_frc[\"first_frame\"].value\n",
    "    second_frame = gui_frc[\"second_frame\"].value\n",
    "    gui_frc[\"run\"].disabled = True\n",
    "    gui_frc[\"run\"].description = \"Calculating...\"\n",
    "    global frc_calculator_raw\n",
    "    frc_calculator_raw = FIRECalculator(pixel_size=pixel_size, units=units)\n",
    "    frc_calculator_raw.calculate_fire_number(dataset_original[first_frame], dataset_original[second_frame])\n",
    "    gui_frc[\"run\"].disabled = False\n",
    "    gui_frc[\"run\"].description = \"Calculate\"\n",
    "    plot = frc_calculator_raw.plot_frc_curve()\n",
    "    if gui_frc[\"save\"].value:\n",
    "        if own_data:\n",
    "            path = gui_data[\"upload\"].selected_path\n",
    "            name = gui_data[\"upload\"].selected_filename.split(\".\")[0]\n",
    "            tiff.imwrite(path + os.sep + name + \"_original_FRC.tif\", plot)\n",
    "        else:\n",
    "            name = gui_data[\"data_source\"].value.replace(\"Example dataset: \", \"\")\n",
    "            tiff.imwrite(name + \"_FRC_df.tif\", plot)\n",
    "    plt.imshow(plot)\n",
    "    plt.axis(\"off\")\n",
    "    img_buf = io.BytesIO()\n",
    "    plt.savefig(img_buf, format=\"jpeg\")\n",
    "    output_plot = widgets.Output()\n",
    "    with output_plot:\n",
    "        display(Image.open(img_buf))\n",
    "    gui_frc._main_display.children = gui_frc._main_display.children + (output_plot,)\n",
    "    plt.clf()\n",
    "    \n",
    "gui_frc.add_int_slider(\"pixel_size\", description=\"Pixel Size:\", min=0.01, max=1000, value=100)\n",
    "gui_frc.add_dropdown(\"units\", description=\"Units: \", options=[\"nm\", \"um\", \"mm\"], value=\"nm\")\n",
    "gui_frc.add_int_slider(\"first_frame\", description=\"First Frame:\", min=0, max=dataset_original[0].shape[0]-1, value=0)\n",
    "gui_frc.add_int_slider (\"second_frame\", description=\"Second Frame:\", min=0, max=dataset_original[0].shape[0]-1, value=1)\n",
    "gui_frc.add_checkbox(\"save\", description=\"Save Output\", value=True)\n",
    "gui_frc.add_button(\"run\", description=\"Calculate\")\n",
    "gui_frc[\"run\"].on_click(run_frc)\n",
    "gui_frc.show()\n",
    "\n",
    "\n"
   ]
  },
  {
   "cell_type": "markdown",
   "id": "282970c2",
   "metadata": {},
   "source": [
    "## Calculate FRC resolution of the SR image\n",
    "# FRC Parameters:\n",
    "\n",
    "- **Pixel Size:** Pixel size of the image. Used to calculte resolution values.\n",
    "- **Units:** Pixel size units.\n",
    "- **First/Second Frame:** As FRC is calculated between two frames of the same image stack, these parameters determines which two frames are used for the calculation.\n",
    "\n",
    "\n"
   ]
  },
  {
   "cell_type": "code",
   "execution_count": null,
   "id": "fbc8f076",
   "metadata": {
    "cellView": "form"
   },
   "outputs": [
    {
     "data": {
      "application/vnd.jupyter.widget-view+json": {
       "model_id": "7e72195723d1414382edef1d1ac7ec9d",
       "version_major": 2,
       "version_minor": 0
      },
      "text/plain": [
       "VBox(children=(IntSlider(value=100, description='Pixel Size:', layout=Layout(width='50%'), max=1000, style=Sli…"
      ]
     },
     "metadata": {},
     "output_type": "display_data"
    },
    {
     "data": {
      "text/plain": [
       "<Figure size 640x480 with 0 Axes>"
      ]
     },
     "metadata": {},
     "output_type": "display_data"
    }
   ],
   "source": [
    "#@title create FRC GUI for SR image\n",
    "gui_frc_esrrf = EasyGui(\"FRC\")\n",
    "\n",
    "import numpy as np\n",
    "from nanopyx.core.analysis.frc import FIRECalculator\n",
    "\n",
    "def run_frc(b):\n",
    "    clear_output()\n",
    "    gui_frc_esrrf.show()\n",
    "    gui_frc_esrrf.save_settings()\n",
    "    pixel_size = gui_frc_esrrf[\"pixel_size\"].value\n",
    "    units = gui_frc_esrrf[\"units\"].value\n",
    "    first_frame = gui_frc_esrrf[\"first_frame\"].value\n",
    "    second_frame = gui_frc_esrrf[\"second_frame\"].value\n",
    "    gui_frc_esrrf[\"run\"].disabled = True\n",
    "    gui_frc_esrrf[\"run\"].description = \"Calculating...\"\n",
    "    global frc_calculator_raw\n",
    "    frc_calculator_raw = FIRECalculator(pixel_size=pixel_size, units=units)\n",
    "    frc_calculator_raw.calculate_fire_number(dataset_esrrf[first_frame], dataset_esrrf[second_frame])\n",
    "    gui_frc_esrrf[\"run\"].disabled = False\n",
    "    gui_frc_esrrf[\"run\"].description = \"Calculate\"\n",
    "    plot = frc_calculator_raw.plot_frc_curve()\n",
    "    if gui_frc_esrrf[\"save\"].value:\n",
    "        if own_data:\n",
    "            path = gui_data[\"upload\"].selected_path\n",
    "            name = gui_data[\"upload\"].selected_filename.split(\".\")[0]\n",
    "            tiff.imwrite(path + os.sep + name + \"_original_FRC.tif\", plot)\n",
    "        else:\n",
    "            name = gui_data[\"data_source\"].value.replace(\"Example dataset: \", \"\")\n",
    "            tiff.imwrite(name + \"_FRC_df.tif\", plot)\n",
    "    plt.imshow(plot)\n",
    "    plt.axis(\"off\")\n",
    "    img_buf = io.BytesIO()\n",
    "    plt.savefig(img_buf, format=\"jpeg\")\n",
    "    output_plot = widgets.Output()\n",
    "    with output_plot:\n",
    "        display(Image.open(img_buf))\n",
    "    gui_frc_esrrf._main_display.children = gui_frc_esrrf._main_display.children + (output_plot,)\n",
    "    plt.clf()\n",
    "    \n",
    "gui_frc_esrrf.add_int_slider(\"pixel_size\", description=\"Pixel Size:\", min=0.01, max=1000, value=100)\n",
    "gui_frc_esrrf.add_dropdown(\"units\", description=\"Units: \", options=[\"nm\", \"um\", \"mm\"], value=\"nm\")\n",
    "gui_frc_esrrf.add_int_slider(\"first_frame\", description=\"First Frame:\", min=0, max=dataset_esrrf[0].shape[0]-1, value=0)\n",
    "gui_frc_esrrf.add_int_slider (\"second_frame\", description=\"Second Frame:\", min=0, max=dataset_esrrf[0].shape[0]-1, value=1)\n",
    "gui_frc_esrrf.add_checkbox(\"save\", description=\"Save Output\", value=True)\n",
    "gui_frc_esrrf.add_button(\"run\", description=\"Calculate\")\n",
    "gui_frc_esrrf[\"run\"].on_click(run_frc)\n",
    "gui_frc_esrrf.show()\n",
    "\n",
    "\n"
   ]
  },
  {
   "cell_type": "markdown",
   "id": "b4b4f51c",
   "metadata": {},
   "source": [
    "## Calculate Decorrelation analysis resolution of the diffraction limited image\n",
    "# Image Decorrelation Analysis Parameters:\n",
    "\n",
    "- **Pixel Size:** Pixel size of the image. Used to calculte resolution values.\n",
    "- **Units:** Pixel size units.\n",
    "- **Frame:** Frame to be used for decorrelation analysis\n",
    "- **Radius Min/Max:** Resolution calculation by Decorrelation Analysis is performed in the frequency space. These parameters define the range of radii to be used in the calculation. \n",
    "\n",
    "\n"
   ]
  },
  {
   "cell_type": "code",
   "execution_count": 7,
   "id": "3a08bd98",
   "metadata": {
    "cellView": "form"
   },
   "outputs": [
    {
     "data": {
      "application/vnd.jupyter.widget-view+json": {
       "model_id": "4d9274dbe5da4ee5a642a91108633996",
       "version_major": 2,
       "version_minor": 0
      },
      "text/plain": [
       "VBox(children=(IntSlider(value=100, description='Pixel Size:', layout=Layout(width='50%'), max=1000, style=Sli…"
      ]
     },
     "metadata": {},
     "output_type": "display_data"
    },
    {
     "data": {
      "text/plain": [
       "<Figure size 640x480 with 0 Axes>"
      ]
     },
     "metadata": {},
     "output_type": "display_data"
    }
   ],
   "source": [
    "#@title Create Decorrelation Analysis GUI for eSRRF data\n",
    "gui_decorr = EasyGui(\"DecorrAnalysis\")\n",
    "\n",
    "from nanopyx.core.analysis.decorr import DecorrAnalysis\n",
    "\n",
    "def run_decorr(b):\n",
    "    clear_output()\n",
    "    gui_decorr.show()\n",
    "    gui_decorr.save_settings()\n",
    "    pixel_size = gui_decorr[\"pixel_size\"].value\n",
    "    units = gui_decorr[\"units\"].value\n",
    "    first_frame = gui_decorr[\"first_frame\"].value\n",
    "    rmin = gui_decorr[\"rmin\"].value\n",
    "    rmax = gui_decorr[\"rmax\"].value\n",
    "    gui_decorr[\"run\"].disabled = True\n",
    "    gui_decorr[\"run\"].description = \"Calculating...\"\n",
    "    global decorr_calculator\n",
    "    decorr_calculator = DecorrAnalysis(pixel_size=pixel_size, units=units, rmin=rmin, rmax=rmax)\n",
    "    decorr_calculator.run_analysis(dataset_original[first_frame])\n",
    "    gui_decorr[\"run\"].disabled = False\n",
    "    gui_decorr[\"run\"].description = \"Calculate\"\n",
    "    plot = decorr_calculator.plot_results()\n",
    "    if gui_decorr[\"save\"].value:\n",
    "        if own_data:\n",
    "            path = gui_data[\"upload\"].selected_path\n",
    "            name = gui_data[\"upload\"].selected_filename.split(\".\")[0]\n",
    "            tiff.imwrite(path + os.sep + name + \"_eSRRF_decorr_analysis.tif\", plot)\n",
    "        else:\n",
    "            name = gui_data[\"data_source\"].value.replace(\"Example dataset: \", \"\")\n",
    "            tiff.imwrite(name + \"_eSRRF_decorr_analysis.tif\", plot)\n",
    "    plt.imshow(plot)\n",
    "    plt.axis(\"off\")\n",
    "    img_buf = io.BytesIO()\n",
    "    plt.savefig(img_buf, format=\"jpeg\")\n",
    "    output_plot = widgets.Output()\n",
    "    with output_plot:\n",
    "        display(Image.open(img_buf))\n",
    "    gui_decorr._main_display.children = gui_decorr._main_display.children + (output_plot,)\n",
    "    plt.clf()\n",
    "\n",
    "gui_decorr.add_int_slider(\"pixel_size\", description=\"Pixel Size:\", min=0.01, max=1000, value=100)\n",
    "gui_decorr.add_dropdown(\"units\", description=\"Units: \", options=[\"nm\", \"um\", \"mm\"], value=\"nm\")\n",
    "gui_decorr.add_int_slider(\"first_frame\", description=\"Frame to be used:\", min=0, max=dataset_original.shape[0]-1, value=0)\n",
    "gui_decorr.add_float_slider(\"rmin\", description=\"Radius Min:\", min=0.0, max=0.5, value=0.0)\n",
    "gui_decorr.add_float_slider(\"rmax\", description=\"Radius Max:\", min=0.5, max=1.0, value=1.0)\n",
    "gui_decorr.add_checkbox(\"save\", description=\"Save Output\", value=True)\n",
    "gui_decorr.add_button(\"run\", description=\"Calculate\")\n",
    "gui_decorr[\"run\"].on_click(run_decorr)\n",
    "gui_decorr.show()\n",
    "\n",
    "\n"
   ]
  },
  {
   "cell_type": "markdown",
   "id": "19a5a204",
   "metadata": {},
   "source": [
    "## Calculate Decorrelation analysis resolution of the SR image\n",
    "# Image Decorrelation Analysis Parameters:\n",
    "\n",
    "- **Pixel Size:** Pixel size of the image. Used to calculte resolution values.\n",
    "- **Units:** Pixel size units.\n",
    "- **Frame:** Frame to be used for decorrelation analysis\n",
    "- **Radius Min/Max:** Resolution calculation by Decorrelation Analysis is performed in the frequency space. These parameters define the range of radii to be used in the calculation. \n",
    "\n",
    "\n"
   ]
  },
  {
   "cell_type": "code",
   "execution_count": null,
   "id": "d2779b72",
   "metadata": {
    "cellView": "form"
   },
   "outputs": [
    {
     "data": {
      "application/vnd.jupyter.widget-view+json": {
       "model_id": "67ebb4524eac4cbf968f67520ac2cab3",
       "version_major": 2,
       "version_minor": 0
      },
      "text/plain": [
       "VBox(children=(IntSlider(value=100, description='Pixel Size:', layout=Layout(width='50%'), max=1000, style=Sli…"
      ]
     },
     "metadata": {},
     "output_type": "display_data"
    },
    {
     "data": {
      "text/plain": [
       "<Figure size 640x480 with 0 Axes>"
      ]
     },
     "metadata": {},
     "output_type": "display_data"
    }
   ],
   "source": [
    "#@title Create Decorrelation Analysis GUI for eSRRF data\n",
    "gui_decorr_esrrf = EasyGui(\"DecorrAnalysis\")\n",
    "\n",
    "from nanopyx.core.analysis.decorr import DecorrAnalysis\n",
    "\n",
    "def run_decorr(b):\n",
    "    clear_output()\n",
    "    gui_decorr_esrrf.show()\n",
    "    gui_decorr_esrrf.save_settings()\n",
    "    pixel_size = gui_decorr_esrrf[\"pixel_size\"].value\n",
    "    units = gui_decorr_esrrf[\"units\"].value\n",
    "    first_frame = gui_decorr_esrrf[\"first_frame\"].value\n",
    "    rmin = gui_decorr_esrrf[\"rmin\"].value\n",
    "    rmax = gui_decorr_esrrf[\"rmax\"].value\n",
    "    gui_decorr_esrrf[\"run\"].disabled = True\n",
    "    gui_decorr_esrrf[\"run\"].description = \"Calculating...\"\n",
    "    global decorr_calculator\n",
    "    decorr_calculator = DecorrAnalysis(pixel_size=pixel_size, units=units, rmin=rmin, rmax=rmax)\n",
    "    decorr_calculator.run_analysis(dataset_esrrf[first_frame])\n",
    "    gui_decorr_esrrf[\"run\"].disabled = False\n",
    "    gui_decorr_esrrf[\"run\"].description = \"Calculate\"\n",
    "    plot = decorr_calculator.plot_results()\n",
    "    if gui_decorr_esrrf[\"save\"].value:\n",
    "        if own_data:\n",
    "            path = gui_data[\"upload\"].selected_path\n",
    "            name = gui_data[\"upload\"].selected_filename.split(\".\")[0]\n",
    "            tiff.imwrite(path + os.sep + name + \"_eSRRF_decorr_analysis.tif\", plot)\n",
    "        else:\n",
    "            name = gui_data[\"data_source\"].value.replace(\"Example dataset: \", \"\")\n",
    "            tiff.imwrite(name + \"_eSRRF_decorr_analysis.tif\", plot)\n",
    "    plt.imshow(plot)\n",
    "    plt.axis(\"off\")\n",
    "    img_buf = io.BytesIO()\n",
    "    plt.savefig(img_buf, format=\"jpeg\")\n",
    "    output_plot = widgets.Output()\n",
    "    with output_plot:\n",
    "        display(Image.open(img_buf))\n",
    "    gui_decorr_esrrf._main_display.children = gui_decorr_esrrf._main_display.children + (output_plot,)\n",
    "    plt.clf()\n",
    "\n",
    "gui_decorr_esrrf.add_int_slider(\"pixel_size\", description=\"Pixel Size:\", min=0.01, max=1000, value=100)\n",
    "gui_decorr_esrrf.add_dropdown(\"units\", description=\"Units: \", options=[\"nm\", \"um\", \"mm\"], value=\"nm\")\n",
    "gui_decorr_esrrf.add_int_slider(\"first_frame\", description=\"Frame to be used:\", min=0, max=dataset_esrrf.shape[0]-1, value=0)\n",
    "gui_decorr_esrrf.add_float_slider(\"rmin\", description=\"Radius Min:\", min=0.0, max=0.5, value=0.0)\n",
    "gui_decorr_esrrf.add_float_slider(\"rmax\", description=\"Radius Max:\", min=0.5, max=1.0, value=1.0)\n",
    "gui_decorr_esrrf.add_checkbox(\"save\", description=\"Save Output\", value=True)\n",
    "gui_decorr_esrrf.add_button(\"run\", description=\"Calculate\")\n",
    "gui_decorr_esrrf[\"run\"].on_click(run_decorr)\n",
    "gui_decorr_esrrf.show()\n",
    "\n"
   ]
  }
 ],
 "metadata": {
  "kernelspec": {
   "display_name": "aiobio",
   "language": "python",
   "name": "python3"
  },
  "language_info": {
   "codemirror_mode": {
    "name": "ipython",
    "version": 3
   },
   "file_extension": ".py",
   "mimetype": "text/x-python",
   "name": "python",
   "nbconvert_exporter": "python",
   "pygments_lexer": "ipython3",
   "version": "3.11.11"
  }
 },
 "nbformat": 4,
 "nbformat_minor": 5
}
