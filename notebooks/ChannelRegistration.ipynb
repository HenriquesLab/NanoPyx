{
  "cells": [
    {
      "cell_type": "markdown",
      "metadata": {
        "id": "foAw_h522ZwD"
      },
      "source": [
        "# NanoPyx \"Codeless\" Jupyter Notebook\n",
        "\n",
        "### This notebook allows you to perform channel registration of multi-channel image stacks\n",
        "\n",
        "### If you found this work useful for your research please consider citing: https://doi.org/10.5281/zenodo.7699280\n",
        "\n",
        "**Channel Registration** Romain F Laine et al 2019 J. Phys. D: Appl. Phys. 52 163001"
      ]
    },
    {
      "cell_type": "markdown",
      "metadata": {
        "id": "S3C0fcME2ZwE"
      },
      "source": [
        "## Notebook setup cell"
      ]
    },
    {
      "cell_type": "code",
      "execution_count": null,
      "metadata": {
        "cellView": "form",
        "id": "eLISFpoh2ZwG"
      },
      "outputs": [],
      "source": [
        "#@title Install NanoPyx, import necessary libraries and connect to Google Drive\n",
        "!pip install \"nanopyx[all] @git+https://github.com/HenriquesLab/NanoPyx.git\" --quiet\n",
        "import io\n",
        "import os\n",
        "import sys\n",
        "import skimage\n",
        "import stackview\n",
        "import numpy as np\n",
        "import tifffile as tiff\n",
        "import matplotlib as mpl\n",
        "import ipywidgets as widgets\n",
        "from IPython.display import display, clear_output\n",
        "from matplotlib import pyplot as plt\n",
        "\n",
        "from nanopyx.methods import channel_registration\n",
        "from nanopyx.core.utils.easy_gui import EasyGui\n",
        "\n",
        "IN_COLAB = 'google.colab' in sys.modules\n",
        "if IN_COLAB:\n",
        "    from google.colab import output\n",
        "    output.enable_custom_widget_manager()\n",
        "    from google.colab import drive\n",
        "    drive.mount('/content/drive')"
      ]
    },
    {
      "cell_type": "markdown",
      "metadata": {
        "id": "cxX3oUM22ZwG"
      },
      "source": [
        "## Select which image to load"
      ]
    },
    {
      "cell_type": "code",
      "execution_count": null,
      "metadata": {
        "cellView": "form",
        "id": "rCIK-ylw2ZwH"
      },
      "outputs": [],
      "source": [
        "#@title Create image loader GUI\n",
        "# Create a GUI\n",
        "gui_data = EasyGui(\"Data Loader\")\n",
        "\n",
        "def on_button_load_data_clicked(b):\n",
        "    clear_output()\n",
        "    gui_data.show()\n",
        "    global dataset_original\n",
        "    # disable button\n",
        "    gui_data[\"load_data\"].disabled = True\n",
        "    gui_data[\"load_data\"].description = \"Loading...\"\n",
        "    dataset_original = tiff.imread(gui_data[\"upload\"].selected)\n",
        "    gui_data[\"load_data\"].disabled = False\n",
        "    gui_data[\"load_data\"].description = \"Load data\"\n",
        "    display(stackview.slice(dataset_original, colormap=gui_data[\"cmaps\"].value,\n",
        "                            continuous_update=True))\n",
        "\n",
        "gui_data.add_label(\"Select data to use:\")\n",
        "gui_data.add_file_upload(\"upload\")\n",
        "gui_data.add_dropdown(\"cmaps\", description=\"Colormap:\",\n",
        "                      options=sorted(list(mpl.colormaps)),\n",
        "                      value=\"viridis\", remember_value=True))\n",
        "gui_data.add_button(\"load_data\", description=\"Load data\")\n",
        "gui_data[\"load_data\"].on_click(on_button_load_data_clicked)\n",
        "gui_data.show()"
      ]
    },
    {
      "cell_type": "markdown",
      "metadata": {
        "id": "CmucYfBj2ZwH"
      },
      "source": [
        "## Now let's perform the registration"
      ]
    },
    {
      "cell_type": "code",
      "execution_count": null,
      "metadata": {
        "cellView": "form",
        "id": "D181ybdb2ZwI"
      },
      "outputs": [],
      "source": [
        "#@title Create channel registration GUI\n",
        "gui_reg = EasyGui(\"Channel Registration\")\n",
        "\n",
        "def on_button_register(b):\n",
        "    clear_output()\n",
        "    gui_reg.show()\n",
        "    ref_channel = gui_reg[\"ref\"].value\n",
        "    max_shift = gui_reg[\"max\"].value\n",
        "    n_blocks = gui_reg[\"blocks\"].value\n",
        "    min_sim = gui_reg[\"min_sim\"].value\n",
        "    global dataset_registered\n",
        "    gui_reg[\"register\"].disabled = True\n",
        "    gui_reg[\"register\"].description = \"Aligning...\"\n",
        "    dataset_registered = channel_registration.estimate_channel_registration(dataset_original,\n",
        "                                                                            ref_channel,\n",
        "                                                                            max_shift,\n",
        "                                                                            n_blocks,\n",
        "                                                                            min_sim,\n",
        "                                                                            save_translation_masks=False,\n",
        "                                                                            save_ccms=False,\n",
        "                                                                            apply=True)\n",
        "    gui_reg[\"register\"].disabled = False\n",
        "    gui_reg[\"register\"].description = \"Align\"\n",
        "    display(stackview.slice(dataset_registered, colormap=gui_reg[\"cmaps\"].value,\n",
        "                            continuous_update=True))\n",
        "\n",
        "gui_reg.add_label(\"Channel Registration parameters:\")\n",
        "gui_reg.add_int_slider(\"ref\", description=\"Reference channel\", min=0, max=dataset_original.shape[0]-1, value=0)\n",
        "gui_reg.add_int_slider(\"max\", description=\"Max expected drift\", min=0, max=1000, value=10)\n",
        "gui_reg.add_int_slider(\"blocks\", description=\"Blocks per axis\", min=1, max=10, value=5)\n",
        "gui_reg.add_float_slider(\"min_sim\", description=\"Minimum similarity\", min=0, max=1, value=0.5, step=0.1)\n",
        "gui_reg.add_dropdown(\"cmaps\", description=\"Colormap:\",\n",
        "                     options=sorted(list(mpl.colormaps)),\n",
        "                     value=\"viridis\", remember_value=True)))\n",
        "gui_reg.add_button(\"register\", description=\"Register\")\n",
        "gui_reg[\"register\"].on_click(on_button_register)\n",
        "gui_reg.show()"
      ]
    }
  ],
  "metadata": {
    "kernelspec": {
      "display_name": "nanopyxdev",
      "language": "python",
      "name": "python3"
    },
    "language_info": {
      "codemirror_mode": {
        "name": "ipython",
        "version": 3
      },
      "file_extension": ".py",
      "mimetype": "text/x-python",
      "name": "python",
      "nbconvert_exporter": "python",
      "pygments_lexer": "ipython3",
      "version": "3.10.9"
    },
    "orig_nbformat": 4,
    "colab": {
      "provenance": []
    }
  },
  "nbformat": 4,
  "nbformat_minor": 0
}