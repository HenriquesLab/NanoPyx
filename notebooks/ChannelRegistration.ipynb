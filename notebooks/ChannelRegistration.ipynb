{
 "cells": [
  {
   "attachments": {},
   "cell_type": "markdown",
   "metadata": {},
   "source": [
    "# NanoPyx \"Codeless\" Jupyter Notebook\n",
    "\n",
    "### This notebook allows you to generate align a timelapse\n",
    "\n",
    "**Channel Registration** Romain F Laine et al 2019 J. Phys. D: Appl. Phys. 52 163001"
   ]
  },
  {
   "attachments": {},
   "cell_type": "markdown",
   "metadata": {},
   "source": [
    "## Notebook setup cell\n",
    "Run the following cell to install nanopyx"
   ]
  },
  {
   "cell_type": "code",
   "execution_count": null,
   "metadata": {},
   "outputs": [],
   "source": [
    "#@title Install NanoPyx\n",
    "!pip install \"nanopyx[all] @git+https://github.com/HenriquesLab/NanoPyx.git\""
   ]
  },
  {
   "attachments": {},
   "cell_type": "markdown",
   "metadata": {},
   "source": [
    "Now, import all necessary python libraries"
   ]
  },
  {
   "cell_type": "code",
   "execution_count": null,
   "metadata": {},
   "outputs": [],
   "source": [
    "#@title Import libraries\n",
    "import io\n",
    "import os\n",
    "import skimage\n",
    "import numpy as np\n",
    "import tifffile as tiff\n",
    "import ipywidgets as widgets\n",
    "from IPython.display import display, clear_output\n",
    "from matplotlib import pyplot as plt\n",
    "\n",
    "from nanopyx.methods import channel_registration\n",
    "from nanopyx.core.utils.easy_gui import EasyGui\n",
    "from nanopyx.core.utils.easy_gui import view_image_stack, view_curtain_stack, view_image"
   ]
  },
  {
   "attachments": {},
   "cell_type": "markdown",
   "metadata": {},
   "source": [
    "## Select which image to load"
   ]
  },
  {
   "cell_type": "code",
   "execution_count": null,
   "metadata": {},
   "outputs": [],
   "source": [
    "#@title Create image loader GUI\n",
    "%matplotlib widget\n",
    "# Create a GUI\n",
    "gui_data = EasyGui(\"Data Loader\")\n",
    "\n",
    "def on_button_load_data_clicked(b):\n",
    "    clear_output()\n",
    "    gui_data.show()\n",
    "    global dataset_original\n",
    "    # disable button\n",
    "    gui_data[\"load_data\"].disabled = True\n",
    "    gui_data[\"load_data\"].description = \"Loading...\"\n",
    "    dataset_original = tiff.imread(gui_data[\"upload\"].selected)\n",
    "    gui_data[\"load_data\"].disabled = False\n",
    "    gui_data[\"load_data\"].description = \"Load data\"\n",
    "    view_image_stack(dataset_original)\n",
    "\n",
    "gui_data.add_label(\"Select data to use:\")\n",
    "gui_data.add_file_upload(\"upload\")\n",
    "gui_data.add_button(\"load_data\", description=\"Load data\")\n",
    "gui_data[\"load_data\"].on_click(on_button_load_data_clicked)\n",
    "gui_data.show()"
   ]
  },
  {
   "attachments": {},
   "cell_type": "markdown",
   "metadata": {},
   "source": [
    "## Now let's perform the registration"
   ]
  },
  {
   "cell_type": "code",
   "execution_count": null,
   "metadata": {},
   "outputs": [],
   "source": [
    "#@title Create channel registration GUI\n",
    "gui_reg = EasyGui(\"Channel Registration\")\n",
    "\n",
    "def on_button_register(b):\n",
    "    clear_output()\n",
    "    gui_reg.show()\n",
    "    ref_channel = gui_reg[\"ref\"].value\n",
    "    max_shift = gui_reg[\"max\"].value\n",
    "    n_blocks = gui_reg[\"blocks\"].value\n",
    "    min_sim = gui_reg[\"min_sim\"].value\n",
    "    global dataset_registered\n",
    "    gui_reg[\"register\"].disabled = True\n",
    "    gui_reg[\"register\"].description = \"Aligning...\"\n",
    "    dataset_registered = channel_registration.estimate_channel_registration(dataset_original,\n",
    "                                                                            ref_channel,\n",
    "                                                                            max_shift,\n",
    "                                                                            n_blocks,\n",
    "                                                                            min_sim,\n",
    "                                                                            save_translation_masks=False,\n",
    "                                                                            save_ccms=False,\n",
    "                                                                            apply=True)\n",
    "    gui_reg[\"register\"].disabled = False\n",
    "    gui_reg[\"register\"].description = \"Align\"\n",
    "    view_image_stack(dataset_registered)\n",
    "\n",
    "gui_reg.add_label(\"Channel Registration parameters:\")\n",
    "gui_reg.add_int_slider(\"ref\", description=\"Reference channel\", min=0, max=dataset_original.shape[0]-1, value=0)\n",
    "gui_reg.add_int_slider(\"max\", description=\"Max expected drift\", min=0, max=1000, value=10)\n",
    "gui_reg.add_int_slider(\"blocks\", description=\"Blocks per axis\", min=1, max=10, value=5)\n",
    "gui_reg.add_float_slider(\"min_sim\", description=\"Minimum similarity\", min=0, max=1, value=0.5, step=0.1)\n",
    "gui_reg.add_button(\"register\", description=\"Register\")\n",
    "gui_reg[\"register\"].on_click(on_button_register)\n",
    "gui_reg.show()"
   ]
  },
  {
   "cell_type": "code",
   "execution_count": null,
   "metadata": {},
   "outputs": [],
   "source": []
  }
 ],
 "metadata": {
  "kernelspec": {
   "display_name": "nanopyxdev",
   "language": "python",
   "name": "python3"
  },
  "language_info": {
   "codemirror_mode": {
    "name": "ipython",
    "version": 3
   },
   "file_extension": ".py",
   "mimetype": "text/x-python",
   "name": "python",
   "nbconvert_exporter": "python",
   "pygments_lexer": "ipython3",
   "version": "3.10.9"
  },
  "orig_nbformat": 4
 },
 "nbformat": 4,
 "nbformat_minor": 2
}
