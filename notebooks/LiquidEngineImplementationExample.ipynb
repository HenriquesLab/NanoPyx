{
 "cells": [
  {
   "cell_type": "markdown",
   "metadata": {},
   "source": [
    "# Create a Liquid Engine Class implementing the two modes of Scikit-image NLM denoising as two different implementations"
   ]
  },
  {
   "cell_type": "markdown",
   "metadata": {},
   "source": [
    "## Create a random image array to be processed"
   ]
  },
  {
   "cell_type": "code",
   "execution_count": 1,
   "metadata": {},
   "outputs": [],
   "source": [
    "import numpy as np\n"
   ]
  },
  {
   "cell_type": "code",
   "execution_count": 2,
   "metadata": {},
   "outputs": [],
   "source": [
    "img = np.random.random((1, 100, 100)).astype(np.float32)"
   ]
  },
  {
   "cell_type": "markdown",
   "metadata": {},
   "source": [
    "## Benchmark the two implementations"
   ]
  },
  {
   "cell_type": "code",
   "execution_count": 3,
   "metadata": {},
   "outputs": [
    {
     "name": "stdout",
     "output_type": "stream",
     "text": [
      "Cupy implementation is not available. Make sure you have the right version of Cupy and CUDA installed.\n",
      "Agent: MyLiquidEngineClass using ski_nlm_fast ran in 21.019929375033826 seconds\n",
      "Agent: MyLiquidEngineClass using ski_nlm_nonfast ran in 0.3058308749459684 seconds\n",
      "Fastest run type: ski_nlm_nonfast\n",
      "Slowest run type: ski_nlm_fast\n",
      "ski_nlm_nonfast is 68.73x faster than ski_nlm_fast\n"
     ]
    },
    {
     "data": {
      "text/plain": [
       "[(0.3058308749459684, 'ski_nlm_nonfast', None),\n",
       " (21.019929375033826, 'ski_nlm_fast', None)]"
      ]
     },
     "execution_count": 3,
     "metadata": {},
     "output_type": "execute_result"
    }
   ],
   "source": [
    "from myliquidengineclass import MyLiquidEngineClass\n",
    "my_liquid = MyLiquidEngineClass()\n",
    "my_liquid.benchmark(img, patch_size=5, patch_distance=11, h=0.1, sigma=0.0)"
   ]
  },
  {
   "cell_type": "markdown",
   "metadata": {},
   "source": [
    "## Benchmark the two implementations with different image size"
   ]
  },
  {
   "cell_type": "code",
   "execution_count": 4,
   "metadata": {},
   "outputs": [
    {
     "name": "stdout",
     "output_type": "stream",
     "text": [
      "Agent: MyLiquidEngineClass using ski_nlm_fast ran in 0.013037208002060652 seconds\n",
      "Agent: MyLiquidEngineClass using ski_nlm_nonfast ran in 0.06136862491257489 seconds\n",
      "Fastest run type: ski_nlm_fast\n",
      "Slowest run type: ski_nlm_nonfast\n",
      "ski_nlm_fast is 4.71x faster than ski_nlm_nonfast\n"
     ]
    },
    {
     "data": {
      "text/plain": [
       "[(0.013037208002060652, 'ski_nlm_fast', None),\n",
       " (0.06136862491257489, 'ski_nlm_nonfast', None)]"
      ]
     },
     "execution_count": 4,
     "metadata": {},
     "output_type": "execute_result"
    }
   ],
   "source": [
    "my_liquid = MyLiquidEngineClass()\n",
    "my_liquid.benchmark(np.random.random((500, 500)).astype(np.float32), patch_size=5, patch_distance=1, h=0.1, sigma=0.0)"
   ]
  }
 ],
 "metadata": {
  "kernelspec": {
   "display_name": "ocb_dev",
   "language": "python",
   "name": "python3"
  },
  "language_info": {
   "codemirror_mode": {
    "name": "ipython",
    "version": 3
   },
   "file_extension": ".py",
   "mimetype": "text/x-python",
   "name": "python",
   "nbconvert_exporter": "python",
   "pygments_lexer": "ipython3",
   "version": "3.10.14"
  }
 },
 "nbformat": 4,
 "nbformat_minor": 2
}
