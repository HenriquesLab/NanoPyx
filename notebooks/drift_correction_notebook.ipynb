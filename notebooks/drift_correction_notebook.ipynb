{
 "cells": [
  {
   "cell_type": "markdown",
   "metadata": {},
   "source": [
    "NanoPyx is a python library that implements the methods available in NanoJ, an ImageJ plugin for super-resolution microscopy image processing.\n",
    "This notebooks shows how to correct drift during image acquisition."
   ]
  },
  {
   "cell_type": "code",
   "execution_count": 1,
   "metadata": {},
   "outputs": [
    {
     "name": "stdout",
     "output_type": "stream",
     "text": [
      "generate_timelapse_drift took 0.144 seconds\n"
     ]
    },
    {
     "data": {
      "text/plain": "<matplotlib.image.AxesImage at 0x17746bfd0>"
     },
     "execution_count": 1,
     "metadata": {},
     "output_type": "execute_result"
    },
    {
     "data": {
      "text/plain": "<Figure size 432x288 with 1 Axes>",
      "image/png": "[encoded data removed]"
     },
     "metadata": {
      "needs_background": "light"
     },
     "output_type": "display_data"
    }
   ],
   "source": [
    "# Imports and test image loading\n",
    "import nanopyx\n",
    "import napari\n",
    "from matplotlib import pyplot as plt\n",
    "\n",
    "from nanopyx.core.utils.imagegenerator.beads import  generate_timelapse_drift\n",
    "\n",
    "img = generate_timelapse_drift(shape=(20, 150, 150), drift=3)\n",
    "plt.imshow(img[0])\n",
    "#viewer = napari.view_image(image_stack)"
   ]
  },
  {
   "cell_type": "markdown",
   "metadata": {},
   "source": [
    "To correct the drift and align the image stack, the estimate drift correction method from the library can be used.\n",
    "This method takes several parameters that can be used to fine tune the alignment but also to control the library behaviour:\n",
    "- apply: boolean, if true will automatically apply the drift estimation to the image_stack\n",
    "- ref_option: 0 or 1, if 0 uses always the first frame as reference for alignemnt, if 1 uses the previous frame\n",
    "- time_averaging: int, number of frames to be averaged for drift calculation, 1 skips averaging\n",
    "- max_expected_drift: int, maximum number of pixels for alignment\n",
    "- use_roi: boolean, if true requires a roi to be defined in \"roi\", calculates drift based only on roi\n",
    "- roi: (int x0, int y0, int x1, int y1), tuple containing 2 opposing corner coordinates of a rectangle roi"
   ]
  },
  {
   "cell_type": "code",
   "execution_count": 2,
   "metadata": {},
   "outputs": [
    {
     "name": "stderr",
     "output_type": "stream",
     "text": [
      "/Users/bsaraiva/Code/eNanoScoPy/src/enanoscopy/methods/image/transform/fft_helper_functions.py:60: ComplexWarning: Casting complex values to real discards the imaginary part\n",
      "  pixels_out[p0] = pixels[p1]\n",
      "/Users/bsaraiva/Code/eNanoScoPy/src/enanoscopy/methods/image/transform/cross_correlation_map.py:62: ComplexWarning: Casting complex values to real discards the imaginary part\n",
      "  ccm_pixels[i] = value\n"
     ]
    },
    {
     "name": "stdout",
     "output_type": "stream",
     "text": [
      "(5, 105, 105)\n",
      "Interpolating time points\n"
     ]
    }
   ],
   "source": [
    "corrected_image = nanopyx.estimate_drift_correction(image_stack, time_averaging=100, max_expected_drift=10, ref_option=0, normalize=True, apply=True)\n",
    "#corrected_image_layer = napari.add_image(corrected_image)"
   ]
  },
  {
   "cell_type": "markdown",
   "metadata": {},
   "source": [
    "View image correction in napari"
   ]
  },
  {
   "cell_type": "code",
   "execution_count": 3,
   "metadata": {},
   "outputs": [],
   "source": [
    "viewer = napari.view_image(corrected_image)\n",
    "new_layer = viewer.add_image(image_stack, name=\"corrected image stack\")"
   ]
  },
  {
   "cell_type": "markdown",
   "metadata": {},
   "source": [
    "Drift table is automatically exported as a csv file, however can also be exported as a npy file by setting the method parameter save_as_npy to True:"
   ]
  },
  {
   "cell_type": "code",
   "execution_count": 4,
   "metadata": {},
   "outputs": [
    {
     "name": "stderr",
     "output_type": "stream",
     "text": [
      "/Users/bsaraiva/Code/eNanoScoPy/src/enanoscopy/methods/image/transform/fft_helper_functions.py:60: ComplexWarning: Casting complex values to real discards the imaginary part\n",
      "  pixels_out[p0] = pixels[p1]\n",
      "/Users/bsaraiva/Code/eNanoScoPy/src/enanoscopy/methods/image/transform/cross_correlation_map.py:62: ComplexWarning: Casting complex values to real discards the imaginary part\n",
      "  ccm_pixels[i] = value\n"
     ]
    },
    {
     "name": "stdout",
     "output_type": "stream",
     "text": [
      "(5, 105, 105)\n",
      "Interpolating time points\n"
     ]
    }
   ],
   "source": [
    "corrected_image = nanopyx.estimate_drift_correction(image_stack, save_as_npy=False, time_averaging=100, max_expected_drift=10, ref_option=0, normalize=True, apply=True)"
   ]
  },
  {
   "cell_type": "markdown",
   "metadata": {},
   "source": [
    "To reuse the drift table and directly apply to an image without estimating drift correction first, just use apply_drift_correction method."
   ]
  },
  {
   "cell_type": "code",
   "execution_count": 5,
   "metadata": {},
   "outputs": [
    {
     "ename": "UnpicklingError",
     "evalue": "Failed to interpret file '/Users/bsaraiva/Code/eNanoScoPy/src/enanoscopy/images/drift_test.tif' as a pickle",
     "output_type": "error",
     "traceback": [
      "\u001B[0;31m---------------------------------------------------------------------------\u001B[0m",
      "\u001B[0;31mUnpicklingError\u001B[0m                           Traceback (most recent call last)",
      "File \u001B[0;32m~/opt/miniconda3/envs/nanojdev/lib/python3.9/site-packages/numpy/lib/npyio.py:438\u001B[0m, in \u001B[0;36mload\u001B[0;34m(file, mmap_mode, allow_pickle, fix_imports, encoding)\u001B[0m\n\u001B[1;32m    437\u001B[0m \u001B[39mtry\u001B[39;00m:\n\u001B[0;32m--> 438\u001B[0m     \u001B[39mreturn\u001B[39;00m pickle\u001B[39m.\u001B[39;49mload(fid, \u001B[39m*\u001B[39;49m\u001B[39m*\u001B[39;49mpickle_kwargs)\n\u001B[1;32m    439\u001B[0m \u001B[39mexcept\u001B[39;00m \u001B[39mException\u001B[39;00m \u001B[39mas\u001B[39;00m e:\n",
      "\u001B[0;31mUnpicklingError\u001B[0m: invalid load key, '*'.",
      "\nThe above exception was the direct cause of the following exception:\n",
      "\u001B[0;31mUnpicklingError\u001B[0m                           Traceback (most recent call last)",
      "\u001B[1;32m/Users/bsaraiva/Code/eNanoScoPy/src/enanoscopy/notebooks/drift_correction_notebook.ipynb Cell 10'\u001B[0m in \u001B[0;36m<cell line: 1>\u001B[0;34m()\u001B[0m\n\u001B[0;32m----> <a href='vscode-notebook-cell:/Users/bsaraiva/Code/eNanoScoPy/src/enanoscopy/notebooks/drift_correction_notebook.ipynb#ch0000010?line=0'>1</a>\u001B[0m corrected_image \u001B[39m=\u001B[39m enanoscopy\u001B[39m.\u001B[39;49mapply_drift_correction(image_stack)\n\u001B[1;32m      <a href='vscode-notebook-cell:/Users/bsaraiva/Code/eNanoScoPy/src/enanoscopy/notebooks/drift_correction_notebook.ipynb#ch0000010?line=1'>2</a>\u001B[0m new_layer \u001B[39m=\u001B[39m viewer\u001B[39m.\u001B[39madd_image(corrected_image, name\u001B[39m=\u001B[39m\u001B[39m\"\u001B[39m\u001B[39mcorrected with loaded npy\u001B[39m\u001B[39m\"\u001B[39m)\n",
      "File \u001B[0;32m~/Code/eNanoScoPy/src/enanoscopy/__init__.py:20\u001B[0m, in \u001B[0;36mapply_drift_correction\u001B[0;34m(image_array, path, drift_table)\u001B[0m\n\u001B[1;32m     18\u001B[0m corrector \u001B[39m=\u001B[39m DriftCorrector()\n\u001B[1;32m     19\u001B[0m \u001B[39mif\u001B[39;00m drift_table \u001B[39mis\u001B[39;00m \u001B[39mNone\u001B[39;00m:\n\u001B[0;32m---> 20\u001B[0m     corrector\u001B[39m.\u001B[39;49mload_drift_table(path\u001B[39m=\u001B[39;49mpath)\n\u001B[1;32m     21\u001B[0m corrected_img \u001B[39m=\u001B[39m corrector\u001B[39m.\u001B[39mapply_correction(image_array)\n\u001B[1;32m     23\u001B[0m \u001B[39mif\u001B[39;00m corrected_img \u001B[39mis\u001B[39;00m \u001B[39mnot\u001B[39;00m \u001B[39mNone\u001B[39;00m:\n",
      "File \u001B[0;32m~/Code/eNanoScoPy/src/enanoscopy/methods/drift_correction/drift_corrector.py:44\u001B[0m, in \u001B[0;36mDriftCorrector.load_drift_table\u001B[0;34m(self, path)\u001B[0m\n\u001B[1;32m     41\u001B[0m \u001B[39melse\u001B[39;00m:\n\u001B[1;32m     42\u001B[0m     filepath \u001B[39m=\u001B[39m path\n\u001B[0;32m---> 44\u001B[0m \u001B[39mself\u001B[39;49m\u001B[39m.\u001B[39;49mestimator_table\u001B[39m.\u001B[39;49mimport_npy(filepath)\n",
      "File \u001B[0;32m~/Code/eNanoScoPy/src/enanoscopy/methods/drift_correction/drift_estimator_table.py:52\u001B[0m, in \u001B[0;36mDriftEstimatorTable.import_npy\u001B[0;34m(self, path)\u001B[0m\n\u001B[1;32m     50\u001B[0m \u001B[39melse\u001B[39;00m:\n\u001B[1;32m     51\u001B[0m     filepath \u001B[39m=\u001B[39m path\n\u001B[0;32m---> 52\u001B[0m tmp \u001B[39m=\u001B[39m np\u001B[39m.\u001B[39;49mload(filepath, allow_pickle\u001B[39m=\u001B[39;49m\u001B[39mTrue\u001B[39;49;00m)\n\u001B[1;32m     54\u001B[0m \u001B[39mfor\u001B[39;00m i \u001B[39min\u001B[39;00m \u001B[39mrange\u001B[39m(tmp\u001B[39m.\u001B[39mshape[\u001B[39m0\u001B[39m]\u001B[39m-\u001B[39m\u001B[39m1\u001B[39m):\n\u001B[1;32m     55\u001B[0m     key, value \u001B[39m=\u001B[39m tmp[i]\n",
      "File \u001B[0;32m~/opt/miniconda3/envs/nanojdev/lib/python3.9/site-packages/numpy/lib/npyio.py:440\u001B[0m, in \u001B[0;36mload\u001B[0;34m(file, mmap_mode, allow_pickle, fix_imports, encoding)\u001B[0m\n\u001B[1;32m    438\u001B[0m     \u001B[39mreturn\u001B[39;00m pickle\u001B[39m.\u001B[39mload(fid, \u001B[39m*\u001B[39m\u001B[39m*\u001B[39mpickle_kwargs)\n\u001B[1;32m    439\u001B[0m \u001B[39mexcept\u001B[39;00m \u001B[39mException\u001B[39;00m \u001B[39mas\u001B[39;00m e:\n\u001B[0;32m--> 440\u001B[0m     \u001B[39mraise\u001B[39;00m pickle\u001B[39m.\u001B[39mUnpicklingError(\n\u001B[1;32m    441\u001B[0m         \u001B[39mf\u001B[39m\u001B[39m\"\u001B[39m\u001B[39mFailed to interpret file \u001B[39m\u001B[39m{\u001B[39;00mfile\u001B[39m!r}\u001B[39;00m\u001B[39m as a pickle\u001B[39m\u001B[39m\"\u001B[39m) \u001B[39mfrom\u001B[39;00m \u001B[39me\u001B[39;00m\n",
      "\u001B[0;31mUnpicklingError\u001B[0m: Failed to interpret file '/Users/bsaraiva/Code/eNanoScoPy/src/enanoscopy/images/drift_test.tif' as a pickle"
     ]
    },
    {
     "ename": "",
     "evalue": "",
     "output_type": "error",
     "traceback": [
      "\u001B[1;31mThe Kernel crashed while executing code in the the current cell or a previous cell. Please review the code in the cell(s) to identify a possible cause of the failure. Click <a href='https://aka.ms/vscodeJupyterKernelCrash'>here</a> for more info. View Jupyter <a href='command:jupyter.viewOutput'>log</a> for further details."
     ]
    }
   ],
   "source": [
    "corrected_image = nanopyx.apply_drift_correction(image_stack)\n",
    "new_layer = viewer.add_image(corrected_image, name=\"corrected with loaded npy\")"
   ]
  }
 ],
 "metadata": {
  "kernelspec": {
   "display_name": "Python 3.9.12 ('nanojdev')",
   "language": "python",
   "name": "python3"
  },
  "language_info": {
   "codemirror_mode": {
    "name": "ipython",
    "version": 3
   },
   "file_extension": ".py",
   "mimetype": "text/x-python",
   "name": "python",
   "nbconvert_exporter": "python",
   "pygments_lexer": "ipython3",
   "version": "3.9.12"
  },
  "orig_nbformat": 4,
  "vscode": {
   "interpreter": {
    "hash": "d2cabc474857603d261aaea8f544bda49fe7f92ad884e88ea462478db24ad80c"
   }
  }
 },
 "nbformat": 4,
 "nbformat_minor": 2
}
