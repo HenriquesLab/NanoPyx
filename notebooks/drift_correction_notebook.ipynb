{
 "cells": [
  {
   "cell_type": "markdown",
   "metadata": {},
   "source": [
    "NanoPyx is a python library that implements the methods available in NanoJ, an ImageJ plugin for super-resolution microscopy image processing.\n",
    "This notebooks shows how to correct drift after image acquisition."
   ]
  },
  {
   "cell_type": "code",
   "execution_count": null,
   "metadata": {},
   "outputs": [],
   "source": [
    "# Imports and test image loading\n",
    "import stackview\n",
    "\n",
    "from nanopyx.methods.drift_alignment import estimate_drift_alignment, apply_drift_alignment\n",
    "from nanopyx.core.image.generate.beads import  generate_timelapse_drift\n",
    "\n",
    "img_stack = generate_timelapse_drift(n_objects=10, shape=(20, 150, 150), drift=3)\n",
    "stackview.slice(img_stack)"
   ]
  },
  {
   "cell_type": "markdown",
   "metadata": {},
   "source": [
    "To correct the drift and align the image stack, the estimate drift correction method from the library can be used.\n",
    "This method takes several parameters that can be used to fine tune the alignment but also to control the library behaviour:\n",
    "- apply: boolean, if true will automatically apply the drift estimation to the image_stack\n",
    "- ref_option: 0 or 1, if 0 uses always the first frame as reference for alignment, if 1 uses the previous frame\n",
    "- time_averaging: int, number of frames to be averaged for drift calculation, 1 skips averaging\n",
    "- max_expected_drift: int, maximum number of pixels for alignment\n",
    "- use_roi: boolean, if true requires a roi to be defined in \"roi\", calculates drift based only on roi\n",
    "- roi: (int x0, int y0, int x1, int y1), tuple containing 2 opposing corner coordinates of a rectangle roi"
   ]
  },
  {
   "cell_type": "code",
   "execution_count": null,
   "metadata": {},
   "outputs": [],
   "source": [
    "corrected_image = estimate_drift_alignment(img_stack, time_averaging=2, max_expected_drift=10, ref_option=1, normalize=True, apply=True)\n",
    "stackview.slice(corrected_image)"
   ]
  },
  {
   "cell_type": "markdown",
   "metadata": {},
   "source": [
    "Drift table is automatically exported as a csv file, however can also be exported as a npy file by setting the parameter save_as_npy to False:"
   ]
  },
  {
   "cell_type": "code",
   "execution_count": null,
   "metadata": {},
   "outputs": [],
   "source": [
    "corrected_image = estimate_drift_alignment(img_stack, save_as_npy=False, time_averaging=2, max_expected_drift=10, ref_option=0, normalize=True, apply=True)\n",
    "stackview.slice(corrected_image)"
   ]
  },
  {
   "cell_type": "markdown",
   "metadata": {},
   "source": [
    "To reuse the drift table and directly apply to an image without estimating drift correction first, just use apply_drift_correction method."
   ]
  },
  {
   "cell_type": "code",
   "execution_count": null,
   "metadata": {},
   "outputs": [],
   "source": [
    "corrected_image = apply_drift_alignment(img_stack, path=\"_drift_table.csv\")\n",
    "stackview.slice(corrected_image)"
   ]
  }
 ],
 "metadata": {
  "kernelspec": {
   "display_name": "Python 3.9.12 ('nanojdev')",
   "language": "python",
   "name": "python3"
  },
  "language_info": {
   "codemirror_mode": {
    "name": "ipython",
    "version": 3
   },
   "file_extension": ".py",
   "mimetype": "text/x-python",
   "name": "python",
   "nbconvert_exporter": "python",
   "pygments_lexer": "ipython3",
   "version": "3.9.12"
  },
  "vscode": {
   "interpreter": {
    "hash": "d2cabc474857603d261aaea8f544bda49fe7f92ad884e88ea462478db24ad80c"
   }
  }
 },
 "nbformat": 4,
 "nbformat_minor": 2
}
