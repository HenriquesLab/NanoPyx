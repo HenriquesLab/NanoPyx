{
 "cells": [
  {
   "cell_type": "markdown",
   "metadata": {},
   "source": [
    "NanoPyx is a python library that implements the methods available in NanoJ, an ImageJ plugin for super-resolution microscopy image processing.\n",
    "This notebooks shows how to correct drift after image acquisition."
   ]
  },
  {
   "cell_type": "code",
   "execution_count": 4,
   "outputs": [
    {
     "name": "stdout",
     "output_type": "stream",
     "text": [
      "generate_timelapse_drift took 0.181 seconds\n"
     ]
    },
    {
     "data": {
      "text/plain": "VBox(children=(HBox(children=(VBox(children=(ImageWidget(height=150, width=150),)),)), IntSlider(value=10, con…",
      "application/vnd.jupyter.widget-view+json": {
       "version_major": 2,
       "version_minor": 0,
       "model_id": "8ef5209a35fe462b923f8c5fc513f2d7"
      }
     },
     "metadata": {},
     "output_type": "display_data"
    }
   ],
   "source": [
    "# Imports and test image loading\n",
    "import nanopyx\n",
    "import numpy as np\n",
    "import stackview\n",
    "from matplotlib import pyplot as plt\n",
    "\n",
    "from nanopyx.core.utils.imagegenerator.beads import  generate_timelapse_drift\n",
    "\n",
    "img_stack = generate_timelapse_drift(n_objects=10, shape=(20, 150, 150), drift=3)\n",
    "stackview.slice(img_stack)"
   ],
   "metadata": {
    "collapsed": false
   }
  },
  {
   "cell_type": "markdown",
   "metadata": {},
   "source": [
    "To correct the drift and align the image stack, the estimate drift correction method from the library can be used.\n",
    "This method takes several parameters that can be used to fine tune the alignment but also to control the library behaviour:\n",
    "- apply: boolean, if true will automatically apply the drift estimation to the image_stack\n",
    "- ref_option: 0 or 1, if 0 uses always the first frame as reference for alignment, if 1 uses the previous frame\n",
    "- time_averaging: int, number of frames to be averaged for drift calculation, 1 skips averaging\n",
    "- max_expected_drift: int, maximum number of pixels for alignment\n",
    "- use_roi: boolean, if true requires a roi to be defined in \"roi\", calculates drift based only on roi\n",
    "- roi: (int x0, int y0, int x1, int y1), tuple containing 2 opposing corner coordinates of a rectangle roi"
   ]
  },
  {
   "cell_type": "code",
   "execution_count": 5,
   "metadata": {},
   "outputs": [
    {
     "name": "stdout",
     "output_type": "stream",
     "text": [
      "_normalize_ccm took 11.042833 mseconds\n",
      "_calculate_ccm took 12.530088 mseconds\n",
      "_normalize_ccm took 12.393951 mseconds\n",
      "_calculate_ccm took 13.878107 mseconds\n",
      "_normalize_ccm took 12.766123 mseconds\n",
      "_calculate_ccm took 14.159918 mseconds\n",
      "_normalize_ccm took 16.921043 mseconds\n",
      "_calculate_ccm took 18.884897 mseconds\n",
      "_normalize_ccm took 13.755798 mseconds\n",
      "_calculate_ccm took 15.926123 mseconds\n",
      "_normalize_ccm took 15.349388 mseconds\n",
      "_calculate_ccm took 17.058611 mseconds\n",
      "_normalize_ccm took 18.421173 mseconds\n",
      "_calculate_ccm took 20.619869 mseconds\n",
      "_normalize_ccm took 18.964052 mseconds\n",
      "_calculate_ccm took 21.393776 mseconds\n",
      "_normalize_ccm took 21.326065 mseconds\n",
      "_calculate_ccm took 24.103165 mseconds\n",
      "_normalize_ccm took 27.863026 mseconds\n",
      "_calculate_ccm took 31.440258 mseconds\n",
      "Interpolating time points\n",
      "apply_correction took 0.034 seconds\n",
      "estimate took 0.299 seconds\n",
      "None\n",
      "estimate_drift_alignment took 1.498 seconds\n"
     ]
    },
    {
     "data": {
      "text/plain": "VBox(children=(HBox(children=(VBox(children=(ImageWidget(height=150, width=150),)),)), IntSlider(value=10, con…",
      "application/vnd.jupyter.widget-view+json": {
       "version_major": 2,
       "version_minor": 0,
       "model_id": "152f5e7dea9d4d5db8cf2f5c069571e5"
      }
     },
     "metadata": {},
     "output_type": "display_data"
    }
   ],
   "source": [
    "corrected_image = nanopyx.estimate_drift_alignment(img_stack, time_averaging=2, max_expected_drift=10, ref_option=1, normalize=True, apply=True)\n",
    "stackview.slice(corrected_image)"
   ]
  },
  {
   "cell_type": "markdown",
   "metadata": {},
   "source": [
    "Drift table is automatically exported as a csv file, however can also be exported as a npy file by setting the parameter save_as_npy to False:"
   ]
  },
  {
   "cell_type": "code",
   "execution_count": 6,
   "metadata": {},
   "outputs": [
    {
     "name": "stdout",
     "output_type": "stream",
     "text": [
      "_normalize_ccm took 10.593891 mseconds\n",
      "_calculate_ccm took 12.103319 mseconds\n",
      "_normalize_ccm took 11.869907 mseconds\n",
      "_calculate_ccm took 13.481140 mseconds\n",
      "_normalize_ccm took 12.300968 mseconds\n",
      "_calculate_ccm took 13.837099 mseconds\n",
      "_normalize_ccm took 13.890982 mseconds\n",
      "_calculate_ccm took 15.557051 mseconds\n",
      "_normalize_ccm took 12.826920 mseconds\n",
      "_calculate_ccm took 14.302969 mseconds\n",
      "_normalize_ccm took 11.213779 mseconds\n",
      "_calculate_ccm took 12.717009 mseconds\n",
      "_normalize_ccm took 11.146069 mseconds\n",
      "_calculate_ccm took 12.501001 mseconds\n",
      "_normalize_ccm took 11.123180 mseconds\n",
      "_calculate_ccm took 12.398005 mseconds\n",
      "_normalize_ccm took 15.345097 mseconds\n",
      "_calculate_ccm took 16.706228 mseconds\n",
      "_normalize_ccm took 13.020992 mseconds\n",
      "_calculate_ccm took 14.477730 mseconds\n",
      "Interpolating time points\n",
      "apply_correction took 0.028 seconds\n",
      "estimate took 0.202 seconds\n",
      "None\n",
      "estimate_drift_alignment took 0.836 seconds\n"
     ]
    },
    {
     "data": {
      "text/plain": "VBox(children=(HBox(children=(VBox(children=(ImageWidget(height=150, width=150),)),)), IntSlider(value=10, con…",
      "application/vnd.jupyter.widget-view+json": {
       "version_major": 2,
       "version_minor": 0,
       "model_id": "8b77d5fc54a94600b4b2ada772c8bb2b"
      }
     },
     "metadata": {},
     "output_type": "display_data"
    }
   ],
   "source": [
    "corrected_image = nanopyx.estimate_drift_alignment(img_stack, save_as_npy=False, time_averaging=2, max_expected_drift=10, ref_option=0, normalize=True, apply=True)\n",
    "stackview.slice(corrected_image)"
   ]
  },
  {
   "cell_type": "markdown",
   "metadata": {},
   "source": [
    "To reuse the drift table and directly apply to an image without estimating drift correction first, just use apply_drift_correction method."
   ]
  },
  {
   "cell_type": "code",
   "execution_count": 7,
   "metadata": {},
   "outputs": [
    {
     "name": "stdout",
     "output_type": "stream",
     "text": [
      "apply_correction took 0.015 seconds\n",
      "apply_drift_alignment took 0.017 seconds\n"
     ]
    },
    {
     "data": {
      "text/plain": "VBox(children=(HBox(children=(VBox(children=(ImageWidget(height=150, width=150),)),)), IntSlider(value=10, con…",
      "application/vnd.jupyter.widget-view+json": {
       "version_major": 2,
       "version_minor": 0,
       "model_id": "f014bfda4831454fa7c9db65f293b123"
      }
     },
     "metadata": {},
     "output_type": "display_data"
    }
   ],
   "source": [
    "corrected_image = nanopyx.apply_drift_alignment(img_stack, path=\"_drift_table.csv\")\n",
    "stackview.slice(corrected_image)"
   ]
  }
 ],
 "metadata": {
  "kernelspec": {
   "display_name": "Python 3.9.12 ('nanojdev')",
   "language": "python",
   "name": "python3"
  },
  "language_info": {
   "codemirror_mode": {
    "name": "ipython",
    "version": 3
   },
   "file_extension": ".py",
   "mimetype": "text/x-python",
   "name": "python",
   "nbconvert_exporter": "python",
   "pygments_lexer": "ipython3",
   "version": "3.9.12"
  },
  "orig_nbformat": 4,
  "vscode": {
   "interpreter": {
    "hash": "d2cabc474857603d261aaea8f544bda49fe7f92ad884e88ea462478db24ad80c"
   }
  }
 },
 "nbformat": 4,
 "nbformat_minor": 2
}
