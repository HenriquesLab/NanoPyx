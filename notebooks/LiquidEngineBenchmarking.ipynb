{
 "cells": [
  {
   "cell_type": "markdown",
   "metadata": {},
   "source": [
    "# Notebook used to benchmark different implementations of Liquid Engine methods"
   ]
  },
  {
   "cell_type": "code",
   "execution_count": null,
   "metadata": {},
   "outputs": [],
   "source": [
    "import nanopyx\n",
    "import numpy as np"
   ]
  },
  {
   "cell_type": "code",
   "execution_count": null,
   "metadata": {},
   "outputs": [],
   "source": [
    "# Benchmark 2D convolution\n",
    "kernel = np.ones((23, 23)).astype(np.float32)\n",
    "img = np.random.random((500, 500)).astype(np.float32)\n",
    "method = nanopyx.core.transform._le_convolution.Convolution()\n",
    "\n",
    "n_benchmark_runs = 3\n",
    "for i in range(n_benchmark_runs):\n",
    "    method.benchmark(img, kernel)"
   ]
  },
  {
   "cell_type": "code",
   "execution_count": null,
   "metadata": {},
   "outputs": [],
   "source": [
    "# Benchmark eSRRF\n",
    "img = np.random.random((100, 100)).astype(np.float32)\n",
    "method = nanopyx.core.transform._le_esrrf.eSRRF()\n",
    "\n",
    "n_benchmark_runs = 3\n",
    "for i in range(n_benchmark_runs):\n",
    "    method.benchmark(img)"
   ]
  },
  {
   "cell_type": "code",
   "execution_count": 7,
   "metadata": {},
   "outputs": [
    {
     "ename": "AttributeError",
     "evalue": "module 'nanopyx.core.transform' has no attribute '_le_fast_nlm_denoising'",
     "output_type": "error",
     "traceback": [
      "\u001b[0;31m---------------------------------------------------------------------------\u001b[0m",
      "\u001b[0;31mAttributeError\u001b[0m                            Traceback (most recent call last)",
      "Cell \u001b[0;32mIn[7], line 3\u001b[0m\n\u001b[1;32m      1\u001b[0m \u001b[38;5;66;03m# Benchmark NLM fast implementation\u001b[39;00m\n\u001b[1;32m      2\u001b[0m img \u001b[38;5;241m=\u001b[39m np\u001b[38;5;241m.\u001b[39mrandom\u001b[38;5;241m.\u001b[39mrandom((\u001b[38;5;241m100\u001b[39m, \u001b[38;5;241m100\u001b[39m))\u001b[38;5;241m.\u001b[39mastype(np\u001b[38;5;241m.\u001b[39mfloat32)\n\u001b[0;32m----> 3\u001b[0m method \u001b[38;5;241m=\u001b[39m \u001b[43mnanopyx\u001b[49m\u001b[38;5;241;43m.\u001b[39;49m\u001b[43mcore\u001b[49m\u001b[38;5;241;43m.\u001b[39;49m\u001b[43mtransform\u001b[49m\u001b[38;5;241;43m.\u001b[39;49m\u001b[43m_le_fast_nlm_denoising\u001b[49m\u001b[38;5;241m.\u001b[39mNLMDenoising()\n\u001b[1;32m      5\u001b[0m n_benchmark_runs \u001b[38;5;241m=\u001b[39m \u001b[38;5;241m3\u001b[39m\n\u001b[1;32m      6\u001b[0m \u001b[38;5;28;01mfor\u001b[39;00m i \u001b[38;5;129;01min\u001b[39;00m \u001b[38;5;28mrange\u001b[39m(n_benchmark_runs):\n",
      "\u001b[0;31mAttributeError\u001b[0m: module 'nanopyx.core.transform' has no attribute '_le_fast_nlm_denoising'"
     ]
    }
   ],
   "source": [
    "# Benchmark NLM fast implementation\n",
    "img = np.random.random((100, 100)).astype(np.float32)\n",
    "method = nanopyx.core.transform._le_fast_nlm_denoising.NLMDenoising()\n",
    "\n",
    "n_benchmark_runs = 3\n",
    "for i in range(n_benchmark_runs):\n",
    "    method.benchmark(img)"
   ]
  },
  {
   "cell_type": "code",
   "execution_count": null,
   "metadata": {},
   "outputs": [],
   "source": []
  }
 ],
 "metadata": {
  "kernelspec": {
   "display_name": "nanopyxdev",
   "language": "python",
   "name": "python3"
  },
  "language_info": {
   "codemirror_mode": {
    "name": "ipython",
    "version": 3
   },
   "file_extension": ".py",
   "mimetype": "text/x-python",
   "name": "python",
   "nbconvert_exporter": "python",
   "pygments_lexer": "ipython3",
   "version": "3.9.16"
  }
 },
 "nbformat": 4,
 "nbformat_minor": 2
}
