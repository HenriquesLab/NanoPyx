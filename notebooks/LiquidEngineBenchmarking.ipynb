{
 "cells": [
  {
   "cell_type": "markdown",
   "metadata": {},
   "source": [
    "# Notebook used to benchmark different implementations of Liquid Engine methods"
   ]
  },
  {
   "cell_type": "code",
   "execution_count": null,
   "metadata": {},
   "outputs": [],
   "source": [
    "import math\n",
    "import nanopyx\n",
    "import numpy as np\n",
    "\n",
    "n_benchmark_runs = 3\n",
    "\n",
    "img_dims = 100\n",
    "shift = 2\n",
    "magnification = 5\n",
    "rotation = math.radians(15)\n",
    "conv_kernel_dims = 23\n"
   ]
  },
  {
   "cell_type": "code",
   "execution_count": null,
   "metadata": {},
   "outputs": [],
   "source": [
    "# Benchmark all Liquid Engine Methods\n",
    "nanopyx.benchmark()"
   ]
  },
  {
   "cell_type": "code",
   "execution_count": null,
   "metadata": {},
   "outputs": [],
   "source": [
    "# Benchmark Bicubic interpolation Shift and Magnify\n",
    "img = np.random.random((img_dims, img_dims)).astype(np.float32)\n",
    "method = nanopyx.core.transform._le_interpolation_bicubic.ShiftAndMagnify()\n",
    "\n",
    "for i in range(n_benchmark_runs):\n",
    "    method.benchmark(img, shift, shift, magnification, magnification)"
   ]
  },
  {
   "cell_type": "code",
   "execution_count": null,
   "metadata": {},
   "outputs": [],
   "source": [
    "# Benchmark Catmull-rom interpolation Shift and Magnify\n",
    "img = np.random.random((img_dims, img_dims)).astype(np.float32)\n",
    "method = nanopyx.core.transform._le_interpolation_catmull_rom.ShiftAndMagnify()\n",
    "\n",
    "for i in range(n_benchmark_runs):\n",
    "    method.benchmark(img, shift, shift, magnification, magnification)"
   ]
  },
  {
   "cell_type": "code",
   "execution_count": null,
   "metadata": {},
   "outputs": [],
   "source": [
    "# Benchmark Lanczos interpolation Shift and Magnify\n",
    "img = np.random.random((img_dims, img_dims)).astype(np.float32)\n",
    "method = nanopyx.core.transform._le_interpolation_lanczos.ShiftAndMagnify()\n",
    "\n",
    "for i in range(n_benchmark_runs):\n",
    "    method.benchmark(img, shift, shift, magnification, magnification)"
   ]
  },
  {
   "cell_type": "code",
   "execution_count": null,
   "metadata": {},
   "outputs": [],
   "source": [
    "# Benchmark Nearest-neighbor interpolation Shift and Magnify\n",
    "img = np.random.random((img_dims, img_dims)).astype(np.float32)\n",
    "method = nanopyx.core.transform._le_interpolation_nearest_neighbor.ShiftAndMagnify()\n",
    "\n",
    "for i in range(n_benchmark_runs):\n",
    "    method.benchmark(img, shift, shift, magnification, magnification)"
   ]
  },
  {
   "cell_type": "code",
   "execution_count": null,
   "metadata": {},
   "outputs": [],
   "source": [
    "# Benchmark Bicubic interpolation Shift, Scale and Rotate\n",
    "img = np.random.random((img_dims, img_dims)).astype(np.float32)\n",
    "method = nanopyx.core.transform._le_interpolation_bicubic.ShiftScaleRotate()\n",
    "\n",
    "for i in range(n_benchmark_runs):\n",
    "    method.benchmark(img, shift, shift, magnification, magnification, rotation)"
   ]
  },
  {
   "cell_type": "code",
   "execution_count": null,
   "metadata": {},
   "outputs": [],
   "source": [
    "# Benchmark Catmull-rin interpolation Shift, Scale and Rotate\n",
    "img = np.random.random((img_dims, img_dims)).astype(np.float32)\n",
    "method = nanopyx.core.transform._le_interpolation_catmull_rom.ShiftScaleRotate()\n",
    "\n",
    "for i in range(n_benchmark_runs):\n",
    "    method.benchmark(img, shift, shift, magnification, magnification, rotation)"
   ]
  },
  {
   "cell_type": "code",
   "execution_count": null,
   "metadata": {},
   "outputs": [],
   "source": [
    "# Benchmark Lanczos interpolation Shift, Scale and Rotate\n",
    "img = np.random.random((img_dims, img_dims)).astype(np.float32)\n",
    "method = nanopyx.core.transform._le_interpolation_lanczos.ShiftScaleRotate()\n",
    "\n",
    "for i in range(n_benchmark_runs):\n",
    "    method.benchmark(img, shift, shift, magnification, magnification, rotation)"
   ]
  },
  {
   "cell_type": "code",
   "execution_count": null,
   "metadata": {},
   "outputs": [],
   "source": [
    "# Benchmark Nearest-neighbor interpolation Shift, Scale and Rotate\n",
    "img = np.random.random((img_dims, img_dims)).astype(np.float32)\n",
    "method = nanopyx.core.transform._le_interpolation_nearest_neighbor.ShiftScaleRotate()\n",
    "\n",
    "for i in range(n_benchmark_runs):\n",
    "    method.benchmark(img, shift, shift, magnification, magnification, rotation)"
   ]
  },
  {
   "cell_type": "code",
   "execution_count": null,
   "metadata": {},
   "outputs": [],
   "source": [
    "# Benchmark Nearest-neighbor interpolation Polar Transform\n",
    "img = np.random.random((img_dims, img_dims)).astype(np.float32)\n",
    "method = nanopyx.core.transform._le_interpolation_nearest_neighbor.PolarTransform()\n",
    "\n",
    "for i in range(n_benchmark_runs):\n",
    "    method.benchmark(img, (img_dims, img_dims), \"log\")"
   ]
  },
  {
   "cell_type": "code",
   "execution_count": null,
   "metadata": {},
   "outputs": [],
   "source": [
    "# Benchmark 2D convolution\n",
    "kernel = np.ones((conv_kernel_dims, conv_kernel_dims)).astype(np.float32)\n",
    "img = np.random.random((img_dims, img_dims)).astype(np.float32)\n",
    "method = nanopyx.core.transform._le_convolution.Convolution()\n",
    "\n",
    "for i in range(n_benchmark_runs):\n",
    "    method.benchmark(img, kernel)"
   ]
  },
  {
   "cell_type": "code",
   "execution_count": null,
   "metadata": {},
   "outputs": [],
   "source": [
    "# Benchmark Radiality\n",
    "img = np.random.random((img_dims, img_dims)).astype(np.float32)\n",
    "img_int = np.random.random((img_dims*magnification, img_dims*magnification)).astype(np.float32)\n",
    "method = nanopyx.core.transform._le_radiality.Radiality()\n",
    "\n",
    "for i in range(n_benchmark_runs):\n",
    "    method.benchmark(img, img_int)"
   ]
  },
  {
   "cell_type": "code",
   "execution_count": null,
   "metadata": {},
   "outputs": [],
   "source": [
    "# Benchmark Roberts Cross\n",
    "img = np.random.random((img_dims, img_dims)).astype(np.float32)\n",
    "method = nanopyx.core.transform._le_roberts_cross_gradients.GradientRobertsCross()\n",
    "\n",
    "for i in range(n_benchmark_runs):\n",
    "    method.benchmark(img)"
   ]
  },
  {
   "cell_type": "code",
   "execution_count": null,
   "metadata": {},
   "outputs": [],
   "source": [
    "# Benchmark Radial Gradient Convergence\n",
    "img_int = np.random.random((3, img_dims*magnification, img_dims*magnification)).astype(np.float32)\n",
    "method = nanopyx.core.transform._le_radial_gradient_convergence.RadialGradientConvergence()\n",
    "\n",
    "for i in range(n_benchmark_runs):\n",
    "    method.benchmark(img_int[0].copy(), img_int[1].copy(), img_int[2].copy())"
   ]
  },
  {
   "cell_type": "code",
   "execution_count": null,
   "metadata": {},
   "outputs": [],
   "source": [
    "# Benchmark eSRRF\n",
    "img = np.random.random((img_dims, img_dims)).astype(np.float32)\n",
    "method = nanopyx.core.transform._le_esrrf.eSRRF()\n",
    "\n",
    "for i in range(n_benchmark_runs):\n",
    "    method.benchmark(img)"
   ]
  },
  {
   "cell_type": "code",
   "execution_count": null,
   "metadata": {},
   "outputs": [],
   "source": [
    "# Benchmark NLM implementation\n",
    "img = np.random.random((img_dims, img_dims)).astype(np.float32)\n",
    "method = nanopyx.core.transform._le_nlm_denoising.NLMDenoising()\n",
    "\n",
    "for i in range(n_benchmark_runs):\n",
    "    method.benchmark(img)"
   ]
  }
 ],
 "metadata": {
  "kernelspec": {
   "display_name": "nanopyxdev",
   "language": "python",
   "name": "python3"
  },
  "language_info": {
   "codemirror_mode": {
    "name": "ipython",
    "version": 3
   },
   "file_extension": ".py",
   "mimetype": "text/x-python",
   "name": "python",
   "nbconvert_exporter": "python",
   "pygments_lexer": "ipython3",
   "version": "3.10.9"
  }
 },
 "nbformat": 4,
 "nbformat_minor": 2
}
