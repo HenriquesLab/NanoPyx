{
 "cells": [
  {
   "cell_type": "code",
   "execution_count": null,
   "metadata": {},
   "outputs": [],
   "source": [
    "!pip install -q \"nanopyx[jupyter]\"\n",
    "import numpy as np\n",
    "import tifffile as tiff\n",
    "from matplotlib import pyplot as plt\n",
    "from nanopyx.liquid._le_interpolation_catmull_rom import ShiftAndMagnify "
   ]
  },
  {
   "cell_type": "code",
   "execution_count": null,
   "metadata": {},
   "outputs": [],
   "source": [
    "crsm = ShiftAndMagnify()\n",
    "dim_size  = [i for i in range(10, 100001, 1000)]\n",
    "task_run_times_unthreaded = []\n",
    "task_run_times_threaded = []\n",
    "task_run_times_threaded_static = []\n",
    "task_run_times_threaded_guided = []\n",
    "task_run_times_threaded_dynamic = []\n",
    "task_run_times_opencl = []\n",
    "frames = 2\n"
   ]
  },
  {
   "cell_type": "code",
   "execution_count": null,
   "metadata": {},
   "outputs": [],
   "source": [
    "for dim in dim_size:\n",
    "    img = np.zeros((frames, dim, dim))\n",
    "\n",
    "    crsm.run(img,0,0,2,2,run_type=\"Threaded\")\n",
    "    task_run_times_threaded.append(crsm._last_run_time)\n",
    "    print(\"Threaded finished\")\n",
    "\n",
    "    crsm.run(img,0,0,2,2,run_type=\"Threaded_static\")\n",
    "    task_run_times_threaded_static.append(crsm._last_run_time)\n",
    "\n",
    "    crsm.run(img,0,0,2,2,run_type=\"Threaded_guided\")\n",
    "    task_run_times_threaded_guided.append(crsm._last_run_time)\n",
    "\n",
    "    crsm.run(img,0,0,2,2,run_type=\"Threaded_dynamic\")\n",
    "    task_run_times_threaded_dynamic.append(crsm._last_run_time)\n",
    "\n",
    "    crsm.run(img,0,0,2,2,run_type=\"Unthreaded\")\n",
    "    task_run_times_unthreaded.append(crsm._last_run_time)\n",
    "    print(\"UnThreaded finished\")\n",
    "\n",
    "    crsm.run(img,0,0,2,2,run_type=\"OpenCL_Apple M1 Pro\")\n",
    "    task_run_times_opencl.append(crsm._last_run_time)\n",
    "    print(\"Threaded finished\")\n"
   ]
  },
  {
   "cell_type": "code",
   "execution_count": null,
   "metadata": {},
   "outputs": [],
   "source": [
    "plt.plot(np.asarray(dim_size), task_run_times_unthreaded, 'orange', label='Cython unthreaded')\n",
    "plt.plot(np.asarray(dim_size), task_run_times_threaded, 'blue', label='Cython threaded')\n",
    "plt.plot(np.asarray(dim_size), task_run_times_threaded_static, 'lightpink', label='Cython threaded static')\n",
    "plt.plot(np.asarray(dim_size), task_run_times_threaded_guided, 'green', label='Cython threaded guided')\n",
    "plt.plot(np.asarray(dim_size), task_run_times_threaded_dynamic, 'black', label='Cython threaded dynamic')\n",
    "plt.plot(np.asarray(dim_size), task_run_times_opencl, 'magenta', label='pyOpenCL')\n",
    "\n",
    "plt.xlabel('Dataset size (row and column size)')\n",
    "plt.ylabel('Run time (s)')\n",
    "plt.title('Run time over dataset size')\n",
    "plt.legend()\n",
    "\n",
    "plt.show()"
   ]
  }
 ],
 "metadata": {
  "kernelspec": {
   "display_name": "nanopyx310",
   "language": "python",
   "name": "python3"
  },
  "language_info": {
   "codemirror_mode": {
    "name": "ipython",
    "version": 3
   },
   "file_extension": ".py",
   "mimetype": "text/x-python",
   "name": "python",
   "nbconvert_exporter": "python",
   "pygments_lexer": "ipython3",
   "version": "3.10.9"
  },
  "orig_nbformat": 4
 },
 "nbformat": 4,
 "nbformat_minor": 2
}
