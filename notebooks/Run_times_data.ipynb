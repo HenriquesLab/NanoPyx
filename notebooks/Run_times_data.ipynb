{
 "cells": [
  {
   "cell_type": "code",
   "execution_count": 1,
   "metadata": {},
   "outputs": [
    {
     "name": "stderr",
     "output_type": "stream",
     "text": [
      "C:\\Users\\bsaraiva\\Desktop\\Code\\NanoPyx\\src\\nanopyx\\liquid\\__njit__.py:15: UserWarning: Numba is not installed. Using pure python for _njit_interpolate\n",
      "  warnings.warn(\n",
      "C:\\Users\\bsaraiva\\Desktop\\Code\\NanoPyx\\src\\nanopyx\\liquid\\__njit__.py:15: UserWarning: Numba is not installed. Using pure python for njit_shift_magnify\n",
      "  warnings.warn(\n",
      "C:\\Users\\bsaraiva\\Desktop\\Code\\NanoPyx\\src\\nanopyx\\liquid\\__njit__.py:15: UserWarning: Numba is not installed. Using pure python for njit_shift_scale_rotate\n",
      "  warnings.warn(\n",
      "C:\\Users\\bsaraiva\\Desktop\\Code\\NanoPyx\\src\\nanopyx\\liquid\\_le_mandelbrot_benchmark_.py:17: UserWarning: Numba is not installed. Using pure python for _njit_mandelbrot\n",
      "  warnings.warn(\n",
      "C:\\Users\\bsaraiva\\Desktop\\Code\\NanoPyx\\src\\nanopyx\\liquid\\_le_mandelbrot_benchmark_.py:17: UserWarning: Numba is not installed. Using pure python for njit_mandelbrot\n",
      "  warnings.warn(\n"
     ]
    }
   ],
   "source": [
    "import numpy as np\n",
    "import tifffile as tiff\n",
    "from matplotlib import pyplot as plt\n",
    "from nanopyx.liquid import Convolution2D"
   ]
  },
  {
   "cell_type": "code",
   "execution_count": null,
   "metadata": {},
   "outputs": [],
   "source": [
    "task_run_times_unthreaded = []\n",
    "task_run_times_threaded = []\n",
    "task_run_times_threaded_static = []\n",
    "task_run_times_threaded_guided = []\n",
    "task_run_times_threaded_dynamic = []\n",
    "task_run_times_opencl = []"
   ]
  },
  {
   "cell_type": "code",
   "execution_count": 4,
   "metadata": {},
   "outputs": [],
   "source": [
    "conv2d = Convolution2D()\n",
    "dim_sizes  = [(dim, dim) for dim in [100, 500, 1000, 2500, 5000, 7500, 10000, 15000, 20000]]\n",
    "kernel_sizes = [(dim, dim) for dim in range(1, 25, 4)]"
   ]
  },
  {
   "cell_type": "code",
   "execution_count": 5,
   "metadata": {},
   "outputs": [
    {
     "name": "stdout",
     "output_type": "stream",
     "text": [
      "(15000, 15000)\n",
      "4.108020540485283\n",
      "(15000, 15000)\n",
      "0.6022478790723538\n",
      "(15000, 15000)\n",
      "0.2650000853119635\n",
      "(15000, 15000)\n",
      "0.17370878316113847\n",
      "(15000, 15000)\n",
      "0.14278205626315835\n",
      "(15000, 15000)\n",
      "0.1224241405602577\n",
      "(20000, 20000)\n",
      "3.8230808622136716\n",
      "(20000, 20000)\n",
      "0.4835447267490124\n",
      "(20000, 20000)\n",
      "0.23780256051710486\n",
      "(20000, 20000)\n",
      "0.15789417107581724\n",
      "(20000, 20000)\n",
      "0.12720541939834754\n",
      "(20000, 20000)\n",
      "0.11429201327804375\n"
     ]
    }
   ],
   "source": [
    "for dim in dim_sizes:\n",
    "    img = np.random.random(dim).astype(np.float32)\n",
    "    for ks in kernel_sizes:\n",
    "        kernel = np.ones(ks).astype(np.float32)\n",
    "        conv2d.run(img, kernel,run_type=\"Threaded\")\n",
    "        task_run_times_threaded.append((dim[0], ks[0], conv2d._last_time))\n",
    "        a = conv2d._last_time\n",
    "        #print(\"Threaded finished\")\n",
    "\n",
    "        conv2d.run(img,kernel,run_type=\"Threaded_static\")\n",
    "        task_run_times_threaded_static.append((dim[0], ks[0], conv2d._last_time))\n",
    "\n",
    "        conv2d.run(img,kernel,run_type=\"Threaded_guided\")\n",
    "        task_run_times_threaded_guided.append((dim[0], ks[0], conv2d._last_time))\n",
    "\n",
    "        conv2d.run(img,kernel,run_type=\"Threaded_dynamic\")\n",
    "        task_run_times_threaded_dynamic.append((dim[0], ks[0], conv2d._last_time))\n",
    "\n",
    "        conv2d.run(img,kernel,run_type=\"Unthreaded\")\n",
    "        task_run_times_unthreaded.append((dim[0], ks[0], conv2d._last_time))\n",
    "        #print(\"UnThreaded finished\")\n",
    "\n",
    "        conv2d.run(img,kernel,run_type=\"OpenCL_NVIDIA GeForce RTX 4090\")\n",
    "        task_run_times_opencl.append((dim[0], ks[0], conv2d._last_time))\n",
    "        #print(\"Threaded finished\")\n",
    "        \n",
    "        b = conv2d._last_time\n",
    "    \n",
    "        print(b/a)"
   ]
  },
  {
   "cell_type": "code",
   "execution_count": 6,
   "metadata": {},
   "outputs": [],
   "source": [
    "task_run_times_unthreaded = np.array(task_run_times_unthreaded)\n",
    "task_run_times_threaded = np.array(task_run_times_threaded)\n",
    "task_run_times_threaded_static = np.array(task_run_times_threaded_static)\n",
    "task_run_times_threaded_guided = np.array(task_run_times_threaded_guided)\n",
    "task_run_times_threaded_dynamic = np.array(task_run_times_threaded_dynamic)\n",
    "task_run_times_opencl = np.array(task_run_times_opencl)\n",
    "\n",
    "np.save(\"task_run_times_opencl.npy\", task_run_times_opencl)\n",
    "np.save(\"task_run_times_unthreaded.npy\", task_run_times_unthreaded)\n",
    "np.save(\"task_run_times_threaded.npy\", task_run_times_threaded)\n",
    "np.save(\"task_run_times_threaded_static.npy\", task_run_times_threaded_static)\n",
    "np.save(\"task_run_times_threaded_guided.npy\", task_run_times_threaded_guided)\n",
    "np.save(\"task_run_times_threaded_dynamic.npy\", task_run_times_threaded_dynamic)"
   ]
  },
  {
   "cell_type": "code",
   "execution_count": 7,
   "metadata": {},
   "outputs": [],
   "source": [
    "import numpy as np\n",
    "\n",
    "task_run_times_opencl = np.load(\"task_run_times_opencl.npy\")\n",
    "task_run_times_unthreaded = np.load(\"task_run_times_unthreaded.npy\")\n",
    "task_run_times_threaded = np.load(\"task_run_times_threaded.npy\")\n",
    "task_run_times_threaded_static = np.load(\"task_run_times_threaded_static.npy\")\n",
    "task_run_times_threaded_guided = np.load(\"task_run_times_threaded_guided.npy\")\n",
    "task_run_times_threaded_dynamic = np.load(\"task_run_times_threaded_dynamic.npy\")"
   ]
  },
  {
   "cell_type": "code",
   "execution_count": null,
   "metadata": {},
   "outputs": [],
   "source": []
  }
 ],
 "metadata": {
  "kernelspec": {
   "display_name": "nanopyx310",
   "language": "python",
   "name": "python3"
  },
  "language_info": {
   "codemirror_mode": {
    "name": "ipython",
    "version": 3
   },
   "file_extension": ".py",
   "mimetype": "text/x-python",
   "name": "python",
   "nbconvert_exporter": "python",
   "pygments_lexer": "ipython3",
   "version": "3.9.17"
  },
  "orig_nbformat": 4
 },
 "nbformat": 4,
 "nbformat_minor": 2
}
