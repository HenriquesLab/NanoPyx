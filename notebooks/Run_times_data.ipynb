{
 "cells": [
  {
   "cell_type": "code",
   "execution_count": null,
   "metadata": {},
   "outputs": [],
   "source": [
    "import numpy as np\n",
    "import tifffile as tiff\n",
    "from matplotlib import pyplot as plt\n",
    "from nanopyx.liquid import Convolution2D"
   ]
  },
  {
   "cell_type": "code",
   "execution_count": null,
   "metadata": {},
   "outputs": [],
   "source": [
    "task_run_times_unthreaded = []\n",
    "task_run_times_threaded = []\n",
    "task_run_times_threaded_static = []\n",
    "task_run_times_threaded_guided = []\n",
    "task_run_times_threaded_dynamic = []\n",
    "task_run_times_opencl = []"
   ]
  },
  {
   "cell_type": "code",
   "execution_count": null,
   "metadata": {},
   "outputs": [],
   "source": [
    "conv2d = Convolution2D()\n",
    "dim_sizes  = [(dim, dim) for dim in [100, 500, 1000, 2500, 5000, 7500, 10000, 15000, 20000]]\n",
    "kernel_sizes = [(dim, dim) for dim in range(1, 25, 4)]"
   ]
  },
  {
   "cell_type": "code",
   "execution_count": null,
   "metadata": {},
   "outputs": [],
   "source": [
    "for dim in dim_sizes:\n",
    "    img = np.random.random(dim).astype(np.float32)\n",
    "    for ks in kernel_sizes:\n",
    "        kernel = np.ones(ks).astype(np.float32)\n",
    "        conv2d.run(img, kernel,run_type=\"Threaded\")\n",
    "        task_run_times_threaded.append((dim[0], ks[0], conv2d._last_time))\n",
    "        a = conv2d._last_time\n",
    "        #print(\"Threaded finished\")\n",
    "\n",
    "        conv2d.run(img,kernel,run_type=\"Threaded_static\")\n",
    "        task_run_times_threaded_static.append((dim[0], ks[0], conv2d._last_time))\n",
    "\n",
    "        conv2d.run(img,kernel,run_type=\"Threaded_guided\")\n",
    "        task_run_times_threaded_guided.append((dim[0], ks[0], conv2d._last_time))\n",
    "\n",
    "        conv2d.run(img,kernel,run_type=\"Threaded_dynamic\")\n",
    "        task_run_times_threaded_dynamic.append((dim[0], ks[0], conv2d._last_time))\n",
    "\n",
    "        conv2d.run(img,kernel,run_type=\"Unthreaded\")\n",
    "        task_run_times_unthreaded.append((dim[0], ks[0], conv2d._last_time))\n",
    "        #print(\"UnThreaded finished\")\n",
    "\n",
    "        conv2d.run(img,kernel,run_type=\"OpenCL_Apple M1\")\n",
    "        task_run_times_opencl.append((dim[0], ks[0], conv2d._last_time))\n",
    "        #print(\"Threaded finished\")\n",
    "        \n",
    "        b = conv2d._last_time\n",
    "    \n",
    "        print(b/a)"
   ]
  },
  {
   "cell_type": "code",
   "execution_count": null,
   "metadata": {},
   "outputs": [],
   "source": [
    "task_run_times_unthreaded = np.array(task_run_times_unthreaded)\n",
    "task_run_times_threaded = np.array(task_run_times_threaded)\n",
    "task_run_times_threaded_static = np.array(task_run_times_threaded_static)\n",
    "task_run_times_threaded_guided = np.array(task_run_times_threaded_guided)\n",
    "task_run_times_threaded_dynamic = np.array(task_run_times_threaded_dynamic)\n",
    "task_run_times_opencl = np.array(task_run_times_opencl)\n",
    "\n",
    "np.save(\"task_run_times_opencl.npy\", task_run_times_opencl)\n",
    "np.save(\"task_run_times_unthreaded.npy\", task_run_times_unthreaded)\n",
    "np.save(\"task_run_times_threaded.npy\", task_run_times_threaded)\n",
    "np.save(\"task_run_times_threaded_static.npy\", task_run_times_threaded_static)\n",
    "np.save(\"task_run_times_threaded_guided.npy\", task_run_times_threaded_guided)\n",
    "np.save(\"task_run_times_threaded_dynamic.npy\", task_run_times_threaded_dynamic)"
   ]
  },
  {
   "cell_type": "code",
   "execution_count": null,
   "metadata": {},
   "outputs": [],
   "source": [
    "import numpy as np\n",
    "\n",
    "task_run_times_opencl = np.load(\"task_run_times_opencl.npy\")\n",
    "task_run_times_unthreaded = np.load(\"task_run_times_unthreaded.npy\")\n",
    "task_run_times_threaded = np.load(\"task_run_times_threaded.npy\")\n",
    "task_run_times_threaded_static = np.load(\"task_run_times_threaded_static.npy\")\n",
    "task_run_times_threaded_guided = np.load(\"task_run_times_threaded_guided.npy\")\n",
    "task_run_times_threaded_dynamic = np.load(\"task_run_times_threaded_dynamic.npy\")"
   ]
  },
  {
   "cell_type": "code",
   "execution_count": null,
   "metadata": {},
   "outputs": [],
   "source": [
    "import seaborn as sns\n",
    "from matplotlib import pyplot as plt\n",
    "\n",
    "ratio_threaded_opencl = task_run_times_opencl[:, 2]/task_run_times_threaded[:, 2]\n",
    "ratio_threaded_opencl = np.array(np.log(ratio_threaded_opencl)).reshape(9, 6)\n",
    "ax = sns.heatmap(ratio_threaded_opencl)\n",
    "plt.show()"
   ]
  },
  {
   "cell_type": "code",
   "execution_count": null,
   "metadata": {},
   "outputs": [],
   "source": [
    "task_run_times_unthreaded[::step, 1]\n"
   ]
  },
  {
   "cell_type": "code",
   "execution_count": null,
   "metadata": {},
   "outputs": [],
   "source": [
    "# plot per data shape\n",
    "index = 3\n",
    "step = 6\n",
    "plt.figure(figsize=(10, 5))\n",
    "plt.plot(task_run_times_unthreaded[index::step, 0], task_run_times_unthreaded[index::step, 2], 'orange', label='Cython unthreaded')\n",
    "plt.plot(task_run_times_threaded[index::step, 0], task_run_times_threaded[index::step, 2], 'blue', label='Cython threaded')\n",
    "plt.plot(task_run_times_threaded_static[index::step, 0], task_run_times_threaded_static[index::step, 2], 'lightpink', label='Cython threaded static')\n",
    "plt.plot(task_run_times_threaded_guided[index::step, 0], task_run_times_threaded_guided[index::step, 2], 'green', label='Cython threaded guided')\n",
    "plt.plot(task_run_times_threaded_dynamic[index::step, 0], task_run_times_threaded_dynamic[index::step, 2], 'black', label='Cython threaded dynamic')\n",
    "plt.plot(task_run_times_opencl[index::step, 0], task_run_times_opencl[index::step, 2], 'magenta', label='pyOpenCL')"
   ]
  },
  {
   "cell_type": "code",
   "execution_count": null,
   "metadata": {},
   "outputs": [],
   "source": [
    "# plot per kernel shape\n",
    "index = 8\n",
    "step = 6\n",
    "plt.figure(figsize=(10, 5))\n",
    "plt.plot(task_run_times_unthreaded[index*step:(index*step)+step, 1], task_run_times_unthreaded[index*step:(index*step)+step, 2], 'orange', label='Cython unthreaded')\n",
    "plt.plot(task_run_times_threaded[index*step:(index*step)+step, 1], task_run_times_threaded[index*step:(index*step)+step, 2], 'blue', label='Cython threaded')\n",
    "plt.plot(task_run_times_threaded_static[index*step:(index*step)+step, 1], task_run_times_threaded_static[index*step:(index*step)+step, 2], 'lightpink', label='Cython threaded static')\n",
    "plt.plot(task_run_times_threaded_guided[index*step:(index*step)+step, 1], task_run_times_threaded_guided[index*step:(index*step)+step, 2], 'green', label='Cython threaded guided')\n",
    "plt.plot(task_run_times_threaded_dynamic[index*step:(index*step)+step, 1], task_run_times_threaded_dynamic[index*step:(index*step)+step, 2], 'black', label='Cython threaded dynamic')\n",
    "plt.plot(task_run_times_opencl[index*step:(index*step)+step, 1], task_run_times_opencl[index*step:(index*step)+step, 2], 'magenta', label='pyOpenCL')"
   ]
  },
  {
   "cell_type": "code",
   "execution_count": null,
   "metadata": {},
   "outputs": [],
   "source": []
  }
 ],
 "metadata": {
  "kernelspec": {
   "display_name": "nanopyx310",
   "language": "python",
   "name": "python3"
  },
  "language_info": {
   "codemirror_mode": {
    "name": "ipython",
    "version": 3
   },
   "file_extension": ".py",
   "mimetype": "text/x-python",
   "name": "python",
   "nbconvert_exporter": "python",
   "pygments_lexer": "ipython3",
   "version": "3.9.16"
  }
 },
 "nbformat": 4,
 "nbformat_minor": 2
}
