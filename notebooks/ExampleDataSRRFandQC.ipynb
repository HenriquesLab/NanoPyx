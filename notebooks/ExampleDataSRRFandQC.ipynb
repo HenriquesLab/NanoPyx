{
  "cells": [
    {
      "cell_type": "markdown",
      "metadata": {
        "id": "f-FXgv3hCeZJ"
      },
      "source": [
        "# NanoPyx \"Codeless\" Jupyter Notebook\n",
        "\n",
        "This notebook showcases loading an example datast with NanoPyx, performing super-resolution image generation using SRRF (Super-Resolution Radiality Fluctuations) and then measuring quality control metrics such as FRC (Fourier Ring Correlation) and Decorrelation analysis.\n",
        "  \n",
        "To use this notebook you don't need to interact with any code, just run cells in order and a graphical user interface will pop-up showcasing the parameters for each step.\n",
        "\n",
        "When running this notebook on Colab, it will automatically prompt you to connect to your google Drive, from where you can select the input data.\n",
        "\n",
        "To save the output of this notebook, make sure to select the \"save output\" option. Output will be saved on the same directory as the loaded image. If using an example dataset it will be saved on the path Python is currently running (if locally running the notebook) or on Colab files (if running on Colab, files button on the left bar).\n",
        "\n",
        "If you found this work useful for your research please consider citing: [![DOI](https://zenodo.org/badge/505388398.svg)](https://zenodo.org/badge/latestdoi/505388398)\n",
        "  \n",
        "**SRRF**: Culley S, Tosheva KL, Matos Pereira P, Henriques R. SRRF: Universal live-cell super-resolution microscopy. Int J Biochem Cell Biol. 2018 Aug;101:74-79. doi: 10.1016/j.biocel.2018.05.014. Epub 2018 May 28. PMID: 29852248; PMCID: PMC6025290.  \n",
        "  \n",
        "**FRC**: Nieuwenhuizen RP, Lidke KA, Bates M, Puig DL, Grünwald D, Stallinga S, Rieger B. Measuring image resolution in optical nanoscopy. Nat Methods. 2013 Jun;10(6):557-62. doi: 10.1038/nmeth.2448. Epub 2013 Apr 28. PMID: 23624665; PMCID: PMC4149789.  \n",
        "  \n",
        "**DecorrAnalysis**: Descloux A, Grußmayer KS, Radenovic A. Parameter-free image resolution estimation based on decorrelation analysis. Nat Methods. 2019 Sep;16(9):918-924. doi: 10.1038/s41592-019-0515-7. Epub 2019 Aug 26. PMID: 31451766.  "
      ]
    },
    {
      "cell_type": "markdown",
      "metadata": {
        "id": "bF2lEPEyCeZK"
      },
      "source": [
        "## Notebook setup cell"
      ]
    },
    {
      "cell_type": "code",
      "execution_count": null,
      "metadata": {
        "tags": [],
        "cellView": "form",
        "id": "I1MA0bmmCeZM"
      },
      "outputs": [],
      "source": [
        "#@title Install NanoPyx, import necessary libraries and connect to Google Drive\n",
        "!pip install \"nanopyx[jupyter] @git+https://github.com/HenriquesLab/NanoPyx.git\" --quiet\n",
        "import io\n",
        "import os\n",
        "import sys\n",
        "import skimage\n",
        "import stackview\n",
        "import numpy as np\n",
        "import tifffile as tiff\n",
        "import matplotlib as mpl\n",
        "import ipywidgets as widgets\n",
        "from IPython.display import display, clear_output\n",
        "from matplotlib import pyplot as plt\n",
        "\n",
        "from nanopyx.core.utils.easy_gui import EasyGui\n",
        "from nanopyx.core.utils.find_files import find_files\n",
        "from nanopyx.data.download import ExampleDataManager\n",
        "\n",
        "IN_COLAB = 'google.colab' in sys.modules\n",
        "if IN_COLAB:\n",
        "    from google.colab import output\n",
        "    output.enable_custom_widget_manager()\n",
        "    from google.colab import drive\n",
        "    drive.mount('/content/drive')\n",
        "\n",
        "cwd = os.getcwd()\n",
        "image_folder = \"datasets\"\n",
        "image_files = []\n",
        "EDM = ExampleDataManager()\n",
        "example_datasets = EDM.list_datasets()\n",
        "\n",
        "_path = os.path.join(\"..\", image_folder)\n",
        "if os.path.exists(_path):\n",
        "    image_files += find_files(_path, \".tif\")\n",
        "if os.path.exists(image_folder):\n",
        "    image_files += find_files(image_folder, \".tif\")\n",
        "image_files += [\"Example dataset: \"+dataset for dataset in example_datasets]"
      ]
    },
    {
      "cell_type": "markdown",
      "metadata": {
        "id": "2RXcTDcvCeZM"
      },
      "source": [
        "## Next lets create the Data Loader GUI.\n",
        "\n",
        "Once you run the cell, make sure to select the SMLMS2013_HDTubulingAlexa647 dataset"
      ]
    },
    {
      "cell_type": "code",
      "execution_count": null,
      "metadata": {
        "tags": [],
        "cellView": "form",
        "id": "uo6ZDQ__CeZN"
      },
      "outputs": [],
      "source": [
        "#@title Create image loader GUI\n",
        "# Create a GUI\n",
        "gui_data = EasyGui(\"Data Loader\")\n",
        "\n",
        "def on_button_load_data_clicked(b):\n",
        "    clear_output()\n",
        "    gui_data.show()\n",
        "    global dataset_original\n",
        "    # disable button\n",
        "    gui_data[\"load_data\"].disabled = True\n",
        "    gui_data[\"load_data\"].description = \"Loading...\"\n",
        "\n",
        "    if gui_data[\"data_source\"].value.startswith(\"Example dataset: \"):\n",
        "        dataset_name = gui_data[\"data_source\"].value.replace(\n",
        "            \"Example dataset: \", \"\")\n",
        "        dataset_original = EDM.get_ZipTiffIterator(dataset_name, as_ndarray=True)\n",
        "        display(stackview.slice(dataset_original, continuous_update=True,\n",
        "                                colormap=gui_data[\"cmaps\"].value))\n",
        "    else:\n",
        "        dataset_original = skimage.io.imread(gui_data[\"data_source\"].value)\n",
        "        display(stackview.slice(dataset_original, continuous_update=True,\n",
        "                                colormap=gui_data[\"cmaps\"].value))\n",
        "    \n",
        "    # enable button\n",
        "    gui_data[\"load_data\"].disabled = False\n",
        "    gui_data[\"load_data\"].description = \"Load data\"\n",
        "    gui_data.save_settings()\n",
        "\n",
        "gui_data.add_label(\"Select data to use:\")\n",
        "gui_data.add_dropdown(\"data_source\", options=image_files,\n",
        "                 value=\"Example dataset: \"+example_datasets[4], remember_value=True)\n",
        "gui_data.add_dropdown(\"cmaps\", description=\"Colormap:\",\n",
        "                      options=sorted(list(mpl.colormaps)),\n",
        "                      value=\"viridis\", remember_value=True)\n",
        "gui_data.add_button(\"load_data\", description=\"Load data\")\n",
        "gui_data[\"load_data\"].on_click(on_button_load_data_clicked)\n",
        "gui_data.show()"
      ]
    },
    {
      "cell_type": "markdown",
      "metadata": {
        "id": "lyk6DQg5CeZO"
      },
      "source": [
        "## Now let's use SRRF to generate a super-resolution image"
      ]
    },
    {
      "cell_type": "markdown",
      "source": [
        "# SRRF Parameters:\n",
        "\n",
        "- **Ring Radius:** Radius of the ring used to calculate the radiality (in pixels).\n",
        "- **Magnification:** Desired magnification for the generated radiality image.\n",
        "- **SRRF order:** Flag for types of SRRF temporal correlations. Order = -1: pairwise product sum; Order = 0: maximum intensity projection; Order = 1: mean; Order = 2,3 or 4: autocorrelation function of order 2, 3 or 4.\n",
        "- **Frames-per-timepoint:** How many frames of the original image stack are used to calculated a single SRRF frame. For example, given an input image with 500 frames, if using 100 frames per timepoint, SRRF will generate an image stack with 5 super-resolved frames.    "
      ],
      "metadata": {
        "id": "GaMd1LizrBnZ"
      }
    },
    {
      "cell_type": "code",
      "execution_count": null,
      "metadata": {
        "tags": [],
        "cellView": "form",
        "id": "USD3dlBzCeZO"
      },
      "outputs": [],
      "source": [
        "#@title Create SRRF GUI\n",
        "gui_srrf = EasyGui(\"srrf\")\n",
        "from nanopyx.methods.srrf import SRRF\n",
        "\n",
        "def run_srrf(b):\n",
        "    clear_output()\n",
        "    gui_srrf.show()\n",
        "    gui_srrf.save_settings()\n",
        "    ring_radius = gui_srrf[\"ring_radius\"].value\n",
        "    magnification = gui_srrf[\"magnification\"].value\n",
        "    frames_per_timepoint = gui_srrf[\"frames_per_timepoint\"].value\n",
        "    srrf_order = gui_srrf[\"srrf_order\"].value\n",
        "    # disable button while running\n",
        "    gui_srrf[\"run\"].disabled = True\n",
        "    gui_srrf[\"run\"].description = \"Running...\"\n",
        "    srrf = SRRF(magnification, ring_radius)\n",
        "    global dataset_srrf\n",
        "    dataset_srrf = srrf.calculate(dataset_original, frames_per_timepoint, srrf_order)\n",
        "    # enable button again\n",
        "    gui_srrf[\"run\"].disabled = False\n",
        "    gui_srrf[\"run\"].description = \"Run\"\n",
        "    display(stackview.curtain(dataset_srrf[0], dataset_srrf[1],\n",
        "                             continuous_update=True,\n",
        "                             colormap=gui_data[\"cmaps\"].value,\n",
        "                             curtain_colormap=gui_data[\"cmaps\"].value))\n",
        "\n",
        "gui_srrf.add_float_slider(\"ring_radius\", description=\"Ring Radius:\", min=0.1, max=3.0, value=0.5, remember_value=True)\n",
        "gui_srrf.add_int_slider(\"magnification\", description=\"Magnification:\", min=1, max=10, value=5)\n",
        "gui_srrf.add_int_slider(\"srrf_order\", description=\"SRRF order:\", min=-1, max=4, value=3)\n",
        "gui_srrf.add_label(\"-=-= Time-Lapse =-=-\")\n",
        "gui_srrf.add_int_slider(\"frames_per_timepoint\", description=\"Frames per time-point (0 - auto)\", min=1, max=dataset_original.shape[0], value=dataset_original.shape[0]//2)\n",
        "gui_srrf.add_dropdown(\"cmaps\", description=\"Colormap:\",\n",
        "                      options=sorted(list(mpl.colormaps)),\n",
        "                      value=\"viridis\", remember_value=True)\n",
        "gui_srrf.add_button(\"run\", description=\"Run\")\n",
        "gui_srrf['run'].on_click(run_srrf)\n",
        "gui_srrf.show()"
      ]
    },
    {
      "cell_type": "markdown",
      "metadata": {
        "id": "jNhqQyWJCeZP"
      },
      "source": [
        "## Let's use NanoPyx to generate an error map of the SRRF image"
      ]
    },
    {
      "cell_type": "code",
      "execution_count": null,
      "metadata": {
        "cellView": "form",
        "id": "E98EwC5RCeZP"
      },
      "outputs": [],
      "source": [
        "#@title Create Error Map GUI\n",
        "gui_error = EasyGui(\"Error\")\n",
        "\n",
        "import numpy as np\n",
        "from matplotlib import pyplot as plt\n",
        "from nanopyx.core.transform.new_error_map import ErrorMap\n",
        "\n",
        "def run_error(b):\n",
        "    clear_output()\n",
        "    gui_error.show()\n",
        "    gui_error.save_settings()\n",
        "    gui_error[\"run\"].disabled = True\n",
        "    gui_error[\"run\"].description = \"Calculating...\"\n",
        "    global error_map\n",
        "    error_map = ErrorMap()\n",
        "    error_map.optimise(np.mean(dataset_original, axis=0), np.mean(dataset_srrf[0], axis=0))\n",
        "    errormap = np.array(error_map.imRSE)\n",
        "    gui_error[\"run\"].disabled = False\n",
        "    gui_error[\"run\"].description = \"Calculate\"\n",
        "    print(\"RSE: \", error_map.getRSE())\n",
        "    print(\"RSP: \", error_map.getRSP())\n",
        "    plt.imshow(errormap)\n",
        "    plt.axis(\"off\")\n",
        "    plt.show()\n",
        "    \n",
        "gui_error.add_button(\"run\", description=\"Calculate\")\n",
        "gui_error[\"run\"].on_click(run_error)\n",
        "gui_error.show()\n",
        "    "
      ]
    },
    {
      "cell_type": "markdown",
      "metadata": {
        "id": "d4bDrE_dCeZQ"
      },
      "source": [
        "## Let's compare the resolution of the raw data with the SRRF using FRC and DecorrelationAnalysis. Let's start with calculation the FRC resolution of the raw data."
      ]
    },
    {
      "cell_type": "markdown",
      "source": [
        "# FRC Parameters:\n",
        "\n",
        "- **Pixel Size:** Pixel size of the image. Used to calculte resolution values.\n",
        "- **Units:** Pixel size units.\n",
        "- **First/Second Frame:** As FRC is calculated between two frames of the same image stack, these parameters determines which two frames are used for the calculation."
      ],
      "metadata": {
        "id": "aOb942lFrE2O"
      }
    },
    {
      "cell_type": "code",
      "execution_count": null,
      "metadata": {
        "cellView": "form",
        "id": "etduNPZ_CeZQ"
      },
      "outputs": [],
      "source": [
        "#@title Create FRC GUI for original image\n",
        "gui_frc_1 = EasyGui(\"FRC\")\n",
        "\n",
        "import numpy as np\n",
        "from nanopyx.core.analysis.frc import FIRECalculator\n",
        "\n",
        "def run_frc(b):\n",
        "    clear_output()\n",
        "    gui_frc_1.show()\n",
        "    gui_frc_1.save_settings()\n",
        "    pixel_size = gui_frc_1[\"pixel_size\"].value\n",
        "    units = gui_frc_1[\"units\"].value\n",
        "    gui_frc_1[\"run\"].disabled = True\n",
        "    gui_frc_1[\"run\"].description = \"Calculating...\"\n",
        "    global frc_calculator_raw\n",
        "    frc_calculator_raw = FIRECalculator(pixel_size=pixel_size, units=units)\n",
        "    frc_calculator_raw.calculate_fire_number(dataset_original[3], dataset_original[11])\n",
        "    gui_frc_1[\"run\"].disabled = False\n",
        "    gui_frc_1[\"run\"].description = \"Calculate\"\n",
        "    plt.imshow(frc_calculator_raw.plot_frc_curve())\n",
        "    plt.axis(\"off\")\n",
        "    plt.show()\n",
        "    \n",
        "gui_frc_1.add_int_slider(\"pixel_size\", description=\"Pixel Size:\", min=0.01, max=1000, value=100, remember_value=True)\n",
        "gui_frc_1.add_dropdown(\"units\", description=\"Units: \", options=[\"nm\", \"um\", \"mm\"], value=\"nm\")\n",
        "gui_frc_1.add_button(\"run\", description=\"Calculate\")\n",
        "gui_frc_1[\"run\"].on_click(run_frc)\n",
        "gui_frc_1.show()"
      ]
    },
    {
      "cell_type": "markdown",
      "metadata": {
        "id": "eeELsrH2CeZQ"
      },
      "source": [
        "## Now let's measure the resolution of the generated SRRF image using FRC"
      ]
    },
    {
      "cell_type": "code",
      "execution_count": null,
      "metadata": {
        "cellView": "form",
        "id": "WN5hKnNjCeZR"
      },
      "outputs": [],
      "source": [
        "#@title Create FRC GUI for SRRF image\n",
        "gui_frc = EasyGui(\"FRC\")\n",
        "\n",
        "from nanopyx.core.analysis.frc import FIRECalculator\n",
        "\n",
        "def run_frc(b):\n",
        "    clear_output()\n",
        "    gui_frc.show()\n",
        "    gui_frc.save_settings()\n",
        "    pixel_size = gui_frc[\"pixel_size\"].value\n",
        "    units = gui_frc[\"units\"].value\n",
        "    first_frame = gui_frc[\"first_frame\"].value\n",
        "    second_frame = gui_frc[\"second_frame\"].value\n",
        "    gui_frc[\"run\"].disabled = True\n",
        "    gui_frc[\"run\"].description = \"Calculating...\"\n",
        "    global frc_calculator\n",
        "    frc_calculator = FIRECalculator(pixel_size=pixel_size, units=units)\n",
        "    frc_calculator.calculate_fire_number(dataset_srrf[0][first_frame], dataset_srrf[0][second_frame])\n",
        "    gui_frc[\"run\"].disabled = False\n",
        "    gui_frc[\"run\"].description = \"Calculate\"\n",
        "    plt.imshow(frc_calculator.plot_frc_curve())\n",
        "    plt.axis(\"off\")\n",
        "    plt.show()\n",
        "    \n",
        "gui_frc.add_int_slider(\"pixel_size\", description=\"Pixel Size:\", min=0.01, max=1000, value=20, remember_value=True)\n",
        "gui_frc.add_dropdown(\"units\", description=\"Units: \", options=[\"nm\", \"um\", \"mm\"], value=\"nm\")\n",
        "gui_frc.add_int_slider(\"first_frame\", description=\"First Frame:\", min=0, max=dataset_srrf[0].shape[0]-1, value=0)\n",
        "gui_frc.add_int_slider (\"second_frame\", description=\"Second Frame:\", min=0, max=dataset_srrf[0].shape[0]-1, value=1)\n",
        "gui_frc.add_button(\"run\", description=\"Calculate\")\n",
        "gui_frc[\"run\"].on_click(run_frc)\n",
        "gui_frc.show()"
      ]
    },
    {
      "cell_type": "markdown",
      "metadata": {
        "id": "awsfLMe9CeZR"
      },
      "source": [
        "## Let's do the same using Decorrelation Analysis."
      ]
    },
    {
      "cell_type": "markdown",
      "source": [
        "# Image Decorrelation Analysis Parameters:\n",
        "\n",
        "- **Pixel Size:** Pixel size of the image. Used to calculate resolution values.\n",
        "- **Units:** Pixel size units.\n",
        "- **Radius Min/Max:** Resolution calculation by Decorrelation Analysis is performed in the frequency space. These parameters define the range of radii to be used in the calculation.  "
      ],
      "metadata": {
        "id": "v1oShT8crIlO"
      }
    },
    {
      "cell_type": "code",
      "execution_count": null,
      "metadata": {
        "cellView": "form",
        "id": "xkhmb8k3CeZR"
      },
      "outputs": [],
      "source": [
        "#@title Create Decorr GUI for original image\n",
        "gui_decorr_1 = EasyGui(\"DecorrAnalysis\")\n",
        "\n",
        "from nanopyx.core.analysis.decorr import DecorrAnalysis\n",
        "\n",
        "def run_decorr(b):\n",
        "    clear_output()\n",
        "    gui_decorr_1.show()\n",
        "    gui_decorr_1.save_settings()\n",
        "    pixel_size = gui_decorr_1[\"pixel_size\"].value\n",
        "    units = gui_decorr_1[\"units\"].value\n",
        "    rmin = gui_decorr_1[\"rmin\"].value\n",
        "    rmax = gui_decorr_1[\"rmax\"].value\n",
        "    gui_decorr_1[\"run\"].disabled = True\n",
        "    gui_decorr_1[\"run\"].description = \"Calculating...\"\n",
        "    global decorr_calculator_raw\n",
        "    decorr_calculator_raw = DecorrAnalysis(pixel_size=pixel_size, units=units, rmin=rmin, rmax=rmax)\n",
        "    decorr_calculator_raw.run_analysis(np.mean(dataset_original, axis=0))\n",
        "    gui_decorr_1[\"run\"].disabled = False\n",
        "    gui_decorr_1[\"run\"].description = \"Calculate\"\n",
        "    plt.imshow(decorr_calculator_raw.plot_results())\n",
        "    plt.axis(\"off\")\n",
        "    plt.show()\n",
        "    \n",
        "gui_decorr_1.add_int_slider(\"pixel_size\", description=\"Pixel Size:\", min=0.01, max=1000, value=100, remember_value=True)\n",
        "gui_decorr_1.add_dropdown(\"units\", description=\"Units: \", options=[\"nm\", \"um\", \"mm\"], value=\"nm\")\n",
        "gui_decorr_1.add_float_slider(\"rmin\", description=\"Radius Min:\", min=0.0, max=0.5, value=0.0)\n",
        "gui_decorr_1.add_float_slider(\"rmax\", description=\"Radius Max:\", min=0.5, max=1.0, value=1.0)\n",
        "gui_decorr_1.add_button(\"run\", description=\"Calculate\")\n",
        "gui_decorr_1[\"run\"].on_click(run_decorr)\n",
        "gui_decorr_1.show()"
      ]
    },
    {
      "cell_type": "markdown",
      "metadata": {
        "id": "E-9Sc9WeCeZR"
      },
      "source": [
        "## Now let's measure the resolution of the generated SRRF image using Decorrelation Analysis"
      ]
    },
    {
      "cell_type": "code",
      "execution_count": null,
      "metadata": {
        "tags": [],
        "cellView": "form",
        "id": "S9i3s0lXCeZR"
      },
      "outputs": [],
      "source": [
        "#@title Create Decorr GUI for SRRF image\n",
        "gui_decorr = EasyGui(\"DecorrAnalysis\")\n",
        "\n",
        "from nanopyx.core.analysis.decorr import DecorrAnalysis\n",
        "\n",
        "def run_decorr(b):\n",
        "    clear_output()\n",
        "    gui_decorr.show()\n",
        "    gui_decorr.save_settings()\n",
        "    pixel_size = gui_decorr[\"pixel_size\"].value\n",
        "    units = gui_decorr[\"units\"].value\n",
        "    first_frame = gui_decorr[\"first_frame\"].value\n",
        "    rmin = gui_decorr[\"rmin\"].value\n",
        "    rmax = gui_decorr[\"rmax\"].value\n",
        "    gui_decorr[\"run\"].disabled = True\n",
        "    gui_decorr[\"run\"].description = \"Calculating...\"\n",
        "    global decorr_calculator\n",
        "    decorr_calculator = DecorrAnalysis(pixel_size=pixel_size, units=units, rmin=rmin, rmax=rmax)\n",
        "    decorr_calculator.run_analysis(dataset_srrf[0][first_frame])\n",
        "    gui_decorr[\"run\"].disabled = False\n",
        "    gui_decorr[\"run\"].description = \"Calculate\"\n",
        "    plt.imshow(decorr_calculator.plot_results())\n",
        "    plt.axis(\"off\")\n",
        "    plt.show()\n",
        "    \n",
        "gui_decorr.add_int_slider(\"pixel_size\", description=\"Pixel Size:\", min=0.01, max=1000, value=100, remember_value=True)\n",
        "gui_decorr.add_dropdown(\"units\", description=\"Units: \", options=[\"nm\", \"um\", \"mm\"], value=\"nm\")\n",
        "gui_decorr.add_int_slider(\"first_frame\", description=\"Frame to be used:\", min=0, max=dataset_srrf[0].shape[0]-1, value=0)\n",
        "gui_decorr.add_float_slider(\"rmin\", description=\"Radius Min:\", min=0.0, max=0.5, value=0.0)\n",
        "gui_decorr.add_float_slider(\"rmax\", description=\"Radius Max:\", min=0.5, max=1.0, value=1.0)\n",
        "gui_decorr.add_button(\"run\", description=\"Calculate\")\n",
        "gui_decorr[\"run\"].on_click(run_decorr)\n",
        "gui_decorr.show()"
      ]
    }
  ],
  "metadata": {
    "kernelspec": {
      "display_name": "Python 3 (ipykernel)",
      "language": "python",
      "name": "python3"
    },
    "language_info": {
      "codemirror_mode": {
        "name": "ipython",
        "version": 3
      },
      "file_extension": ".py",
      "mimetype": "text/x-python",
      "name": "python",
      "nbconvert_exporter": "python",
      "pygments_lexer": "ipython3",
      "version": "3.10.9"
    },
    "colab": {
      "provenance": []
    }
  },
  "nbformat": 4,
  "nbformat_minor": 0
}