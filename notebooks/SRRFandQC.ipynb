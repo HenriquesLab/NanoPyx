{
 "cells": [
  {
   "cell_type": "markdown",
   "metadata": {},
   "source": [
    "# NanoPyx \"Codeless\" Jupyter Notebook\n",
    "\n",
    "### This notebook showcases loading an example datast with NanoPyx, performing super-resolution image generation using SRRF (Super-Resolution Radiality Fluctuations) and then measuring quality control metrics such as FRC (Fourier Ring Correlation) and Decorrelation analysis.\n",
    "  \n",
    "### To use this notebook you don't need to interact with any code, just run cells in order and a graphical user interface will pop-up showcasing the parameters for each step\n",
    "  \n",
    "**SRRF**: Culley S, Tosheva KL, Matos Pereira P, Henriques R. SRRF: Universal live-cell super-resolution microscopy. Int J Biochem Cell Biol. 2018 Aug;101:74-79. doi: 10.1016/j.biocel.2018.05.014. Epub 2018 May 28. PMID: 29852248; PMCID: PMC6025290.  \n",
    "  \n",
    "**FRC**: Nieuwenhuizen RP, Lidke KA, Bates M, Puig DL, Grünwald D, Stallinga S, Rieger B. Measuring image resolution in optical nanoscopy. Nat Methods. 2013 Jun;10(6):557-62. doi: 10.1038/nmeth.2448. Epub 2013 Apr 28. PMID: 23624665; PMCID: PMC4149789.  \n",
    "  \n",
    "**DecorrAnalysis**: Descloux A, Grußmayer KS, Radenovic A. Parameter-free image resolution estimation based on decorrelation analysis. Nat Methods. 2019 Sep;16(9):918-924. doi: 10.1038/s41592-019-0515-7. Epub 2019 Aug 26. PMID: 31451766.  "
   ]
  },
  {
   "attachments": {},
   "cell_type": "markdown",
   "metadata": {},
   "source": [
    "## Notebook setup cell\n",
    "Run the following cell to install nanopyx"
   ]
  },
  {
   "cell_type": "code",
   "execution_count": null,
   "metadata": {},
   "outputs": [],
   "source": [
    "!pip install git+https://github.com/HenriquesLab/NanoPyx.git\n",
    "!pip install stackview"
   ]
  },
  {
   "attachments": {},
   "cell_type": "markdown",
   "metadata": {},
   "source": [
    "Now, import all necessary python libraries and start the gui_data_data setup."
   ]
  },
  {
   "cell_type": "code",
   "execution_count": null,
   "metadata": {
    "tags": []
   },
   "outputs": [],
   "source": [
    "import os\n",
    "import stackview\n",
    "\n",
    "import ipywidgets as widgets\n",
    "import skimage\n",
    "from IPython.display import display\n",
    "\n",
    "from nanopyx.core.utils.easy_gui import EasyGui\n",
    "from nanopyx.core.utils.find_files import find_files\n",
    "from nanopyx.data.download import ExampleDataManager\n",
    "\n",
    "cwd = os.getcwd()\n",
    "image_folder = \"datasets\"\n",
    "image_files = []\n",
    "EDM = ExampleDataManager()\n",
    "example_datasets = EDM.list_datasets()\n",
    "\n",
    "_path = os.path.join(\"..\", image_folder)\n",
    "if os.path.exists(_path):\n",
    "    image_files += find_files(_path, \".tif\")\n",
    "if os.path.exists(image_folder):\n",
    "    image_files += find_files(image_folder, \".tif\")\n",
    "image_files += [\"Example dataset: \"+dataset for dataset in example_datasets]"
   ]
  },
  {
   "cell_type": "markdown",
   "metadata": {},
   "source": [
    "## Next lets create the Data Loader GUI.\n",
    "\n",
    "Once you run the cell, make sure to select the SMLMS2013_HDTubulingAlexa647 dataset"
   ]
  },
  {
   "cell_type": "code",
   "execution_count": null,
   "metadata": {
    "tags": []
   },
   "outputs": [],
   "source": [
    "# Create a GUI\n",
    "gui_data = EasyGui(\"Data Loader\")\n",
    "\n",
    "def on_button_load_data_clicked(b):\n",
    "    global dataset_original\n",
    "    # disable button\n",
    "    gui_data[\"load_data\"].disabled = True\n",
    "    gui_data[\"load_data\"].description = \"Loading...\"\n",
    "\n",
    "    if gui_data[\"data_source\"].value.startswith(\"Example dataset: \"):\n",
    "        dataset_name = gui_data[\"data_source\"].value.replace(\n",
    "            \"Example dataset: \", \"\")\n",
    "        dataset_original = EDM.get_ZipTiffIterator(dataset_name, as_ndarray=True)\n",
    "    else:\n",
    "        dataset_original = skimage.io.imread(gui_data[\"data_source\"].value)\n",
    "    \n",
    "    # enable button\n",
    "    gui_data[\"load_data\"].disabled = False\n",
    "    gui_data[\"load_data\"].description = \"Load data\"\n",
    "    gui_data.save_settings()\n",
    "\n",
    "gui_data.add_label(\"Select data to use:\")\n",
    "gui_data.add_dropdown(\"data_source\", options=image_files,\n",
    "                 value=\"Example dataset: \"+example_datasets[4], remember_value=True)\n",
    "gui_data.add_button(\"load_data\", description=\"Load data\")\n",
    "gui_data[\"load_data\"].on_click(on_button_load_data_clicked)\n",
    "gui_data.show()"
   ]
  },
  {
   "cell_type": "markdown",
   "metadata": {},
   "source": [
    "## Let's take a look at the dataset"
   ]
  },
  {
   "cell_type": "code",
   "execution_count": null,
   "metadata": {
    "tags": []
   },
   "outputs": [],
   "source": [
    "stackview.slice(dataset_original, continuous_update=True, zoom_factor=2, slider_text=\"Frame\")"
   ]
  },
  {
   "cell_type": "markdown",
   "metadata": {},
   "source": [
    "## Now let's use SRRF to generate a super-resolution image"
   ]
  },
  {
   "cell_type": "code",
   "execution_count": null,
   "metadata": {
    "tags": []
   },
   "outputs": [],
   "source": [
    "gui_srrf = EasyGui(\"srrf\")\n",
    "from nanopyx.methods.srrf import SRRF\n",
    "\n",
    "def run_srrf(b):\n",
    "    gui_srrf.save_settings()\n",
    "    ring_radius = gui_srrf[\"ring_radius\"].value\n",
    "    magnification = gui_srrf[\"magnification\"].value\n",
    "    frames_per_timepoint = gui_srrf[\"frames_per_timepoint\"].value\n",
    "    srrf_order = gui_srrf[\"srrf_order\"].value\n",
    "    # disable button while running\n",
    "    gui_srrf[\"run\"].disabled = True\n",
    "    gui_srrf[\"run\"].description = \"Running...\"\n",
    "    srrf = SRRF(magnification, ring_radius)\n",
    "    global dataset_srrf\n",
    "    dataset_srrf = srrf.calculate(dataset_original, frames_per_timepoint, srrf_order)\n",
    "    # enable button again\n",
    "    gui_srrf[\"run\"].disabled = False\n",
    "    gui_srrf[\"run\"].description = \"Run\"\n",
    "\n",
    "gui_srrf.add_float_slider(\"ring_radius\", description=\"Ring Radius:\", min=0.1, max=3.0, value=0.5, remember_value=True)\n",
    "gui_srrf.add_int_slider(\"magnification\", description=\"Magnification:\", min=1, max=10, value=5)\n",
    "gui_srrf.add_int_slider(\"srrf_order\", description=\"SRRF order:\", min=-1, max=4, value=3)\n",
    "gui_srrf.add_label(\"-=-= Time-Lapse =-=-\")\n",
    "gui_srrf.add_int_slider(\"frames_per_timepoint\", description=\"Frames per time-point (0 - auto)\", min=1, max=dataset_original.shape[0], value=dataset_original.shape[0]//2)\n",
    "gui_srrf.add_button(\"run\", description=\"Run\")\n",
    "gui_srrf['run'].on_click(run_srrf)\n",
    "gui_srrf.show()"
   ]
  },
  {
   "cell_type": "code",
   "execution_count": null,
   "metadata": {
    "tags": []
   },
   "outputs": [],
   "source": [
    "stackview.curtain(dataset_srrf[0], dataset_srrf[1], continuous_update=True, zoom_factor=1, zoom_spline_order=0)"
   ]
  },
  {
   "cell_type": "markdown",
   "metadata": {},
   "source": [
    "## Let's use NanoPyx to generate an error map of the SRRF image"
   ]
  },
  {
   "cell_type": "code",
   "execution_count": null,
   "metadata": {},
   "outputs": [],
   "source": [
    "gui_error = EasyGui(\"Error\")\n",
    "\n",
    "import numpy as np\n",
    "from matplotlib import pyplot as plt\n",
    "from nanopyx.core.transform.new_error_map import ErrorMap\n",
    "\n",
    "def run_error(b):\n",
    "    gui_error.save_settings()\n",
    "    gui_error[\"run\"].disabled = True\n",
    "    gui_error[\"run\"].description = \"Calculating...\"\n",
    "    global error_map\n",
    "    error_map = ErrorMap()\n",
    "    error_map.optimise(np.mean(dataset_original, axis=0), np.mean(dataset_srrf[0], axis=0))\n",
    "    gui_error[\"run\"].disabled = False\n",
    "    gui_error[\"run\"].description = \"Calculate\"\n",
    "    print(\"Calculation finished, run next cell to visualise error map\")\n",
    "    \n",
    "gui_error.add_button(\"run\", description=\"Calculate\")\n",
    "gui_error[\"run\"].on_click(run_error)\n",
    "gui_error.show()\n",
    "    "
   ]
  },
  {
   "cell_type": "code",
   "execution_count": null,
   "metadata": {},
   "outputs": [],
   "source": [
    "print(\"RSE: \", error_map.getRSE())\n",
    "print(\"RSP: \", error_map.getRSP())\n",
    "plt.imshow(error_map.imRSE)"
   ]
  },
  {
   "cell_type": "markdown",
   "metadata": {},
   "source": [
    "## Let's compare the resolution of the raw data with the SRRF using FRC and DecorrelationAnalysis. Let's start with calculation the FRC resolution of the raw data."
   ]
  },
  {
   "cell_type": "code",
   "execution_count": null,
   "metadata": {},
   "outputs": [],
   "source": [
    "gui_frc_1 = EasyGui(\"FRC\")\n",
    "\n",
    "import numpy as np\n",
    "from nanopyx.core.analysis.frc import FIRECalculator\n",
    "\n",
    "def run_frc(b):\n",
    "    gui_frc_1.save_settings()\n",
    "    pixel_size = gui_frc_1[\"pixel_size\"].value\n",
    "    units = gui_frc_1[\"units\"].value\n",
    "    gui_frc_1[\"run\"].disabled = True\n",
    "    gui_frc_1[\"run\"].description = \"Calculating...\"\n",
    "    global frc_calculator_raw\n",
    "    frc_calculator_raw = FIRECalculator(pixel_size=pixel_size, units=units)\n",
    "    frc_calculator_raw.calculate_fire_number(dataset_original[3], dataset_original[11])\n",
    "    gui_frc_1[\"run\"].disabled = False\n",
    "    gui_frc_1[\"run\"].description = \"Calculate\"\n",
    "    print(\"Calculation finished. You can now plot the results.\")\n",
    "    \n",
    "gui_frc_1.add_int_slider(\"pixel_size\", description=\"Pixel Size:\", min=0.01, max=1000, value=100, remember_value=True)\n",
    "gui_frc_1.add_dropdown(\"units\", description=\"Units: \", options=[\"nm\", \"um\", \"mm\"], value=\"nm\")\n",
    "gui_frc_1.add_button(\"run\", description=\"Calculate\")\n",
    "gui_frc_1[\"run\"].on_click(run_frc)\n",
    "gui_frc_1.show()"
   ]
  },
  {
   "cell_type": "code",
   "execution_count": null,
   "metadata": {},
   "outputs": [],
   "source": [
    "frc_calculator_raw.plot_frc_curve()"
   ]
  },
  {
   "cell_type": "markdown",
   "metadata": {},
   "source": [
    "## Now let's measure the resolution of the generated SRRF image using FRC"
   ]
  },
  {
   "cell_type": "code",
   "execution_count": null,
   "metadata": {},
   "outputs": [],
   "source": [
    "gui_frc = EasyGui(\"FRC\")\n",
    "\n",
    "from nanopyx.core.analysis.frc import FIRECalculator\n",
    "\n",
    "def run_frc(b):\n",
    "    gui_frc.save_settings()\n",
    "    pixel_size = gui_frc[\"pixel_size\"].value\n",
    "    units = gui_frc[\"units\"].value\n",
    "    first_frame = gui_frc[\"first_frame\"].value\n",
    "    second_frame = gui_frc[\"second_frame\"].value\n",
    "    gui_frc[\"run\"].disabled = True\n",
    "    gui_frc[\"run\"].description = \"Calculating...\"\n",
    "    global frc_calculator\n",
    "    frc_calculator = FIRECalculator(pixel_size=pixel_size, units=units)\n",
    "    frc_calculator.calculate_fire_number(dataset_srrf[0][first_frame], dataset_srrf[0][second_frame])\n",
    "    gui_frc[\"run\"].disabled = False\n",
    "    gui_frc[\"run\"].description = \"Calculate\"\n",
    "    print(\"Calculation finished. You can now plot the results.\")\n",
    "    \n",
    "gui_frc.add_int_slider(\"pixel_size\", description=\"Pixel Size:\", min=0.01, max=1000, value=20, remember_value=True)\n",
    "gui_frc.add_dropdown(\"units\", description=\"Units: \", options=[\"nm\", \"um\", \"mm\"], value=\"nm\")\n",
    "gui_frc.add_int_slider(\"first_frame\", description=\"First Frame:\", min=0, max=dataset_srrf[0].shape[0]-1, value=0)\n",
    "gui_frc.add_int_slider (\"second_frame\", description=\"Second Frame:\", min=0, max=dataset_srrf[0].shape[0]-1, value=1)\n",
    "gui_frc.add_button(\"run\", description=\"Calculate\")\n",
    "gui_frc[\"run\"].on_click(run_frc)\n",
    "gui_frc.show()"
   ]
  },
  {
   "cell_type": "code",
   "execution_count": null,
   "metadata": {},
   "outputs": [],
   "source": [
    "frc_calculator.plot_frc_curve()"
   ]
  },
  {
   "cell_type": "markdown",
   "metadata": {},
   "source": [
    "## Let's do the same using Decorrelation Analysis."
   ]
  },
  {
   "cell_type": "code",
   "execution_count": null,
   "metadata": {},
   "outputs": [],
   "source": [
    "gui_decorr_1 = EasyGui(\"DecorrAnalysis\")\n",
    "\n",
    "from nanopyx.core.analysis.decorr import DecorrAnalysis\n",
    "\n",
    "def run_decorr(b):\n",
    "    gui_decorr_1.save_settings()\n",
    "    pixel_size = gui_decorr_1[\"pixel_size\"].value\n",
    "    units = gui_decorr_1[\"units\"].value\n",
    "    rmin = gui_decorr_1[\"rmin\"].value\n",
    "    rmax = gui_decorr_1[\"rmax\"].value\n",
    "    gui_decorr_1[\"run\"].disabled = True\n",
    "    gui_decorr_1[\"run\"].description = \"Calculating...\"\n",
    "    global decorr_calculator_raw\n",
    "    decorr_calculator_raw = DecorrAnalysis(pixel_size=pixel_size, units=units, rmin=rmin, rmax=rmax)\n",
    "    decorr_calculator_raw.run_analysis(np.mean(dataset_original, axis=0))\n",
    "    gui_decorr_1[\"run\"].disabled = False\n",
    "    gui_decorr_1[\"run\"].description = \"Calculate\"\n",
    "    print(\"Calculation finished. You can now plot the results.\")\n",
    "    \n",
    "gui_decorr_1.add_int_slider(\"pixel_size\", description=\"Pixel Size:\", min=0.01, max=1000, value=100, remember_value=True)\n",
    "gui_decorr_1.add_dropdown(\"units\", description=\"Units: \", options=[\"nm\", \"um\", \"mm\"], value=\"nm\")\n",
    "gui_decorr_1.add_float_slider(\"rmin\", description=\"Radius Min:\", min=0.0, max=0.5, value=0.0)\n",
    "gui_decorr_1.add_float_slider(\"rmax\", desctiption=\"Radius Max:\", min=0.5, max=1.0, value=1.0)\n",
    "gui_decorr_1.add_button(\"run\", description=\"Calculate\")\n",
    "gui_decorr_1[\"run\"].on_click(run_decorr)\n",
    "gui_decorr_1.show()"
   ]
  },
  {
   "cell_type": "code",
   "execution_count": null,
   "metadata": {},
   "outputs": [],
   "source": [
    "decorr_calculator_raw.plot_results()"
   ]
  },
  {
   "cell_type": "markdown",
   "metadata": {},
   "source": [
    "## Now let's measure the resolution of the generated SRRF image using DecorrelationAnalysis"
   ]
  },
  {
   "cell_type": "code",
   "execution_count": null,
   "metadata": {
    "tags": []
   },
   "outputs": [],
   "source": [
    "gui_decorr = EasyGui(\"DecorrAnalysis\")\n",
    "\n",
    "from nanopyx.core.analysis.decorr import DecorrAnalysis\n",
    "\n",
    "def run_decorr(b):\n",
    "    gui_decorr.save_settings()\n",
    "    pixel_size = gui_decorr[\"pixel_size\"].value\n",
    "    units = gui_decorr[\"units\"].value\n",
    "    first_frame = gui_decorr[\"first_frame\"].value\n",
    "    rmin = gui_decorr[\"rmin\"].value\n",
    "    rmax = gui_decorr[\"rmax\"].value\n",
    "    gui_decorr[\"run\"].disabled = True\n",
    "    gui_decorr[\"run\"].description = \"Calculating...\"\n",
    "    global decorr_calculator\n",
    "    decorr_calculator = DecorrAnalysis(pixel_size=pixel_size, units=units, rmin=rmin, rmax=rmax)\n",
    "    decorr_calculator.run_analysis(dataset_srrf[0][first_frame])\n",
    "    gui_decorr[\"run\"].disabled = False\n",
    "    gui_decorr[\"run\"].description = \"Calculate\"\n",
    "    print(\"Calculation finished. You can now plot the results.\")\n",
    "    \n",
    "gui_decorr.add_int_slider(\"pixel_size\", description=\"Pixel Size:\", min=0.01, max=1000, value=100, remember_value=True)\n",
    "gui_decorr.add_dropdown(\"units\", description=\"Units: \", options=[\"nm\", \"um\", \"mm\"], value=\"nm\")\n",
    "gui_decorr.add_int_slider(\"first_frame\", description=\"Frame to be used:\", min=0, max=dataset_srrf[0].shape[0]-1, value=0)\n",
    "gui_decorr.add_float_slider(\"rmin\", description=\"Radius Min:\", min=0.0, max=0.5, value=0.0)\n",
    "gui_decorr.add_float_slider(\"rmax\", desctiption=\"Radius Max:\", min=0.5, max=1.0, value=1.0)\n",
    "gui_decorr.add_button(\"run\", description=\"Calculate\")\n",
    "gui_decorr[\"run\"].on_click(run_decorr)\n",
    "gui_decorr.show()"
   ]
  },
  {
   "cell_type": "code",
   "execution_count": null,
   "metadata": {},
   "outputs": [],
   "source": [
    "decorr_calculator.plot_results()"
   ]
  }
 ],
 "metadata": {
  "kernelspec": {
   "display_name": "Python 3 (ipykernel)",
   "language": "python",
   "name": "python3"
  },
  "language_info": {
   "codemirror_mode": {
    "name": "ipython",
    "version": 3
   },
   "file_extension": ".py",
   "mimetype": "text/x-python",
   "name": "python",
   "nbconvert_exporter": "python",
   "pygments_lexer": "ipython3",
   "version": "3.10.9"
  }
 },
 "nbformat": 4,
 "nbformat_minor": 4
}
