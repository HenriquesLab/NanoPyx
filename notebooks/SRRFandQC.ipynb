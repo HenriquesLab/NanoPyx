{
 "cells": [
  {
   "cell_type": "markdown",
   "metadata": {},
   "source": [
    "# NanoPyx \"Codeless\" Jupyter Notebook\n",
    "\n",
    "### This notebook allows you to generate a super-resolution image using SRRF (Super-Resolution Radiality Fluctuations) and then assess quality control metrics such as an Error Map (NanoJ-SQUIRREL), FRC (Fourier Ring Correlation) and Decorrelation analysis.\n",
    "  \n",
    "### To use this notebook you don't need to interact with any code, just run cells in order and a graphical user interface will pop-up showcasing the parameters for each step\n",
    "  \n",
    "**SRRF**: Culley S, Tosheva KL, Matos Pereira P, Henriques R. SRRF: Universal live-cell super-resolution microscopy. Int J Biochem Cell Biol. 2018 Aug;101:74-79. doi: 10.1016/j.biocel.2018.05.014. Epub 2018 May 28. PMID: 29852248; PMCID: PMC6025290.\n",
    "\n",
    "**Error Map**: Culley, S., Albrecht, D., Jacobs, C. et al. Quantitative mapping and minimization of super-resolution optical imaging artifacts. Nat Methods 15, 263–266 (2018). https://doi.org/10.1038/nmeth.4605\n",
    "  \n",
    "**FRC**: Nieuwenhuizen RP, Lidke KA, Bates M, Puig DL, Grünwald D, Stallinga S, Rieger B. Measuring image resolution in optical nanoscopy. Nat Methods. 2013 Jun;10(6):557-62. doi: 10.1038/nmeth.2448. Epub 2013 Apr 28. PMID: 23624665; PMCID: PMC4149789.  \n",
    "  \n",
    "**DecorrAnalysis**: Descloux A, Grußmayer KS, Radenovic A. Parameter-free image resolution estimation based on decorrelation analysis. Nat Methods. 2019 Sep;16(9):918-924. doi: 10.1038/s41592-019-0515-7. Epub 2019 Aug 26. PMID: 31451766.  "
   ]
  },
  {
   "cell_type": "markdown",
   "metadata": {},
   "source": [
    "## Notebook setup cell\n",
    "Run the following cell to install nanopyx"
   ]
  },
  {
   "cell_type": "code",
   "execution_count": null,
   "metadata": {},
   "outputs": [],
   "source": [
    "#@title Install NanoPyx\n",
    "!pip install \"nanopyx[all] @git+https://github.com/HenriquesLab/NanoPyx.git\""
   ]
  },
  {
   "cell_type": "markdown",
   "metadata": {},
   "source": [
    "Now, import all necessary python libraries"
   ]
  },
  {
   "cell_type": "code",
   "execution_count": 1,
   "metadata": {
    "tags": []
   },
   "outputs": [],
   "source": [
    "#@title Import libraries\n",
    "import io\n",
    "import os\n",
    "import skimage\n",
    "import numpy as np\n",
    "import tifffile as tiff\n",
    "import ipywidgets as widgets\n",
    "from IPython.display import display, clear_output\n",
    "from matplotlib import pyplot as plt\n",
    "\n",
    "from nanopyx.core.utils.easy_gui import EasyGui\n",
    "from nanopyx.core.utils.find_files import find_files\n",
    "from nanopyx.data.download import ExampleDataManager\n",
    "from nanopyx.core.utils.easy_gui import view_image_stack, view_curtain_stack, view_image"
   ]
  },
  {
   "cell_type": "markdown",
   "metadata": {},
   "source": [
    "## Select which image to load"
   ]
  },
  {
   "cell_type": "code",
   "execution_count": 2,
   "metadata": {
    "tags": []
   },
   "outputs": [
    {
     "data": {
      "application/vnd.jupyter.widget-view+json": {
       "model_id": "e0055a7aa70e4798a4cbbf256bf43019",
       "version_major": 2,
       "version_minor": 0
      },
      "text/plain": [
       "Label(value='Select data to use:', layout=Layout(width='50%'), style=LabelStyle(description_width='initial'))"
      ]
     },
     "metadata": {},
     "output_type": "display_data"
    },
    {
     "data": {
      "application/vnd.jupyter.widget-view+json": {
       "model_id": "54c4bc74855b436a94c594bd7038b4cc",
       "version_major": 2,
       "version_minor": 0
      },
      "text/plain": [
       "FileChooser(path='/Users/bsaraiva/Code/NanoPyx/notebooks', filename='', title='', show_hidden=False, select_de…"
      ]
     },
     "metadata": {},
     "output_type": "display_data"
    },
    {
     "data": {
      "application/vnd.jupyter.widget-view+json": {
       "model_id": "136de1f03f4c4a74aaff1a42f0d7722a",
       "version_major": 2,
       "version_minor": 0
      },
      "text/plain": [
       "Button(description='Load data', layout=Layout(width='50%'), style=ButtonStyle())"
      ]
     },
     "metadata": {},
     "output_type": "display_data"
    }
   ],
   "source": [
    "#@title Create image loader GUI\n",
    "%matplotlib widget\n",
    "# Create a GUI\n",
    "gui_data = EasyGui(\"Data Loader\")\n",
    "\n",
    "def on_button_load_data_clicked(b):\n",
    "    clear_output()\n",
    "    gui_data.show()\n",
    "    global dataset_original\n",
    "    # disable button\n",
    "    gui_data[\"load_data\"].disabled = True\n",
    "    gui_data[\"load_data\"].description = \"Loading...\"\n",
    "    dataset_original = tiff.imread(gui_data[\"upload\"].selected)\n",
    "    gui_data[\"load_data\"].disabled = False\n",
    "    gui_data[\"load_data\"].description = \"Load data\"\n",
    "    view_image_stack(dataset_original)\n",
    "\n",
    "gui_data.add_label(\"Select data to use:\")\n",
    "gui_data.add_file_upload(\"upload\")\n",
    "gui_data.add_button(\"load_data\", description=\"Load data\")\n",
    "gui_data[\"load_data\"].on_click(on_button_load_data_clicked)\n",
    "gui_data.show()"
   ]
  },
  {
   "cell_type": "markdown",
   "metadata": {},
   "source": [
    "## Now let's use SRRF to generate a super-resolution image"
   ]
  },
  {
   "cell_type": "code",
   "execution_count": 3,
   "metadata": {
    "tags": []
   },
   "outputs": [
    {
     "data": {
      "application/vnd.jupyter.widget-view+json": {
       "model_id": "8b11df8b6c6e4722b0da8f24e768cb60",
       "version_major": 2,
       "version_minor": 0
      },
      "text/plain": [
       "FloatSlider(value=0.5, description='Ring Radius:', layout=Layout(width='50%'), max=3.0, min=0.1, style=SliderS…"
      ]
     },
     "metadata": {},
     "output_type": "display_data"
    },
    {
     "data": {
      "application/vnd.jupyter.widget-view+json": {
       "model_id": "7fa481b3c6754fa8babce14aacfff179",
       "version_major": 2,
       "version_minor": 0
      },
      "text/plain": [
       "IntSlider(value=5, description='Magnification:', layout=Layout(width='50%'), max=10, min=1, style=SliderStyle(…"
      ]
     },
     "metadata": {},
     "output_type": "display_data"
    },
    {
     "data": {
      "application/vnd.jupyter.widget-view+json": {
       "model_id": "a5d33206b77c43c695d7c59bd97fea91",
       "version_major": 2,
       "version_minor": 0
      },
      "text/plain": [
       "IntSlider(value=3, description='SRRF order:', layout=Layout(width='50%'), max=4, min=-1, style=SliderStyle(des…"
      ]
     },
     "metadata": {},
     "output_type": "display_data"
    },
    {
     "data": {
      "application/vnd.jupyter.widget-view+json": {
       "model_id": "a64349d53d35484fafce30d4c3ee494d",
       "version_major": 2,
       "version_minor": 0
      },
      "text/plain": [
       "Label(value='-=-= Time-Lapse =-=-', layout=Layout(width='50%'), style=LabelStyle(description_width='initial'))"
      ]
     },
     "metadata": {},
     "output_type": "display_data"
    },
    {
     "data": {
      "application/vnd.jupyter.widget-view+json": {
       "model_id": "aba6495aa3ea482b861f1c9864295d78",
       "version_major": 2,
       "version_minor": 0
      },
      "text/plain": [
       "IntSlider(value=250, description='Frames per time-point (0 - auto)', layout=Layout(width='50%'), max=500, min=…"
      ]
     },
     "metadata": {},
     "output_type": "display_data"
    },
    {
     "data": {
      "application/vnd.jupyter.widget-view+json": {
       "model_id": "6879fb44b6a4475697a1024660027bc6",
       "version_major": 2,
       "version_minor": 0
      },
      "text/plain": [
       "Checkbox(value=True, description='Save Output', layout=Layout(width='50%'), style=CheckboxStyle(description_wi…"
      ]
     },
     "metadata": {},
     "output_type": "display_data"
    },
    {
     "data": {
      "application/vnd.jupyter.widget-view+json": {
       "model_id": "dacf47d916fc49c6a791bbe6d587b26e",
       "version_major": 2,
       "version_minor": 0
      },
      "text/plain": [
       "Button(description='Run', layout=Layout(width='50%'), style=ButtonStyle())"
      ]
     },
     "metadata": {},
     "output_type": "display_data"
    }
   ],
   "source": [
    "#@title Create SRRF GUI\n",
    "gui_srrf = EasyGui(\"srrf\")\n",
    "from nanopyx.methods.srrf import SRRF\n",
    "\n",
    "def run_srrf(b):\n",
    "    clear_output()\n",
    "    gui_srrf.show()\n",
    "    gui_srrf.save_settings()\n",
    "    ring_radius = gui_srrf[\"ring_radius\"].value\n",
    "    magnification = gui_srrf[\"magnification\"].value\n",
    "    frames_per_timepoint = gui_srrf[\"frames_per_timepoint\"].value\n",
    "    srrf_order = gui_srrf[\"srrf_order\"].value\n",
    "    # disable button while running\n",
    "    gui_srrf[\"run\"].disabled = True\n",
    "    gui_srrf[\"run\"].description = \"Running...\"\n",
    "    srrf = SRRF(magnification, ring_radius)\n",
    "    global dataset_srrf\n",
    "    dataset_srrf = srrf.calculate(dataset_original, frames_per_timepoint, srrf_order)\n",
    "    # enable button again\n",
    "    gui_srrf[\"run\"].disabled = False\n",
    "    gui_srrf[\"run\"].description = \"Run\"\n",
    "    if gui_srrf[\"save\"].value:\n",
    "        path = gui_data[\"upload\"].selected_path\n",
    "        name = gui_data[\"upload\"].selected_filename.split(\".\")[0]\n",
    "        tiff.imwrite(path + os.sep + name + \"_srrf.tif\", dataset_srrf[0])\n",
    "    view_curtain_stack(dataset_srrf[0], dataset_srrf[1])\n",
    "\n",
    "gui_srrf.add_float_slider(\"ring_radius\", description=\"Ring Radius:\", min=0.1, max=3.0, value=0.5, remember_value=True)\n",
    "gui_srrf.add_int_slider(\"magnification\", description=\"Magnification:\", min=1, max=10, value=5)\n",
    "gui_srrf.add_int_slider(\"srrf_order\", description=\"SRRF order:\", min=-1, max=4, value=3)\n",
    "gui_srrf.add_label(\"-=-= Time-Lapse =-=-\")\n",
    "gui_srrf.add_int_slider(\"frames_per_timepoint\", description=\"Frames per time-point (0 - auto)\", min=1, max=dataset_original.shape[0], value=dataset_original.shape[0]//2)\n",
    "gui_srrf.add_checkbox(\"save\", description=\"Save Output\", value=True)\n",
    "gui_srrf.add_button(\"run\", description=\"Run\")\n",
    "gui_srrf['run'].on_click(run_srrf)\n",
    "gui_srrf.show()"
   ]
  },
  {
   "cell_type": "markdown",
   "metadata": {},
   "source": [
    "## Let's use NanoPyx to generate an error map of the SRRF image"
   ]
  },
  {
   "cell_type": "code",
   "execution_count": 6,
   "metadata": {
    "tags": []
   },
   "outputs": [
    {
     "data": {
      "application/vnd.jupyter.widget-view+json": {
       "model_id": "9fcd42278aa844de9fe70321cad9ddee",
       "version_major": 2,
       "version_minor": 0
      },
      "text/plain": [
       "Checkbox(value=True, description='Save output', layout=Layout(width='50%'), style=CheckboxStyle(description_wi…"
      ]
     },
     "metadata": {},
     "output_type": "display_data"
    },
    {
     "data": {
      "application/vnd.jupyter.widget-view+json": {
       "model_id": "8ffa54f21ba042e890fa5fc47ab24277",
       "version_major": 2,
       "version_minor": 0
      },
      "text/plain": [
       "Button(description='Calculate', layout=Layout(width='50%'), style=ButtonStyle())"
      ]
     },
     "metadata": {},
     "output_type": "display_data"
    }
   ],
   "source": [
    "#@ Create Error Map GUI\n",
    "gui_error = EasyGui(\"Error\")\n",
    "\n",
    "import numpy as np\n",
    "from matplotlib import pyplot as plt\n",
    "from nanopyx.core.transform.new_error_map import ErrorMap\n",
    "\n",
    "def run_error(b):\n",
    "    clear_output()\n",
    "    gui_error.show()\n",
    "    gui_error.save_settings()\n",
    "    gui_error[\"run\"].disabled = True\n",
    "    gui_error[\"run\"].description = \"Calculating...\"\n",
    "    global error_map\n",
    "    error_map = ErrorMap()\n",
    "    error_map.optimise(np.mean(dataset_original, axis=0), np.mean(dataset_srrf[0], axis=0))\n",
    "    gui_error[\"run\"].disabled = False\n",
    "    gui_error[\"run\"].description = \"Calculate\"\n",
    "    print(\"RSE: \", error_map.getRSE())\n",
    "    print(\"RSP: \", error_map.getRSP())\n",
    "    error_map = np.array(error_map.imRSE)\n",
    "    if gui_error[\"save\"].value:\n",
    "        path = gui_data[\"upload\"].selected_path\n",
    "        name = gui_data[\"upload\"].selected_filename.split(\".\")[0]\n",
    "        tiff.imwrite(path + os.sep + name + \"_error_map.tif\", error_map)\n",
    "    view_image_stack(error_map)\n",
    "    \n",
    "gui_error.add_checkbox(\"save\", description=\"Save output\", value=True)\n",
    "gui_error.add_button(\"run\", description=\"Calculate\")\n",
    "gui_error[\"run\"].on_click(run_error)\n",
    "gui_error.show()"
   ]
  },
  {
   "cell_type": "markdown",
   "metadata": {},
   "source": [
    "## Let's compare the resolution of the raw data with the SRRF using FRC and DecorrelationAnalysis. Let's start with calculation the FRC resolution of the raw data."
   ]
  },
  {
   "cell_type": "code",
   "execution_count": null,
   "metadata": {},
   "outputs": [],
   "source": [
    "#@title Create FRC GUI for original data\n",
    "gui_frc_1 = EasyGui(\"FRC\")\n",
    "\n",
    "import numpy as np\n",
    "from nanopyx.core.analysis.frc import FIRECalculator\n",
    "\n",
    "def run_frc(b):\n",
    "    clear_output()\n",
    "    gui_frc_1.show()\n",
    "    gui_frc_1.save_settings()\n",
    "    pixel_size = gui_frc_1[\"pixel_size\"].value\n",
    "    units = gui_frc_1[\"units\"].value\n",
    "    first_frame = gui_frc_1[\"first_frame\"].value\n",
    "    second_frame = gui_frc_1[\"second_frame\"].value\n",
    "    gui_frc_1[\"run\"].disabled = True\n",
    "    gui_frc_1[\"run\"].description = \"Calculating...\"\n",
    "    global frc_calculator_raw\n",
    "    frc_calculator_raw = FIRECalculator(pixel_size=pixel_size, units=units)\n",
    "    frc_calculator_raw.calculate_fire_number(dataset_original[first_frame], dataset_original[second_frame])\n",
    "    gui_frc_1[\"run\"].disabled = False\n",
    "    gui_frc_1[\"run\"].description = \"Calculate\"\n",
    "    plot = frc_calculator_raw.plot_frc_curve()\n",
    "    if gui_frc_1[\"save\"].value:\n",
    "        path = gui_data[\"upload\"].selected_path\n",
    "        name = gui_data[\"upload\"].selected_filename.split(\".\")[0]\n",
    "        tiff.imwrite(path + os.sep + name + \"_original_FRC.tif\", plot)\n",
    "    view_image(plot)\n",
    "    \n",
    "gui_frc_1.add_int_slider(\"pixel_size\", description=\"Pixel Size:\", min=0.01, max=1000, value=100, remember_value=True)\n",
    "gui_frc_1.add_dropdown(\"units\", description=\"Units: \", options=[\"nm\", \"um\", \"mm\"], value=\"nm\")\n",
    "gui_frc_1.add_int_slider(\"first_frame\", description=\"First Frame:\", min=0, max=dataset_original[0].shape[0]-1, value=0)\n",
    "gui_frc_1.add_int_slider (\"second_frame\", description=\"Second Frame:\", min=0, max=dataset_original[0].shape[0]-1, value=1)\n",
    "gui_frc_1.add_checkbox(\"save\", description=\"Save Output\", value=True)\n",
    "gui_frc_1.add_button(\"run\", description=\"Calculate\")\n",
    "gui_frc_1[\"run\"].on_click(run_frc)\n",
    "gui_frc_1.show()"
   ]
  },
  {
   "cell_type": "markdown",
   "metadata": {},
   "source": [
    "## Now let's measure the resolution of the generated SRRF image using FRC"
   ]
  },
  {
   "cell_type": "code",
   "execution_count": null,
   "metadata": {},
   "outputs": [],
   "source": [
    "#@title Create FRC GUI for SRRF data\n",
    "gui_frc = EasyGui(\"FRC\")\n",
    "\n",
    "from nanopyx.core.analysis.frc import FIRECalculator\n",
    "\n",
    "def run_frc(b):\n",
    "    clear_output()\n",
    "    gui_frc.show()\n",
    "    gui_frc.save_settings()\n",
    "    pixel_size = gui_frc[\"pixel_size\"].value\n",
    "    units = gui_frc[\"units\"].value\n",
    "    first_frame = gui_frc[\"first_frame\"].value\n",
    "    second_frame = gui_frc[\"second_frame\"].value\n",
    "    gui_frc[\"run\"].disabled = True\n",
    "    gui_frc[\"run\"].description = \"Calculating...\"\n",
    "    global frc_calculator\n",
    "    frc_calculator = FIRECalculator(pixel_size=pixel_size, units=units)\n",
    "    frc_calculator.calculate_fire_number(dataset_srrf[0][first_frame], dataset_srrf[0][second_frame])\n",
    "    gui_frc[\"run\"].disabled = False\n",
    "    gui_frc[\"run\"].description = \"Calculate\"\n",
    "    plot = frc_calculator.plot_frc_curve()\n",
    "    if gui_frc[\"save\"].value:\n",
    "        path = gui_data[\"upload\"].selected_path\n",
    "        name = gui_data[\"upload\"].selected_filename.split(\".\")[0]\n",
    "        tiff.imwrite(path + os.sep + name + \"_SRRF_FRC.tif\", plot)\n",
    "    view_image(plot)\n",
    "    \n",
    "gui_frc.add_int_slider(\"pixel_size\", description=\"Pixel Size:\", min=0.01, max=1000, value=20, remember_value=True)\n",
    "gui_frc.add_dropdown(\"units\", description=\"Units: \", options=[\"nm\", \"um\", \"mm\"], value=\"nm\")\n",
    "gui_frc.add_int_slider(\"first_frame\", description=\"First Frame:\", min=0, max=dataset_srrf[0].shape[0]-1, value=0)\n",
    "gui_frc.add_int_slider (\"second_frame\", description=\"Second Frame:\", min=0, max=dataset_srrf[0].shape[0]-1, value=1)\n",
    "gui_frc.add_checkbox(\"save\", description=\"Save Ouput\", value=True)\n",
    "gui_frc.add_button(\"run\", description=\"Calculate\")\n",
    "gui_frc[\"run\"].on_click(run_frc)\n",
    "gui_frc.show()"
   ]
  },
  {
   "cell_type": "markdown",
   "metadata": {},
   "source": [
    "## Let's do the same using Decorrelation Analysis, starting with the original data."
   ]
  },
  {
   "cell_type": "code",
   "execution_count": null,
   "metadata": {},
   "outputs": [],
   "source": [
    "#@title Create Decorr GUI for original data\n",
    "gui_decorr_1 = EasyGui(\"DecorrAnalysis\")\n",
    "\n",
    "from nanopyx.core.analysis.decorr import DecorrAnalysis\n",
    "\n",
    "def run_decorr(b):\n",
    "    clear_output()\n",
    "    gui_decorr_1.show()\n",
    "    gui_decorr_1.save_settings()\n",
    "    pixel_size = gui_decorr_1[\"pixel_size\"].value\n",
    "    units = gui_decorr_1[\"units\"].value\n",
    "    rmin = gui_decorr_1[\"rmin\"].value\n",
    "    rmax = gui_decorr_1[\"rmax\"].value\n",
    "    gui_decorr_1[\"run\"].disabled = True\n",
    "    gui_decorr_1[\"run\"].description = \"Calculating...\"\n",
    "    global decorr_calculator_raw\n",
    "    decorr_calculator_raw = DecorrAnalysis(pixel_size=pixel_size, units=units, rmin=rmin, rmax=rmax)\n",
    "    decorr_calculator_raw.run_analysis(np.mean(dataset_original, axis=0))\n",
    "    gui_decorr_1[\"run\"].disabled = False\n",
    "    gui_decorr_1[\"run\"].description = \"Calculate\"\n",
    "    plot = decorr_calculator_raw.plot_results()\n",
    "    if gui_decorr_1[\"save\"].value:\n",
    "        path = gui_data[\"upload\"].selected_path\n",
    "        name = gui_data[\"upload\"].selected_filename.split(\".\")[0]\n",
    "        tiff.imwrite(path + os.sep + name + \"_original_decorr_analysis.tif\", plot)\n",
    "    view_image(plot)\n",
    "    \n",
    "gui_decorr_1.add_int_slider(\"pixel_size\", description=\"Pixel Size:\", min=0.01, max=1000, value=100, remember_value=True)\n",
    "gui_decorr_1.add_dropdown(\"units\", description=\"Units: \", options=[\"nm\", \"um\", \"mm\"], value=\"nm\")\n",
    "gui_decorr_1.add_float_slider(\"rmin\", description=\"Radius Min:\", min=0.0, max=0.5, value=0.0)\n",
    "gui_decorr_1.add_float_slider(\"rmax\", description=\"Radius Max:\", min=0.5, max=1.0, value=1.0)\n",
    "gui_decorr_1.add_checkbox(\"save\", description=\"Save Output\", value=True)\n",
    "gui_decorr_1.add_button(\"run\", description=\"Calculate\")\n",
    "gui_decorr_1[\"run\"].on_click(run_decorr)\n",
    "gui_decorr_1.show()"
   ]
  },
  {
   "cell_type": "markdown",
   "metadata": {},
   "source": [
    "## Now let's measure the resolution of the generated SRRF image using DecorrelationAnalysis"
   ]
  },
  {
   "cell_type": "code",
   "execution_count": null,
   "metadata": {},
   "outputs": [],
   "source": [
    "#@title Create Decorr GUI for SRRF data\n",
    "gui_decorr = EasyGui(\"DecorrAnalysis\")\n",
    "\n",
    "from nanopyx.core.analysis.decorr import DecorrAnalysis\n",
    "\n",
    "def run_decorr(b):\n",
    "    clear_output()\n",
    "    gui_decorr.show()\n",
    "    gui_decorr.save_settings()\n",
    "    pixel_size = gui_decorr[\"pixel_size\"].value\n",
    "    units = gui_decorr[\"units\"].value\n",
    "    first_frame = gui_decorr[\"first_frame\"].value\n",
    "    rmin = gui_decorr[\"rmin\"].value\n",
    "    rmax = gui_decorr[\"rmax\"].value\n",
    "    gui_decorr[\"run\"].disabled = True\n",
    "    gui_decorr[\"run\"].description = \"Calculating...\"\n",
    "    global decorr_calculator\n",
    "    decorr_calculator = DecorrAnalysis(pixel_size=pixel_size, units=units, rmin=rmin, rmax=rmax)\n",
    "    decorr_calculator.run_analysis(dataset_srrf[0][first_frame])\n",
    "    gui_decorr[\"run\"].disabled = False\n",
    "    gui_decorr[\"run\"].description = \"Calculate\"\n",
    "    plot = decorr_calculator.plot_results()\n",
    "    if gui_decorr[\"save\"].value:\n",
    "        path = gui_data[\"upload\"].selected_path\n",
    "        name = gui_data[\"upload\"].selected_filename.split(\".\")[0]\n",
    "        tiff.imwrite(path + os.sep + name + \"_SRRF_decorr_analysis.tif\", plot)\n",
    "    view_image(plot)\n",
    "    \n",
    "gui_decorr.add_int_slider(\"pixel_size\", description=\"Pixel Size:\", min=0.01, max=1000, value=100, remember_value=True)\n",
    "gui_decorr.add_dropdown(\"units\", description=\"Units: \", options=[\"nm\", \"um\", \"mm\"], value=\"nm\")\n",
    "gui_decorr.add_int_slider(\"first_frame\", description=\"Frame to be used:\", min=0, max=dataset_srrf[0].shape[0]-1, value=0)\n",
    "gui_decorr.add_float_slider(\"rmin\", description=\"Radius Min:\", min=0.0, max=0.5, value=0.0)\n",
    "gui_decorr.add_float_slider(\"rmax\", desctiption=\"Radius Max:\", min=0.5, max=1.0, value=1.0)\n",
    "gui_decorr.add_checkbox(\"save\", description=\"Save Output\", value=True)\n",
    "gui_decorr.add_button(\"run\", description=\"Calculate\")\n",
    "gui_decorr[\"run\"].on_click(run_decorr)\n",
    "gui_decorr.show()"
   ]
  }
 ],
 "metadata": {
  "kernelspec": {
   "display_name": "Python 3 (ipykernel)",
   "language": "python",
   "name": "python3"
  },
  "language_info": {
   "codemirror_mode": {
    "name": "ipython",
    "version": 3
   },
   "file_extension": ".py",
   "mimetype": "text/x-python",
   "name": "python",
   "nbconvert_exporter": "python",
   "pygments_lexer": "ipython3",
   "version": "3.10.9"
  }
 },
 "nbformat": 4,
 "nbformat_minor": 4
}
