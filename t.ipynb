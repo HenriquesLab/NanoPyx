{
 "cells": [
  {
   "cell_type": "code",
   "execution_count": 1,
   "metadata": {},
   "outputs": [],
   "source": [
    "import numpy as np\n",
    "from tifffile import imread\n",
    "tetra = imread(\"/Users/bsaraiva/Code/NanoPyx/tetrahedron_emitters.tiff\")\n",
    "#cross_single_emitters.tiff\n",
    "cross = imread(\"/Users/bsaraiva/Code/NanoPyx/cross_single_emitters.tiff\")\n",
    "big = imread(\"/Users/bsaraiva/Code/NanoPyx/3D_stack_maxproject_frames.tif\")\n",
    "\n",
    "bigger = np.random.random((100, 80, 300, 300)).astype(np.float32)\n"
   ]
  },
  {
   "cell_type": "code",
   "execution_count": null,
   "metadata": {},
   "outputs": [
    {
     "name": "stdout",
     "output_type": "stream",
     "text": [
      "Agent: eSRRF_3D using threaded ran in 23.232891875028145 seconds\n",
      "Time 1 0.0\n",
      "Agent: eSRRF_3D_v2 using threaded ran in 7.750940249999985 seconds\n"
     ]
    }
   ],
   "source": [
    "from nanopyx.core.transform._le_esrrf3d import eSRRF3D, eSRRF3D_v2\n",
    "from stackview import slice\n",
    "\n",
    "img_to_use = cross\n",
    "calc = eSRRF3D()\n",
    "#calc_v2 = eSRRF3D_v2()\n",
    "out = calc.run(img_to_use, magnification_xy=2, magnification_z=2, PSF_voxel_ratio=4, doIntensityWeighting=False, run_type=\"threaded\")\n",
    "#out_v2 = calc_v2.run(img_to_use, magnification_xy=2, magnification_z=2, PSF_voxel_ratio=4, doIntensityWeighting=False, run_type=\"threaded\")"
   ]
  },
  {
   "cell_type": "code",
   "execution_count": 6,
   "metadata": {},
   "outputs": [
    {
     "data": {
      "application/vnd.jupyter.widget-view+json": {
       "model_id": "4b18e0af2b374fc48eb5764c26db8def",
       "version_major": 2,
       "version_minor": 0
      },
      "text/plain": [
       "HBox(children=(VBox(children=(VBox(children=(HBox(children=(VBox(children=(ImageWidget(height=160, width=160),…"
      ]
     },
     "execution_count": 6,
     "metadata": {},
     "output_type": "execute_result"
    }
   ],
   "source": [
    "slice(np.mean(out, axis=0), zoom_factor=2)"
   ]
  },
  {
   "cell_type": "code",
   "execution_count": null,
   "metadata": {},
   "outputs": [
    {
     "data": {
      "application/vnd.jupyter.widget-view+json": {
       "model_id": "a0f47d88b1e84eb78ee7070a156da0c0",
       "version_major": 2,
       "version_minor": 0
      },
      "text/plain": [
       "HBox(children=(VBox(children=(VBox(children=(HBox(children=(VBox(children=(ImageWidget(height=160, width=160),…"
      ]
     },
     "execution_count": 7,
     "metadata": {},
     "output_type": "execute_result"
    }
   ],
   "source": [
    "#slice(out_v2, zoom_factor=2)"
   ]
  },
  {
   "cell_type": "code",
   "execution_count": null,
   "metadata": {},
   "outputs": [],
   "source": []
  }
 ],
 "metadata": {
  "kernelspec": {
   "display_name": "aiobio_dev",
   "language": "python",
   "name": "python3"
  },
  "language_info": {
   "codemirror_mode": {
    "name": "ipython",
    "version": 3
   },
   "file_extension": ".py",
   "mimetype": "text/x-python",
   "name": "python",
   "nbconvert_exporter": "python",
   "pygments_lexer": "ipython3",
   "version": "3.11.11"
  }
 },
 "nbformat": 4,
 "nbformat_minor": 2
}
