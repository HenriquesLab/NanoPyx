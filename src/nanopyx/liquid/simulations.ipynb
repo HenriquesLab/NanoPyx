{
 "cells": [
  {
   "cell_type": "code",
   "execution_count": 1,
   "metadata": {},
   "outputs": [],
   "source": [
    "from Simulator import Method, Simulator, ALL_GEARS"
   ]
  },
  {
   "attachments": {},
   "cell_type": "markdown",
   "metadata": {},
   "source": [
    "## Rules of the game\n",
    " 1. We simulate a workflow with 3 methods\n",
    " 2. Method #1 runs faster in OpenCL implementations\n",
    " 3. Method #2 runs faster in Threaded implementations\n",
    " 4. Method #3 runs the same speed wherever\n",
    " 5. Each method has 9 implementations and each implementation takes a different time to run\n",
    " 6. We know a priori the REAL time distributions for each implementation and they are all Normal\n",
    " 7. The chance that an implementation is chosen is based upon the squared inverse of the past average values that were seen\n",
    " 8. Exponential weighting gives more importance to EARLIER benchmarks when calculating the past average value"
   ]
  },
  {
   "attachments": {},
   "cell_type": "markdown",
   "metadata": {},
   "source": [
    "#### Case study #0 : Initialization of the agent / engine\n",
    "In this case we have minimal information.\n",
    "We only have information of one benchmark (aka all implementations were run once)\n",
    "\n",
    "We run the workflow 1000 times to calculate what is the average run time of the entire workflow"
   ]
  },
  {
   "attachments": {},
   "cell_type": "markdown",
   "metadata": {},
   "source": [
    "WITH NORMAL AVERAGE"
   ]
  },
  {
   "cell_type": "code",
   "execution_count": 2,
   "metadata": {},
   "outputs": [
    {
     "name": "stdout",
     "output_type": "stream",
     "text": [
      "AFTER ONE BENCHMARK\n",
      "['1', '2', '3'] \n",
      "OPENCL_1 |0.5141| |0.0417| |0.0946| \n",
      "OPENCL_2 |0.2373| |0.0301| |0.1165| \n",
      "CYTHON_THREADED |0.0406| |0.1772| |0.0852| \n",
      "CYTHON_THREADED_DYNAMIC |0.0648| |0.2777| |0.0978| \n",
      "CYTHON_THREADED_GUIDED |0.0470| |0.1475| |0.1514| \n",
      "CYTHON_THREADED_STATIC |0.0341| |0.2065| |0.0933| \n",
      "CYTHON_UNTHREADED |0.0371| |0.1020| |0.1238| \n",
      "NUMBA |0.0211| |0.0158| |0.1213| \n",
      "PYTHON |0.0039| |0.0014| |0.1160| \n",
      "\n",
      "AFTER SIMULATING\n",
      "['1', '2', '3'] \n",
      "OPENCL_1 |0.4840| |0.0436| |0.1098| \n",
      "OPENCL_2 |0.2109| |0.0458| |0.1109| \n",
      "CYTHON_THREADED |0.0520| |0.1781| |0.1106| \n",
      "CYTHON_THREADED_DYNAMIC |0.0557| |0.1797| |0.1163| \n",
      "CYTHON_THREADED_GUIDED |0.0543| |0.1788| |0.1086| \n",
      "CYTHON_THREADED_STATIC |0.0546| |0.1762| |0.1127| \n",
      "CYTHON_UNTHREADED |0.0547| |0.1757| |0.1113| \n",
      "NUMBA |0.0290| |0.0208| |0.1089| \n",
      "PYTHON |0.0050| |0.0014| |0.1109| \n",
      "\n",
      "Ran the entire workflow a total of 1000 times\n",
      "The average time to run all methods was 5.99 std_dev 1.39\n",
      "Method 1 used OPENCL_1 the most (47.1%)\n",
      "Method 2 used CYTHON_THREADED_DYNAMIC the most (20.6%)\n",
      "Method 3 used PYTHON the most (12.0%)\n"
     ]
    }
   ],
   "source": [
    "avg_1 = dict(zip(ALL_GEARS,[1,1.5,3,3,3,3,3,4,10]))\n",
    "std_1 = dict(zip(ALL_GEARS,[0.1,0.15,0.3,0.3,0.3,0.3,0.3,0.4,1]))\n",
    "met_1 = Method('1',avg_1,std_1)\n",
    "\n",
    "avg_2 = dict(zip(ALL_GEARS,[2,2,1,1,1,1,1,3,10]))\n",
    "std_2 = dict(zip(ALL_GEARS,[.2,.2,.1,.1,.1,.1,.1,.3,1]))\n",
    "met_2 = Method('2',avg_2,std_2)\n",
    "\n",
    "avg_3 = dict(zip(ALL_GEARS,[3,3,3,3,3,3,3,3,3]))\n",
    "std_3 = dict(zip(ALL_GEARS,[0.3,0.3,0.3,0.3,0.3,0.3,0.3,0.3,0.3]))\n",
    "met_3 = Method('3',avg_3,std_3)\n",
    "\n",
    "sim = Simulator(met_1,met_2,met_3)\n",
    "sim.benchmark_all_methods(1)\n",
    "print(\"AFTER ONE BENCHMARK\")\n",
    "sim.print_methods()\n",
    "\n",
    "print(\"AFTER SIMULATING\")\n",
    "sim.run_simulations(iter_n=1000)\n",
    "sim.print_methods()\n",
    "sim.print_stats()"
   ]
  },
  {
   "attachments": {},
   "cell_type": "markdown",
   "metadata": {},
   "source": [
    "#### Case study #1 : Initialization of the engine with an EARLY and VERY BRIEF anomaly on ONE device (GPU) \n",
    "\n",
    "We start with information of one benchmark (aka all implementations were run once)\n",
    "\n",
    "We run the workflow 100 times. \n",
    "\n",
    "During 10-20 runs there is an anomaly with one GPU which affects all opencl implementation that use that GPU"
   ]
  },
  {
   "attachments": {},
   "cell_type": "markdown",
   "metadata": {},
   "source": [
    "WITH NORMAL AVERAGE"
   ]
  },
  {
   "cell_type": "code",
   "execution_count": 3,
   "metadata": {},
   "outputs": [
    {
     "name": "stdout",
     "output_type": "stream",
     "text": [
      "['1', '2', '3'] \n",
      "OPENCL_1 |0.3723| |0.0399| |0.1015| \n",
      "OPENCL_2 |0.2798| |0.0448| |0.1079| \n",
      "CYTHON_THREADED |0.0858| |0.1245| |0.1015| \n",
      "CYTHON_THREADED_DYNAMIC |0.0490| |0.2342| |0.1370| \n",
      "CYTHON_THREADED_GUIDED |0.0547| |0.2016| |0.1004| \n",
      "CYTHON_THREADED_STATIC |0.0739| |0.1477| |0.1115| \n",
      "CYTHON_UNTHREADED |0.0561| |0.1816| |0.1168| \n",
      "NUMBA |0.0230| |0.0237| |0.0867| \n",
      "PYTHON |0.0054| |0.0019| |0.1367| \n",
      "\n",
      "['1', '2', '3'] \n",
      "OPENCL_1 |0.4355| |0.0467| |0.1068| \n",
      "OPENCL_2 |0.2357| |0.0415| |0.1077| \n",
      "CYTHON_THREADED |0.0611| |0.1738| |0.1102| \n",
      "CYTHON_THREADED_DYNAMIC |0.0499| |0.1790| |0.1153| \n",
      "CYTHON_THREADED_GUIDED |0.0648| |0.1827| |0.1155| \n",
      "CYTHON_THREADED_STATIC |0.0604| |0.1677| |0.1164| \n",
      "CYTHON_UNTHREADED |0.0567| |0.1852| |0.1115| \n",
      "NUMBA |0.0296| |0.0214| |0.1085| \n",
      "PYTHON |0.0063| |0.0019| |0.1080| \n",
      "\n",
      "Ran the entire workflow a total of 100 times\n",
      "The average time to run all methods was 6.03 std_dev 1.13\n",
      "Method 1 used OPENCL_1 the most (38.0%)\n",
      "Method 2 used CYTHON_THREADED_DYNAMIC the most (23.0%)\n",
      "Method 3 used CYTHON_THREADED_STATIC the most (18.0%)\n"
     ]
    }
   ],
   "source": [
    "avg_1 = dict(zip(ALL_GEARS,[1,1.5,3,3,3,3,3,4,10]))\n",
    "std_1 = dict(zip(ALL_GEARS,[0.1,0.15,0.3,0.3,0.3,0.3,0.3,0.4,1]))\n",
    "met_1 = Method('1',avg_1,std_1)\n",
    "\n",
    "avg_2 = dict(zip(ALL_GEARS,[2,2,1,1,1,1,1,3,10]))\n",
    "std_2 = dict(zip(ALL_GEARS,[.2,.2,.1,.1,.1,.1,.1,.3,1]))\n",
    "met_2 = Method('2',avg_2,std_2)\n",
    "\n",
    "avg_3 = dict(zip(ALL_GEARS,[3,3,3,3,3,3,3,3,3]))\n",
    "std_3 = dict(zip(ALL_GEARS,[0.3,0.3,0.3,0.3,0.3,0.3,0.3,0.3,0.3]))\n",
    "met_3 = Method('3',avg_3,std_3)\n",
    "\n",
    "sim = Simulator(met_1,met_2,met_3)\n",
    "sim.benchmark_all_methods(1)\n",
    "sim.print_methods()\n",
    "\n",
    "sim.run_anomalous_simulations(iter_n=100, ano_start=10, ano_end=20, affected_gear=ALL_GEARS[0], new_avg=4, new_std=0.4)\n",
    "sim.print_methods()\n",
    "sim.print_stats()"
   ]
  },
  {
   "attachments": {},
   "cell_type": "markdown",
   "metadata": {},
   "source": [
    "#### Case study #2 : Initialization of the agent / engine with an LATE and VERY BRIEF anomaly on one device (GPU) \n",
    "We start with information of one benchmark (aka all implementations were run once)\n",
    "\n",
    "We run the workflow 100 times. \n",
    "\n",
    "During 30-40 runs there is an anomaly with one GPU which affects all opencl implementation that use that GPU"
   ]
  },
  {
   "attachments": {},
   "cell_type": "markdown",
   "metadata": {},
   "source": [
    "WITH NORMAL AVERAGE"
   ]
  },
  {
   "cell_type": "code",
   "execution_count": 4,
   "metadata": {},
   "outputs": [
    {
     "name": "stdout",
     "output_type": "stream",
     "text": [
      "['1', '2', '3'] \n",
      "OPENCL_1 |0.4564| |0.0441| |0.1383| \n",
      "OPENCL_2 |0.2094| |0.0395| |0.0934| \n",
      "CYTHON_THREADED |0.0469| |0.2216| |0.0796| \n",
      "CYTHON_THREADED_DYNAMIC |0.0407| |0.1755| |0.0857| \n",
      "CYTHON_THREADED_GUIDED |0.0527| |0.1165| |0.0994| \n",
      "CYTHON_THREADED_STATIC |0.0566| |0.2005| |0.1252| \n",
      "CYTHON_UNTHREADED |0.0927| |0.1743| |0.1786| \n",
      "NUMBA |0.0378| |0.0261| |0.0955| \n",
      "PYTHON |0.0067| |0.0019| |0.1043| \n",
      "\n",
      "['1', '2', '3'] \n",
      "OPENCL_1 |0.4195| |0.0290| |0.1100| \n",
      "OPENCL_2 |0.2528| |0.0420| |0.1113| \n",
      "CYTHON_THREADED |0.0551| |0.1705| |0.1076| \n",
      "CYTHON_THREADED_DYNAMIC |0.0575| |0.1762| |0.1026| \n",
      "CYTHON_THREADED_GUIDED |0.0577| |0.1753| |0.1170| \n",
      "CYTHON_THREADED_STATIC |0.0578| |0.1906| |0.1062| \n",
      "CYTHON_UNTHREADED |0.0618| |0.1943| |0.1244| \n",
      "NUMBA |0.0312| |0.0203| |0.1129| \n",
      "PYTHON |0.0066| |0.0019| |0.1080| \n",
      "\n",
      "Ran the entire workflow a total of 100 times\n",
      "The average time to run all methods was 6.24 std_dev 1.65\n",
      "Method 1 used OPENCL_1 the most (40.0%)\n",
      "Method 2 used CYTHON_THREADED_DYNAMIC the most (22.0%)\n",
      "Method 3 used OPENCL_1 the most (14.0%)\n"
     ]
    }
   ],
   "source": [
    "avg_1 = dict(zip(ALL_GEARS,[1,1.5,3,3,3,3,3,4,10]))\n",
    "std_1 = dict(zip(ALL_GEARS,[0.1,0.15,0.3,0.3,0.3,0.3,0.3,0.4,1]))\n",
    "met_1 = Method('1',avg_1,std_1)\n",
    "\n",
    "avg_2 = dict(zip(ALL_GEARS,[2,2,1,1,1,1,1,3,10]))\n",
    "std_2 = dict(zip(ALL_GEARS,[.2,.2,.1,.1,.1,.1,.1,.3,1]))\n",
    "met_2 = Method('2',avg_2,std_2)\n",
    "\n",
    "avg_3 = dict(zip(ALL_GEARS,[3,3,3,3,3,3,3,3,3]))\n",
    "std_3 = dict(zip(ALL_GEARS,[0.3,0.3,0.3,0.3,0.3,0.3,0.3,0.3,0.3]))\n",
    "met_3 = Method('3',avg_3,std_3)\n",
    "\n",
    "sim = Simulator(met_1,met_2,met_3)\n",
    "sim.benchmark_all_methods(1)\n",
    "sim.print_methods()\n",
    "\n",
    "sim.run_anomalous_simulations(iter_n=100, ano_start=30, ano_end=40, affected_gear=ALL_GEARS[0], new_avg=4, new_std=0.4)\n",
    "sim.print_methods()\n",
    "sim.print_stats()"
   ]
  },
  {
   "attachments": {},
   "cell_type": "markdown",
   "metadata": {},
   "source": [
    "#### Case study #3 : Initialization of the agent / engine with an EARLY and LONG anomaly on one device (GPU)\n",
    "\n",
    "We start with information of one benchmark (aka all implementations were run once)\n",
    "\n",
    "We run the workflow 100 times. \n",
    "\n",
    "During 10-60 runs there is an anomaly with one GPU which affects all opencl implementation that use that GPU"
   ]
  },
  {
   "attachments": {},
   "cell_type": "markdown",
   "metadata": {},
   "source": [
    "WITH NORMAL AVERAGE"
   ]
  },
  {
   "cell_type": "code",
   "execution_count": 5,
   "metadata": {},
   "outputs": [
    {
     "name": "stdout",
     "output_type": "stream",
     "text": [
      "['1', '2', '3'] \n",
      "OPENCL_1 |0.3987| |0.0552| |0.0967| \n",
      "OPENCL_2 |0.2177| |0.0684| |0.1575| \n",
      "CYTHON_THREADED |0.0841| |0.2142| |0.1622| \n",
      "CYTHON_THREADED_DYNAMIC |0.0333| |0.1991| |0.0939| \n",
      "CYTHON_THREADED_GUIDED |0.0595| |0.1295| |0.1184| \n",
      "CYTHON_THREADED_STATIC |0.0958| |0.1751| |0.0792| \n",
      "CYTHON_UNTHREADED |0.0770| |0.1418| |0.0917| \n",
      "NUMBA |0.0282| |0.0151| |0.1155| \n",
      "PYTHON |0.0056| |0.0017| |0.0847| \n",
      "\n",
      "['1', '2', '3'] \n",
      "OPENCL_1 |0.1664| |0.0231| |0.0912| \n",
      "OPENCL_2 |0.3449| |0.0468| |0.1191| \n",
      "CYTHON_THREADED |0.0843| |0.1758| |0.1142| \n",
      "CYTHON_THREADED_DYNAMIC |0.0758| |0.2008| |0.1129| \n",
      "CYTHON_THREADED_GUIDED |0.0872| |0.1775| |0.1161| \n",
      "CYTHON_THREADED_STATIC |0.0869| |0.1791| |0.0940| \n",
      "CYTHON_UNTHREADED |0.0988| |0.1794| |0.1168| \n",
      "NUMBA |0.0481| |0.0157| |0.1174| \n",
      "PYTHON |0.0076| |0.0018| |0.1181| \n",
      "\n",
      "Ran the entire workflow a total of 100 times\n",
      "The average time to run all methods was 6.60 std_dev 1.49\n",
      "Method 1 used OPENCL_2 the most (35.0%)\n",
      "Method 2 used CYTHON_THREADED_STATIC the most (24.0%)\n",
      "Method 3 used NUMBA the most (19.0%)\n"
     ]
    }
   ],
   "source": [
    "avg_1 = dict(zip(ALL_GEARS,[1,1.5,3,3,3,3,3,4,10]))\n",
    "std_1 = dict(zip(ALL_GEARS,[0.1,0.15,0.3,0.3,0.3,0.3,0.3,0.4,1]))\n",
    "met_1 = Method('1',avg_1,std_1)\n",
    "\n",
    "avg_2 = dict(zip(ALL_GEARS,[2,2,1,1,1,1,1,3,10]))\n",
    "std_2 = dict(zip(ALL_GEARS,[.2,.2,.1,.1,.1,.1,.1,.3,1]))\n",
    "met_2 = Method('2',avg_2,std_2)\n",
    "\n",
    "avg_3 = dict(zip(ALL_GEARS,[3,3,3,3,3,3,3,3,3]))\n",
    "std_3 = dict(zip(ALL_GEARS,[0.3,0.3,0.3,0.3,0.3,0.3,0.3,0.3,0.3]))\n",
    "met_3 = Method('3',avg_3,std_3)\n",
    "\n",
    "sim = Simulator(met_1,met_2,met_3)\n",
    "sim.benchmark_all_methods(1)\n",
    "sim.print_methods()\n",
    "\n",
    "sim.run_anomalous_simulations(iter_n=100, ano_start=10, ano_end=60, affected_gear=ALL_GEARS[0], new_avg=4, new_std=0.4)\n",
    "sim.print_methods()\n",
    "sim.print_stats()"
   ]
  },
  {
   "attachments": {},
   "cell_type": "markdown",
   "metadata": {},
   "source": [
    "#### Case study #4 : Initialization of the agent / engine with a LATE and LONG anomaly on one device (GPU)\n",
    "We start with information of one benchmark (aka all implementations were run once)\n",
    "\n",
    "We run the workflow 100 times. \n",
    "\n",
    "During 30-80 runs there is an anomaly with one GPU which affects all opencl implementation that use that GPU"
   ]
  },
  {
   "attachments": {},
   "cell_type": "markdown",
   "metadata": {},
   "source": [
    "WITH NORMAL AVERAGE"
   ]
  },
  {
   "cell_type": "code",
   "execution_count": 6,
   "metadata": {},
   "outputs": [
    {
     "name": "stdout",
     "output_type": "stream",
     "text": [
      "['1', '2', '3'] \n",
      "OPENCL_1 |0.4081| |0.0418| |0.1042| \n",
      "OPENCL_2 |0.2363| |0.0370| |0.1015| \n",
      "CYTHON_THREADED |0.0622| |0.1470| |0.1298| \n",
      "CYTHON_THREADED_DYNAMIC |0.0543| |0.2153| |0.1007| \n",
      "CYTHON_THREADED_GUIDED |0.0512| |0.1889| |0.1046| \n",
      "CYTHON_THREADED_STATIC |0.0577| |0.1554| |0.1228| \n",
      "CYTHON_UNTHREADED |0.0879| |0.1898| |0.1461| \n",
      "NUMBA |0.0380| |0.0234| |0.0851| \n",
      "PYTHON |0.0044| |0.0014| |0.1052| \n",
      "\n",
      "['1', '2', '3'] \n",
      "OPENCL_1 |0.1557| |0.0263| |0.1022| \n",
      "OPENCL_2 |0.3369| |0.0367| |0.1143| \n",
      "CYTHON_THREADED |0.0968| |0.1718| |0.1033| \n",
      "CYTHON_THREADED_DYNAMIC |0.0857| |0.1838| |0.1212| \n",
      "CYTHON_THREADED_GUIDED |0.0862| |0.1867| |0.1120| \n",
      "CYTHON_THREADED_STATIC |0.0881| |0.1928| |0.1055| \n",
      "CYTHON_UNTHREADED |0.0942| |0.1750| |0.1102| \n",
      "NUMBA |0.0490| |0.0257| |0.1182| \n",
      "PYTHON |0.0074| |0.0013| |0.1131| \n",
      "\n",
      "Ran the entire workflow a total of 100 times\n",
      "The average time to run all methods was 6.67 std_dev 1.47\n",
      "Method 1 used OPENCL_1 the most (29.0%)\n",
      "Method 2 used CYTHON_THREADED the most (21.0%)\n",
      "Method 3 used CYTHON_THREADED_STATIC the most (21.0%)\n"
     ]
    }
   ],
   "source": [
    "avg_1 = dict(zip(ALL_GEARS,[1,1.5,3,3,3,3,3,4,10]))\n",
    "std_1 = dict(zip(ALL_GEARS,[0.1,0.15,0.3,0.3,0.3,0.3,0.3,0.4,1]))\n",
    "met_1 = Method('1',avg_1,std_1)\n",
    "\n",
    "avg_2 = dict(zip(ALL_GEARS,[2,2,1,1,1,1,1,3,10]))\n",
    "std_2 = dict(zip(ALL_GEARS,[.2,.2,.1,.1,.1,.1,.1,.3,1]))\n",
    "met_2 = Method('2',avg_2,std_2)\n",
    "\n",
    "avg_3 = dict(zip(ALL_GEARS,[3,3,3,3,3,3,3,3,3]))\n",
    "std_3 = dict(zip(ALL_GEARS,[0.3,0.3,0.3,0.3,0.3,0.3,0.3,0.3,0.3]))\n",
    "met_3 = Method('3',avg_3,std_3)\n",
    "\n",
    "sim = Simulator(met_1,met_2,met_3)\n",
    "sim.benchmark_all_methods(1)\n",
    "sim.print_methods()\n",
    "\n",
    "sim.run_anomalous_simulations(iter_n=100, ano_start=30, ano_end=80, affected_gear=ALL_GEARS[0], new_avg=4, new_std=0.4)\n",
    "sim.print_methods()\n",
    "sim.print_stats()"
   ]
  },
  {
   "attachments": {},
   "cell_type": "markdown",
   "metadata": {},
   "source": [
    "#### Case study #5 : Initialization of the agent / engine with a PERMANENT anomaly on one device (GPU)\n",
    "We start with information of one benchmark (aka all implementations were run once)\n",
    "\n",
    "We run the workflow 100 times. \n",
    "\n",
    "During 10-inf runs there is an anomaly with one GPU which affects all opencl implementation that use that GPU"
   ]
  },
  {
   "cell_type": "code",
   "execution_count": 7,
   "metadata": {},
   "outputs": [
    {
     "name": "stdout",
     "output_type": "stream",
     "text": [
      "['1', '2', '3'] \n",
      "OPENCL_1 |0.5054| |0.0388| |0.1272| \n",
      "OPENCL_2 |0.1893| |0.0469| |0.0806| \n",
      "CYTHON_THREADED |0.0402| |0.1847| |0.1189| \n",
      "CYTHON_THREADED_DYNAMIC |0.0622| |0.1461| |0.1244| \n",
      "CYTHON_THREADED_GUIDED |0.0503| |0.1345| |0.1556| \n",
      "CYTHON_THREADED_STATIC |0.0769| |0.2605| |0.0916| \n",
      "CYTHON_UNTHREADED |0.0467| |0.1649| |0.0913| \n",
      "NUMBA |0.0249| |0.0214| |0.1061| \n",
      "PYTHON |0.0041| |0.0023| |0.1044| \n",
      "\n",
      "['1', '2', '3'] \n",
      "OPENCL_1 |0.0721| |0.0152| |0.0670| \n",
      "OPENCL_2 |0.3907| |0.0447| |0.1116| \n",
      "CYTHON_THREADED |0.1009| |0.1866| |0.1162| \n",
      "CYTHON_THREADED_DYNAMIC |0.1033| |0.1782| |0.1162| \n",
      "CYTHON_THREADED_GUIDED |0.0918| |0.1770| |0.1071| \n",
      "CYTHON_THREADED_STATIC |0.0932| |0.1887| |0.1247| \n",
      "CYTHON_UNTHREADED |0.0884| |0.1835| |0.1227| \n",
      "NUMBA |0.0503| |0.0234| |0.1261| \n",
      "PYTHON |0.0094| |0.0026| |0.1085| \n",
      "\n",
      "Ran the entire workflow a total of 100 times\n",
      "The average time to run all methods was 6.94 std_dev 1.45\n",
      "Method 1 used OPENCL_2 the most (37.0%)\n",
      "Method 2 used CYTHON_UNTHREADED the most (25.0%)\n",
      "Method 3 used CYTHON_THREADED_GUIDED the most (16.0%)\n"
     ]
    }
   ],
   "source": [
    "avg_1 = dict(zip(ALL_GEARS,[1,1.5,3,3,3,3,3,4,10]))\n",
    "std_1 = dict(zip(ALL_GEARS,[0.1,0.15,0.3,0.3,0.3,0.3,0.3,0.4,1]))\n",
    "met_1 = Method('1',avg_1,std_1)\n",
    "\n",
    "avg_2 = dict(zip(ALL_GEARS,[2,2,1,1,1,1,1,3,10]))\n",
    "std_2 = dict(zip(ALL_GEARS,[.2,.2,.1,.1,.1,.1,.1,.3,1]))\n",
    "met_2 = Method('2',avg_2,std_2)\n",
    "\n",
    "avg_3 = dict(zip(ALL_GEARS,[3,3,3,3,3,3,3,3,3]))\n",
    "std_3 = dict(zip(ALL_GEARS,[0.3,0.3,0.3,0.3,0.3,0.3,0.3,0.3,0.3]))\n",
    "met_3 = Method('3',avg_3,std_3)\n",
    "\n",
    "sim = Simulator(met_1,met_2,met_3)\n",
    "sim.benchmark_all_methods(1)\n",
    "sim.print_methods()\n",
    "\n",
    "sim.run_anomalous_simulations(iter_n=100, ano_start=0, ano_end=101, affected_gear=ALL_GEARS[0], new_avg=4, new_std=0.4)\n",
    "sim.print_methods()\n",
    "sim.print_stats()"
   ]
  },
  {
   "attachments": {},
   "cell_type": "markdown",
   "metadata": {},
   "source": [
    "#### Case study #-1 : No liquid engine! \n",
    "We start with information of one benchmark (aka all implementations were run once)\n",
    "We run the workflow 100 times. \n",
    "\n",
    "##### No anomaly\n",
    "\n",
    "##### Early short:\n",
    "During 10-20 runs there is an anomaly with one GPU which affects all opencl implementation that use that GPU\n",
    "\n",
    "##### Late long:\n",
    "During 30-40 runs there is an anomaly with one GPU which affects all opencl implementation that use that GPU\n",
    "\n",
    "##### Early long:\n",
    "During 10-60 runs there is an anomaly with one GPU which affects all opencl implementation that use that GPU\n",
    "\n",
    "##### Late short:\n",
    "During 30-80 runs there is an anomaly with one GPU which affects all opencl implementation that use that GPU\n",
    "\n",
    "##### Permanent\n",
    "During 10-inf runs there is an anomaly with one GPU which affects all opencl implementation that use that GPU"
   ]
  },
  {
   "cell_type": "code",
   "execution_count": 8,
   "metadata": {},
   "outputs": [
    {
     "name": "stdout",
     "output_type": "stream",
     "text": [
      "AFTER ONE BENCHMARK\n",
      "['1', '2', '3'] \n",
      "OPENCL_1 |0.4341| |0.0336| |0.1194| \n",
      "OPENCL_2 |0.2944| |0.0400| |0.2043| \n",
      "CYTHON_THREADED |0.0453| |0.1973| |0.1059| \n",
      "CYTHON_THREADED_DYNAMIC |0.0470| |0.1567| |0.0969| \n",
      "CYTHON_THREADED_GUIDED |0.0643| |0.1785| |0.0791| \n",
      "CYTHON_THREADED_STATIC |0.0423| |0.1911| |0.0881| \n",
      "CYTHON_UNTHREADED |0.0470| |0.1808| |0.0864| \n",
      "NUMBA |0.0212| |0.0202| |0.1245| \n",
      "PYTHON |0.0044| |0.0018| |0.0954| \n",
      "\n",
      "AFTER SIMULATING\n",
      "['1', '2', '3'] \n",
      "OPENCL_1 |0.4339| |0.0440| |0.0951| \n",
      "OPENCL_2 |0.2945| |0.0396| |0.2100| \n",
      "CYTHON_THREADED |0.0453| |0.1952| |0.1088| \n",
      "CYTHON_THREADED_DYNAMIC |0.0470| |0.1551| |0.0996| \n",
      "CYTHON_THREADED_GUIDED |0.0643| |0.1766| |0.0813| \n",
      "CYTHON_THREADED_STATIC |0.0423| |0.1890| |0.0905| \n",
      "CYTHON_UNTHREADED |0.0470| |0.1788| |0.0888| \n",
      "NUMBA |0.0212| |0.0200| |0.1280| \n",
      "PYTHON |0.0044| |0.0018| |0.0980| \n",
      "\n",
      "Ran the entire workflow a total of 1000 times\n",
      "The average time to run all methods was 6.03 std_dev 0.37\n",
      "Method 1 used OPENCL_1 the most (100.0%)\n",
      "Method 2 used OPENCL_1 the most (100.0%)\n",
      "Method 3 used OPENCL_1 the most (100.0%)\n"
     ]
    }
   ],
   "source": [
    "avg_1 = dict(zip(ALL_GEARS,[1,1.5,3,3,3,3,3,4,10]))\n",
    "std_1 = dict(zip(ALL_GEARS,[0.1,0.15,0.3,0.3,0.3,0.3,0.3,0.4,1]))\n",
    "met_1 = Method('1',avg_1,std_1)\n",
    "\n",
    "avg_2 = dict(zip(ALL_GEARS,[2,2,1,1,1,1,1,3,10]))\n",
    "std_2 = dict(zip(ALL_GEARS,[.2,.2,.1,.1,.1,.1,.1,.3,1]))\n",
    "met_2 = Method('2',avg_2,std_2)\n",
    "\n",
    "avg_3 = dict(zip(ALL_GEARS,[3,3,3,3,3,3,3,3,3]))\n",
    "std_3 = dict(zip(ALL_GEARS,[0.3,0.3,0.3,0.3,0.3,0.3,0.3,0.3,0.3]))\n",
    "met_3 = Method('3',avg_3,std_3)\n",
    "\n",
    "sim = Simulator(met_1,met_2,met_3)\n",
    "sim.benchmark_all_methods(1)\n",
    "print(\"AFTER ONE BENCHMARK\")\n",
    "sim.print_methods()\n",
    "\n",
    "print(\"AFTER SIMULATING\")\n",
    "sim.run_simulations(iter_n=1000, solid=True)\n",
    "sim.print_methods()\n",
    "sim.print_stats()"
   ]
  },
  {
   "cell_type": "code",
   "execution_count": 9,
   "metadata": {},
   "outputs": [
    {
     "name": "stdout",
     "output_type": "stream",
     "text": [
      "['1', '2', '3'] \n",
      "OPENCL_1 |0.4574| |0.0398| |0.1879| \n",
      "OPENCL_2 |0.2579| |0.0389| |0.0908| \n",
      "CYTHON_THREADED |0.0391| |0.2633| |0.1100| \n",
      "CYTHON_THREADED_DYNAMIC |0.0548| |0.1802| |0.1129| \n",
      "CYTHON_THREADED_GUIDED |0.0609| |0.1218| |0.1231| \n",
      "CYTHON_THREADED_STATIC |0.0505| |0.1424| |0.0704| \n",
      "CYTHON_UNTHREADED |0.0499| |0.1965| |0.0907| \n",
      "NUMBA |0.0260| |0.0162| |0.0791| \n",
      "PYTHON |0.0036| |0.0010| |0.1350| \n",
      "\n",
      "['1', '2', '3'] \n",
      "OPENCL_1 |0.3379| |0.0336| |0.1154| \n",
      "OPENCL_2 |0.3147| |0.0391| |0.0989| \n",
      "CYTHON_THREADED |0.0477| |0.2650| |0.1199| \n",
      "CYTHON_THREADED_DYNAMIC |0.0669| |0.1813| |0.1230| \n",
      "CYTHON_THREADED_GUIDED |0.0743| |0.1226| |0.1341| \n",
      "CYTHON_THREADED_STATIC |0.0616| |0.1433| |0.0767| \n",
      "CYTHON_UNTHREADED |0.0609| |0.1977| |0.0988| \n",
      "NUMBA |0.0317| |0.0163| |0.0862| \n",
      "PYTHON |0.0044| |0.0010| |0.1470| \n",
      "\n",
      "Ran the entire workflow a total of 100 times\n",
      "The average time to run all methods was 6.58 std_dev 1.67\n",
      "Method 1 used OPENCL_1 the most (100.0%)\n",
      "Method 2 used OPENCL_1 the most (100.0%)\n",
      "Method 3 used OPENCL_1 the most (100.0%)\n"
     ]
    }
   ],
   "source": [
    "avg_1 = dict(zip(ALL_GEARS,[1,1.5,3,3,3,3,3,4,10]))\n",
    "std_1 = dict(zip(ALL_GEARS,[0.1,0.15,0.3,0.3,0.3,0.3,0.3,0.4,1]))\n",
    "met_1 = Method('1',avg_1,std_1)\n",
    "\n",
    "avg_2 = dict(zip(ALL_GEARS,[2,2,1,1,1,1,1,3,10]))\n",
    "std_2 = dict(zip(ALL_GEARS,[.2,.2,.1,.1,.1,.1,.1,.3,1]))\n",
    "met_2 = Method('2',avg_2,std_2)\n",
    "\n",
    "avg_3 = dict(zip(ALL_GEARS,[3,3,3,3,3,3,3,3,3]))\n",
    "std_3 = dict(zip(ALL_GEARS,[0.3,0.3,0.3,0.3,0.3,0.3,0.3,0.3,0.3]))\n",
    "met_3 = Method('3',avg_3,std_3)\n",
    "\n",
    "sim = Simulator(met_1,met_2,met_3)\n",
    "sim.benchmark_all_methods(1)\n",
    "sim.print_methods()\n",
    "\n",
    "sim.run_anomalous_simulations(iter_n=100, ano_start=10, ano_end=20, affected_gear=ALL_GEARS[0], new_avg=4, new_std=0.4, solid=True)\n",
    "sim.print_methods()\n",
    "sim.print_stats()"
   ]
  },
  {
   "cell_type": "code",
   "execution_count": 10,
   "metadata": {},
   "outputs": [
    {
     "name": "stdout",
     "output_type": "stream",
     "text": [
      "['1', '2', '3'] \n",
      "OPENCL_1 |0.4652| |0.0402| |0.1211| \n",
      "OPENCL_2 |0.2324| |0.0481| |0.1008| \n",
      "CYTHON_THREADED |0.0421| |0.1848| |0.0997| \n",
      "CYTHON_THREADED_DYNAMIC |0.0763| |0.2206| |0.0698| \n",
      "CYTHON_THREADED_GUIDED |0.0394| |0.1317| |0.0910| \n",
      "CYTHON_THREADED_STATIC |0.0513| |0.1486| |0.0950| \n",
      "CYTHON_UNTHREADED |0.0476| |0.1997| |0.1219| \n",
      "NUMBA |0.0414| |0.0238| |0.2028| \n",
      "PYTHON |0.0042| |0.0025| |0.0979| \n",
      "\n",
      "['1', '2', '3'] \n",
      "OPENCL_1 |0.3504| |0.0375| |0.0926| \n",
      "OPENCL_2 |0.2823| |0.0483| |0.1041| \n",
      "CYTHON_THREADED |0.0511| |0.1853| |0.1029| \n",
      "CYTHON_THREADED_DYNAMIC |0.0927| |0.2212| |0.0721| \n",
      "CYTHON_THREADED_GUIDED |0.0478| |0.1321| |0.0940| \n",
      "CYTHON_THREADED_STATIC |0.0623| |0.1490| |0.0981| \n",
      "CYTHON_UNTHREADED |0.0579| |0.2003| |0.1258| \n",
      "NUMBA |0.0503| |0.0239| |0.2094| \n",
      "PYTHON |0.0051| |0.0025| |0.1011| \n",
      "\n",
      "Ran the entire workflow a total of 100 times\n",
      "The average time to run all methods was 6.53 std_dev 1.76\n",
      "Method 1 used OPENCL_1 the most (100.0%)\n",
      "Method 2 used OPENCL_1 the most (100.0%)\n",
      "Method 3 used OPENCL_1 the most (100.0%)\n"
     ]
    }
   ],
   "source": [
    "avg_1 = dict(zip(ALL_GEARS,[1,1.5,3,3,3,3,3,4,10]))\n",
    "std_1 = dict(zip(ALL_GEARS,[0.1,0.15,0.3,0.3,0.3,0.3,0.3,0.4,1]))\n",
    "met_1 = Method('1',avg_1,std_1)\n",
    "\n",
    "avg_2 = dict(zip(ALL_GEARS,[2,2,1,1,1,1,1,3,10]))\n",
    "std_2 = dict(zip(ALL_GEARS,[.2,.2,.1,.1,.1,.1,.1,.3,1]))\n",
    "met_2 = Method('2',avg_2,std_2)\n",
    "\n",
    "avg_3 = dict(zip(ALL_GEARS,[3,3,3,3,3,3,3,3,3]))\n",
    "std_3 = dict(zip(ALL_GEARS,[0.3,0.3,0.3,0.3,0.3,0.3,0.3,0.3,0.3]))\n",
    "met_3 = Method('3',avg_3,std_3)\n",
    "\n",
    "sim = Simulator(met_1,met_2,met_3)\n",
    "sim.benchmark_all_methods(1)\n",
    "sim.print_methods()\n",
    "\n",
    "sim.run_anomalous_simulations(iter_n=100, ano_start=30, ano_end=40, affected_gear=ALL_GEARS[0], new_avg=4, new_std=0.4, solid=True)\n",
    "sim.print_methods()\n",
    "sim.print_stats()"
   ]
  },
  {
   "cell_type": "code",
   "execution_count": 11,
   "metadata": {},
   "outputs": [
    {
     "name": "stdout",
     "output_type": "stream",
     "text": [
      "['1', '2', '3'] \n",
      "OPENCL_1 |0.4650| |0.0360| |0.0937| \n",
      "OPENCL_2 |0.2058| |0.0585| |0.1157| \n",
      "CYTHON_THREADED |0.0612| |0.1803| |0.1277| \n",
      "CYTHON_THREADED_DYNAMIC |0.0577| |0.2695| |0.1011| \n",
      "CYTHON_THREADED_GUIDED |0.0649| |0.1358| |0.1387| \n",
      "CYTHON_THREADED_STATIC |0.0557| |0.1342| |0.0758| \n",
      "CYTHON_UNTHREADED |0.0549| |0.1638| |0.0994| \n",
      "NUMBA |0.0297| |0.0202| |0.1652| \n",
      "PYTHON |0.0051| |0.0018| |0.0828| \n",
      "\n",
      "['1', '2', '3'] \n",
      "OPENCL_1 |0.1210| |0.0208| |0.0889| \n",
      "OPENCL_2 |0.3381| |0.0594| |0.1163| \n",
      "CYTHON_THREADED |0.1006| |0.1831| |0.1284| \n",
      "CYTHON_THREADED_DYNAMIC |0.0948| |0.2738| |0.1016| \n",
      "CYTHON_THREADED_GUIDED |0.1066| |0.1379| |0.1394| \n",
      "CYTHON_THREADED_STATIC |0.0916| |0.1363| |0.0762| \n",
      "CYTHON_UNTHREADED |0.0903| |0.1663| |0.0999| \n",
      "NUMBA |0.0488| |0.0205| |0.1660| \n",
      "PYTHON |0.0083| |0.0019| |0.0832| \n",
      "\n",
      "Ran the entire workflow a total of 100 times\n",
      "The average time to run all methods was 8.99 std_dev 3.05\n",
      "Method 1 used OPENCL_1 the most (100.0%)\n",
      "Method 2 used OPENCL_1 the most (100.0%)\n",
      "Method 3 used OPENCL_1 the most (100.0%)\n"
     ]
    }
   ],
   "source": [
    "avg_1 = dict(zip(ALL_GEARS,[1,1.5,3,3,3,3,3,4,10]))\n",
    "std_1 = dict(zip(ALL_GEARS,[0.1,0.15,0.3,0.3,0.3,0.3,0.3,0.4,1]))\n",
    "met_1 = Method('1',avg_1,std_1)\n",
    "\n",
    "avg_2 = dict(zip(ALL_GEARS,[2,2,1,1,1,1,1,3,10]))\n",
    "std_2 = dict(zip(ALL_GEARS,[.2,.2,.1,.1,.1,.1,.1,.3,1]))\n",
    "met_2 = Method('2',avg_2,std_2)\n",
    "\n",
    "avg_3 = dict(zip(ALL_GEARS,[3,3,3,3,3,3,3,3,3]))\n",
    "std_3 = dict(zip(ALL_GEARS,[0.3,0.3,0.3,0.3,0.3,0.3,0.3,0.3,0.3]))\n",
    "met_3 = Method('3',avg_3,std_3)\n",
    "\n",
    "sim = Simulator(met_1,met_2,met_3)\n",
    "sim.benchmark_all_methods(1)\n",
    "sim.print_methods()\n",
    "\n",
    "sim.run_anomalous_simulations(iter_n=100, ano_start=10, ano_end=60, affected_gear=ALL_GEARS[0], new_avg=4, new_std=0.4, solid=True)\n",
    "sim.print_methods()\n",
    "sim.print_stats()"
   ]
  },
  {
   "cell_type": "code",
   "execution_count": 12,
   "metadata": {},
   "outputs": [
    {
     "name": "stdout",
     "output_type": "stream",
     "text": [
      "['1', '2', '3'] \n",
      "OPENCL_1 |0.4644| |0.0322| |0.0799| \n",
      "OPENCL_2 |0.2203| |0.0478| |0.1015| \n",
      "CYTHON_THREADED |0.0525| |0.2039| |0.1069| \n",
      "CYTHON_THREADED_DYNAMIC |0.0583| |0.1627| |0.1059| \n",
      "CYTHON_THREADED_GUIDED |0.0429| |0.2299| |0.1335| \n",
      "CYTHON_THREADED_STATIC |0.0650| |0.1395| |0.1092| \n",
      "CYTHON_UNTHREADED |0.0589| |0.1685| |0.1188| \n",
      "NUMBA |0.0317| |0.0140| |0.1435| \n",
      "PYTHON |0.0061| |0.0014| |0.1007| \n",
      "\n",
      "['1', '2', '3'] \n",
      "OPENCL_1 |0.1352| |0.0190| |0.0884| \n",
      "OPENCL_2 |0.3557| |0.0485| |0.1006| \n",
      "CYTHON_THREADED |0.0848| |0.2067| |0.1059| \n",
      "CYTHON_THREADED_DYNAMIC |0.0941| |0.1650| |0.1049| \n",
      "CYTHON_THREADED_GUIDED |0.0693| |0.2331| |0.1323| \n",
      "CYTHON_THREADED_STATIC |0.1049| |0.1414| |0.1082| \n",
      "CYTHON_UNTHREADED |0.0951| |0.1708| |0.1177| \n",
      "NUMBA |0.0511| |0.0142| |0.1422| \n",
      "PYTHON |0.0098| |0.0014| |0.0998| \n",
      "\n",
      "Ran the entire workflow a total of 100 times\n",
      "The average time to run all methods was 8.93 std_dev 3.02\n",
      "Method 1 used OPENCL_1 the most (100.0%)\n",
      "Method 2 used OPENCL_1 the most (100.0%)\n",
      "Method 3 used OPENCL_1 the most (100.0%)\n"
     ]
    }
   ],
   "source": [
    "avg_1 = dict(zip(ALL_GEARS,[1,1.5,3,3,3,3,3,4,10]))\n",
    "std_1 = dict(zip(ALL_GEARS,[0.1,0.15,0.3,0.3,0.3,0.3,0.3,0.4,1]))\n",
    "met_1 = Method('1',avg_1,std_1)\n",
    "\n",
    "avg_2 = dict(zip(ALL_GEARS,[2,2,1,1,1,1,1,3,10]))\n",
    "std_2 = dict(zip(ALL_GEARS,[.2,.2,.1,.1,.1,.1,.1,.3,1]))\n",
    "met_2 = Method('2',avg_2,std_2)\n",
    "\n",
    "avg_3 = dict(zip(ALL_GEARS,[3,3,3,3,3,3,3,3,3]))\n",
    "std_3 = dict(zip(ALL_GEARS,[0.3,0.3,0.3,0.3,0.3,0.3,0.3,0.3,0.3]))\n",
    "met_3 = Method('3',avg_3,std_3)\n",
    "\n",
    "sim = Simulator(met_1,met_2,met_3)\n",
    "sim.benchmark_all_methods(1)\n",
    "sim.print_methods()\n",
    "\n",
    "sim.run_anomalous_simulations(iter_n=100, ano_start=30, ano_end=80, affected_gear=ALL_GEARS[0], new_avg=4, new_std=0.4, solid=True)\n",
    "sim.print_methods()\n",
    "sim.print_stats()"
   ]
  },
  {
   "cell_type": "code",
   "execution_count": 13,
   "metadata": {},
   "outputs": [
    {
     "name": "stdout",
     "output_type": "stream",
     "text": [
      "['1', '2', '3'] \n",
      "OPENCL_1 |0.4606| |0.0253| |0.1024| \n",
      "OPENCL_2 |0.2067| |0.0413| |0.0850| \n",
      "CYTHON_THREADED |0.0590| |0.1362| |0.1124| \n",
      "CYTHON_THREADED_DYNAMIC |0.0633| |0.2323| |0.1309| \n",
      "CYTHON_THREADED_GUIDED |0.0620| |0.1665| |0.1374| \n",
      "CYTHON_THREADED_STATIC |0.0480| |0.1402| |0.1477| \n",
      "CYTHON_UNTHREADED |0.0533| |0.2463| |0.0845| \n",
      "NUMBA |0.0414| |0.0106| |0.1316| \n",
      "PYTHON |0.0059| |0.0014| |0.0683| \n",
      "\n",
      "['1', '2', '3'] \n",
      "OPENCL_1 |0.0618| |0.0085| |0.0604| \n",
      "OPENCL_2 |0.3594| |0.0420| |0.0889| \n",
      "CYTHON_THREADED |0.1025| |0.1385| |0.1177| \n",
      "CYTHON_THREADED_DYNAMIC |0.1101| |0.2363| |0.1370| \n",
      "CYTHON_THREADED_GUIDED |0.1078| |0.1694| |0.1438| \n",
      "CYTHON_THREADED_STATIC |0.0834| |0.1426| |0.1546| \n",
      "CYTHON_UNTHREADED |0.0926| |0.2505| |0.0884| \n",
      "NUMBA |0.0719| |0.0108| |0.1378| \n",
      "PYTHON |0.0103| |0.0014| |0.0715| \n",
      "\n",
      "Ran the entire workflow a total of 100 times\n",
      "The average time to run all methods was 11.99 std_dev 0.88\n",
      "Method 1 used OPENCL_1 the most (100.0%)\n",
      "Method 2 used OPENCL_1 the most (100.0%)\n",
      "Method 3 used OPENCL_1 the most (100.0%)\n"
     ]
    }
   ],
   "source": [
    "avg_1 = dict(zip(ALL_GEARS,[1,1.5,3,3,3,3,3,4,10]))\n",
    "std_1 = dict(zip(ALL_GEARS,[0.1,0.15,0.3,0.3,0.3,0.3,0.3,0.4,1]))\n",
    "met_1 = Method('1',avg_1,std_1)\n",
    "\n",
    "avg_2 = dict(zip(ALL_GEARS,[2,2,1,1,1,1,1,3,10]))\n",
    "std_2 = dict(zip(ALL_GEARS,[.2,.2,.1,.1,.1,.1,.1,.3,1]))\n",
    "met_2 = Method('2',avg_2,std_2)\n",
    "\n",
    "avg_3 = dict(zip(ALL_GEARS,[3,3,3,3,3,3,3,3,3]))\n",
    "std_3 = dict(zip(ALL_GEARS,[0.3,0.3,0.3,0.3,0.3,0.3,0.3,0.3,0.3]))\n",
    "met_3 = Method('3',avg_3,std_3)\n",
    "\n",
    "sim = Simulator(met_1,met_2,met_3)\n",
    "sim.benchmark_all_methods(1)\n",
    "sim.print_methods()\n",
    "\n",
    "sim.run_anomalous_simulations(iter_n=100, ano_start=0, ano_end=101, affected_gear=ALL_GEARS[0], new_avg=4, new_std=0.4, solid=True)\n",
    "sim.print_methods()\n",
    "sim.print_stats()"
   ]
  },
  {
   "cell_type": "code",
   "execution_count": null,
   "metadata": {},
   "outputs": [],
   "source": []
  }
 ],
 "metadata": {
  "kernelspec": {
   "display_name": "nanopyx",
   "language": "python",
   "name": "python3"
  },
  "language_info": {
   "codemirror_mode": {
    "name": "ipython",
    "version": 3
   },
   "file_extension": ".py",
   "mimetype": "text/x-python",
   "name": "python",
   "nbconvert_exporter": "python",
   "pygments_lexer": "ipython3",
   "version": "3.10.9"
  },
  "orig_nbformat": 4
 },
 "nbformat": 4,
 "nbformat_minor": 2
}
