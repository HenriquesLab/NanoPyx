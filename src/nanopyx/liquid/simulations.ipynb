{
 "cells": [
  {
   "cell_type": "code",
   "execution_count": 1,
   "metadata": {},
   "outputs": [],
   "source": [
    "from Simulator import Method, Simulator, ALL_GEARS"
   ]
  },
  {
   "attachments": {},
   "cell_type": "markdown",
   "metadata": {},
   "source": [
    "## Rules of the game\n",
    " 1. We simulate a workflow with 3 methods\n",
    " 2. Method #1 runs faster in OpenCL implementations\n",
    " 3. Method #2 runs faster in Threaded implementations\n",
    " 4. Method #3 runs the same speed wherever\n",
    " 5. Each method has 9 implementations and each implementation takes a different time to run\n",
    " 6. We know a priori the REAL time distributions for each implementation and they are all Normal\n",
    " 7. The chance that an implementation is chosen is based upon the squared inverse of the past average values that were seen"
   ]
  },
  {
   "attachments": {},
   "cell_type": "markdown",
   "metadata": {},
   "source": [
    "#### Case study #0 : Initialization of the agent / engine\n",
    "In this case we have minimal information.\n",
    "We only have information of one benchmark (aka all implementations were run once)"
   ]
  },
  {
   "cell_type": "code",
   "execution_count": 2,
   "metadata": {},
   "outputs": [
    {
     "name": "stdout",
     "output_type": "stream",
     "text": [
      "['1', '2', '3'] \n",
      "OPENCL_1 |0.3115| |0.0257| |0.0556| \n",
      "OPENCL_2 |0.2432| |0.0139| |0.1736| \n",
      "CYTHON_THREADED |0.1243| |0.1350| |0.0576| \n",
      "CYTHON_THREADED_DYNAMIC |0.0982| |0.1573| |0.0494| \n",
      "CYTHON_THREADED_GUIDED |0.0497| |0.1758| |0.0793| \n",
      "CYTHON_THREADED_STATIC |0.0445| |0.1661| |0.0793| \n",
      "CYTHON_UNTHREADED |0.0465| |0.1699| |0.2021| \n",
      "NUMBA |0.0783| |0.1488| |0.0794| \n",
      "PYTHON |0.0037| |0.0075| |0.2238| \n",
      "\n",
      "['1', '2', '3'] \n",
      "OPENCL_1 |0.3882| |0.0251| |0.1074| \n",
      "OPENCL_2 |0.2356| |0.0129| |0.1130| \n",
      "CYTHON_THREADED |0.0620| |0.1603| |0.1285| \n",
      "CYTHON_THREADED_DYNAMIC |0.0642| |0.1570| |0.1027| \n",
      "CYTHON_THREADED_GUIDED |0.0636| |0.1593| |0.1177| \n",
      "CYTHON_THREADED_STATIC |0.0611| |0.1606| |0.1002| \n",
      "CYTHON_UNTHREADED |0.0602| |0.1594| |0.1131| \n",
      "NUMBA |0.0615| |0.1593| |0.1079| \n",
      "PYTHON |0.0035| |0.0060| |0.1094| \n",
      "\n",
      "Ran the entire workflow a total of 1000\n",
      "The average time to run all methods was 48.56 std_dev 12.57\n",
      "Method 1 used OPENCL_1 the most (40.9%)\n",
      "Method 2 used CYTHON_THREADED_GUIDED the most (17.4%)\n",
      "Method 3 used OPENCL_2 the most (13.9%)\n"
     ]
    }
   ],
   "source": [
    "avg_1 = dict(zip(ALL_GEARS,[10,13,25,25,25,25,25,25,100]))\n",
    "std_1 = dict(zip(ALL_GEARS,[1,1,3,3,3,3,3,3,10]))\n",
    "met_1 = Method('1',avg_1,std_1)\n",
    "\n",
    "avg_2 = dict(zip(ALL_GEARS,[5,7,2,2,2,2,2,2,10]))\n",
    "std_2 = dict(zip(ALL_GEARS,[.1,.1,.1,.1,.1,.1,.1,.1,1]))\n",
    "met_2 = Method('2',avg_2,std_2)\n",
    "\n",
    "avg_3 = dict(zip(ALL_GEARS,[30,30,30,30,30,30,30,30,30]))\n",
    "std_3 = dict(zip(ALL_GEARS,[10,10,10,10,10,10,10,10,10]))\n",
    "met_3 = Method('3',avg_3,std_3)\n",
    "\n",
    "sim = Simulator(met_1,met_2,met_3)\n",
    "sim.benchmark_all_methods(1)\n",
    "sim.print_methods()\n",
    "\n",
    "sim.run_simulations(iter_n=1000)\n",
    "sim.print_methods()\n",
    "sim.print_stats()"
   ]
  },
  {
   "attachments": {},
   "cell_type": "markdown",
   "metadata": {},
   "source": [
    "#### Case study #1 : Initialization of the agent / engine\n",
    "In this case we have minimal information.\n",
    "We only have information of one benchmark (aka all implementations were run once)"
   ]
  },
  {
   "cell_type": "markdown",
   "metadata": {},
   "source": []
  }
 ],
 "metadata": {
  "kernelspec": {
   "display_name": "nanopyx",
   "language": "python",
   "name": "python3"
  },
  "language_info": {
   "codemirror_mode": {
    "name": "ipython",
    "version": 3
   },
   "file_extension": ".py",
   "mimetype": "text/x-python",
   "name": "python",
   "nbconvert_exporter": "python",
   "pygments_lexer": "ipython3",
   "version": "3.10.9"
  },
  "orig_nbformat": 4
 },
 "nbformat": 4,
 "nbformat_minor": 2
}
