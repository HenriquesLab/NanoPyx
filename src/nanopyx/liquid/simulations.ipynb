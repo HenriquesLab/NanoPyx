{
 "cells": [
  {
   "cell_type": "code",
   "execution_count": 1,
   "metadata": {},
   "outputs": [],
   "source": [
    "from Simulator import Method, Simulator, ALL_GEARS"
   ]
  },
  {
   "attachments": {},
   "cell_type": "markdown",
   "metadata": {},
   "source": [
    "## Rules of the game\n",
    " 1. We simulate a workflow with 3 methods\n",
    " 2. Method #1 runs faster in OpenCL implementations\n",
    " 3. Method #2 runs faster in Threaded implementations\n",
    " 4. Method #3 runs the same speed wherever\n",
    " 5. Each method has 9 implementations and each implementation takes a different time to run\n",
    " 6. We know a priori the REAL time distributions for each implementation and they are all Normal\n",
    " 7. The chance that an implementation is chosen is based upon the squared inverse of the past average values that were seen\n",
    " 8. Exponential weighting gives more importance to EARLIER benchmarks when calculating the past average value"
   ]
  },
  {
   "attachments": {},
   "cell_type": "markdown",
   "metadata": {},
   "source": [
    "#### Case study #0 : Initialization of the agent / engine\n",
    "In this case we have minimal information.\n",
    "We only have information of one benchmark (aka all implementations were run once)\n",
    "\n",
    "We run the workflow 1000 times to calculate what is the average run time of the entire workflow"
   ]
  },
  {
   "attachments": {},
   "cell_type": "markdown",
   "metadata": {},
   "source": [
    "WITH NORMAL AVERAGE"
   ]
  },
  {
   "cell_type": "code",
   "execution_count": 2,
   "metadata": {},
   "outputs": [
    {
     "name": "stdout",
     "output_type": "stream",
     "text": [
      "AFTER ONE BENCHMARK\n",
      "['1', '2', '3'] \n",
      "OPENCL_1 |0.4550| |0.0407| |0.0810| \n",
      "OPENCL_2 |0.2271| |0.0433| |0.1050| \n",
      "CYTHON_THREADED |0.0475| |0.2088| |0.1588| \n",
      "CYTHON_THREADED_DYNAMIC |0.0531| |0.1578| |0.1233| \n",
      "CYTHON_THREADED_GUIDED |0.0575| |0.1904| |0.0977| \n",
      "CYTHON_THREADED_STATIC |0.0606| |0.1548| |0.0964| \n",
      "CYTHON_UNTHREADED |0.0580| |0.1816| |0.0996| \n",
      "NUMBA |0.0346| |0.0209| |0.1276| \n",
      "PYTHON |0.0067| |0.0017| |0.1106| \n",
      "\n",
      "AFTER SIMULATING\n",
      "['1', '2', '3'] \n",
      "OPENCL_1 |0.4807| |0.0428| |0.1131| \n",
      "OPENCL_2 |0.2173| |0.0471| |0.1085| \n",
      "CYTHON_THREADED |0.0526| |0.1750| |0.1142| \n",
      "CYTHON_THREADED_DYNAMIC |0.0525| |0.1759| |0.1103| \n",
      "CYTHON_THREADED_GUIDED |0.0544| |0.1810| |0.1112| \n",
      "CYTHON_THREADED_STATIC |0.0548| |0.1762| |0.1067| \n",
      "CYTHON_UNTHREADED |0.0536| |0.1814| |0.1091| \n",
      "NUMBA |0.0295| |0.0187| |0.1132| \n",
      "PYTHON |0.0046| |0.0020| |0.1137| \n",
      "\n",
      "Ran the entire workflow a total of 1000 times\n",
      "The average time to run all methods was 5.91 std_dev 1.33\n",
      "Method 1 used OPENCL_1 the most (50.1%)\n",
      "Method 2 used CYTHON_THREADED the most (19.7%)\n",
      "Method 3 used NUMBA the most (13.2%)\n"
     ]
    }
   ],
   "source": [
    "avg_1 = dict(zip(ALL_GEARS,[1,1.5,3,3,3,3,3,4,10]))\n",
    "std_1 = dict(zip(ALL_GEARS,[0.1,0.15,0.3,0.3,0.3,0.3,0.3,0.4,1]))\n",
    "met_1 = Method('1',avg_1,std_1)\n",
    "\n",
    "avg_2 = dict(zip(ALL_GEARS,[2,2,1,1,1,1,1,3,10]))\n",
    "std_2 = dict(zip(ALL_GEARS,[.2,.2,.1,.1,.1,.1,.1,.3,1]))\n",
    "met_2 = Method('2',avg_2,std_2)\n",
    "\n",
    "avg_3 = dict(zip(ALL_GEARS,[3,3,3,3,3,3,3,3,3]))\n",
    "std_3 = dict(zip(ALL_GEARS,[0.3,0.3,0.3,0.3,0.3,0.3,0.3,0.3,0.3]))\n",
    "met_3 = Method('3',avg_3,std_3)\n",
    "\n",
    "sim = Simulator(met_1,met_2,met_3)\n",
    "sim.benchmark_all_methods(1)\n",
    "print(\"AFTER ONE BENCHMARK\")\n",
    "sim.print_methods()\n",
    "\n",
    "print(\"AFTER SIMULATING\")\n",
    "sim.run_simulations(iter_n=1000)\n",
    "sim.print_methods()\n",
    "sim.print_stats()"
   ]
  },
  {
   "attachments": {},
   "cell_type": "markdown",
   "metadata": {},
   "source": [
    "WITH EXPONENTIALLY WEIGHTED AVERAGE"
   ]
  },
  {
   "cell_type": "code",
   "execution_count": 3,
   "metadata": {},
   "outputs": [
    {
     "name": "stdout",
     "output_type": "stream",
     "text": [
      "['1', '2', '3'] \n",
      "OPENCL_1 |0.4336| |0.0356| |0.1275| \n",
      "OPENCL_2 |0.2411| |0.0371| |0.1045| \n",
      "CYTHON_THREADED |0.0397| |0.1771| |0.1496| \n",
      "CYTHON_THREADED_DYNAMIC |0.0540| |0.2668| |0.1033| \n",
      "CYTHON_THREADED_GUIDED |0.0618| |0.1130| |0.1154| \n",
      "CYTHON_THREADED_STATIC |0.0567| |0.1472| |0.0854| \n",
      "CYTHON_UNTHREADED |0.0764| |0.1993| |0.1161| \n",
      "NUMBA |0.0309| |0.0219| |0.1032| \n",
      "PYTHON |0.0058| |0.0019| |0.0951| \n",
      "\n",
      "['1', '2', '3'] \n",
      "OPENCL_1 |0.4563| |0.0457| |0.1053| \n",
      "OPENCL_2 |0.2530| |0.0519| |0.0988| \n",
      "CYTHON_THREADED |0.0592| |0.1731| |0.1217| \n",
      "CYTHON_THREADED_DYNAMIC |0.0487| |0.1816| |0.1085| \n",
      "CYTHON_THREADED_GUIDED |0.0523| |0.1416| |0.1030| \n",
      "CYTHON_THREADED_STATIC |0.0563| |0.1911| |0.1326| \n",
      "CYTHON_UNTHREADED |0.0439| |0.1941| |0.1211| \n",
      "NUMBA |0.0265| |0.0188| |0.1047| \n",
      "PYTHON |0.0038| |0.0021| |0.1043| \n",
      "\n",
      "Ran the entire workflow a total of 1000 times\n",
      "The average time to run all methods was 5.94 std_dev 1.34\n",
      "Method 1 used OPENCL_1 the most (50.1%)\n",
      "Method 2 used CYTHON_UNTHREADED the most (21.2%)\n",
      "Method 3 used PYTHON the most (13.2%)\n"
     ]
    }
   ],
   "source": [
    "avg_1 = dict(zip(ALL_GEARS,[1,1.5,3,3,3,3,3,4,10]))\n",
    "std_1 = dict(zip(ALL_GEARS,[0.1,0.15,0.3,0.3,0.3,0.3,0.3,0.4,1]))\n",
    "met_1 = Method('1',avg_1,std_1,exp=True)\n",
    "\n",
    "avg_2 = dict(zip(ALL_GEARS,[2,2,1,1,1,1,1,3,10]))\n",
    "std_2 = dict(zip(ALL_GEARS,[.2,.2,.1,.1,.1,.1,.1,.3,1]))\n",
    "met_2 = Method('2',avg_2,std_2,exp=True)\n",
    "\n",
    "avg_3 = dict(zip(ALL_GEARS,[3,3,3,3,3,3,3,3,3]))\n",
    "std_3 = dict(zip(ALL_GEARS,[0.3,0.3,0.3,0.3,0.3,0.3,0.3,0.3,0.3]))\n",
    "met_3 = Method('3',avg_3,std_3,exp=True)\n",
    "\n",
    "sim = Simulator(met_1,met_2,met_3)\n",
    "sim.benchmark_all_methods(1)\n",
    "sim.print_methods()\n",
    "\n",
    "sim.run_simulations(iter_n=1000)\n",
    "sim.print_methods()\n",
    "sim.print_stats()"
   ]
  },
  {
   "attachments": {},
   "cell_type": "markdown",
   "metadata": {},
   "source": [
    "#### Case study #1 : Initialization of the engine with an EARLY and VERY BRIEF anomaly on ONE device (GPU) \n",
    "\n",
    "We start with information of one benchmark (aka all implementations were run once)\n",
    "\n",
    "We run the workflow 100 times. \n",
    "\n",
    "During 10-20 runs there is an anomaly with one GPU which affects all opencl implementation that use that GPU"
   ]
  },
  {
   "attachments": {},
   "cell_type": "markdown",
   "metadata": {},
   "source": [
    "WITH NORMAL AVERAGE"
   ]
  },
  {
   "cell_type": "code",
   "execution_count": 4,
   "metadata": {},
   "outputs": [
    {
     "name": "stdout",
     "output_type": "stream",
     "text": [
      "['1', '2', '3'] \n",
      "OPENCL_1 |0.4622| |0.0557| |0.0961| \n",
      "OPENCL_2 |0.2125| |0.0453| |0.1474| \n",
      "CYTHON_THREADED |0.0644| |0.1584| |0.0924| \n",
      "CYTHON_THREADED_DYNAMIC |0.0690| |0.2016| |0.1005| \n",
      "CYTHON_THREADED_GUIDED |0.0522| |0.1355| |0.1555| \n",
      "CYTHON_THREADED_STATIC |0.0414| |0.2001| |0.0761| \n",
      "CYTHON_UNTHREADED |0.0553| |0.1885| |0.0933| \n",
      "NUMBA |0.0371| |0.0132| |0.1285| \n",
      "PYTHON |0.0058| |0.0018| |0.1103| \n",
      "\n",
      "['1', '2', '3'] \n",
      "OPENCL_1 |0.3855| |0.0454| |0.1098| \n",
      "OPENCL_2 |0.2645| |0.0434| |0.1130| \n",
      "CYTHON_THREADED |0.0619| |0.1626| |0.1151| \n",
      "CYTHON_THREADED_DYNAMIC |0.0581| |0.1821| |0.1015| \n",
      "CYTHON_THREADED_GUIDED |0.0657| |0.1703| |0.1140| \n",
      "CYTHON_THREADED_STATIC |0.0587| |0.1812| |0.1158| \n",
      "CYTHON_UNTHREADED |0.0637| |0.2006| |0.1055| \n",
      "NUMBA |0.0353| |0.0127| |0.1164| \n",
      "PYTHON |0.0066| |0.0017| |0.1089| \n",
      "\n",
      "Ran the entire workflow a total of 100 times\n",
      "The average time to run all methods was 6.22 std_dev 1.31\n",
      "Method 1 used OPENCL_1 the most (34.0%)\n",
      "Method 2 used CYTHON_THREADED_DYNAMIC the most (22.0%)\n",
      "Method 3 used CYTHON_THREADED_GUIDED the most (16.0%)\n"
     ]
    }
   ],
   "source": [
    "avg_1 = dict(zip(ALL_GEARS,[1,1.5,3,3,3,3,3,4,10]))\n",
    "std_1 = dict(zip(ALL_GEARS,[0.1,0.15,0.3,0.3,0.3,0.3,0.3,0.4,1]))\n",
    "met_1 = Method('1',avg_1,std_1)\n",
    "\n",
    "avg_2 = dict(zip(ALL_GEARS,[2,2,1,1,1,1,1,3,10]))\n",
    "std_2 = dict(zip(ALL_GEARS,[.2,.2,.1,.1,.1,.1,.1,.3,1]))\n",
    "met_2 = Method('2',avg_2,std_2)\n",
    "\n",
    "avg_3 = dict(zip(ALL_GEARS,[3,3,3,3,3,3,3,3,3]))\n",
    "std_3 = dict(zip(ALL_GEARS,[0.3,0.3,0.3,0.3,0.3,0.3,0.3,0.3,0.3]))\n",
    "met_3 = Method('3',avg_3,std_3)\n",
    "\n",
    "sim = Simulator(met_1,met_2,met_3)\n",
    "sim.benchmark_all_methods(1)\n",
    "sim.print_methods()\n",
    "\n",
    "sim.run_anomalous_simulations(iter_n=100, ano_start=10, ano_end=20, affected_gear=ALL_GEARS[0], new_avg=4, new_std=0.4)\n",
    "sim.print_methods()\n",
    "sim.print_stats()"
   ]
  },
  {
   "attachments": {},
   "cell_type": "markdown",
   "metadata": {},
   "source": [
    "WITH EXPONENTIALLY WEIGHTED AVERAGE"
   ]
  },
  {
   "cell_type": "code",
   "execution_count": 5,
   "metadata": {},
   "outputs": [
    {
     "name": "stdout",
     "output_type": "stream",
     "text": [
      "['1', '2', '3'] \n",
      "OPENCL_1 |0.5101| |0.0462| |0.1163| \n",
      "OPENCL_2 |0.2218| |0.0506| |0.1028| \n",
      "CYTHON_THREADED |0.0368| |0.1693| |0.1150| \n",
      "CYTHON_THREADED_DYNAMIC |0.0429| |0.1507| |0.1712| \n",
      "CYTHON_THREADED_GUIDED |0.0465| |0.1695| |0.1102| \n",
      "CYTHON_THREADED_STATIC |0.0573| |0.2082| |0.0818| \n",
      "CYTHON_UNTHREADED |0.0553| |0.1850| |0.1016| \n",
      "NUMBA |0.0249| |0.0192| |0.1157| \n",
      "PYTHON |0.0043| |0.0013| |0.0854| \n",
      "\n",
      "['1', '2', '3'] \n",
      "OPENCL_1 |0.4415| |0.0400| |0.1187| \n",
      "OPENCL_2 |0.2699| |0.0375| |0.1062| \n",
      "CYTHON_THREADED |0.0502| |0.1700| |0.1149| \n",
      "CYTHON_THREADED_DYNAMIC |0.0537| |0.1985| |0.1237| \n",
      "CYTHON_THREADED_GUIDED |0.0476| |0.1455| |0.1126| \n",
      "CYTHON_THREADED_STATIC |0.0587| |0.1914| |0.1076| \n",
      "CYTHON_UNTHREADED |0.0464| |0.1975| |0.1261| \n",
      "NUMBA |0.0260| |0.0182| |0.0931| \n",
      "PYTHON |0.0058| |0.0013| |0.0971| \n",
      "\n",
      "Ran the entire workflow a total of 100 times\n",
      "The average time to run all methods was 6.23 std_dev 1.42\n",
      "Method 1 used OPENCL_1 the most (36.0%)\n",
      "Method 2 used CYTHON_THREADED_STATIC the most (26.0%)\n",
      "Method 3 used CYTHON_THREADED the most (14.0%)\n"
     ]
    }
   ],
   "source": [
    "avg_1 = dict(zip(ALL_GEARS,[1,1.5,3,3,3,3,3,4,10]))\n",
    "std_1 = dict(zip(ALL_GEARS,[0.1,0.15,0.3,0.3,0.3,0.3,0.3,0.4,1]))\n",
    "met_1 = Method('1',avg_1,std_1,exp=True)\n",
    "\n",
    "avg_2 = dict(zip(ALL_GEARS,[2,2,1,1,1,1,1,3,10]))\n",
    "std_2 = dict(zip(ALL_GEARS,[.2,.2,.1,.1,.1,.1,.1,.3,1]))\n",
    "met_2 = Method('2',avg_2,std_2,exp=True)\n",
    "\n",
    "avg_3 = dict(zip(ALL_GEARS,[3,3,3,3,3,3,3,3,3]))\n",
    "std_3 = dict(zip(ALL_GEARS,[0.3,0.3,0.3,0.3,0.3,0.3,0.3,0.3,0.3]))\n",
    "met_3 = Method('3',avg_3,std_3,exp=True)\n",
    "\n",
    "\n",
    "sim = Simulator(met_1,met_2,met_3)\n",
    "sim.benchmark_all_methods(1)\n",
    "sim.print_methods()\n",
    "\n",
    "sim.run_anomalous_simulations(iter_n=100, ano_start=10, ano_end=20, affected_gear=ALL_GEARS[0], new_avg=4, new_std=0.4)\n",
    "sim.print_methods()\n",
    "sim.print_stats()"
   ]
  },
  {
   "attachments": {},
   "cell_type": "markdown",
   "metadata": {},
   "source": [
    "#### Case study #2 : Initialization of the agent / engine with an LATE and VERY BRIEF anomaly on one device (GPU) \n",
    "We start with information of one benchmark (aka all implementations were run once)\n",
    "\n",
    "We run the workflow 100 times. \n",
    "\n",
    "During 30-40 runs there is an anomaly with one GPU which affects all opencl implementation that use that GPU"
   ]
  },
  {
   "attachments": {},
   "cell_type": "markdown",
   "metadata": {},
   "source": [
    "WITH NORMAL AVERAGE"
   ]
  },
  {
   "cell_type": "code",
   "execution_count": 6,
   "metadata": {},
   "outputs": [
    {
     "name": "stdout",
     "output_type": "stream",
     "text": [
      "['1', '2', '3'] \n",
      "OPENCL_1 |0.4810| |0.0391| |0.1135| \n",
      "OPENCL_2 |0.2678| |0.0568| |0.1118| \n",
      "CYTHON_THREADED |0.0440| |0.1708| |0.0846| \n",
      "CYTHON_THREADED_DYNAMIC |0.0441| |0.1736| |0.1030| \n",
      "CYTHON_THREADED_GUIDED |0.0419| |0.1783| |0.1242| \n",
      "CYTHON_THREADED_STATIC |0.0465| |0.1512| |0.1167| \n",
      "CYTHON_UNTHREADED |0.0467| |0.2076| |0.1101| \n",
      "NUMBA |0.0246| |0.0211| |0.1067| \n",
      "PYTHON |0.0035| |0.0014| |0.1296| \n",
      "\n",
      "['1', '2', '3'] \n",
      "OPENCL_1 |0.3386| |0.0480| |0.0906| \n",
      "OPENCL_2 |0.2751| |0.0559| |0.1091| \n",
      "CYTHON_THREADED |0.0726| |0.1645| |0.1080| \n",
      "CYTHON_THREADED_DYNAMIC |0.0614| |0.1683| |0.1158| \n",
      "CYTHON_THREADED_GUIDED |0.0628| |0.1688| |0.1130| \n",
      "CYTHON_THREADED_STATIC |0.0697| |0.1815| |0.1209| \n",
      "CYTHON_UNTHREADED |0.0723| |0.1855| |0.1204| \n",
      "NUMBA |0.0422| |0.0260| |0.1068| \n",
      "PYTHON |0.0053| |0.0015| |0.1154| \n",
      "\n",
      "Ran the entire workflow a total of 100 times\n",
      "The average time to run all methods was 6.11 std_dev 1.12\n",
      "Method 1 used OPENCL_1 the most (41.0%)\n",
      "Method 2 used CYTHON_THREADED_STATIC the most (23.0%)\n",
      "Method 3 used CYTHON_UNTHREADED the most (20.0%)\n"
     ]
    }
   ],
   "source": [
    "avg_1 = dict(zip(ALL_GEARS,[1,1.5,3,3,3,3,3,4,10]))\n",
    "std_1 = dict(zip(ALL_GEARS,[0.1,0.15,0.3,0.3,0.3,0.3,0.3,0.4,1]))\n",
    "met_1 = Method('1',avg_1,std_1)\n",
    "\n",
    "avg_2 = dict(zip(ALL_GEARS,[2,2,1,1,1,1,1,3,10]))\n",
    "std_2 = dict(zip(ALL_GEARS,[.2,.2,.1,.1,.1,.1,.1,.3,1]))\n",
    "met_2 = Method('2',avg_2,std_2)\n",
    "\n",
    "avg_3 = dict(zip(ALL_GEARS,[3,3,3,3,3,3,3,3,3]))\n",
    "std_3 = dict(zip(ALL_GEARS,[0.3,0.3,0.3,0.3,0.3,0.3,0.3,0.3,0.3]))\n",
    "met_3 = Method('3',avg_3,std_3)\n",
    "\n",
    "sim = Simulator(met_1,met_2,met_3)\n",
    "sim.benchmark_all_methods(1)\n",
    "sim.print_methods()\n",
    "\n",
    "sim.run_anomalous_simulations(iter_n=100, ano_start=30, ano_end=40, affected_gear=ALL_GEARS[0], new_avg=4, new_std=0.4)\n",
    "sim.print_methods()\n",
    "sim.print_stats()"
   ]
  },
  {
   "attachments": {},
   "cell_type": "markdown",
   "metadata": {},
   "source": [
    "WITH EXPONENTIALLY WEIGHTED AVERAGE"
   ]
  },
  {
   "cell_type": "code",
   "execution_count": 7,
   "metadata": {},
   "outputs": [
    {
     "name": "stdout",
     "output_type": "stream",
     "text": [
      "['1', '2', '3'] \n",
      "OPENCL_1 |0.5735| |0.0553| |0.0830| \n",
      "OPENCL_2 |0.1478| |0.0408| |0.1123| \n",
      "CYTHON_THREADED |0.0535| |0.2075| |0.1389| \n",
      "CYTHON_THREADED_DYNAMIC |0.0336| |0.1573| |0.1313| \n",
      "CYTHON_THREADED_GUIDED |0.0738| |0.1764| |0.1427| \n",
      "CYTHON_THREADED_STATIC |0.0304| |0.1699| |0.0705| \n",
      "CYTHON_UNTHREADED |0.0534| |0.1709| |0.1275| \n",
      "NUMBA |0.0313| |0.0205| |0.0905| \n",
      "PYTHON |0.0027| |0.0014| |0.1034| \n",
      "\n",
      "['1', '2', '3'] \n",
      "OPENCL_1 |0.4494| |0.0455| |0.0789| \n",
      "OPENCL_2 |0.2301| |0.0407| |0.1373| \n",
      "CYTHON_THREADED |0.0614| |0.1903| |0.0923| \n",
      "CYTHON_THREADED_DYNAMIC |0.0589| |0.1735| |0.1122| \n",
      "CYTHON_THREADED_GUIDED |0.0556| |0.1812| |0.1306| \n",
      "CYTHON_THREADED_STATIC |0.0541| |0.1685| |0.1429| \n",
      "CYTHON_UNTHREADED |0.0516| |0.1799| |0.0837| \n",
      "NUMBA |0.0346| |0.0188| |0.1020| \n",
      "PYTHON |0.0042| |0.0015| |0.1200| \n",
      "\n",
      "Ran the entire workflow a total of 100 times\n",
      "The average time to run all methods was 6.22 std_dev 1.82\n",
      "Method 1 used OPENCL_1 the most (46.0%)\n",
      "Method 2 used CYTHON_UNTHREADED the most (27.0%)\n",
      "Method 3 used CYTHON_THREADED_DYNAMIC the most (21.0%)\n"
     ]
    }
   ],
   "source": [
    "avg_1 = dict(zip(ALL_GEARS,[1,1.5,3,3,3,3,3,4,10]))\n",
    "std_1 = dict(zip(ALL_GEARS,[0.1,0.15,0.3,0.3,0.3,0.3,0.3,0.4,1]))\n",
    "met_1 = Method('1',avg_1,std_1,exp=True)\n",
    "\n",
    "avg_2 = dict(zip(ALL_GEARS,[2,2,1,1,1,1,1,3,10]))\n",
    "std_2 = dict(zip(ALL_GEARS,[.2,.2,.1,.1,.1,.1,.1,.3,1]))\n",
    "met_2 = Method('2',avg_2,std_2,exp=True)\n",
    "\n",
    "avg_3 = dict(zip(ALL_GEARS,[3,3,3,3,3,3,3,3,3]))\n",
    "std_3 = dict(zip(ALL_GEARS,[0.3,0.3,0.3,0.3,0.3,0.3,0.3,0.3,0.3]))\n",
    "met_3 = Method('3',avg_3,std_3,exp=True)\n",
    "\n",
    "\n",
    "sim = Simulator(met_1,met_2,met_3)\n",
    "sim.benchmark_all_methods(1)\n",
    "sim.print_methods()\n",
    "\n",
    "sim.run_anomalous_simulations(iter_n=100, ano_start=30, ano_end=40, affected_gear=ALL_GEARS[0], new_avg=4, new_std=0.4)\n",
    "sim.print_methods()\n",
    "sim.print_stats()"
   ]
  },
  {
   "attachments": {},
   "cell_type": "markdown",
   "metadata": {},
   "source": [
    "#### Case study #3 : Initialization of the agent / engine with an EARLY and LONG anomaly on one device (GPU)\n",
    "\n",
    "We start with information of one benchmark (aka all implementations were run once)\n",
    "\n",
    "We run the workflow 100 times. \n",
    "\n",
    "During 10-60 runs there is an anomaly with one GPU which affects all opencl implementation that use that GPU"
   ]
  },
  {
   "attachments": {},
   "cell_type": "markdown",
   "metadata": {},
   "source": [
    "WITH NORMAL AVERAGE"
   ]
  },
  {
   "cell_type": "code",
   "execution_count": 8,
   "metadata": {},
   "outputs": [
    {
     "name": "stdout",
     "output_type": "stream",
     "text": [
      "['1', '2', '3'] \n",
      "OPENCL_1 |0.4878| |0.0575| |0.1457| \n",
      "OPENCL_2 |0.2190| |0.0471| |0.0766| \n",
      "CYTHON_THREADED |0.0505| |0.2459| |0.1229| \n",
      "CYTHON_THREADED_DYNAMIC |0.0491| |0.1985| |0.1152| \n",
      "CYTHON_THREADED_GUIDED |0.0450| |0.1213| |0.0952| \n",
      "CYTHON_THREADED_STATIC |0.0671| |0.1307| |0.1105| \n",
      "CYTHON_UNTHREADED |0.0525| |0.1795| |0.1226| \n",
      "NUMBA |0.0239| |0.0178| |0.1098| \n",
      "PYTHON |0.0051| |0.0017| |0.1015| \n",
      "\n",
      "['1', '2', '3'] \n",
      "OPENCL_1 |0.1592| |0.0229| |0.0726| \n",
      "OPENCL_2 |0.3392| |0.0447| |0.1205| \n",
      "CYTHON_THREADED |0.0889| |0.1934| |0.1126| \n",
      "CYTHON_THREADED_DYNAMIC |0.0951| |0.1821| |0.1078| \n",
      "CYTHON_THREADED_GUIDED |0.0877| |0.1786| |0.1159| \n",
      "CYTHON_THREADED_STATIC |0.0872| |0.1800| |0.1174| \n",
      "CYTHON_UNTHREADED |0.0884| |0.1774| |0.1145| \n",
      "NUMBA |0.0460| |0.0190| |0.1190| \n",
      "PYTHON |0.0084| |0.0018| |0.1197| \n",
      "\n",
      "Ran the entire workflow a total of 100 times\n",
      "The average time to run all methods was 6.42 std_dev 1.28\n",
      "Method 1 used OPENCL_2 the most (39.0%)\n",
      "Method 2 used CYTHON_THREADED_STATIC the most (21.0%)\n",
      "Method 3 used CYTHON_UNTHREADED the most (19.0%)\n"
     ]
    }
   ],
   "source": [
    "avg_1 = dict(zip(ALL_GEARS,[1,1.5,3,3,3,3,3,4,10]))\n",
    "std_1 = dict(zip(ALL_GEARS,[0.1,0.15,0.3,0.3,0.3,0.3,0.3,0.4,1]))\n",
    "met_1 = Method('1',avg_1,std_1)\n",
    "\n",
    "avg_2 = dict(zip(ALL_GEARS,[2,2,1,1,1,1,1,3,10]))\n",
    "std_2 = dict(zip(ALL_GEARS,[.2,.2,.1,.1,.1,.1,.1,.3,1]))\n",
    "met_2 = Method('2',avg_2,std_2)\n",
    "\n",
    "avg_3 = dict(zip(ALL_GEARS,[3,3,3,3,3,3,3,3,3]))\n",
    "std_3 = dict(zip(ALL_GEARS,[0.3,0.3,0.3,0.3,0.3,0.3,0.3,0.3,0.3]))\n",
    "met_3 = Method('3',avg_3,std_3)\n",
    "\n",
    "sim = Simulator(met_1,met_2,met_3)\n",
    "sim.benchmark_all_methods(1)\n",
    "sim.print_methods()\n",
    "\n",
    "sim.run_anomalous_simulations(iter_n=100, ano_start=10, ano_end=60, affected_gear=ALL_GEARS[0], new_avg=4, new_std=0.4)\n",
    "sim.print_methods()\n",
    "sim.print_stats()"
   ]
  },
  {
   "attachments": {},
   "cell_type": "markdown",
   "metadata": {},
   "source": [
    "WITH EXPONENTIALLY WEIGHTED AVERAGE"
   ]
  },
  {
   "cell_type": "code",
   "execution_count": 9,
   "metadata": {},
   "outputs": [
    {
     "name": "stdout",
     "output_type": "stream",
     "text": [
      "['1', '2', '3'] \n",
      "OPENCL_1 |0.4614| |0.0549| |0.1225| \n",
      "OPENCL_2 |0.2001| |0.0525| |0.0981| \n",
      "CYTHON_THREADED |0.0564| |0.2437| |0.0986| \n",
      "CYTHON_THREADED_DYNAMIC |0.0649| |0.1667| |0.1257| \n",
      "CYTHON_THREADED_GUIDED |0.0568| |0.1642| |0.0901| \n",
      "CYTHON_THREADED_STATIC |0.0711| |0.1508| |0.1303| \n",
      "CYTHON_UNTHREADED |0.0528| |0.1475| |0.1234| \n",
      "NUMBA |0.0320| |0.0178| |0.0925| \n",
      "PYTHON |0.0045| |0.0018| |0.1188| \n",
      "\n",
      "['1', '2', '3'] \n",
      "OPENCL_1 |0.4546| |0.0272| |0.0948| \n",
      "OPENCL_2 |0.2265| |0.0520| |0.0963| \n",
      "CYTHON_THREADED |0.0632| |0.1547| |0.1079| \n",
      "CYTHON_THREADED_DYNAMIC |0.0705| |0.1968| |0.1147| \n",
      "CYTHON_THREADED_GUIDED |0.0523| |0.2299| |0.1121| \n",
      "CYTHON_THREADED_STATIC |0.0435| |0.1556| |0.1072| \n",
      "CYTHON_UNTHREADED |0.0494| |0.1630| |0.1342| \n",
      "NUMBA |0.0342| |0.0189| |0.1236| \n",
      "PYTHON |0.0057| |0.0020| |0.1090| \n",
      "\n",
      "Ran the entire workflow a total of 100 times\n",
      "The average time to run all methods was 6.55 std_dev 1.61\n",
      "Method 1 used OPENCL_2 the most (31.0%)\n",
      "Method 2 used CYTHON_THREADED the most (25.0%)\n",
      "Method 3 used CYTHON_THREADED the most (14.0%)\n"
     ]
    }
   ],
   "source": [
    "avg_1 = dict(zip(ALL_GEARS,[1,1.5,3,3,3,3,3,4,10]))\n",
    "std_1 = dict(zip(ALL_GEARS,[0.1,0.15,0.3,0.3,0.3,0.3,0.3,0.4,1]))\n",
    "met_1 = Method('1',avg_1,std_1,exp=True)\n",
    "\n",
    "avg_2 = dict(zip(ALL_GEARS,[2,2,1,1,1,1,1,3,10]))\n",
    "std_2 = dict(zip(ALL_GEARS,[.2,.2,.1,.1,.1,.1,.1,.3,1]))\n",
    "met_2 = Method('2',avg_2,std_2,exp=True)\n",
    "\n",
    "avg_3 = dict(zip(ALL_GEARS,[3,3,3,3,3,3,3,3,3]))\n",
    "std_3 = dict(zip(ALL_GEARS,[0.3,0.3,0.3,0.3,0.3,0.3,0.3,0.3,0.3]))\n",
    "met_3 = Method('3',avg_3,std_3,exp=True)\n",
    "\n",
    "sim = Simulator(met_1,met_2,met_3)\n",
    "sim.benchmark_all_methods(1)\n",
    "sim.print_methods()\n",
    "\n",
    "sim.run_anomalous_simulations(iter_n=100, ano_start=10, ano_end=60, affected_gear=ALL_GEARS[0], new_avg=4, new_std=0.4)\n",
    "sim.print_methods()\n",
    "sim.print_stats()"
   ]
  },
  {
   "attachments": {},
   "cell_type": "markdown",
   "metadata": {},
   "source": [
    "#### Case study #4 : Initialization of the agent / engine with a LATE and LONG anomaly on one device (GPU)\n",
    "We start with information of one benchmark (aka all implementations were run once)\n",
    "\n",
    "We run the workflow 100 times. \n",
    "\n",
    "During 30-80 runs there is an anomaly with one GPU which affects all opencl implementation that use that GPU"
   ]
  },
  {
   "attachments": {},
   "cell_type": "markdown",
   "metadata": {},
   "source": [
    "WITH NORMAL AVERAGE"
   ]
  },
  {
   "cell_type": "code",
   "execution_count": 10,
   "metadata": {},
   "outputs": [
    {
     "name": "stdout",
     "output_type": "stream",
     "text": [
      "['1', '2', '3'] \n",
      "OPENCL_1 |0.5352| |0.0570| |0.1062| \n",
      "OPENCL_2 |0.1515| |0.0665| |0.0797| \n",
      "CYTHON_THREADED |0.0443| |0.1583| |0.1289| \n",
      "CYTHON_THREADED_DYNAMIC |0.0646| |0.1998| |0.1027| \n",
      "CYTHON_THREADED_GUIDED |0.0623| |0.1339| |0.1052| \n",
      "CYTHON_THREADED_STATIC |0.0523| |0.1785| |0.1061| \n",
      "CYTHON_UNTHREADED |0.0565| |0.1818| |0.1303| \n",
      "NUMBA |0.0288| |0.0216| |0.0949| \n",
      "PYTHON |0.0045| |0.0026| |0.1461| \n",
      "\n",
      "['1', '2', '3'] \n",
      "OPENCL_1 |0.1897| |0.0295| |0.0730| \n",
      "OPENCL_2 |0.3308| |0.0561| |0.1104| \n",
      "CYTHON_THREADED |0.0802| |0.1752| |0.1224| \n",
      "CYTHON_THREADED_DYNAMIC |0.0881| |0.1867| |0.1118| \n",
      "CYTHON_THREADED_GUIDED |0.0868| |0.1729| |0.1292| \n",
      "CYTHON_THREADED_STATIC |0.0808| |0.1785| |0.1117| \n",
      "CYTHON_UNTHREADED |0.0834| |0.1757| |0.1114| \n",
      "NUMBA |0.0520| |0.0230| |0.1129| \n",
      "PYTHON |0.0082| |0.0025| |0.1173| \n",
      "\n",
      "Ran the entire workflow a total of 100 times\n",
      "The average time to run all methods was 6.34 std_dev 1.19\n",
      "Method 1 used OPENCL_2 the most (38.0%)\n",
      "Method 2 used CYTHON_THREADED_GUIDED the most (23.0%)\n",
      "Method 3 used NUMBA the most (15.0%)\n"
     ]
    }
   ],
   "source": [
    "avg_1 = dict(zip(ALL_GEARS,[1,1.5,3,3,3,3,3,4,10]))\n",
    "std_1 = dict(zip(ALL_GEARS,[0.1,0.15,0.3,0.3,0.3,0.3,0.3,0.4,1]))\n",
    "met_1 = Method('1',avg_1,std_1)\n",
    "\n",
    "avg_2 = dict(zip(ALL_GEARS,[2,2,1,1,1,1,1,3,10]))\n",
    "std_2 = dict(zip(ALL_GEARS,[.2,.2,.1,.1,.1,.1,.1,.3,1]))\n",
    "met_2 = Method('2',avg_2,std_2)\n",
    "\n",
    "avg_3 = dict(zip(ALL_GEARS,[3,3,3,3,3,3,3,3,3]))\n",
    "std_3 = dict(zip(ALL_GEARS,[0.3,0.3,0.3,0.3,0.3,0.3,0.3,0.3,0.3]))\n",
    "met_3 = Method('3',avg_3,std_3)\n",
    "\n",
    "sim = Simulator(met_1,met_2,met_3)\n",
    "sim.benchmark_all_methods(1)\n",
    "sim.print_methods()\n",
    "\n",
    "sim.run_anomalous_simulations(iter_n=100, ano_start=30, ano_end=80, affected_gear=ALL_GEARS[0], new_avg=4, new_std=0.4)\n",
    "sim.print_methods()\n",
    "sim.print_stats()"
   ]
  },
  {
   "attachments": {},
   "cell_type": "markdown",
   "metadata": {},
   "source": [
    "WITH EXPONENTIALLY WEIGHTED AVERAGE"
   ]
  },
  {
   "cell_type": "code",
   "execution_count": 11,
   "metadata": {},
   "outputs": [
    {
     "name": "stdout",
     "output_type": "stream",
     "text": [
      "['1', '2', '3'] \n",
      "OPENCL_1 |0.4977| |0.0554| |0.1014| \n",
      "OPENCL_2 |0.2064| |0.0407| |0.0886| \n",
      "CYTHON_THREADED |0.0692| |0.1995| |0.1170| \n",
      "CYTHON_THREADED_DYNAMIC |0.0437| |0.1624| |0.0992| \n",
      "CYTHON_THREADED_GUIDED |0.0457| |0.1709| |0.0821| \n",
      "CYTHON_THREADED_STATIC |0.0616| |0.1950| |0.0955| \n",
      "CYTHON_UNTHREADED |0.0506| |0.1537| |0.1313| \n",
      "NUMBA |0.0202| |0.0208| |0.0939| \n",
      "PYTHON |0.0049| |0.0017| |0.1909| \n",
      "\n",
      "['1', '2', '3'] \n",
      "OPENCL_1 |0.0800| |0.0111| |0.1073| \n",
      "OPENCL_2 |0.3644| |0.0471| |0.1256| \n",
      "CYTHON_THREADED |0.1048| |0.1871| |0.1058| \n",
      "CYTHON_THREADED_DYNAMIC |0.0941| |0.1847| |0.0990| \n",
      "CYTHON_THREADED_GUIDED |0.0984| |0.1283| |0.1466| \n",
      "CYTHON_THREADED_STATIC |0.0811| |0.2146| |0.1155| \n",
      "CYTHON_UNTHREADED |0.1106| |0.2029| |0.1030| \n",
      "NUMBA |0.0539| |0.0225| |0.1072| \n",
      "PYTHON |0.0127| |0.0017| |0.0899| \n",
      "\n",
      "Ran the entire workflow a total of 100 times\n",
      "The average time to run all methods was 6.55 std_dev 1.35\n",
      "Method 1 used OPENCL_2 the most (41.0%)\n",
      "Method 2 used CYTHON_THREADED_STATIC the most (21.0%)\n",
      "Method 3 used CYTHON_THREADED the most (14.0%)\n"
     ]
    }
   ],
   "source": [
    "avg_1 = dict(zip(ALL_GEARS,[1,1.5,3,3,3,3,3,4,10]))\n",
    "std_1 = dict(zip(ALL_GEARS,[0.1,0.15,0.3,0.3,0.3,0.3,0.3,0.4,1]))\n",
    "met_1 = Method('1',avg_1,std_1,exp=True)\n",
    "\n",
    "avg_2 = dict(zip(ALL_GEARS,[2,2,1,1,1,1,1,3,10]))\n",
    "std_2 = dict(zip(ALL_GEARS,[.2,.2,.1,.1,.1,.1,.1,.3,1]))\n",
    "met_2 = Method('2',avg_2,std_2,exp=True)\n",
    "\n",
    "avg_3 = dict(zip(ALL_GEARS,[3,3,3,3,3,3,3,3,3]))\n",
    "std_3 = dict(zip(ALL_GEARS,[0.3,0.3,0.3,0.3,0.3,0.3,0.3,0.3,0.3]))\n",
    "met_3 = Method('3',avg_3,std_3,exp=True)\n",
    "\n",
    "\n",
    "sim = Simulator(met_1,met_2,met_3)\n",
    "sim.benchmark_all_methods(1)\n",
    "sim.print_methods()\n",
    "\n",
    "sim.run_anomalous_simulations(iter_n=100, ano_start=30, ano_end=80, affected_gear=ALL_GEARS[0], new_avg=4, new_std=0.4)\n",
    "sim.print_methods()\n",
    "sim.print_stats()"
   ]
  },
  {
   "attachments": {},
   "cell_type": "markdown",
   "metadata": {},
   "source": [
    "#### Case study #5 : No liquid engine! \n",
    "We start with information of one benchmark (aka all implementations were run once)\n",
    "We run the workflow 100 times. \n",
    "\n",
    "##### No anomaly\n",
    "\n",
    "##### Early short:\n",
    "During 10-20 runs there is an anomaly with one GPU which affects all opencl implementation that use that GPU\n",
    "\n",
    "##### Late long:\n",
    "During 30-40 runs there is an anomaly with one GPU which affects all opencl implementation that use that GPU\n",
    "\n",
    "##### Early long:\n",
    "During 10-60 runs there is an anomaly with one GPU which affects all opencl implementation that use that GPU\n",
    "\n",
    "##### Late short:\n",
    "During 30-80 runs there is an anomaly with one GPU which affects all opencl implementation that use that GPU"
   ]
  },
  {
   "cell_type": "code",
   "execution_count": 12,
   "metadata": {},
   "outputs": [
    {
     "name": "stdout",
     "output_type": "stream",
     "text": [
      "AFTER ONE BENCHMARK\n",
      "['1', '2', '3'] \n",
      "OPENCL_1 |0.5942| |0.0667| |0.1321| \n",
      "OPENCL_2 |0.1629| |0.0480| |0.1247| \n",
      "CYTHON_THREADED |0.0411| |0.1766| |0.1241| \n",
      "CYTHON_THREADED_DYNAMIC |0.0564| |0.1753| |0.0945| \n",
      "CYTHON_THREADED_GUIDED |0.0376| |0.1411| |0.1182| \n",
      "CYTHON_THREADED_STATIC |0.0416| |0.1651| |0.0700| \n",
      "CYTHON_UNTHREADED |0.0421| |0.1999| |0.1004| \n",
      "NUMBA |0.0198| |0.0255| |0.1125| \n",
      "PYTHON |0.0043| |0.0019| |0.1234| \n",
      "\n",
      "AFTER SIMULATING\n",
      "['1', '2', '3'] \n",
      "OPENCL_1 |0.4903| |0.0486| |0.0994| \n",
      "OPENCL_2 |0.2046| |0.0489| |0.1295| \n",
      "CYTHON_THREADED |0.0516| |0.1801| |0.1288| \n",
      "CYTHON_THREADED_DYNAMIC |0.0709| |0.1788| |0.0981| \n",
      "CYTHON_THREADED_GUIDED |0.0473| |0.1438| |0.1226| \n",
      "CYTHON_THREADED_STATIC |0.0522| |0.1683| |0.0726| \n",
      "CYTHON_UNTHREADED |0.0529| |0.2038| |0.1042| \n",
      "NUMBA |0.0248| |0.0260| |0.1168| \n",
      "PYTHON |0.0054| |0.0019| |0.1281| \n",
      "\n",
      "Ran the entire workflow a total of 1000 times\n",
      "The average time to run all methods was 6.01 std_dev 0.38\n",
      "Method 1 used OPENCL_1 the most (100.0%)\n",
      "Method 2 used OPENCL_1 the most (100.0%)\n",
      "Method 3 used OPENCL_1 the most (100.0%)\n"
     ]
    }
   ],
   "source": [
    "avg_1 = dict(zip(ALL_GEARS,[1,1.5,3,3,3,3,3,4,10]))\n",
    "std_1 = dict(zip(ALL_GEARS,[0.1,0.15,0.3,0.3,0.3,0.3,0.3,0.4,1]))\n",
    "met_1 = Method('1',avg_1,std_1)\n",
    "\n",
    "avg_2 = dict(zip(ALL_GEARS,[2,2,1,1,1,1,1,3,10]))\n",
    "std_2 = dict(zip(ALL_GEARS,[.2,.2,.1,.1,.1,.1,.1,.3,1]))\n",
    "met_2 = Method('2',avg_2,std_2)\n",
    "\n",
    "avg_3 = dict(zip(ALL_GEARS,[3,3,3,3,3,3,3,3,3]))\n",
    "std_3 = dict(zip(ALL_GEARS,[0.3,0.3,0.3,0.3,0.3,0.3,0.3,0.3,0.3]))\n",
    "met_3 = Method('3',avg_3,std_3)\n",
    "\n",
    "sim = Simulator(met_1,met_2,met_3)\n",
    "sim.benchmark_all_methods(1)\n",
    "print(\"AFTER ONE BENCHMARK\")\n",
    "sim.print_methods()\n",
    "\n",
    "print(\"AFTER SIMULATING\")\n",
    "sim.run_simulations(iter_n=1000, solid=True)\n",
    "sim.print_methods()\n",
    "sim.print_stats()"
   ]
  },
  {
   "cell_type": "code",
   "execution_count": 13,
   "metadata": {},
   "outputs": [
    {
     "name": "stdout",
     "output_type": "stream",
     "text": [
      "['1', '2', '3'] \n",
      "OPENCL_1 |0.4511| |0.0450| |0.1185| \n",
      "OPENCL_2 |0.2400| |0.0320| |0.1331| \n",
      "CYTHON_THREADED |0.0496| |0.1611| |0.0980| \n",
      "CYTHON_THREADED_DYNAMIC |0.0628| |0.2195| |0.0932| \n",
      "CYTHON_THREADED_GUIDED |0.0602| |0.1538| |0.1631| \n",
      "CYTHON_THREADED_STATIC |0.0494| |0.1781| |0.0821| \n",
      "CYTHON_UNTHREADED |0.0493| |0.1831| |0.1100| \n",
      "NUMBA |0.0324| |0.0258| |0.0891| \n",
      "PYTHON |0.0053| |0.0016| |0.1130| \n",
      "\n",
      "['1', '2', '3'] \n",
      "OPENCL_1 |0.3520| |0.0398| |0.0986| \n",
      "OPENCL_2 |0.2834| |0.0322| |0.1361| \n",
      "CYTHON_THREADED |0.0585| |0.1620| |0.1002| \n",
      "CYTHON_THREADED_DYNAMIC |0.0741| |0.2207| |0.0953| \n",
      "CYTHON_THREADED_GUIDED |0.0711| |0.1547| |0.1667| \n",
      "CYTHON_THREADED_STATIC |0.0583| |0.1791| |0.0839| \n",
      "CYTHON_UNTHREADED |0.0581| |0.1842| |0.1125| \n",
      "NUMBA |0.0383| |0.0259| |0.0911| \n",
      "PYTHON |0.0062| |0.0016| |0.1156| \n",
      "\n",
      "Ran the entire workflow a total of 100 times\n",
      "The average time to run all methods was 6.45 std_dev 1.73\n",
      "Method 1 used OPENCL_1 the most (100.0%)\n",
      "Method 2 used OPENCL_1 the most (100.0%)\n",
      "Method 3 used OPENCL_1 the most (100.0%)\n"
     ]
    }
   ],
   "source": [
    "avg_1 = dict(zip(ALL_GEARS,[1,1.5,3,3,3,3,3,4,10]))\n",
    "std_1 = dict(zip(ALL_GEARS,[0.1,0.15,0.3,0.3,0.3,0.3,0.3,0.4,1]))\n",
    "met_1 = Method('1',avg_1,std_1)\n",
    "\n",
    "avg_2 = dict(zip(ALL_GEARS,[2,2,1,1,1,1,1,3,10]))\n",
    "std_2 = dict(zip(ALL_GEARS,[.2,.2,.1,.1,.1,.1,.1,.3,1]))\n",
    "met_2 = Method('2',avg_2,std_2)\n",
    "\n",
    "avg_3 = dict(zip(ALL_GEARS,[3,3,3,3,3,3,3,3,3]))\n",
    "std_3 = dict(zip(ALL_GEARS,[0.3,0.3,0.3,0.3,0.3,0.3,0.3,0.3,0.3]))\n",
    "met_3 = Method('3',avg_3,std_3)\n",
    "\n",
    "sim = Simulator(met_1,met_2,met_3)\n",
    "sim.benchmark_all_methods(1)\n",
    "sim.print_methods()\n",
    "\n",
    "sim.run_anomalous_simulations(iter_n=100, ano_start=10, ano_end=20, affected_gear=ALL_GEARS[0], new_avg=4, new_std=0.4, solid=True)\n",
    "sim.print_methods()\n",
    "sim.print_stats()"
   ]
  },
  {
   "cell_type": "code",
   "execution_count": 14,
   "metadata": {},
   "outputs": [
    {
     "name": "stdout",
     "output_type": "stream",
     "text": [
      "['1', '2', '3'] \n",
      "OPENCL_1 |0.3966| |0.0450| |0.1284| \n",
      "OPENCL_2 |0.2253| |0.0414| |0.0899| \n",
      "CYTHON_THREADED |0.0458| |0.2561| |0.1548| \n",
      "CYTHON_THREADED_DYNAMIC |0.0792| |0.1585| |0.0951| \n",
      "CYTHON_THREADED_GUIDED |0.0589| |0.1547| |0.1177| \n",
      "CYTHON_THREADED_STATIC |0.0725| |0.1627| |0.1338| \n",
      "CYTHON_UNTHREADED |0.0724| |0.1540| |0.0926| \n",
      "NUMBA |0.0422| |0.0262| |0.1145| \n",
      "PYTHON |0.0071| |0.0014| |0.0732| \n",
      "\n",
      "['1', '2', '3'] \n",
      "OPENCL_1 |0.3817| |0.0381| |0.0983| \n",
      "OPENCL_2 |0.2308| |0.0417| |0.0930| \n",
      "CYTHON_THREADED |0.0469| |0.2580| |0.1602| \n",
      "CYTHON_THREADED_DYNAMIC |0.0812| |0.1597| |0.0983| \n",
      "CYTHON_THREADED_GUIDED |0.0603| |0.1558| |0.1218| \n",
      "CYTHON_THREADED_STATIC |0.0743| |0.1638| |0.1384| \n",
      "CYTHON_UNTHREADED |0.0742| |0.1551| |0.0958| \n",
      "NUMBA |0.0432| |0.0264| |0.1185| \n",
      "PYTHON |0.0072| |0.0014| |0.0757| \n",
      "\n",
      "Ran the entire workflow a total of 100 times\n",
      "The average time to run all methods was 6.54 std_dev 1.76\n",
      "Method 1 used OPENCL_1 the most (100.0%)\n",
      "Method 2 used OPENCL_1 the most (100.0%)\n",
      "Method 3 used OPENCL_1 the most (100.0%)\n"
     ]
    }
   ],
   "source": [
    "avg_1 = dict(zip(ALL_GEARS,[1,1.5,3,3,3,3,3,4,10]))\n",
    "std_1 = dict(zip(ALL_GEARS,[0.1,0.15,0.3,0.3,0.3,0.3,0.3,0.4,1]))\n",
    "met_1 = Method('1',avg_1,std_1)\n",
    "\n",
    "avg_2 = dict(zip(ALL_GEARS,[2,2,1,1,1,1,1,3,10]))\n",
    "std_2 = dict(zip(ALL_GEARS,[.2,.2,.1,.1,.1,.1,.1,.3,1]))\n",
    "met_2 = Method('2',avg_2,std_2)\n",
    "\n",
    "avg_3 = dict(zip(ALL_GEARS,[3,3,3,3,3,3,3,3,3]))\n",
    "std_3 = dict(zip(ALL_GEARS,[0.3,0.3,0.3,0.3,0.3,0.3,0.3,0.3,0.3]))\n",
    "met_3 = Method('3',avg_3,std_3)\n",
    "\n",
    "sim = Simulator(met_1,met_2,met_3)\n",
    "sim.benchmark_all_methods(1)\n",
    "sim.print_methods()\n",
    "\n",
    "sim.run_anomalous_simulations(iter_n=100, ano_start=30, ano_end=40, affected_gear=ALL_GEARS[0], new_avg=4, new_std=0.4, solid=True)\n",
    "sim.print_methods()\n",
    "sim.print_stats()"
   ]
  },
  {
   "cell_type": "code",
   "execution_count": 15,
   "metadata": {},
   "outputs": [
    {
     "name": "stdout",
     "output_type": "stream",
     "text": [
      "['1', '2', '3'] \n",
      "OPENCL_1 |0.4538| |0.0202| |0.1422| \n",
      "OPENCL_2 |0.2261| |0.0610| |0.1186| \n",
      "CYTHON_THREADED |0.0547| |0.1292| |0.0805| \n",
      "CYTHON_THREADED_DYNAMIC |0.0543| |0.1834| |0.1281| \n",
      "CYTHON_THREADED_GUIDED |0.0639| |0.1401| |0.1164| \n",
      "CYTHON_THREADED_STATIC |0.0497| |0.1908| |0.0976| \n",
      "CYTHON_UNTHREADED |0.0681| |0.2550| |0.0885| \n",
      "NUMBA |0.0241| |0.0194| |0.0988| \n",
      "PYTHON |0.0052| |0.0009| |0.1292| \n",
      "\n",
      "['1', '2', '3'] \n",
      "OPENCL_1 |0.1285| |0.0169| |0.0805| \n",
      "OPENCL_2 |0.3607| |0.0612| |0.1271| \n",
      "CYTHON_THREADED |0.0873| |0.1296| |0.0863| \n",
      "CYTHON_THREADED_DYNAMIC |0.0867| |0.1840| |0.1374| \n",
      "CYTHON_THREADED_GUIDED |0.1020| |0.1406| |0.1247| \n",
      "CYTHON_THREADED_STATIC |0.0794| |0.1914| |0.1047| \n",
      "CYTHON_UNTHREADED |0.1086| |0.2558| |0.0949| \n",
      "NUMBA |0.0385| |0.0195| |0.1059| \n",
      "PYTHON |0.0084| |0.0009| |0.1385| \n",
      "\n",
      "Ran the entire workflow a total of 100 times\n",
      "The average time to run all methods was 8.90 std_dev 3.06\n",
      "Method 1 used OPENCL_1 the most (100.0%)\n",
      "Method 2 used OPENCL_1 the most (100.0%)\n",
      "Method 3 used OPENCL_1 the most (100.0%)\n"
     ]
    }
   ],
   "source": [
    "avg_1 = dict(zip(ALL_GEARS,[1,1.5,3,3,3,3,3,4,10]))\n",
    "std_1 = dict(zip(ALL_GEARS,[0.1,0.15,0.3,0.3,0.3,0.3,0.3,0.4,1]))\n",
    "met_1 = Method('1',avg_1,std_1)\n",
    "\n",
    "avg_2 = dict(zip(ALL_GEARS,[2,2,1,1,1,1,1,3,10]))\n",
    "std_2 = dict(zip(ALL_GEARS,[.2,.2,.1,.1,.1,.1,.1,.3,1]))\n",
    "met_2 = Method('2',avg_2,std_2)\n",
    "\n",
    "avg_3 = dict(zip(ALL_GEARS,[3,3,3,3,3,3,3,3,3]))\n",
    "std_3 = dict(zip(ALL_GEARS,[0.3,0.3,0.3,0.3,0.3,0.3,0.3,0.3,0.3]))\n",
    "met_3 = Method('3',avg_3,std_3)\n",
    "\n",
    "sim = Simulator(met_1,met_2,met_3)\n",
    "sim.benchmark_all_methods(1)\n",
    "sim.print_methods()\n",
    "\n",
    "sim.run_anomalous_simulations(iter_n=100, ano_start=10, ano_end=60, affected_gear=ALL_GEARS[0], new_avg=4, new_std=0.4, solid=True)\n",
    "sim.print_methods()\n",
    "sim.print_stats()"
   ]
  },
  {
   "cell_type": "code",
   "execution_count": 16,
   "metadata": {},
   "outputs": [
    {
     "name": "stdout",
     "output_type": "stream",
     "text": [
      "['1', '2', '3'] \n",
      "OPENCL_1 |0.4819| |0.0638| |0.0681| \n",
      "OPENCL_2 |0.2398| |0.0402| |0.1028| \n",
      "CYTHON_THREADED |0.0340| |0.1510| |0.1046| \n",
      "CYTHON_THREADED_DYNAMIC |0.0532| |0.1999| |0.1059| \n",
      "CYTHON_THREADED_GUIDED |0.0457| |0.1458| |0.1294| \n",
      "CYTHON_THREADED_STATIC |0.0798| |0.1590| |0.0846| \n",
      "CYTHON_UNTHREADED |0.0417| |0.2142| |0.1302| \n",
      "NUMBA |0.0188| |0.0237| |0.1522| \n",
      "PYTHON |0.0051| |0.0024| |0.1222| \n",
      "\n",
      "['1', '2', '3'] \n",
      "OPENCL_1 |0.1167| |0.0242| |0.0682| \n",
      "OPENCL_2 |0.4088| |0.0419| |0.1028| \n",
      "CYTHON_THREADED |0.0579| |0.1574| |0.1046| \n",
      "CYTHON_THREADED_DYNAMIC |0.0907| |0.2084| |0.1059| \n",
      "CYTHON_THREADED_GUIDED |0.0780| |0.1519| |0.1294| \n",
      "CYTHON_THREADED_STATIC |0.1361| |0.1657| |0.0846| \n",
      "CYTHON_UNTHREADED |0.0711| |0.2232| |0.1301| \n",
      "NUMBA |0.0321| |0.0247| |0.1522| \n",
      "PYTHON |0.0087| |0.0025| |0.1222| \n",
      "\n",
      "Ran the entire workflow a total of 100 times\n",
      "The average time to run all methods was 8.95 std_dev 3.11\n",
      "Method 1 used OPENCL_1 the most (100.0%)\n",
      "Method 2 used OPENCL_1 the most (100.0%)\n",
      "Method 3 used OPENCL_1 the most (100.0%)\n"
     ]
    }
   ],
   "source": [
    "avg_1 = dict(zip(ALL_GEARS,[1,1.5,3,3,3,3,3,4,10]))\n",
    "std_1 = dict(zip(ALL_GEARS,[0.1,0.15,0.3,0.3,0.3,0.3,0.3,0.4,1]))\n",
    "met_1 = Method('1',avg_1,std_1)\n",
    "\n",
    "avg_2 = dict(zip(ALL_GEARS,[2,2,1,1,1,1,1,3,10]))\n",
    "std_2 = dict(zip(ALL_GEARS,[.2,.2,.1,.1,.1,.1,.1,.3,1]))\n",
    "met_2 = Method('2',avg_2,std_2)\n",
    "\n",
    "avg_3 = dict(zip(ALL_GEARS,[3,3,3,3,3,3,3,3,3]))\n",
    "std_3 = dict(zip(ALL_GEARS,[0.3,0.3,0.3,0.3,0.3,0.3,0.3,0.3,0.3]))\n",
    "met_3 = Method('3',avg_3,std_3)\n",
    "\n",
    "sim = Simulator(met_1,met_2,met_3)\n",
    "sim.benchmark_all_methods(1)\n",
    "sim.print_methods()\n",
    "\n",
    "sim.run_anomalous_simulations(iter_n=100, ano_start=30, ano_end=80, affected_gear=ALL_GEARS[0], new_avg=4, new_std=0.4, solid=True)\n",
    "sim.print_methods()\n",
    "sim.print_stats()"
   ]
  }
 ],
 "metadata": {
  "kernelspec": {
   "display_name": "nanopyx",
   "language": "python",
   "name": "python3"
  },
  "language_info": {
   "codemirror_mode": {
    "name": "ipython",
    "version": 3
   },
   "file_extension": ".py",
   "mimetype": "text/x-python",
   "name": "python",
   "nbconvert_exporter": "python",
   "pygments_lexer": "ipython3",
   "version": "3.10.9"
  },
  "orig_nbformat": 4
 },
 "nbformat": 4,
 "nbformat_minor": 2
}
