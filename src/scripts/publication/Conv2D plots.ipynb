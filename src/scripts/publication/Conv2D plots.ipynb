{
 "cells": [
  {
   "cell_type": "code",
   "execution_count": null,
   "metadata": {},
   "outputs": [],
   "source": [
    "import numpy as np\n",
    "import tifffile as tiff\n",
    "from nanopyx.core.transform import Convolution2D as Conv2D \n",
    "from matplotlib import pyplot as plt"
   ]
  },
  {
   "cell_type": "code",
   "execution_count": null,
   "metadata": {},
   "outputs": [],
   "source": [
    "task_run_times_unthreaded = []\n",
    "task_run_times_threaded = []\n",
    "task_run_times_threaded_static = []\n",
    "task_run_times_threaded_guided = []\n",
    "task_run_times_threaded_dynamic = []\n",
    "task_run_times_opencl = []\n",
    "\n",
    "task_run_times_numba = []\n",
    "task_run_times_cupy = []\n",
    "task_run_times_transonic = []\n",
    "task_run_times_dask = []"
   ]
  },
  {
   "cell_type": "code",
   "execution_count": null,
   "metadata": {},
   "outputs": [],
   "source": [
    "conv2d = Conv2D()\n",
    "dim_sizes  = [(dim, dim) for dim in [100, 500, 1000, 2500, 5000, 7500, 10000, 15000, 20000]]\n",
    "kernel_sizes = [(dim, dim) for dim in range(1, 25, 4)]"
   ]
  },
  {
   "cell_type": "code",
   "execution_count": null,
   "metadata": {},
   "outputs": [],
   "source": [
    "def conv_func(conv, image, knl, run_type):\n",
    "\n",
    "    tt = []\n",
    "    for _ in range(3):\n",
    "        conv.run(image, knl, run_type=run_type)\n",
    "        tt.append(conv._last_time)\n",
    "    \n",
    "    return tt"
   ]
  },
  {
   "cell_type": "code",
   "execution_count": null,
   "metadata": {},
   "outputs": [],
   "source": [
    "for dim in dim_sizes:\n",
    "    img = np.random.random(dim).astype(np.float32)\n",
    "    for ks in kernel_sizes:\n",
    "        kernel = np.ones(ks).astype(np.float32)\n",
    "\n",
    "        _last_time = conv_func(conv2d, img, kernel,run_type=\"Threaded\")\n",
    "        task_run_times_threaded.append((dim[0], ks[0], _last_time))\n",
    "\n",
    "        _last_time = conv_func(conv2d, img,kernel,run_type=\"Threaded_static\")\n",
    "        task_run_times_threaded_static.append((dim[0], ks[0], _last_time))\n",
    "\n",
    "        _last_time = conv_func(conv2d, img,kernel,run_type=\"Threaded_guided\")\n",
    "        task_run_times_threaded_guided.append((dim[0], ks[0], _last_time))\n",
    "\n",
    "        _last_time = conv_func(conv2d, img,kernel,run_type=\"Threaded_dynamic\")\n",
    "        task_run_times_threaded_dynamic.append((dim[0], ks[0], _last_time))\n",
    "\n",
    "        _last_time = conv_func(conv2d, img,kernel,run_type=\"Unthreaded\")\n",
    "        task_run_times_unthreaded.append((dim[0], ks[0], _last_time))\n",
    "\n",
    "        _last_time = conv_func(conv2d, img,kernel,run_type=\"OpenCL_NVIDIA GeForce RTX 4090\") # change to appropriate device name (OpenCL_Apple M1 Pro, OpenCL_NVIDIA GeForce RTX 4090)\n",
    "        task_run_times_opencl.append((dim[0], ks[0], _last_time))\n",
    "        \n",
    "        _last_time = conv_func(conv2d, img,kernel,run_type=\"Numba\")\n",
    "        task_run_times_numba.append((dim[0], ks[0], _last_time))\n",
    "\n",
    "        _last_time = conv_func(conv2d, img,kernel,run_type=\"Cuda\")\n",
    "        task_run_times_cupy.append((dim[0], ks[0], _last_time))\n",
    "\n",
    "        _last_time = conv_func(conv2d, img,kernel,run_type=\"Transonic\")\n",
    "        task_run_times_transonic.append((dim[0], ks[0], _last_time))\n",
    "\n",
    "        _last_time = conv_func(conv2d, img,kernel,run_type=\"Dask\")\n",
    "        task_run_times_dask.append((dim[0], ks[0], _last_time))"
   ]
  },
  {
   "cell_type": "code",
   "execution_count": null,
   "metadata": {},
   "outputs": [],
   "source": [
    "# Run this cell to store benchmark values for future usage\n",
    "\n",
    "task_run_times_unthreaded = np.array(task_run_times_unthreaded,dtype='object')\n",
    "task_run_times_threaded = np.array(task_run_times_threaded,dtype='object')\n",
    "task_run_times_threaded_static = np.array(task_run_times_threaded_static,dtype='object')\n",
    "task_run_times_threaded_guided = np.array(task_run_times_threaded_guided,dtype='object')\n",
    "task_run_times_threaded_dynamic = np.array(task_run_times_threaded_dynamic,dtype='object')\n",
    "task_run_times_opencl = np.array(task_run_times_opencl,dtype='object')\n",
    "\n",
    "task_run_times_numba = np.array(task_run_times_numba,dtype='object')\n",
    "task_run_times_cupy = np.array(task_run_times_cupy,dtype='object')\n",
    "task_run_times_transonic = np.array(task_run_times_transonic,dtype='object')\n",
    "task_run_times_dask = np.array(task_run_times_dask,dtype='object')\n",
    "\n",
    "\n",
    "np.save(\"task_run_times_opencl.npy\", task_run_times_opencl)\n",
    "np.save(\"task_run_times_unthreaded.npy\", task_run_times_unthreaded)\n",
    "np.save(\"task_run_times_threaded.npy\", task_run_times_threaded)\n",
    "np.save(\"task_run_times_threaded_static.npy\", task_run_times_threaded_static)\n",
    "np.save(\"task_run_times_threaded_guided.npy\", task_run_times_threaded_guided)\n",
    "np.save(\"task_run_times_threaded_dynamic.npy\", task_run_times_threaded_dynamic)\n",
    "\n",
    "np.save(\"task_run_times_numba.npy\", task_run_times_numba)\n",
    "np.save(\"task_run_times_cupy.npy\", task_run_times_cupy)\n",
    "np.save(\"task_run_times_transonic.npy\", task_run_times_transonic)\n",
    "np.save(\"task_run_times_dask.npy\", task_run_times_dask)"
   ]
  },
  {
   "cell_type": "code",
   "execution_count": null,
   "metadata": {},
   "outputs": [],
   "source": [
    "# Run this cell if you're importing previous benchmarks\n",
    "\n",
    "import os\n",
    "import numpy as np\n",
    "\n",
    "fld = \"Workstation\"\n",
    "task_run_times_opencl = np.load(\"task_run_times_opencl.npy\", allow_pickle=True)\n",
    "task_run_times_unthreaded = np.load(\"task_run_times_unthreaded.npy\", allow_pickle=True)\n",
    "task_run_times_threaded = np.load(\"task_run_times_threaded.npy\", allow_pickle=True)\n",
    "task_run_times_threaded_static = np.load(\"task_run_times_threaded_static.npy\", allow_pickle=True)\n",
    "task_run_times_threaded_guided = np.load(\"task_run_times_threaded_guided.npy\", allow_pickle=True)\n",
    "task_run_times_threaded_dynamic = np.load(\"task_run_times_threaded_dynamic.npy\", allow_pickle=True)"
   ]
  },
  {
   "cell_type": "code",
   "execution_count": null,
   "metadata": {},
   "outputs": [],
   "source": [
    "import seaborn as sns\n",
    "from matplotlib import pyplot as plt\n",
    "from matplotlib.colors import LogNorm\n",
    "\n",
    "sns.color_palette(\"Spectral\", as_cmap=True)\n",
    "\n",
    "ratio_threaded_opencl = np.array([np.average(i) for i in task_run_times_opencl[:,2]]) / np.array([np.average(i) for i in task_run_times_threaded[:,2]])\n",
    "ratio_threaded_opencl = np.array(ratio_threaded_opencl).reshape(9, 6)\n",
    "ax = sns.heatmap(ratio_threaded_opencl, annot=True, cmap=\"Spectral\",\n",
    "                 xticklabels=[k[0] for k in kernel_sizes],\n",
    "                 yticklabels=[4*i[0]**2 / 1000000 for i in dim_sizes],\n",
    "                 norm=LogNorm(),\n",
    "                 fmt=\".1f\")\n",
    "plt.title(\"Ratio between OpenCL and Threaded CPU run times\")\n",
    "plt.ylabel(\"Input image size (MB)\")\n",
    "plt.xlabel(\"Kernel size (Size x Size)\")\n",
    "plt.savefig(\"ratio_threaded_opencl_\" + fld + \".pdf\", dpi=300)\n",
    "plt.show()"
   ]
  },
  {
   "cell_type": "code",
   "execution_count": null,
   "metadata": {},
   "outputs": [],
   "source": [
    "# plot per data shape\n",
    "index = 5\n",
    "step = 6\n",
    "image_sizes = [4*i[0]**2 / 1000000 for i in dim_sizes]\n",
    "plt.figure(figsize=(8, 5))\n",
    "plt.plot(image_sizes, [np.average(i) for i in task_run_times_unthreaded[index::step, 2]], 'orange', label='Cython unthreaded')\n",
    "plt.plot(image_sizes, [np.average(i) for i in task_run_times_threaded[index::step, 2]], 'blue', label='Cython threaded')\n",
    "plt.plot(image_sizes, [np.average(i) for i in task_run_times_threaded_static[index::step, 2]], 'lightpink', label='Cython threaded static')\n",
    "plt.plot(image_sizes, [np.average(i) for i in task_run_times_threaded_guided[index::step, 2]], 'green', label='Cython threaded guided')\n",
    "plt.plot(image_sizes, [np.average(i) for i in task_run_times_threaded_dynamic[index::step, 2]], 'black', label='Cython threaded dynamic')\n",
    "plt.plot(image_sizes, [np.average(i) for i in task_run_times_opencl[index::step, 2]], 'magenta', label='pyOpenCL')\n",
    "\n",
    "plt.plot(image_sizes, [np.average(i) for i in task_run_times_numba[index::step, 2]], label='Numba')\n",
    "plt.plot(image_sizes, [np.average(i) for i in task_run_times_cupy[index::step, 2]], label='Cupy')\n",
    "plt.plot(image_sizes, [np.average(i) for i in task_run_times_transonic[index::step, 2]], label='Transonic')\n",
    "plt.plot(image_sizes, [np.average(i) for i in task_run_times_dask[index::step, 2]], label='Dask')\n",
    "\n",
    "plt.legend()\n",
    "plt.xlabel(\"Input Image Size (MB)\")\n",
    "plt.ylabel(\"Run times (s)\")\n",
    "plt.title(\"Run times of a 2D convolution with kernel size 21x21\")\n",
    "plt.xlim((0,100))\n",
    "plt.ylim((0,4))\n",
    "#plt.savefig(\"sizevstime_\" + fld + \".pdf\", dpi=300)\n",
    "plt.savefig(\"sizevstime_zoomed_\"+fld+\".pdf\",dpi=300)"
   ]
  },
  {
   "cell_type": "code",
   "execution_count": null,
   "metadata": {},
   "outputs": [],
   "source": [
    "# plot per kernel shape\n",
    "index = 3\n",
    "step = 6\n",
    "plt.figure(figsize=(8, 5))\n",
    "plt.plot(task_run_times_unthreaded[index*step:(index*step)+step, 1], [np.average(i) for i in task_run_times_unthreaded[index*step:(index*step)+step, 2]], 'orange', label='Cython unthreaded')\n",
    "plt.plot(task_run_times_threaded[index*step:(index*step)+step, 1], [np.average(i) for i in task_run_times_threaded[index*step:(index*step)+step, 2]], 'blue', label='Cython threaded')\n",
    "plt.plot(task_run_times_threaded_static[index*step:(index*step)+step, 1], [np.average(i) for i in task_run_times_threaded_static[index*step:(index*step)+step, 2]], 'lightpink', label='Cython threaded static')\n",
    "plt.plot(task_run_times_threaded_guided[index*step:(index*step)+step, 1], [np.average(i) for i in task_run_times_threaded_guided[index*step:(index*step)+step, 2]], 'green', label='Cython threaded guided')\n",
    "plt.plot(task_run_times_threaded_dynamic[index*step:(index*step)+step, 1], [np.average(i) for i in task_run_times_threaded_dynamic[index*step:(index*step)+step, 2]], 'black', label='Cython threaded dynamic')\n",
    "plt.plot(task_run_times_opencl[index*step:(index*step)+step, 1], [np.average(i) for i in task_run_times_opencl[index*step:(index*step)+step, 2]], 'magenta', label='pyOpenCL')\n",
    "\n",
    "plt.plot(task_run_times_numba[index*step:(index*step)+step, 1], [np.average(i) for i in task_run_times_numba[index*step:(index*step)+step, 2]], label='Numba')\n",
    "plt.plot(task_run_times_cupy[index*step:(index*step)+step, 1], [np.average(i) for i in task_run_times_cupy[index*step:(index*step)+step, 2]], label='Cupy')\n",
    "plt.plot(task_run_times_transonic[index*step:(index*step)+step, 1], [np.average(i) for i in task_run_times_transonic[index*step:(index*step)+step, 2]], label='Transonic')\n",
    "plt.plot(task_run_times_dask[index*step:(index*step)+step, 1], [np.average(i) for i in task_run_times_dask[index*step:(index*step)+step, 2]], label='Dask')\n",
    "\n",
    "\n",
    "\n",
    "plt.legend()\n",
    "plt.xlabel(\"Kernel Size (Size x Size)\")\n",
    "plt.ylabel(\"Run times (s)\")\n",
    "plt.title(\"Run times of a 2D convolution with input image size of 2500x2500\")\n",
    "plt.xlim((10,20))\n",
    "plt.ylim((0,0.5))\n",
    "#plt.savefig(\"kernelvstime_\" + fld + \".pdf\", dpi=300)\n",
    "plt.savefig(\"kernelvstime_zoomed_\" + fld + \".pdf\", dpi=300)"
   ]
  },
  {
   "cell_type": "code",
   "execution_count": null,
   "metadata": {},
   "outputs": [],
   "source": []
  }
 ],
 "metadata": {
  "kernelspec": {
   "display_name": "nanopyx310",
   "language": "python",
   "name": "python3"
  },
  "language_info": {
   "codemirror_mode": {
    "name": "ipython",
    "version": 3
   },
   "file_extension": ".py",
   "mimetype": "text/x-python",
   "name": "python",
   "nbconvert_exporter": "python",
   "pygments_lexer": "ipython3",
   "version": "3.10.13"
  }
 },
 "nbformat": 4,
 "nbformat_minor": 2
}
