{
 "cells": [
  {
   "cell_type": "markdown",
   "metadata": {},
   "source": [
    "# Set name of computer  "
   ]
  },
  {
   "cell_type": "code",
   "execution_count": null,
   "metadata": {},
   "outputs": [],
   "source": [
    "pc_name = \"MacBook_M1_Pro\""
   ]
  },
  {
   "cell_type": "markdown",
   "metadata": {},
   "source": [
    "# Standard benchmarking notebook"
   ]
  },
  {
   "cell_type": "code",
   "execution_count": null,
   "metadata": {},
   "outputs": [],
   "source": [
    "import os\n",
    "import yaml\n",
    "\n",
    "import numpy as np\n",
    "from nanopyx.core.transform import NLMDenoising, Convolution2D, CRShiftAndMagnify\n",
    "\n",
    "def concatenate_benchmarks(results, args_repr, previous_dict):\n",
    "    if args_repr not in previous_dict:\n",
    "        previous_dict[args_repr] = {}\n",
    "        \n",
    "    for t2run,name,_ in results:\n",
    "        if name in previous_dict[args_repr]:\n",
    "            previous_dict[args_repr][name].append(t2run)\n",
    "        else:\n",
    "            previous_dict[args_repr][name] = [t2run]\n",
    "    \n",
    "    return previous_dict\n",
    "\n",
    "\n",
    "denoising = NLMDenoising(verbose=False,testing=True)\n",
    "denoising._run_types.pop('threaded_dynamic')\n",
    "denoising._run_types.pop('threaded_static')\n",
    "denoising._run_types.pop('threaded_guided')\n",
    "\n",
    "conv = Convolution2D(verbose=False, testing=True)\n",
    "conv._run_types.pop('threaded_dynamic')\n",
    "conv._run_types.pop('threaded_static')\n",
    "conv._run_types.pop('threaded_guided')\n",
    "\n",
    "crsm = CRShiftAndMagnify(verbose=False, testing=True)\n",
    "crsm._run_types.pop('threaded_dynamic')\n",
    "crsm._run_types.pop('threaded_static')\n",
    "crsm._run_types.pop('threaded_guided')\n",
    "\n",
    "denoising_results = {}\n",
    "conv_results = {}\n",
    "crsm_results = {}\n",
    "\n",
    "n_repeats = 2"
   ]
  },
  {
   "cell_type": "markdown",
   "metadata": {},
   "source": [
    "## 2D Convolution"
   ]
  },
  {
   "cell_type": "code",
   "execution_count": null,
   "metadata": {},
   "outputs": [],
   "source": [
    "conv_image_1 = np.random.random((500, 500)).astype(np.float32)\n",
    "conv_image_2 = np.random.random((2500, 2500)).astype(np.float32)\n",
    "\n",
    "kernel_1 = np.ones((5,5)).astype(np.float32)\n",
    "kernel_2 = np.ones((9,9)).astype(np.float32)\n",
    "kernel_3 = np.ones((21,21)).astype(np.float32)\n",
    "\n",
    "args_1 = [conv_image_1, kernel_1]\n",
    "kwargs_1 = {}\n",
    "args_repr_1,_ = conv._get_args_repr_score(*args_1, **kwargs_1)\n",
    "\n",
    "args_2 = [conv_image_2, kernel_2]\n",
    "kwargs_2 = {}\n",
    "args_repr_2,_ = conv._get_args_repr_score(*args_2, **kwargs_2)\n",
    "\n",
    "args_3 = [conv_image_2, kernel_3]\n",
    "kwargs_3 = {}\n",
    "args_repr_3,_ = conv._get_args_repr_score(*args_3, **kwargs_3)"
   ]
  },
  {
   "cell_type": "code",
   "execution_count": null,
   "metadata": {},
   "outputs": [],
   "source": [
    "for i in range(n_repeats): \n",
    "    results = conv.benchmark(*args_1, **kwargs_1)\n",
    "    conv_results = concatenate_benchmarks(results, args_repr_1, conv_results)\n",
    "    results = conv.benchmark(*args_2, **kwargs_2)\n",
    "    conv_results = concatenate_benchmarks(results, args_repr_2, conv_results)\n",
    "    results = conv.benchmark(*args_3, **kwargs_3)\n",
    "    conv_results = concatenate_benchmarks(results, args_repr_3, conv_results)"
   ]
  },
  {
   "cell_type": "markdown",
   "metadata": {},
   "source": [
    "## Non-local means denoising"
   ]
  },
  {
   "cell_type": "code",
   "execution_count": null,
   "metadata": {},
   "outputs": [],
   "source": [
    "nlm_image_1 = np.random.random((1, 1000, 1000)).astype(np.float32)\n",
    "nlm_image_2 = np.random.random((1, 500, 500)).astype(np.float32)\n",
    "nlm_image_3 = np.random.random((1, 200, 200)).astype(np.float32)\n",
    "\n",
    "args_1 = [nlm_image_1]\n",
    "kwargs_1 = {'patch_size': 50, 'patch_distance': 50, 'h': 0.1, 'sigma': 0.0}\n",
    "args_repr_1,_ = conv._get_args_repr_score(*args_1, **kwargs_1)\n",
    "\n",
    "args_2 = [nlm_image_2]\n",
    "kwargs_2 = {'patch_size': 5, 'patch_distance': 100, 'h': 0.1, 'sigma': 0.0}\n",
    "args_repr_2,_ = conv._get_args_repr_score(*args_2, **kwargs_2)\n",
    "\n",
    "args_3 = [nlm_image_3]\n",
    "kwargs_3 = {'patch_size': 5, 'patch_distance': 10, 'h': 0.1, 'sigma': 0.0}\n",
    "args_repr_3,_ = conv._get_args_repr_score(*args_3, **kwargs_3)"
   ]
  },
  {
   "cell_type": "code",
   "execution_count": null,
   "metadata": {},
   "outputs": [],
   "source": [
    "for i in range(n_repeats): \n",
    "    results = denoising.benchmark(*args_1, **kwargs_1)\n",
    "    denoising_results = concatenate_benchmarks(results, args_repr_1, denoising_results)\n",
    "    results = denoising.benchmark(*args_2, **kwargs_2)\n",
    "    denoising_results = concatenate_benchmarks(results, args_repr_2, denoising_results)\n",
    "    results = denoising.benchmark(*args_3, **kwargs_3)\n",
    "    denoising_results = concatenate_benchmarks(results, args_repr_3, denoising_results)\n"
   ]
  },
  {
   "cell_type": "markdown",
   "metadata": {},
   "source": [
    "## Catmul-Rom Shift and Magnify"
   ]
  },
  {
   "cell_type": "code",
   "execution_count": null,
   "metadata": {},
   "outputs": [],
   "source": [
    "crsm_image_1 = np.random.random((10, 10, 10)).astype(np.float32)\n",
    "crsm_image_2 = np.random.random((10, 100, 100)).astype(np.float32)\n",
    "crsm_image_3 = np.random.random((100, 300, 300)).astype(np.float32)\n",
    "\n",
    "args_1 = [crsm_image_1,0, 0, 5, 5]\n",
    "kwargs_1 = {}\n",
    "args_repr_1,_ = conv._get_args_repr_score(*args_1, **kwargs_1)\n",
    "\n",
    "args_2 = [crsm_image_2, 0, 0, 5, 5]\n",
    "kwargs_2 = {}\n",
    "args_repr_2,_ = conv._get_args_repr_score(*args_2, **kwargs_2)\n",
    "\n",
    "args_3 = [crsm_image_3, 0, 0, 5, 5]\n",
    "kwargs_3 = {}\n",
    "args_repr_3,_ = conv._get_args_repr_score(*args_3, **kwargs_3)"
   ]
  },
  {
   "cell_type": "code",
   "execution_count": null,
   "metadata": {},
   "outputs": [],
   "source": [
    "for i in range(n_repeats): \n",
    "    results = crsm.benchmark(*args_1, **kwargs_1)\n",
    "    crsm_results = concatenate_benchmarks(results, args_repr_1, crsm_results)\n",
    "    results = crsm.benchmark(*args_2, **kwargs_2)\n",
    "    crsm_results = concatenate_benchmarks(results, args_repr_2, crsm_results)\n",
    "    results = crsm.benchmark(*args_3, **kwargs_3)\n",
    "    crsm_results = concatenate_benchmarks(results, args_repr_3, crsm_results)"
   ]
  },
  {
   "cell_type": "code",
   "execution_count": null,
   "metadata": {},
   "outputs": [],
   "source": [
    "if not os.path.exists(\"Benchmark_results\"):\n",
    "    os.mkdir(\"Benchmark_results\")\n",
    "\n",
    "with open(f\"Benchmark_results/{pc_name}_Results_denoising.yaml\", 'w') as f:\n",
    "    yaml.dump(denoising_results, f)\n",
    "\n",
    "with open(f\"Benchmark_results/{pc_name}_Results_conv.yaml\", 'w') as f:\n",
    "    yaml.dump(conv_results, f)\n",
    "\n",
    "with open(f\"Benchmark_results/{pc_name}_Results_crsm.yaml\", 'w') as f:\n",
    "    yaml.dump(crsm_results, f)"
   ]
  }
 ],
 "metadata": {
  "kernelspec": {
   "display_name": "nanopyx",
   "language": "python",
   "name": "python3"
  },
  "language_info": {
   "codemirror_mode": {
    "name": "ipython",
    "version": 3
   },
   "file_extension": ".py",
   "mimetype": "text/x-python",
   "name": "python",
   "nbconvert_exporter": "python",
   "pygments_lexer": "ipython3",
   "version": "3.10.9"
  }
 },
 "nbformat": 4,
 "nbformat_minor": 2
}
