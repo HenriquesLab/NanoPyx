{
 "cells": [
  {
   "cell_type": "markdown",
   "metadata": {},
   "source": [
    "# NanoPyx Methods"
   ]
  },
  {
   "cell_type": "code",
   "execution_count": null,
   "metadata": {},
   "outputs": [],
   "source": [
    "import numpy as np\n",
    "from matplotlib import pyplot as plt\n",
    "import stackview"
   ]
  },
  {
   "cell_type": "markdown",
   "metadata": {},
   "source": [
    "### Channel Registration"
   ]
  },
  {
   "cell_type": "code",
   "execution_count": null,
   "metadata": {},
   "outputs": [],
   "source": [
    "from nanopyx.methods import channel_registration\n",
    "\n",
    "# Generating example data \n",
    "from nanopyx.core.generate.beads import generate_channel_misalignment\n",
    "\n",
    "input_img = generate_channel_misalignment()\n",
    "stackview.slice(input_img, continuous_update=True)"
   ]
  },
  {
   "cell_type": "code",
   "execution_count": null,
   "metadata": {},
   "outputs": [],
   "source": [
    "aligned_img = channel_registration.estimate_channel_registration(input_img,0, 200, 3, 0.5, save_ccms=False, ccms_save_path=\"\",save_translation_masks=False, translation_mask_save_path=\"\", apply=True)\n",
    "stackview.slice(aligned_img, continuous_update=True)"
   ]
  },
  {
   "cell_type": "markdown",
   "metadata": {},
   "source": [
    "### Drift Correction"
   ]
  },
  {
   "cell_type": "code",
   "execution_count": null,
   "metadata": {},
   "outputs": [],
   "source": [
    "from nanopyx.methods import drift_alignment\n",
    "\n",
    "# Generating example data\n",
    "from nanopyx.core.generate.beads import generate_timelapse_drift\n",
    "\n",
    "input_img=generate_timelapse_drift(n_objects=5, shape=(50, 500, 500), drift=1)\n",
    "stackview.slice(input_img,continuous_update=True)"
   ]
  },
  {
   "cell_type": "code",
   "execution_count": null,
   "metadata": {},
   "outputs": [],
   "source": [
    "aligned_img = drift_alignment.estimate_drift_alignment(input_img, save_drift_table_path=\"\",ref_option=0,apply=True)\n",
    "stackview.slice(aligned_img, continuous_update=True)"
   ]
  },
  {
   "cell_type": "markdown",
   "metadata": {},
   "source": [
    "### SRRF"
   ]
  },
  {
   "cell_type": "code",
   "execution_count": null,
   "metadata": {},
   "outputs": [],
   "source": [
    "from nanopyx.methods import SRRF\n",
    "\n",
    "# Generating example data\n",
    "from nanopyx.data.download import ExampleDataManager\n",
    "downloader = ExampleDataManager()\n",
    "input_img = downloader.get_ZipTiffIterator(\n",
    "    \"SMLMS2013_HDTubulinAlexa647\", as_ndarray=True).astype(np.float32)\n",
    "stackview.slice(input_img, continuous_update=True)"
   ]
  },
  {
   "cell_type": "code",
   "execution_count": null,
   "metadata": {},
   "outputs": [],
   "source": [
    "srrfed_img = SRRF(input_img,magnification=1)\n",
    "plt.imshow(np.mean(srrfed_img[0],axis=0))\n",
    "plt.show()"
   ]
  },
  {
   "cell_type": "markdown",
   "metadata": {},
   "source": [
    "### eSRRF"
   ]
  },
  {
   "cell_type": "code",
   "execution_count": null,
   "metadata": {},
   "outputs": [],
   "source": [
    "from nanopyx.methods import eSRRF\n",
    "\n",
    "# Generating example data\n",
    "from nanopyx.data.download import ExampleDataManager\n",
    "downloader = ExampleDataManager()\n",
    "input_img = downloader.get_ZipTiffIterator(\n",
    "    \"SMLMS2013_HDTubulinAlexa647\", as_ndarray=True).astype(np.float32)\n",
    "stackview.slice(input_img, continuous_update=True)"
   ]
  },
  {
   "cell_type": "code",
   "execution_count": null,
   "metadata": {},
   "outputs": [],
   "source": [
    "esrrfed_img = eSRRF(input_img,magnification=1)\n",
    "plt.imshow(np.mean(esrrfed_img[0],axis=0))\n",
    "plt.show()"
   ]
  },
  {
   "cell_type": "markdown",
   "metadata": {},
   "source": [
    "### Fourier ring correlation"
   ]
  },
  {
   "cell_type": "code",
   "execution_count": null,
   "metadata": {},
   "outputs": [],
   "source": [
    "from nanopyx.core.analysis.frc import FIRECalculator\n",
    "\n",
    "# Generating example data\n",
    "from nanopyx.data.download import ExampleDataManager\n",
    "downloader = ExampleDataManager()\n",
    "input_img = downloader.get_ZipTiffIterator(\n",
    "    \"SMLMS2013_HDTubulinAlexa647\", as_ndarray=True).astype(np.float32)\n",
    "stackview.slice(input_img, continuous_update=True)"
   ]
  },
  {
   "cell_type": "code",
   "execution_count": null,
   "metadata": {},
   "outputs": [],
   "source": [
    "calculator = FIRECalculator(pixel_size=1, units=\"px\")\n",
    "fire = calculator.calculate_fire_number(input_img[0], input_img[50])\n",
    "plot = calculator.plot_frc_curve()\n",
    "plt.imshow(plot)\n",
    "plt.axis('off')\n",
    "plt.show()"
   ]
  },
  {
   "cell_type": "markdown",
   "metadata": {},
   "source": [
    "### Decorrelation analysis"
   ]
  },
  {
   "cell_type": "code",
   "execution_count": null,
   "metadata": {},
   "outputs": [],
   "source": [
    "from nanopyx.core.analysis.decorr import DecorrAnalysis\n",
    "\n",
    "# Generating example data\n",
    "from nanopyx.data.download import ExampleDataManager\n",
    "downloader = ExampleDataManager()\n",
    "input_img = downloader.get_ZipTiffIterator(\n",
    "    \"SMLMS2013_HDTubulinAlexa647\", as_ndarray=True).astype(np.float32)\n",
    "stackview.slice(input_img, continuous_update=True)"
   ]
  },
  {
   "cell_type": "code",
   "execution_count": null,
   "metadata": {},
   "outputs": [],
   "source": [
    "decorr = DecorrAnalysis(pixel_size=1, units=\"pixel\", do_plot=True)\n",
    "decorr.run_analysis(input_img[0])\n",
    "plot = decorr.plot_results()\n",
    "\n",
    "plt.imshow(plot)\n",
    "plt.axis('off')\n",
    "plt.show()"
   ]
  },
  {
   "cell_type": "markdown",
   "metadata": {},
   "source": [
    "### Non-local means denoising"
   ]
  },
  {
   "cell_type": "code",
   "execution_count": null,
   "metadata": {},
   "outputs": [],
   "source": [
    "from nanopyx.core.transform import NLMDenoising\n",
    "from nanopyx.core.generate.noise_add_mixed_noise import add_mixed_gaussian_poisson_noise\n",
    "# Generating example data\n",
    "\n",
    "input_img = np.mean(esrrfed_img[0],axis=0)\n",
    "#input_img = (input_img-input_img.min())/(input_img.max()-input_img.min())\n",
    "\n",
    "add_mixed_gaussian_poisson_noise(input_img, gauss_sigma=20, gauss_mean=1)\n",
    "\n",
    "plt.imshow(input_img)"
   ]
  },
  {
   "cell_type": "code",
   "execution_count": null,
   "metadata": {},
   "outputs": [],
   "source": [
    "denoiser = NLMDenoising()\n",
    "denoised_img = denoiser.run(input_img,patch_size=5,patch_distance=100,sigma=20,h=15)\n",
    "\n",
    "plt.imshow(denoised_img)"
   ]
  }
 ],
 "metadata": {
  "kernelspec": {
   "display_name": "nanopyx",
   "language": "python",
   "name": "python3"
  },
  "language_info": {
   "codemirror_mode": {
    "name": "ipython",
    "version": 3
   },
   "file_extension": ".py",
   "mimetype": "text/x-python",
   "name": "python",
   "nbconvert_exporter": "python",
   "pygments_lexer": "ipython3",
   "version": "3.10.9"
  }
 },
 "nbformat": 4,
 "nbformat_minor": 2
}
