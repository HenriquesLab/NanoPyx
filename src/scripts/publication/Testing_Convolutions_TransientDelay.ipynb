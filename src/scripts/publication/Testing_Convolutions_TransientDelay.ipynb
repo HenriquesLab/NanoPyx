{
 "cells": [
  {
   "cell_type": "code",
   "execution_count": null,
   "metadata": {},
   "outputs": [],
   "source": [
    "from nanopyx.liquid import Convolution2D as Conv\n",
    "from nanopyx.methods import Conv2D_w\n",
    "\n",
    "import numpy as np\n",
    "import pandas as pd\n",
    "\n",
    "import matplotlib as mpl\n",
    "import matplotlib.pyplot as plt\n",
    "from matplotlib.colors import ListedColormap\n",
    "from skimage.transform import resize\n",
    "import seaborn as sns\n",
    "\n",
    "input_image = np.random.random((6000,6000)).astype(np.float32)\n",
    "input_kernel = np.ones((9,9)).astype(np.float32)\n",
    "max_iter = 500\n"
   ]
  },
  {
   "cell_type": "markdown",
   "metadata": {},
   "source": [
    "# Testing liquid implementation"
   ]
  },
  {
   "cell_type": "code",
   "execution_count": null,
   "metadata": {},
   "outputs": [],
   "source": [
    "normal_liquid_time = []\n",
    "normal_liquid_type = []\n",
    "for i in range(2):\n",
    "    out = Conv(clear_benchmarks=True, testing=True).benchmark(input_image,input_kernel)\n",
    "cw = Conv2D_w(input_image, input_kernel)\n",
    "for i in range(150):\n",
    "    output, run_type, run_time = cw.run()\n",
    "    normal_liquid_time.append(run_time)\n",
    "    normal_liquid_type.append(run_type)"
   ]
  },
  {
   "cell_type": "markdown",
   "metadata": {},
   "source": [
    "### Start the delay script here before running next cell"
   ]
  },
  {
   "cell_type": "code",
   "execution_count": null,
   "metadata": {},
   "outputs": [],
   "source": [
    "for i in range(100):\n",
    "    output, run_type, run_time = cw.run()\n",
    "    normal_liquid_time.append(run_time)\n",
    "    normal_liquid_type.append(run_type)"
   ]
  },
  {
   "cell_type": "markdown",
   "metadata": {},
   "source": [
    "### Stop the delay script"
   ]
  },
  {
   "cell_type": "code",
   "execution_count": null,
   "metadata": {},
   "outputs": [],
   "source": [
    "for i in range(150):\n",
    "    output, run_type, run_time = cw.run()\n",
    "    normal_liquid_time.append(run_time)\n",
    "    normal_liquid_type.append(run_type)"
   ]
  },
  {
   "cell_type": "markdown",
   "metadata": {},
   "source": [
    "# Testing a non-liquid implementation"
   ]
  },
  {
   "cell_type": "code",
   "execution_count": null,
   "metadata": {},
   "outputs": [],
   "source": [
    "normal_solid_time = []\n",
    "normal_solid_type = []\n",
    "cw = Conv2D_w(input_image, input_kernel)\n",
    "for i in range(150):\n",
    "    output, run_type, run_time = cw.run(_force_run_type=\"OpenCL_NVIDIA GeForce RTX 4090\")\n",
    "    normal_solid_time.append(run_time)\n",
    "    normal_solid_type.append(run_type)"
   ]
  },
  {
   "cell_type": "markdown",
   "metadata": {},
   "source": [
    "### Start the delay script here before running next cell"
   ]
  },
  {
   "cell_type": "code",
   "execution_count": null,
   "metadata": {},
   "outputs": [],
   "source": [
    "for i in range(100):\n",
    "    output, run_type, run_time = cw.run(_force_run_type=\"OpenCL_NVIDIA GeForce RTX 4090\")\n",
    "    normal_solid_time.append(run_time)\n",
    "    normal_solid_type.append(run_type)"
   ]
  },
  {
   "cell_type": "markdown",
   "metadata": {},
   "source": [
    "### Stop the delay script"
   ]
  },
  {
   "cell_type": "code",
   "execution_count": null,
   "metadata": {},
   "outputs": [],
   "source": [
    "for i in range(150):\n",
    "    output, run_type, run_time = cw.run(_force_run_type=\"OpenCL_NVIDIA GeForce RTX 4090\")\n",
    "    normal_solid_time.append(run_time)\n",
    "    normal_solid_type.append(run_type)"
   ]
  },
  {
   "cell_type": "markdown",
   "metadata": {},
   "source": [
    "### Graph the results"
   ]
  },
  {
   "cell_type": "code",
   "execution_count": null,
   "metadata": {},
   "outputs": [],
   "source": [
    "df = pd.DataFrame({'Liquid':normal_liquid_time,'Solid':normal_solid_time})\n",
    "\n",
    "plt.figure(figsize=(8,3), dpi=300)\n",
    "ax = sns.histplot(data=df, bins=15, stat='density', kde=True, palette=['magenta','gray'])\n",
    "plt.axvline(df['Liquid'].mean(), color='magenta', linestyle='dashed', linewidth=1)\n",
    "plt.axvline(df['Solid'].mean(), color='gray', linestyle='dashed', linewidth=1)\n",
    "plt.xlabel('Time (s)', fontname='Arial', fontsize=12)\n",
    "plt.ylabel('Density', fontname='Arial', fontsize=12)\n",
    "for tick in ax.get_xticklabels():\n",
    "    tick.set_fontname(\"Arial\")\n",
    "for tick in ax.get_yticklabels():\n",
    "    tick.set_fontname(\"Arial\")\n",
    "plt.setp(ax.get_legend().get_texts(), fontname=\"Arial\", fontsize=12)\n",
    "ax.spines[['top', 'right']].set_visible(False)\n",
    "plt.show()"
   ]
  },
  {
   "cell_type": "code",
   "execution_count": null,
   "metadata": {},
   "outputs": [],
   "source": [
    "max_iter=400\n",
    "methods = {'OpenCL_NVIDIA GeForce RTX 4090':0.5,'Threaded':1.5, 'Threaded_static':1.5, 'Threaded_guided':1.5, 'Threaded_dynamic':1.5,'Unthreaded':2.5}\n",
    "matrix = np.zeros((max_iter,1))\n",
    "for i in range(max_iter):\n",
    "        matrix[i,0] = methods[normal_liquid_type[i]]\n",
    "\n",
    "matrix_resized = resize(matrix, (max_iter, 30), order=0, preserve_range=True, anti_aliasing=False)\n",
    "\n",
    "cmap = ListedColormap([\"lightskyblue\", \"coral\", \"purple\"])\n",
    "\n",
    "fig, ax = plt.subplots(1,1,figsize=(20,20), dpi=300)\n",
    "p = ax.imshow(matrix_resized.T, cmap=cmap)\n",
    "\n",
    "ax.set_yticks([])\n",
    "ax.set_xticks([0,50,100,150,200,250,300,350,400,450,500])\n",
    "\n",
    "ax.set_xlim((0,max_iter-1))\n",
    "\n",
    "ax.set_xlabel('# Run', fontname='Arial', fontsize=12)\n",
    "ax.set_ylabel(\"Task\", fontname='Arial', fontsize=12)\n",
    "\n",
    "\n",
    "for tick in ax.get_xticklabels():\n",
    "    tick.set_fontname(\"Arial\")\n",
    "for tick in ax.get_yticklabels():\n",
    "    tick.set_fontname(\"Arial\")\n"
   ]
  },
  {
   "cell_type": "code",
   "execution_count": null,
   "metadata": {},
   "outputs": [],
   "source": [
    "print(df['Liquid'].mean())\n",
    "print(df['Solid'].mean())"
   ]
  }
 ],
 "metadata": {
  "kernelspec": {
   "display_name": "nanopyx",
   "language": "python",
   "name": "python3"
  },
  "language_info": {
   "codemirror_mode": {
    "name": "ipython",
    "version": 3
   },
   "file_extension": ".py",
   "mimetype": "text/x-python",
   "name": "python",
   "nbconvert_exporter": "python",
   "pygments_lexer": "ipython3",
   "version": "3.10.12"
  },
  "orig_nbformat": 4
 },
 "nbformat": 4,
 "nbformat_minor": 2
}
