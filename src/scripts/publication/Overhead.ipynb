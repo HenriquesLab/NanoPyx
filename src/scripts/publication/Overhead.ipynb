{
 "cells": [
  {
   "cell_type": "code",
   "execution_count": null,
   "metadata": {},
   "outputs": [],
   "source": [
    "from timeit import default_timer\n",
    "import numpy as np\n",
    "\n",
    "from OverheadTester import OverheadedTester\n",
    "\n",
    "def Solid(image, kernel):\n",
    "    nRows = image.shape[0]\n",
    "    nCols = image.shape[1]\n",
    "\n",
    "    nRows_kernel = kernel.shape[0]\n",
    "    nCols_kernel = kernel.shape[1]\n",
    "\n",
    "    center_r = (nRows_kernel-1) // 2\n",
    "    center_c = (nCols_kernel-1) // 2\n",
    "\n",
    "    acc = 0.0\n",
    "\n",
    "    conv_out = np.zeros((nRows, nCols), dtype=np.float32)\n",
    "\n",
    "    for r in range(nRows):\n",
    "        for c in range(nCols):\n",
    "            acc = 0\n",
    "            for kr in range(nRows_kernel):\n",
    "                for kc in range(nCols_kernel):\n",
    "                    local_row = min(max(r+(kr-center_r), 0), nRows-1)\n",
    "                    local_col = min(max(c+(kc-center_c), 0), nCols-1)\n",
    "                    acc = acc + kernel[kr, kc] * image[local_row, local_col]\n",
    "            conv_out[r, c] = acc\n",
    "\n",
    "    return conv_out\n",
    "\n",
    "ot = OverheadedTester()\n",
    "\n",
    "img = np.random.random((300,300)).astype(np.float32)\n",
    "kn = np.random.random((10,10)).astype(np.float32)"
   ]
  },
  {
   "cell_type": "code",
   "execution_count": null,
   "metadata": {},
   "outputs": [],
   "source": [
    "for _ in range(3):\n",
    "    ot.benchmark(img,kn)"
   ]
  },
  {
   "cell_type": "code",
   "execution_count": null,
   "metadata": {},
   "outputs": [],
   "source": [
    "t_liquidagent = []\n",
    "for _ in range(20):\n",
    "\n",
    "    t1 = default_timer()\n",
    "    ot.run(img,kn)\n",
    "    t_liquidagent.append(default_timer()-t1)\n",
    "\n",
    "t_liquidpython = []\n",
    "for _ in range(20):\n",
    "\n",
    "    t1 = default_timer()\n",
    "    ot.run(img,kn,run_type=\"Python\")\n",
    "    t_liquidpython.append(default_timer()-t1)\n",
    "\n",
    "t_solid = []\n",
    "for _ in range(20):\n",
    "\n",
    "    t1 = default_timer()\n",
    "    Solid(img,kn)\n",
    "    t_solid.append(default_timer()-t1)"
   ]
  },
  {
   "cell_type": "code",
   "execution_count": null,
   "metadata": {},
   "outputs": [],
   "source": [
    "print(np.average(t_liquidagent)-np.average(t_liquidpython))\n",
    "\n",
    "print(np.average(t_liquidagent)-np.average(t_solid))\n",
    "\n",
    "print(np.average(t_liquidpython)-np.average(t_solid))\n"
   ]
  }
 ],
 "metadata": {
  "kernelspec": {
   "display_name": "nanopyx",
   "language": "python",
   "name": "python3"
  },
  "language_info": {
   "codemirror_mode": {
    "name": "ipython",
    "version": 3
   },
   "file_extension": ".py",
   "mimetype": "text/x-python",
   "name": "python",
   "nbconvert_exporter": "python",
   "pygments_lexer": "ipython3",
   "version": "3.10.9"
  }
 },
 "nbformat": 4,
 "nbformat_minor": 2
}
