{
 "cells": [
  {
   "cell_type": "code",
   "execution_count": 1,
   "metadata": {},
   "outputs": [
    {
     "name": "stdout",
     "output_type": "stream",
     "text": [
      "Optional dependency Cupy is not installed. Cupy implementations will be ignored.\n"
     ]
    }
   ],
   "source": [
    "from timeit import default_timer\n",
    "import numpy as np\n",
    "\n",
    "from OverheadTester import OverheadedTester\n",
    "\n",
    "def Solid(image, kernel):\n",
    "    nRows = image.shape[0]\n",
    "    nCols = image.shape[1]\n",
    "\n",
    "    nRows_kernel = kernel.shape[0]\n",
    "    nCols_kernel = kernel.shape[1]\n",
    "\n",
    "    center_r = (nRows_kernel-1) // 2\n",
    "    center_c = (nCols_kernel-1) // 2\n",
    "\n",
    "    acc = 0.0\n",
    "\n",
    "    conv_out = np.zeros((nRows, nCols), dtype=np.float32)\n",
    "\n",
    "    for r in range(nRows):\n",
    "        for c in range(nCols):\n",
    "            acc = 0\n",
    "            for kr in range(nRows_kernel):\n",
    "                for kc in range(nCols_kernel):\n",
    "                    local_row = min(max(r+(kr-center_r), 0), nRows-1)\n",
    "                    local_col = min(max(c+(kc-center_c), 0), nCols-1)\n",
    "                    acc = acc + kernel[kr, kc] * image[local_row, local_col]\n",
    "            conv_out[r, c] = acc\n",
    "\n",
    "    return conv_out\n",
    "\n",
    "ot = OverheadedTester()\n",
    "\n",
    "img = np.random.random((200,200)).astype(np.float32)\n",
    "kn = np.random.random((10,10)).astype(np.float32)"
   ]
  },
  {
   "cell_type": "code",
   "execution_count": 2,
   "metadata": {},
   "outputs": [
    {
     "name": "stdout",
     "output_type": "stream",
     "text": [
      "Agent: OverheadTester using Python ran in 2.4768789579999986 seconds\n",
      "Fastest run type: Python\n",
      "Slowest run type: Python\n",
      "Agent: OverheadTester using Python ran in 2.4132014159999997 seconds\n",
      "Fastest run type: Python\n",
      "Slowest run type: Python\n",
      "Agent: OverheadTester using Python ran in 2.453814541999998 seconds\n",
      "Fastest run type: Python\n",
      "Slowest run type: Python\n"
     ]
    }
   ],
   "source": [
    "for _ in range(3):\n",
    "    ot.benchmark(img,kn)"
   ]
  },
  {
   "cell_type": "code",
   "execution_count": 3,
   "metadata": {},
   "outputs": [
    {
     "name": "stdout",
     "output_type": "stream",
     "text": [
      "Querying the Agent...\n",
      "Agent: OverheadTester using Python ran in 2.4728253749999993 seconds\n",
      "Querying the Agent...\n",
      "Agent: OverheadTester using Python ran in 2.4308477500000016 seconds\n",
      "Querying the Agent...\n",
      "Agent: OverheadTester using Python ran in 2.4270367500000027 seconds\n",
      "Querying the Agent...\n",
      "Agent: OverheadTester using Python ran in 2.4037264160000014 seconds\n",
      "Querying the Agent...\n",
      "Agent: OverheadTester using Python ran in 2.409295666000002 seconds\n",
      "Agent: OverheadTester using Python ran in 2.488457375000003 seconds\n",
      "Agent: OverheadTester using Python ran in 2.567814249999998 seconds\n",
      "Agent: OverheadTester using Python ran in 2.4677489999999977 seconds\n",
      "Agent: OverheadTester using Python ran in 2.389290959 seconds\n",
      "Agent: OverheadTester using Python ran in 2.4805976250000015 seconds\n"
     ]
    }
   ],
   "source": [
    "n_runs = 5\n",
    "t_liquidagent = []\n",
    "for _ in range(n_runs):\n",
    "\n",
    "    t1 = default_timer()\n",
    "    ot.run(img,kn)\n",
    "    t_liquidagent.append(default_timer()-t1)\n",
    "\n",
    "t_liquidpython = []\n",
    "for _ in range(n_runs):\n",
    "\n",
    "    t1 = default_timer()\n",
    "    ot.run(img,kn,run_type=\"Python\")\n",
    "    t_liquidpython.append(default_timer()-t1)\n",
    "\n",
    "t_solid = []\n",
    "for _ in range(n_runs):\n",
    "\n",
    "    t1 = default_timer()\n",
    "    Solid(img,kn)\n",
    "    t_solid.append(default_timer()-t1)"
   ]
  },
  {
   "cell_type": "code",
   "execution_count": 4,
   "metadata": {},
   "outputs": [
    {
     "name": "stdout",
     "output_type": "stream",
     "text": [
      "-0.049945183199996634\n",
      "0.0019089833999994532\n",
      "0.05185416659999609\n"
     ]
    }
   ],
   "source": [
    "print(np.average(t_liquidagent)-np.average(t_liquidpython))\n",
    "\n",
    "print(np.average(t_liquidagent)-np.average(t_solid))\n",
    "\n",
    "print(np.average(t_liquidpython)-np.average(t_solid))\n"
   ]
  }
 ],
 "metadata": {
  "kernelspec": {
   "display_name": "nanopyx",
   "language": "python",
   "name": "python3"
  },
  "language_info": {
   "codemirror_mode": {
    "name": "ipython",
    "version": 3
   },
   "file_extension": ".py",
   "mimetype": "text/x-python",
   "name": "python",
   "nbconvert_exporter": "python",
   "pygments_lexer": "ipython3",
   "version": "3.9.16"
  }
 },
 "nbformat": 4,
 "nbformat_minor": 2
}
