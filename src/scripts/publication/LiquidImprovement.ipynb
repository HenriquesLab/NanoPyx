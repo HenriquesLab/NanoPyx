{
 "cells": [
  {
   "cell_type": "code",
   "execution_count": 1,
   "metadata": {},
   "outputs": [
    {
     "name": "stderr",
     "output_type": "stream",
     "text": [
      "c:\\Users\\abrito\\AppData\\Local\\mambaforge\\envs\\nanopyx_dev\\lib\\site-packages\\cupyx\\jit\\_interface.py:173: FutureWarning: cupyx.jit.rawkernel is experimental. The interface can change in the future.\n",
      "  cupy._util.experimental('cupyx.jit.rawkernel')\n"
     ]
    }
   ],
   "source": [
    "from timeit import default_timer    \n",
    "import numpy as np\n",
    "\n",
    "from nanopyx.core.transform import NLMDenoising, eSRRF_ST"
   ]
  },
  {
   "cell_type": "markdown",
   "metadata": {},
   "source": [
    "## Unthreaded faster than OpenCL"
   ]
  },
  {
   "cell_type": "code",
   "execution_count": 2,
   "metadata": {},
   "outputs": [
    {
     "name": "stdout",
     "output_type": "stream",
     "text": [
      "Agent: NLMDenoising using OpenCL_NVIDIA GeForce RTX 4090 ran in 51.52080970001407 seconds\n",
      "Agent: NLMDenoising using Threaded ran in 691.5242190000135 seconds\n",
      "Agent: NLMDenoising using Unthreaded ran in 27.745663000037894 seconds\n",
      "Fastest run type: Unthreaded\n",
      "Slowest run type: Threaded\n",
      "Unthreaded is 1.86x faster than OpenCL_NVIDIA GeForce RTX 4090\n",
      "Unthreaded is 24.92x faster than Threaded\n",
      "OpenCL_NVIDIA GeForce RTX 4090 is 13.42x faster than Threaded\n",
      "Agent: NLMDenoising using OpenCL_NVIDIA GeForce RTX 4090 ran in 51.49116460001096 seconds\n",
      "Agent: NLMDenoising using Threaded ran in 695.4065490998328 seconds\n",
      "Agent: NLMDenoising using Unthreaded ran in 27.880847699940205 seconds\n",
      "Fastest run type: Unthreaded\n",
      "Slowest run type: Threaded\n",
      "Unthreaded is 1.85x faster than OpenCL_NVIDIA GeForce RTX 4090\n",
      "Unthreaded is 24.94x faster than Threaded\n",
      "OpenCL_NVIDIA GeForce RTX 4090 is 13.51x faster than Threaded\n",
      "Agent: NLMDenoising using OpenCL_NVIDIA GeForce RTX 4090 ran in 51.50801769993268 seconds\n",
      "Agent: NLMDenoising using Threaded ran in 728.8455723000225 seconds\n",
      "Agent: NLMDenoising using Unthreaded ran in 27.82540600001812 seconds\n",
      "Fastest run type: Unthreaded\n",
      "Slowest run type: Threaded\n",
      "Unthreaded is 1.85x faster than OpenCL_NVIDIA GeForce RTX 4090\n",
      "Unthreaded is 26.19x faster than Threaded\n",
      "OpenCL_NVIDIA GeForce RTX 4090 is 14.15x faster than Threaded\n",
      "Agent: eSRRF_ST using OpenCL_NVIDIA GeForce RTX 4090 ran in 0.20450059999711812 seconds\n",
      "Agent: ShiftMagnify_catmull_rom using Threaded ran in 0.11846269993111491 seconds\n",
      "Agent: GradientRobertsCross using Threaded ran in 0.0036337999626994133 seconds\n",
      "Agent: ShiftMagnify_catmull_rom using Threaded ran in 0.36233439994975924 seconds\n",
      "Agent: ShiftMagnify_catmull_rom using Threaded ran in 0.3936350999865681 seconds\n",
      "Agent: RadialGradientConvergence using Threaded ran in 2.7266842001117766 seconds\n",
      "Agent: eSRRF_ST using Threaded ran in 3.748582299798727 seconds\n",
      "Agent: ShiftMagnify_catmull_rom using Unthreaded ran in 1.0024376001674682 seconds\n",
      "Agent: GradientRobertsCross using Unthreaded ran in 0.0023267001379281282 seconds\n",
      "Agent: ShiftMagnify_catmull_rom using Unthreaded ran in 4.195673699956387 seconds\n",
      "Agent: ShiftMagnify_catmull_rom using Unthreaded ran in 4.103581100003794 seconds\n",
      "Agent: RadialGradientConvergence using Unthreaded ran in 40.03639340004884 seconds\n",
      "Agent: eSRRF_ST using Unthreaded ran in 49.46833529998548 seconds\n",
      "Fastest run type: OpenCL_NVIDIA GeForce RTX 4090\n",
      "Slowest run type: Unthreaded\n",
      "OpenCL_NVIDIA GeForce RTX 4090 is 18.33x faster than Threaded\n",
      "OpenCL_NVIDIA GeForce RTX 4090 is 241.90x faster than Unthreaded\n",
      "Threaded is 13.20x faster than Unthreaded\n",
      "Agent: eSRRF_ST using OpenCL_NVIDIA GeForce RTX 4090 ran in 0.19831719994544983 seconds\n",
      "Agent: ShiftMagnify_catmull_rom using Threaded ran in 0.1309226998127997 seconds\n",
      "Agent: GradientRobertsCross using Threaded ran in 0.0032862999942153692 seconds\n",
      "Agent: ShiftMagnify_catmull_rom using Threaded ran in 0.36330820014700294 seconds\n",
      "Agent: ShiftMagnify_catmull_rom using Threaded ran in 0.37332469993270934 seconds\n",
      "Agent: RadialGradientConvergence using Threaded ran in 2.8018454001285136 seconds\n",
      "Agent: eSRRF_ST using Threaded ran in 3.789191599935293 seconds\n",
      "Agent: ShiftMagnify_catmull_rom using Unthreaded ran in 0.992344900034368 seconds\n",
      "Agent: GradientRobertsCross using Unthreaded ran in 0.0020813001319766045 seconds\n",
      "Agent: ShiftMagnify_catmull_rom using Unthreaded ran in 4.11691559990868 seconds\n",
      "Agent: ShiftMagnify_catmull_rom using Unthreaded ran in 4.135782200144604 seconds\n",
      "Agent: RadialGradientConvergence using Unthreaded ran in 39.90718819992617 seconds\n",
      "Agent: eSRRF_ST using Unthreaded ran in 49.27149780001491 seconds\n",
      "Fastest run type: OpenCL_NVIDIA GeForce RTX 4090\n",
      "Slowest run type: Unthreaded\n",
      "OpenCL_NVIDIA GeForce RTX 4090 is 19.11x faster than Threaded\n",
      "OpenCL_NVIDIA GeForce RTX 4090 is 248.45x faster than Unthreaded\n",
      "Threaded is 13.00x faster than Unthreaded\n",
      "Agent: eSRRF_ST using OpenCL_NVIDIA GeForce RTX 4090 ran in 0.20298820012249053 seconds\n",
      "Agent: ShiftMagnify_catmull_rom using Threaded ran in 0.12445960007607937 seconds\n",
      "Agent: GradientRobertsCross using Threaded ran in 0.0033954998943954706 seconds\n",
      "Agent: ShiftMagnify_catmull_rom using Threaded ran in 0.3408872000873089 seconds\n",
      "Agent: ShiftMagnify_catmull_rom using Threaded ran in 0.37229229998774827 seconds\n",
      "Agent: RadialGradientConvergence using Threaded ran in 2.727906399872154 seconds\n",
      "Agent: eSRRF_ST using Threaded ran in 3.7048551999032497 seconds\n",
      "Agent: ShiftMagnify_catmull_rom using Unthreaded ran in 1.0152374999597669 seconds\n",
      "Agent: GradientRobertsCross using Unthreaded ran in 0.0020222999155521393 seconds\n",
      "Agent: ShiftMagnify_catmull_rom using Unthreaded ran in 4.127506699878722 seconds\n",
      "Agent: ShiftMagnify_catmull_rom using Unthreaded ran in 4.136170699959621 seconds\n",
      "Agent: RadialGradientConvergence using Unthreaded ran in 40.15225600008853 seconds\n",
      "Agent: eSRRF_ST using Unthreaded ran in 49.58799559995532 seconds\n",
      "Fastest run type: OpenCL_NVIDIA GeForce RTX 4090\n",
      "Slowest run type: Unthreaded\n",
      "OpenCL_NVIDIA GeForce RTX 4090 is 18.25x faster than Threaded\n",
      "OpenCL_NVIDIA GeForce RTX 4090 is 244.29x faster than Unthreaded\n",
      "Threaded is 13.38x faster than Unthreaded\n"
     ]
    }
   ],
   "source": [
    "img = np.random.random((1,1000,1000)).astype(np.float32)\n",
    "ps = 50\n",
    "pd = 50\n",
    "h = 0.1\n",
    "sigma = 1.0\n",
    "\n",
    "nlm = NLMDenoising(clear_benchmarks=True)\n",
    "nlm._run_types.pop('OpenCL_Intel(R) UHD Graphics 770')\n",
    "nlm._run_types.pop('Python')\n",
    "nlm._run_types.pop('Threaded_dynamic')\n",
    "nlm._run_types.pop('Threaded_guided')\n",
    "nlm._run_types.pop('Threaded_static')\n",
    "\n",
    "for i in range(3):\n",
    "    _ = nlm.benchmark(img,patch_size=ps,patch_distance=pd,h=h,sigma=sigma)\n",
    "\n",
    "\n",
    "\n",
    "esrrf = eSRRF_ST(clear_benchmarks=True)\n",
    "esrrf._run_types.pop('OpenCL_Intel(R) UHD Graphics 770')\n",
    "esrrf._run_types.pop('Threaded_dynamic')\n",
    "esrrf._run_types.pop('Threaded_guided')\n",
    "esrrf._run_types.pop('Threaded_static')\n",
    "\n",
    "for i in range(3):\n",
    "    _ = esrrf.benchmark(img)"
   ]
  },
  {
   "cell_type": "code",
   "execution_count": 3,
   "metadata": {},
   "outputs": [
    {
     "name": "stdout",
     "output_type": "stream",
     "text": [
      "Agent: NLMDenoising using Unthreaded ran in 32.720616000005975 seconds\n",
      "Agent: ShiftMagnify_catmull_rom using Unthreaded ran in 1.0155423001851887 seconds\n",
      "Agent: GradientRobertsCross using Unthreaded ran in 0.00662099989131093 seconds\n",
      "Agent: ShiftMagnify_catmull_rom using Unthreaded ran in 4.316713099833578 seconds\n",
      "Agent: ShiftMagnify_catmull_rom using Unthreaded ran in 4.147863100050017 seconds\n",
      "Agent: RadialGradientConvergence using Unthreaded ran in 40.058085300028324 seconds\n",
      "Agent: eSRRF_ST using Unthreaded ran in 49.66394250001758 seconds\n",
      "Agent: NLMDenoising using Unthreaded ran in 27.97229290008545 seconds\n",
      "Agent: ShiftMagnify_catmull_rom using Unthreaded ran in 1.0026229000650346 seconds\n",
      "Agent: GradientRobertsCross using Unthreaded ran in 0.0022729001939296722 seconds\n",
      "Agent: ShiftMagnify_catmull_rom using Unthreaded ran in 4.11598729994148 seconds\n",
      "Agent: ShiftMagnify_catmull_rom using Unthreaded ran in 4.12739079981111 seconds\n",
      "Agent: RadialGradientConvergence using Unthreaded ran in 40.13656600005925 seconds\n",
      "Agent: eSRRF_ST using Unthreaded ran in 49.55482969991863 seconds\n",
      "Agent: NLMDenoising using Unthreaded ran in 27.968959299847484 seconds\n",
      "Agent: ShiftMagnify_catmull_rom using Unthreaded ran in 1.0012723999097943 seconds\n",
      "Agent: GradientRobertsCross using Unthreaded ran in 0.002074300078675151 seconds\n",
      "Agent: ShiftMagnify_catmull_rom using Unthreaded ran in 4.129627400077879 seconds\n",
      "Agent: ShiftMagnify_catmull_rom using Unthreaded ran in 4.139037699904293 seconds\n",
      "Agent: RadialGradientConvergence using Unthreaded ran in 39.99467430007644 seconds\n",
      "Agent: eSRRF_ST using Unthreaded ran in 49.405407099984586 seconds\n",
      "FINAL TIME: 79.11862650001422\n"
     ]
    }
   ],
   "source": [
    "times_allunt_1 = []\n",
    "for _ in range(3):\n",
    "    t1 = default_timer()\n",
    "    nlm.run(img,patch_size=ps,patch_distance=pd,h=h,sigma=sigma, run_type=\"Unthreaded\")\n",
    "    esrrf.run(img, run_type=\"Unthreaded\")\n",
    "    times_allunt_1.append(default_timer()-t1)\n",
    "\n",
    "print(\"FINAL TIME:\", np.average(times_allunt_1))"
   ]
  },
  {
   "cell_type": "code",
   "execution_count": 4,
   "metadata": {},
   "outputs": [
    {
     "name": "stdout",
     "output_type": "stream",
     "text": [
      "Agent: NLMDenoising using Threaded ran in 719.536378499819 seconds\n",
      "Agent: ShiftMagnify_catmull_rom using Threaded ran in 0.12065930012613535 seconds\n",
      "Agent: GradientRobertsCross using Threaded ran in 0.003327899845317006 seconds\n",
      "Agent: ShiftMagnify_catmull_rom using Threaded ran in 0.3577672999817878 seconds\n",
      "Agent: ShiftMagnify_catmull_rom using Threaded ran in 0.35534730018116534 seconds\n",
      "Agent: RadialGradientConvergence using Threaded ran in 2.6899519998114556 seconds\n",
      "Agent: eSRRF_ST using Threaded ran in 3.6726496000774205 seconds\n",
      "Agent: NLMDenoising using Threaded ran in 744.5416928001214 seconds\n",
      "Agent: ShiftMagnify_catmull_rom using Threaded ran in 0.12480150000192225 seconds\n",
      "Agent: GradientRobertsCross using Threaded ran in 0.0037072000559419394 seconds\n",
      "Agent: ShiftMagnify_catmull_rom using Threaded ran in 0.4025940999854356 seconds\n",
      "Agent: ShiftMagnify_catmull_rom using Threaded ran in 0.39131440012715757 seconds\n",
      "Agent: RadialGradientConvergence using Threaded ran in 2.7880208001006395 seconds\n",
      "Agent: eSRRF_ST using Threaded ran in 3.8576732000801712 seconds\n",
      "Agent: NLMDenoising using Threaded ran in 713.2855185999069 seconds\n",
      "Agent: ShiftMagnify_catmull_rom using Threaded ran in 0.14699410018511117 seconds\n",
      "Agent: GradientRobertsCross using Threaded ran in 0.003270799992606044 seconds\n",
      "Agent: ShiftMagnify_catmull_rom using Threaded ran in 0.47738120006397367 seconds\n",
      "Agent: ShiftMagnify_catmull_rom using Threaded ran in 0.4147487999871373 seconds\n",
      "Agent: RadialGradientConvergence using Threaded ran in 2.9665262999478728 seconds\n",
      "Agent: eSRRF_ST using Threaded ran in 4.187541699968278 seconds\n",
      "FINAL TIME: 729.7135787665999\n"
     ]
    }
   ],
   "source": [
    "times_allthr_1 = []\n",
    "for _ in range(3):\n",
    "    t1 = default_timer()\n",
    "    nlm.run(img,patch_size=ps,patch_distance=pd,h=h,sigma=sigma, run_type='Threaded')\n",
    "    esrrf.run(img, run_type=\"Threaded\")\n",
    "    times_allthr_1.append(default_timer()-t1)\n",
    "\n",
    "print(\"FINAL TIME:\", np.average(times_allthr_1))"
   ]
  },
  {
   "cell_type": "code",
   "execution_count": 5,
   "metadata": {},
   "outputs": [
    {
     "name": "stdout",
     "output_type": "stream",
     "text": [
      "Agent: NLMDenoising using OpenCL_NVIDIA GeForce RTX 4090 ran in 51.65759970014915 seconds\n",
      "Agent: eSRRF_ST using OpenCL_NVIDIA GeForce RTX 4090 ran in 0.25608200021088123 seconds\n",
      "Agent: NLMDenoising using OpenCL_NVIDIA GeForce RTX 4090 ran in 52.33022120012902 seconds\n",
      "Agent: eSRRF_ST using OpenCL_NVIDIA GeForce RTX 4090 ran in 0.18321229983121157 seconds\n",
      "Agent: NLMDenoising using OpenCL_NVIDIA GeForce RTX 4090 ran in 51.824568999931216 seconds\n",
      "Agent: eSRRF_ST using OpenCL_NVIDIA GeForce RTX 4090 ran in 0.18816679995507002 seconds\n",
      "FINAL TIME: 52.15994170005433\n"
     ]
    }
   ],
   "source": [
    "times_allgpu_1 = []\n",
    "for _ in range(3):\n",
    "    t1 = default_timer()\n",
    "    nlm.run(img,patch_size=ps,patch_distance=pd,h=h,sigma=sigma, run_type='OpenCL_NVIDIA GeForce RTX 4090')\n",
    "    esrrf.run(img, run_type=\"OpenCL_NVIDIA GeForce RTX 4090\")\n",
    "    times_allgpu_1.append(default_timer()-t1)\n",
    "\n",
    "print(\"FINAL TIME:\", np.average(times_allgpu_1))"
   ]
  },
  {
   "cell_type": "code",
   "execution_count": 6,
   "metadata": {},
   "outputs": [
    {
     "name": "stdout",
     "output_type": "stream",
     "text": [
      "Querying the Agent...\n",
      "Agent: NLMDenoising using Unthreaded ran in 27.919292999897152 seconds\n",
      "Querying the Agent...\n",
      "Agent: eSRRF_ST using OpenCL_NVIDIA GeForce RTX 4090 ran in 0.19796929997392 seconds\n",
      "Querying the Agent...\n",
      "Agent: NLMDenoising using Unthreaded ran in 28.110868399962783 seconds\n",
      "Querying the Agent...\n",
      "Agent: eSRRF_ST using OpenCL_NVIDIA GeForce RTX 4090 ran in 0.19906010013073683 seconds\n",
      "Querying the Agent...\n",
      "Agent: NLMDenoising using Unthreaded ran in 27.863231600029394 seconds\n",
      "Querying the Agent...\n",
      "Agent: eSRRF_ST using OpenCL_NVIDIA GeForce RTX 4090 ran in 0.20921640004962683 seconds\n",
      "FINAL TIME: 28.18454696664897\n"
     ]
    }
   ],
   "source": [
    "times_liquid_1 = []\n",
    "for _ in range(3):\n",
    "    t1 = default_timer()\n",
    "    nlm.run(img,patch_size=ps,patch_distance=pd,h=h,sigma=sigma)\n",
    "    esrrf.run(img)\n",
    "    times_liquid_1.append(default_timer()-t1)\n",
    "\n",
    "print(\"FINAL TIME:\", np.average(times_liquid_1))"
   ]
  },
  {
   "cell_type": "code",
   "execution_count": 7,
   "metadata": {},
   "outputs": [
    {
     "name": "stdout",
     "output_type": "stream",
     "text": [
      "Image 5x1000x1000 (frame,row,col)\n",
      "NLM patch size 50, patch distance 50, h 0.1, sigma 1\n",
      "Liquid chooses: 28.18454696664897 0.10311728945420798\n",
      "Always unth: 79.11862650001422 2.3137894900869123\n",
      "Always GPU for nlm 52.15994170005433 0.2696895934339224\n",
      "Always thr 729.7135787665999 13.427899808435084\n"
     ]
    }
   ],
   "source": [
    "print(\"Image 5x1000x1000 (frame,row,col)\")\n",
    "print(\"NLM patch size 50, patch distance 50, h 0.1, sigma 1\")\n",
    "\n",
    "\n",
    "print(\"Liquid chooses:\", np.average(times_liquid_1),np.std(times_liquid_1))\n",
    "print(\"Always unth:\", np.average(times_allunt_1),np.std(times_allunt_1))\n",
    "print(\"Always GPU for nlm\", np.average(times_allgpu_1),np.std(times_allgpu_1))\n",
    "print(\"Always thr\", np.average(times_allthr_1),np.std(times_allthr_1))"
   ]
  },
  {
   "cell_type": "markdown",
   "metadata": {},
   "source": [
    "## OpenCL faster than Unthreaded"
   ]
  },
  {
   "cell_type": "code",
   "execution_count": 8,
   "metadata": {},
   "outputs": [
    {
     "name": "stdout",
     "output_type": "stream",
     "text": [
      "Agent: NLMDenoising using OpenCL_NVIDIA GeForce RTX 4090 ran in 0.5070013001095504 seconds\n",
      "Agent: NLMDenoising using Threaded ran in 12.163010700140148 seconds\n",
      "Agent: NLMDenoising using Unthreaded ran in 39.0914115998894 seconds\n",
      "Fastest run type: OpenCL_NVIDIA GeForce RTX 4090\n",
      "Slowest run type: Unthreaded\n",
      "OpenCL_NVIDIA GeForce RTX 4090 is 23.99x faster than Threaded\n",
      "OpenCL_NVIDIA GeForce RTX 4090 is 77.10x faster than Unthreaded\n",
      "Threaded is 3.21x faster than Unthreaded\n",
      "Agent: NLMDenoising using OpenCL_NVIDIA GeForce RTX 4090 ran in 0.6040031001903117 seconds\n",
      "Agent: NLMDenoising using Threaded ran in 12.03970819991082 seconds\n",
      "Agent: NLMDenoising using Unthreaded ran in 38.622796799987555 seconds\n",
      "Fastest run type: OpenCL_NVIDIA GeForce RTX 4090\n",
      "Slowest run type: Unthreaded\n",
      "OpenCL_NVIDIA GeForce RTX 4090 is 19.93x faster than Threaded\n",
      "OpenCL_NVIDIA GeForce RTX 4090 is 63.94x faster than Unthreaded\n",
      "Threaded is 3.21x faster than Unthreaded\n",
      "Agent: NLMDenoising using OpenCL_NVIDIA GeForce RTX 4090 ran in 0.5466151998843998 seconds\n",
      "Agent: NLMDenoising using Threaded ran in 12.28472110000439 seconds\n",
      "Agent: NLMDenoising using Unthreaded ran in 38.8020101999864 seconds\n",
      "Fastest run type: OpenCL_NVIDIA GeForce RTX 4090\n",
      "Slowest run type: Unthreaded\n",
      "OpenCL_NVIDIA GeForce RTX 4090 is 22.47x faster than Threaded\n",
      "OpenCL_NVIDIA GeForce RTX 4090 is 70.99x faster than Unthreaded\n",
      "Threaded is 3.16x faster than Unthreaded\n",
      "Agent: eSRRF_ST using OpenCL_NVIDIA GeForce RTX 4090 ran in 0.11473400006070733 seconds\n",
      "Agent: ShiftMagnify_catmull_rom using Threaded ran in 0.035310800187289715 seconds\n",
      "Agent: GradientRobertsCross using Threaded ran in 0.001385499956086278 seconds\n",
      "Agent: ShiftMagnify_catmull_rom using Threaded ran in 0.11509590013884008 seconds\n",
      "Agent: ShiftMagnify_catmull_rom using Threaded ran in 0.11007670010440052 seconds\n",
      "Agent: RadialGradientConvergence using Threaded ran in 0.6568938998971134 seconds\n",
      "Agent: eSRRF_ST using Threaded ran in 0.9870927999727428 seconds\n",
      "Agent: ShiftMagnify_catmull_rom using Unthreaded ran in 0.25280759995803237 seconds\n",
      "Agent: GradientRobertsCross using Unthreaded ran in 0.0007251999340951443 seconds\n",
      "Agent: ShiftMagnify_catmull_rom using Unthreaded ran in 0.9922670000232756 seconds\n",
      "Agent: ShiftMagnify_catmull_rom using Unthreaded ran in 1.017141099786386 seconds\n",
      "Agent: RadialGradientConvergence using Unthreaded ran in 9.754787000129 seconds\n",
      "Agent: eSRRF_ST using Unthreaded ran in 12.149919700110331 seconds\n",
      "Fastest run type: OpenCL_NVIDIA GeForce RTX 4090\n",
      "Slowest run type: Unthreaded\n",
      "OpenCL_NVIDIA GeForce RTX 4090 is 8.60x faster than Threaded\n",
      "OpenCL_NVIDIA GeForce RTX 4090 is 105.90x faster than Unthreaded\n",
      "Threaded is 12.31x faster than Unthreaded\n",
      "Agent: eSRRF_ST using OpenCL_NVIDIA GeForce RTX 4090 ran in 0.11152949999086559 seconds\n",
      "Agent: ShiftMagnify_catmull_rom using Threaded ran in 0.035430099815130234 seconds\n",
      "Agent: GradientRobertsCross using Threaded ran in 0.0013436998706310987 seconds\n",
      "Agent: ShiftMagnify_catmull_rom using Threaded ran in 0.14453990012407303 seconds\n",
      "Agent: ShiftMagnify_catmull_rom using Threaded ran in 0.11095449980348349 seconds\n",
      "Agent: RadialGradientConvergence using Threaded ran in 0.6625677000265568 seconds\n",
      "Agent: eSRRF_ST using Threaded ran in 1.0231866999529302 seconds\n",
      "Agent: ShiftMagnify_catmull_rom using Unthreaded ran in 0.2562009999528527 seconds\n",
      "Agent: GradientRobertsCross using Unthreaded ran in 0.0011718000750988722 seconds\n",
      "Agent: ShiftMagnify_catmull_rom using Unthreaded ran in 0.9989038999192417 seconds\n",
      "Agent: ShiftMagnify_catmull_rom using Unthreaded ran in 0.9880772000178695 seconds\n",
      "Agent: RadialGradientConvergence using Unthreaded ran in 9.675601599970832 seconds\n",
      "Agent: eSRRF_ST using Unthreaded ran in 12.024445499991998 seconds\n",
      "Fastest run type: OpenCL_NVIDIA GeForce RTX 4090\n",
      "Slowest run type: Unthreaded\n",
      "OpenCL_NVIDIA GeForce RTX 4090 is 9.17x faster than Threaded\n",
      "OpenCL_NVIDIA GeForce RTX 4090 is 107.81x faster than Unthreaded\n",
      "Threaded is 11.75x faster than Unthreaded\n",
      "Agent: eSRRF_ST using OpenCL_NVIDIA GeForce RTX 4090 ran in 0.11767900013364851 seconds\n",
      "Agent: ShiftMagnify_catmull_rom using Threaded ran in 0.03580569988116622 seconds\n",
      "Agent: GradientRobertsCross using Threaded ran in 0.0013061999343335629 seconds\n",
      "Agent: ShiftMagnify_catmull_rom using Threaded ran in 0.12249940005131066 seconds\n",
      "Agent: ShiftMagnify_catmull_rom using Threaded ran in 0.11033339984714985 seconds\n",
      "Agent: RadialGradientConvergence using Threaded ran in 0.6870122000109404 seconds\n",
      "Agent: eSRRF_ST using Threaded ran in 1.0282729000318795 seconds\n",
      "Agent: ShiftMagnify_catmull_rom using Unthreaded ran in 0.2543083999771625 seconds\n",
      "Agent: GradientRobertsCross using Unthreaded ran in 0.0007623001001775265 seconds\n",
      "Agent: ShiftMagnify_catmull_rom using Unthreaded ran in 1.0020558999385685 seconds\n",
      "Agent: ShiftMagnify_catmull_rom using Unthreaded ran in 0.9983068001456559 seconds\n",
      "Agent: RadialGradientConvergence using Unthreaded ran in 9.76390379993245 seconds\n",
      "Agent: eSRRF_ST using Unthreaded ran in 12.142440899973735 seconds\n",
      "Fastest run type: OpenCL_NVIDIA GeForce RTX 4090\n",
      "Slowest run type: Unthreaded\n",
      "OpenCL_NVIDIA GeForce RTX 4090 is 8.74x faster than Threaded\n",
      "OpenCL_NVIDIA GeForce RTX 4090 is 103.18x faster than Unthreaded\n",
      "Threaded is 11.81x faster than Unthreaded\n"
     ]
    }
   ],
   "source": [
    "img = np.random.random((1,500,500)).astype(np.float32)\n",
    "ps = 5\n",
    "pd = 100\n",
    "h = 0.1\n",
    "sigma = 1.0\n",
    "\n",
    "for i in range(3):\n",
    "    _ = nlm.benchmark(img,patch_size=ps,patch_distance=pd,h=h,sigma=sigma)\n",
    "    \n",
    "for i in range(3):\n",
    "    _ = esrrf.benchmark(img)"
   ]
  },
  {
   "cell_type": "code",
   "execution_count": 9,
   "metadata": {},
   "outputs": [
    {
     "name": "stdout",
     "output_type": "stream",
     "text": [
      "Agent: NLMDenoising using Unthreaded ran in 38.36395670007914 seconds\n",
      "Agent: ShiftMagnify_catmull_rom using Unthreaded ran in 0.2466012998484075 seconds\n",
      "Agent: GradientRobertsCross using Unthreaded ran in 0.0007382000330835581 seconds\n",
      "Agent: ShiftMagnify_catmull_rom using Unthreaded ran in 1.0054710998665541 seconds\n",
      "Agent: ShiftMagnify_catmull_rom using Unthreaded ran in 1.003644100157544 seconds\n",
      "Agent: RadialGradientConvergence using Unthreaded ran in 9.728363499976695 seconds\n",
      "Agent: eSRRF_ST using Unthreaded ran in 12.07044030004181 seconds\n",
      "Agent: NLMDenoising using Unthreaded ran in 38.55065259989351 seconds\n",
      "Agent: ShiftMagnify_catmull_rom using Unthreaded ran in 0.24844160000793636 seconds\n",
      "Agent: GradientRobertsCross using Unthreaded ran in 0.0008862998802214861 seconds\n",
      "Agent: ShiftMagnify_catmull_rom using Unthreaded ran in 1.0012670001015067 seconds\n",
      "Agent: ShiftMagnify_catmull_rom using Unthreaded ran in 1.0023387998808175 seconds\n",
      "Agent: RadialGradientConvergence using Unthreaded ran in 9.715427699964494 seconds\n",
      "Agent: eSRRF_ST using Unthreaded ran in 12.084307299926877 seconds\n",
      "Agent: NLMDenoising using Unthreaded ran in 38.42161600012332 seconds\n",
      "Agent: ShiftMagnify_catmull_rom using Unthreaded ran in 0.24919470003806055 seconds\n",
      "Agent: GradientRobertsCross using Unthreaded ran in 0.000664199935272336 seconds\n",
      "Agent: ShiftMagnify_catmull_rom using Unthreaded ran in 1.013562399893999 seconds\n",
      "Agent: ShiftMagnify_catmull_rom using Unthreaded ran in 0.9988452999386936 seconds\n",
      "Agent: RadialGradientConvergence using Unthreaded ran in 9.785092200152576 seconds\n",
      "Agent: eSRRF_ST using Unthreaded ran in 12.141816799994558 seconds\n",
      "FINAL TIME: 50.56203823342609\n"
     ]
    }
   ],
   "source": [
    "times_allunt_2 = []\n",
    "for _ in range(3):\n",
    "    t1 = default_timer()\n",
    "    nlm.run(img,patch_size=ps,patch_distance=pd,h=h,sigma=sigma, run_type=\"Unthreaded\")\n",
    "    esrrf.run(img, run_type=\"Unthreaded\")\n",
    "    times_allunt_2.append(default_timer()-t1)\n",
    "\n",
    "print(\"FINAL TIME:\", np.average(times_allunt_2))"
   ]
  },
  {
   "cell_type": "code",
   "execution_count": 10,
   "metadata": {},
   "outputs": [
    {
     "name": "stdout",
     "output_type": "stream",
     "text": [
      "Agent: NLMDenoising using Threaded ran in 12.213367700111121 seconds\n",
      "Agent: ShiftMagnify_catmull_rom using Threaded ran in 0.04546610009856522 seconds\n",
      "Agent: GradientRobertsCross using Threaded ran in 0.001340400194749236 seconds\n",
      "Agent: ShiftMagnify_catmull_rom using Threaded ran in 0.11502430005930364 seconds\n",
      "Agent: ShiftMagnify_catmull_rom using Threaded ran in 0.12193899997510016 seconds\n",
      "Agent: RadialGradientConvergence using Threaded ran in 0.7014878999907523 seconds\n",
      "Agent: eSRRF_ST using Threaded ran in 1.0839123001787812 seconds\n",
      "Agent: NLMDenoising using Threaded ran in 12.380548099987209 seconds\n",
      "Agent: ShiftMagnify_catmull_rom using Threaded ran in 0.03945759986527264 seconds\n",
      "Agent: GradientRobertsCross using Threaded ran in 0.001790100010111928 seconds\n",
      "Agent: ShiftMagnify_catmull_rom using Threaded ran in 0.11945969983935356 seconds\n",
      "Agent: ShiftMagnify_catmull_rom using Threaded ran in 0.12271070014685392 seconds\n",
      "Agent: RadialGradientConvergence using Threaded ran in 0.6537866999860853 seconds\n",
      "Agent: eSRRF_ST using Threaded ran in 1.0367898000404239 seconds\n",
      "Agent: NLMDenoising using Threaded ran in 12.415460799820721 seconds\n",
      "Agent: ShiftMagnify_catmull_rom using Threaded ran in 0.06556559982709587 seconds\n",
      "Agent: GradientRobertsCross using Threaded ran in 0.0013212000485509634 seconds\n",
      "Agent: ShiftMagnify_catmull_rom using Threaded ran in 0.12446830002591014 seconds\n",
      "Agent: ShiftMagnify_catmull_rom using Threaded ran in 0.14360650000162423 seconds\n",
      "Agent: RadialGradientConvergence using Threaded ran in 0.6480727000162005 seconds\n",
      "Agent: eSRRF_ST using Threaded ran in 1.083404100034386 seconds\n",
      "FINAL TIME: 13.412811300018802\n"
     ]
    }
   ],
   "source": [
    "times_allthr_2 = []\n",
    "for _ in range(3):\n",
    "    t1 = default_timer()\n",
    "    nlm.run(img,patch_size=ps,patch_distance=pd,h=h,sigma=sigma, run_type='Threaded')\n",
    "    esrrf.run(img, run_type=\"Threaded\")\n",
    "    times_allthr_2.append(default_timer()-t1)\n",
    "\n",
    "print(\"FINAL TIME:\", np.average(times_allthr_2))"
   ]
  },
  {
   "cell_type": "code",
   "execution_count": 11,
   "metadata": {},
   "outputs": [
    {
     "name": "stdout",
     "output_type": "stream",
     "text": [
      "Agent: NLMDenoising using OpenCL_NVIDIA GeForce RTX 4090 ran in 0.5269965999759734 seconds\n",
      "Agent: eSRRF_ST using OpenCL_NVIDIA GeForce RTX 4090 ran in 0.1299916000571102 seconds\n",
      "Agent: NLMDenoising using OpenCL_NVIDIA GeForce RTX 4090 ran in 0.49035510001704097 seconds\n",
      "Agent: eSRRF_ST using OpenCL_NVIDIA GeForce RTX 4090 ran in 0.12603700021281838 seconds\n",
      "Agent: NLMDenoising using OpenCL_NVIDIA GeForce RTX 4090 ran in 0.4812241999898106 seconds\n",
      "Agent: eSRRF_ST using OpenCL_NVIDIA GeForce RTX 4090 ran in 0.11636889982037246 seconds\n",
      "FINAL TIME: 0.6397889334087571\n"
     ]
    }
   ],
   "source": [
    "times_allgpu_2 = []\n",
    "for _ in range(3):\n",
    "    t1 = default_timer()\n",
    "    nlm.run(img,patch_size=ps,patch_distance=pd,h=h,sigma=sigma, run_type='OpenCL_NVIDIA GeForce RTX 4090')\n",
    "    esrrf.run(img, run_type=\"OpenCL_NVIDIA GeForce RTX 4090\")\n",
    "    times_allgpu_2.append(default_timer()-t1)\n",
    "\n",
    "print(\"FINAL TIME:\", np.average(times_allgpu_2))"
   ]
  },
  {
   "cell_type": "code",
   "execution_count": 12,
   "metadata": {},
   "outputs": [
    {
     "name": "stdout",
     "output_type": "stream",
     "text": [
      "Querying the Agent...\n",
      "Agent: NLMDenoising using OpenCL_NVIDIA GeForce RTX 4090 ran in 0.5113912001252174 seconds\n",
      "Querying the Agent...\n",
      "Agent: eSRRF_ST using OpenCL_NVIDIA GeForce RTX 4090 ran in 0.1354211000725627 seconds\n",
      "Querying the Agent...\n",
      "Agent: NLMDenoising using OpenCL_NVIDIA GeForce RTX 4090 ran in 0.5252174001652747 seconds\n",
      "Querying the Agent...\n",
      "Agent: eSRRF_ST using OpenCL_NVIDIA GeForce RTX 4090 ran in 0.1293897998984903 seconds\n",
      "Querying the Agent...\n",
      "Agent: NLMDenoising using OpenCL_NVIDIA GeForce RTX 4090 ran in 0.4848659001290798 seconds\n",
      "Querying the Agent...\n",
      "Agent: eSRRF_ST using OpenCL_NVIDIA GeForce RTX 4090 ran in 0.11458220006898046 seconds\n",
      "FINAL TIME: 0.6599667666790386\n"
     ]
    }
   ],
   "source": [
    "times_liquid_2 = []\n",
    "for _ in range(3):\n",
    "    t1 = default_timer()\n",
    "    nlm.run(img,patch_size=ps,patch_distance=pd,h=h,sigma=sigma)\n",
    "    esrrf.run(img)\n",
    "    times_liquid_2.append(default_timer()-t1)\n",
    "\n",
    "print(\"FINAL TIME:\", np.average(times_liquid_2))"
   ]
  },
  {
   "cell_type": "code",
   "execution_count": 13,
   "metadata": {},
   "outputs": [
    {
     "name": "stdout",
     "output_type": "stream",
     "text": [
      "Image 1x500x500 (frame,row,col)\n",
      "NLM patch size 5, patch distance 100, h 0.1, sigma 1\n",
      "Liquid chooses: 0.6599667666790386 0.022342916413642114\n",
      "Always unth: 50.56203823342609 0.08900858575940253\n",
      "Always GPU for nlm 0.6397889334087571 0.01732282451199119\n",
      "Always thr 13.412811300018802 0.0829010514229891\n"
     ]
    }
   ],
   "source": [
    "print(\"Image 1x500x500 (frame,row,col)\")\n",
    "print(\"NLM patch size 5, patch distance 100, h 0.1, sigma 1\")\n",
    "\n",
    "\n",
    "print(\"Liquid chooses:\", np.average(times_liquid_2),np.std(times_liquid_2))\n",
    "print(\"Always unth:\", np.average(times_allunt_2),np.std(times_allunt_2))\n",
    "print(\"Always GPU for nlm\", np.average(times_allgpu_2),np.std(times_allgpu_2))\n",
    "print(\"Always thr\", np.average(times_allthr_2),np.std(times_allthr_2))"
   ]
  }
 ],
 "metadata": {
  "kernelspec": {
   "display_name": "nanopyx_clean",
   "language": "python",
   "name": "python3"
  },
  "language_info": {
   "codemirror_mode": {
    "name": "ipython",
    "version": 3
   },
   "file_extension": ".py",
   "mimetype": "text/x-python",
   "name": "python",
   "nbconvert_exporter": "python",
   "pygments_lexer": "ipython3",
   "version": "3.10.12"
  },
  "orig_nbformat": 4
 },
 "nbformat": 4,
 "nbformat_minor": 2
}
