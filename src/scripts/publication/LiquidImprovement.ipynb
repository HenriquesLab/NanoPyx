{
 "cells": [
  {
   "cell_type": "code",
   "execution_count": 1,
   "metadata": {},
   "outputs": [
    {
     "name": "stderr",
     "output_type": "stream",
     "text": [
      "c:\\Users\\abrito\\AppData\\Local\\mambaforge\\envs\\nanopyx_dev\\lib\\site-packages\\cupyx\\jit\\_interface.py:173: FutureWarning: cupyx.jit.rawkernel is experimental. The interface can change in the future.\n",
      "  cupy._util.experimental('cupyx.jit.rawkernel')\n"
     ]
    }
   ],
   "source": [
    "from timeit import default_timer    \n",
    "import numpy as np\n",
    "\n",
    "from nanopyx.core.transform import NLMDenoising, eSRRF_ST"
   ]
  },
  {
   "cell_type": "markdown",
   "metadata": {},
   "source": [
    "## Unthreaded faster than OpenCL"
   ]
  },
  {
   "cell_type": "code",
   "execution_count": 2,
   "metadata": {},
   "outputs": [
    {
     "name": "stdout",
     "output_type": "stream",
     "text": [
      "Agent: NLMDenoising using OpenCL_NVIDIA GeForce RTX 4090 ran in 257.70569350000005 seconds\n",
      "Agent: NLMDenoising using Unthreaded ran in 140.31870280008297 seconds\n",
      "Agent: NLMDenoising using Python ran in 166.33503409998957 seconds\n",
      "Fastest run type: Unthreaded\n",
      "Slowest run type: OpenCL_NVIDIA GeForce RTX 4090\n",
      "Unthreaded is 1.19x faster than Python\n",
      "Unthreaded is 1.84x faster than OpenCL_NVIDIA GeForce RTX 4090\n",
      "Python is 1.55x faster than OpenCL_NVIDIA GeForce RTX 4090\n",
      "Agent: NLMDenoising using OpenCL_NVIDIA GeForce RTX 4090 ran in 258.53339290001895 seconds\n",
      "Agent: NLMDenoising using Unthreaded ran in 140.29249749996234 seconds\n",
      "Agent: NLMDenoising using Python ran in 163.82784679997712 seconds\n",
      "Fastest run type: Unthreaded\n",
      "Slowest run type: OpenCL_NVIDIA GeForce RTX 4090\n",
      "Unthreaded is 1.17x faster than Python\n",
      "Unthreaded is 1.84x faster than OpenCL_NVIDIA GeForce RTX 4090\n",
      "Python is 1.58x faster than OpenCL_NVIDIA GeForce RTX 4090\n",
      "Agent: NLMDenoising using OpenCL_NVIDIA GeForce RTX 4090 ran in 258.5196224999381 seconds\n",
      "Agent: NLMDenoising using Unthreaded ran in 139.2303552000085 seconds\n",
      "Agent: NLMDenoising using Python ran in 165.4270358000649 seconds\n",
      "Fastest run type: Unthreaded\n",
      "Slowest run type: OpenCL_NVIDIA GeForce RTX 4090\n",
      "Unthreaded is 1.19x faster than Python\n",
      "Unthreaded is 1.86x faster than OpenCL_NVIDIA GeForce RTX 4090\n",
      "Python is 1.56x faster than OpenCL_NVIDIA GeForce RTX 4090\n"
     ]
    }
   ],
   "source": [
    "img = np.random.random((5,1000,1000)).astype(np.float32)\n",
    "ps = 50\n",
    "pd = 50\n",
    "h = 0.1\n",
    "sigma = 1.0\n",
    "\n",
    "nlm = NLMDenoising(clear_benchmarks=True)\n",
    "\n",
    "nlm._run_types.pop('OpenCL_Intel(R) UHD Graphics 770')\n",
    "nlm._run_types.pop('Threaded')\n",
    "nlm._run_types.pop('Threaded_dynamic')\n",
    "nlm._run_types.pop('Threaded_guided')\n",
    "nlm._run_types.pop('Threaded_static')\n",
    "\n",
    "for i in range(3):\n",
    "    _ = nlm.benchmark(img,patch_size=ps,patch_distance=pd,h=h,sigma=sigma)\n",
    "\n",
    "esrrf = eSRRF_ST(clear_benchmarks=True)"
   ]
  },
  {
   "cell_type": "code",
   "execution_count": 3,
   "metadata": {},
   "outputs": [
    {
     "name": "stdout",
     "output_type": "stream",
     "text": [
      "Querying the Agent...\n",
      "Agent: NLMDenoising using Unthreaded ran in 137.62035179999657 seconds\n",
      "Agent: eSRRF_ST using OpenCL_NVIDIA GeForce RTX 4090 ran in 1.0275708999251947 seconds\n",
      "Querying the Agent...\n",
      "Agent: NLMDenoising using Unthreaded ran in 137.52744199999142 seconds\n",
      "Agent: eSRRF_ST using OpenCL_NVIDIA GeForce RTX 4090 ran in 0.5362481999909505 seconds\n",
      "Querying the Agent...\n",
      "Agent: NLMDenoising using Unthreaded ran in 138.31837200000882 seconds\n",
      "Agent: eSRRF_ST using OpenCL_NVIDIA GeForce RTX 4090 ran in 0.5136264000320807 seconds\n",
      "FINAL TIME: 138.53959663336477\n"
     ]
    }
   ],
   "source": [
    "times_liquid_1 = []\n",
    "for _ in range(3):\n",
    "    t1 = default_timer()\n",
    "    nlm.run(img,patch_size=ps,patch_distance=pd,h=h,sigma=sigma)\n",
    "    esrrf.run(img, run_type=\"OpenCL_NVIDIA GeForce RTX 4090\")\n",
    "    times_liquid_1.append(default_timer()-t1)\n",
    "\n",
    "print(\"FINAL TIME:\", np.average(times_liquid_1))"
   ]
  },
  {
   "cell_type": "code",
   "execution_count": 4,
   "metadata": {},
   "outputs": [
    {
     "name": "stdout",
     "output_type": "stream",
     "text": [
      "Agent: NLMDenoising using Python ran in 163.67569679999724 seconds\n",
      "Agent: eSRRF_ST using OpenCL_NVIDIA GeForce RTX 4090 ran in 0.5025924999499694 seconds\n",
      "Agent: NLMDenoising using Python ran in 165.35446070006583 seconds\n",
      "Agent: eSRRF_ST using OpenCL_NVIDIA GeForce RTX 4090 ran in 0.5090494999894872 seconds\n",
      "Agent: NLMDenoising using Python ran in 163.8204972000094 seconds\n",
      "Agent: eSRRF_ST using OpenCL_NVIDIA GeForce RTX 4090 ran in 0.4754666000371799 seconds\n",
      "FINAL TIME: 164.80727100003665\n"
     ]
    }
   ],
   "source": [
    "times_pythonnlm_1 = []\n",
    "for _ in range(3):\n",
    "    t1 = default_timer()\n",
    "    nlm.run(img,patch_size=ps,patch_distance=pd,h=h,sigma=sigma, run_type='Python')\n",
    "    esrrf.run(img, run_type=\"OpenCL_NVIDIA GeForce RTX 4090\")\n",
    "    times_pythonnlm_1.append(default_timer()-t1)\n",
    "\n",
    "print(\"FINAL TIME:\", np.average(times_pythonnlm_1))"
   ]
  },
  {
   "cell_type": "code",
   "execution_count": 5,
   "metadata": {},
   "outputs": [
    {
     "name": "stdout",
     "output_type": "stream",
     "text": [
      "Agent: NLMDenoising using OpenCL_NVIDIA GeForce RTX 4090 ran in 259.19837340002414 seconds\n",
      "Agent: eSRRF_ST using OpenCL_NVIDIA GeForce RTX 4090 ran in 0.4494493999518454 seconds\n",
      "Agent: NLMDenoising using OpenCL_NVIDIA GeForce RTX 4090 ran in 257.83627550001256 seconds\n",
      "Agent: eSRRF_ST using OpenCL_NVIDIA GeForce RTX 4090 ran in 0.5347164999693632 seconds\n",
      "Agent: NLMDenoising using OpenCL_NVIDIA GeForce RTX 4090 ran in 258.3585788999917 seconds\n",
      "Agent: eSRRF_ST using OpenCL_NVIDIA GeForce RTX 4090 ran in 0.43966219993308187 seconds\n",
      "FINAL TIME: 258.95869426665985\n"
     ]
    }
   ],
   "source": [
    "times_allgpu_1 = []\n",
    "for _ in range(3):\n",
    "    t1 = default_timer()\n",
    "    nlm.run(img,patch_size=ps,patch_distance=pd,h=h,sigma=sigma, run_type='OpenCL_NVIDIA GeForce RTX 4090')\n",
    "    esrrf.run(img, run_type=\"OpenCL_NVIDIA GeForce RTX 4090\")\n",
    "    times_allgpu_1.append(default_timer()-t1)\n",
    "\n",
    "print(\"FINAL TIME:\", np.average(times_allgpu_1))"
   ]
  },
  {
   "cell_type": "code",
   "execution_count": 6,
   "metadata": {},
   "outputs": [
    {
     "name": "stdout",
     "output_type": "stream",
     "text": [
      "Agent: NLMDenoising using Unthreaded ran in 139.6733835999621 seconds\n",
      "Agent: eSRRF_ST using OpenCL_NVIDIA GeForce RTX 4090 ran in 0.501745899906382 seconds\n",
      "Agent: NLMDenoising using Unthreaded ran in 138.91377670003567 seconds\n",
      "Agent: eSRRF_ST using OpenCL_NVIDIA GeForce RTX 4090 ran in 0.48830460000317544 seconds\n",
      "Agent: NLMDenoising using Unthreaded ran in 139.09618759993464 seconds\n",
      "Agent: eSRRF_ST using OpenCL_NVIDIA GeForce RTX 4090 ran in 0.49474909994751215 seconds\n",
      "FINAL TIME: 139.74116063331408\n"
     ]
    }
   ],
   "source": [
    "times_untnlm_1 = []\n",
    "for _ in range(3):\n",
    "    t1 = default_timer()\n",
    "    nlm.run(img,patch_size=ps,patch_distance=pd,h=h,sigma=sigma, run_type='Unthreaded')\n",
    "    esrrf.run(img, run_type=\"OpenCL_NVIDIA GeForce RTX 4090\")\n",
    "    times_untnlm_1.append(default_timer()-t1)\n",
    "\n",
    "print(\"FINAL TIME:\", np.average(times_untnlm_1))"
   ]
  },
  {
   "cell_type": "code",
   "execution_count": 14,
   "metadata": {},
   "outputs": [
    {
     "name": "stdout",
     "output_type": "stream",
     "text": [
      "Image 5x1000x1000 (frame,row,col)\n",
      "NLM patch size 50, patch distance 50, h 0.1, sigma 1\n",
      "eSRRF default values ALWAYS on gpu\n",
      "Liquid chooses (unthreaded) for nlm: 138.53959663336477 0.3201652414742892\n",
      "Always python for nlm: 164.80727100003665 0.7623515248157177\n",
      "Always GPU for nlm 258.95869426665985 0.5332983505148261\n",
      "Always unthreaded for nlm 139.74116063331408 0.32755787064753833\n"
     ]
    }
   ],
   "source": [
    "print(\"Image 5x1000x1000 (frame,row,col)\")\n",
    "print(\"NLM patch size 50, patch distance 50, h 0.1, sigma 1\")\n",
    "print(\"eSRRF default values ALWAYS on gpu\")\n",
    "\n",
    "\n",
    "print(\"Liquid chooses (unthreaded) for nlm:\", np.average(times_liquid_1),np.std(times_liquid_1))\n",
    "print(\"Always python for nlm:\", np.average(times_pythonnlm_1),np.std(times_pythonnlm_1))\n",
    "print(\"Always GPU for nlm\", np.average(times_allgpu_1),np.std(times_allgpu_1))\n",
    "print(\"Always unthreaded for nlm\", np.average(times_untnlm_1),np.std(times_untnlm_1))"
   ]
  },
  {
   "cell_type": "markdown",
   "metadata": {},
   "source": [
    "## OpenCL faster than Unthreaded"
   ]
  },
  {
   "cell_type": "code",
   "execution_count": 7,
   "metadata": {},
   "outputs": [
    {
     "name": "stdout",
     "output_type": "stream",
     "text": [
      "Agent: NLMDenoising using OpenCL_NVIDIA GeForce RTX 4090 ran in 2.1125362999737263 seconds\n",
      "Agent: NLMDenoising using Unthreaded ran in 193.49460520001594 seconds\n",
      "Agent: NLMDenoising using Python ran in 216.2504562000977 seconds\n",
      "Fastest run type: OpenCL_NVIDIA GeForce RTX 4090\n",
      "Slowest run type: Python\n",
      "OpenCL_NVIDIA GeForce RTX 4090 is 91.59x faster than Unthreaded\n",
      "OpenCL_NVIDIA GeForce RTX 4090 is 102.37x faster than Python\n",
      "Unthreaded is 1.12x faster than Python\n",
      "Agent: NLMDenoising using OpenCL_NVIDIA GeForce RTX 4090 ran in 2.1090008000610396 seconds\n",
      "Agent: NLMDenoising using Unthreaded ran in 195.32358660001773 seconds\n",
      "Agent: NLMDenoising using Python ran in 215.9644315999467 seconds\n",
      "Fastest run type: OpenCL_NVIDIA GeForce RTX 4090\n",
      "Slowest run type: Python\n",
      "OpenCL_NVIDIA GeForce RTX 4090 is 92.61x faster than Unthreaded\n",
      "OpenCL_NVIDIA GeForce RTX 4090 is 102.40x faster than Python\n",
      "Unthreaded is 1.11x faster than Python\n",
      "Agent: NLMDenoising using OpenCL_NVIDIA GeForce RTX 4090 ran in 2.0847628000192344 seconds\n",
      "Agent: NLMDenoising using Unthreaded ran in 190.8795197000727 seconds\n",
      "Agent: NLMDenoising using Python ran in 215.1142220000038 seconds\n",
      "Fastest run type: OpenCL_NVIDIA GeForce RTX 4090\n",
      "Slowest run type: Python\n",
      "OpenCL_NVIDIA GeForce RTX 4090 is 91.56x faster than Unthreaded\n",
      "OpenCL_NVIDIA GeForce RTX 4090 is 103.18x faster than Python\n",
      "Unthreaded is 1.13x faster than Python\n"
     ]
    }
   ],
   "source": [
    "img = np.random.random((5,500,500)).astype(np.float32)\n",
    "ps = 5\n",
    "pd = 100\n",
    "h = 0.1\n",
    "sigma = 1.0\n",
    "\n",
    "for i in range(3):\n",
    "    _ = nlm.benchmark(img,patch_size=ps,patch_distance=pd,h=h,sigma=sigma)"
   ]
  },
  {
   "cell_type": "code",
   "execution_count": 8,
   "metadata": {},
   "outputs": [
    {
     "name": "stdout",
     "output_type": "stream",
     "text": [
      "Querying the Agent...\n",
      "Agent: NLMDenoising using OpenCL_NVIDIA GeForce RTX 4090 ran in 2.0850866999244317 seconds\n",
      "Agent: eSRRF_ST using OpenCL_NVIDIA GeForce RTX 4090 ran in 0.18761959997937083 seconds\n",
      "Querying the Agent...\n",
      "Agent: NLMDenoising using OpenCL_NVIDIA GeForce RTX 4090 ran in 2.0860612000105903 seconds\n",
      "Agent: eSRRF_ST using OpenCL_NVIDIA GeForce RTX 4090 ran in 0.1820156000321731 seconds\n",
      "Querying the Agent...\n",
      "Agent: NLMDenoising using OpenCL_NVIDIA GeForce RTX 4090 ran in 2.0676665999926627 seconds\n",
      "Agent: eSRRF_ST using OpenCL_NVIDIA GeForce RTX 4090 ran in 0.21367800002917647 seconds\n",
      "FINAL TIME: 2.2918500333325937\n"
     ]
    }
   ],
   "source": [
    "times_liquid_2 = []\n",
    "for _ in range(3):\n",
    "    t1 = default_timer()\n",
    "    nlm.run(img,patch_size=ps,patch_distance=pd,h=h,sigma=sigma)\n",
    "    esrrf.run(img, run_type=\"OpenCL_NVIDIA GeForce RTX 4090\")\n",
    "    times_liquid_2.append(default_timer()-t1)\n",
    "\n",
    "print(\"FINAL TIME:\", np.average(times_liquid_2))"
   ]
  },
  {
   "cell_type": "code",
   "execution_count": 9,
   "metadata": {},
   "outputs": [
    {
     "name": "stdout",
     "output_type": "stream",
     "text": [
      "Agent: NLMDenoising using Python ran in 214.94981749996077 seconds\n",
      "Agent: eSRRF_ST using OpenCL_NVIDIA GeForce RTX 4090 ran in 0.1963244000216946 seconds\n",
      "Agent: NLMDenoising using Python ran in 214.65648640005384 seconds\n",
      "Agent: eSRRF_ST using OpenCL_NVIDIA GeForce RTX 4090 ran in 0.2030254000565037 seconds\n",
      "Agent: NLMDenoising using Python ran in 215.9210472999839 seconds\n",
      "Agent: eSRRF_ST using OpenCL_NVIDIA GeForce RTX 4090 ran in 0.19534779991954565 seconds\n",
      "FINAL TIME: 215.3844068000326\n"
     ]
    }
   ],
   "source": [
    "times_pythonnlm_2 = []\n",
    "for _ in range(3):\n",
    "    t1 = default_timer()\n",
    "    nlm.run(img,patch_size=ps,patch_distance=pd,h=h,sigma=sigma, run_type='Python')\n",
    "    esrrf.run(img, run_type=\"OpenCL_NVIDIA GeForce RTX 4090\")\n",
    "    times_pythonnlm_2.append(default_timer()-t1)\n",
    "\n",
    "print(\"FINAL TIME:\", np.average(times_pythonnlm_2))"
   ]
  },
  {
   "cell_type": "code",
   "execution_count": 10,
   "metadata": {},
   "outputs": [
    {
     "name": "stdout",
     "output_type": "stream",
     "text": [
      "Agent: NLMDenoising using OpenCL_NVIDIA GeForce RTX 4090 ran in 2.091298299957998 seconds\n",
      "Agent: eSRRF_ST using OpenCL_NVIDIA GeForce RTX 4090 ran in 0.1972550000064075 seconds\n",
      "Agent: NLMDenoising using OpenCL_NVIDIA GeForce RTX 4090 ran in 2.0781228000996634 seconds\n",
      "Agent: eSRRF_ST using OpenCL_NVIDIA GeForce RTX 4090 ran in 0.18130279995966703 seconds\n",
      "Agent: NLMDenoising using OpenCL_NVIDIA GeForce RTX 4090 ran in 2.057868600008078 seconds\n",
      "Agent: eSRRF_ST using OpenCL_NVIDIA GeForce RTX 4090 ran in 0.22035229997709394 seconds\n",
      "FINAL TIME: 2.2884540000231937\n"
     ]
    }
   ],
   "source": [
    "times_allgpu_2 = []\n",
    "for _ in range(3):\n",
    "    t1 = default_timer()\n",
    "    nlm.run(img,patch_size=ps,patch_distance=pd,h=h,sigma=sigma, run_type='OpenCL_NVIDIA GeForce RTX 4090')\n",
    "    esrrf.run(img, run_type=\"OpenCL_NVIDIA GeForce RTX 4090\")\n",
    "    times_allgpu_2.append(default_timer()-t1)\n",
    "\n",
    "print(\"FINAL TIME:\", np.average(times_allgpu_2))"
   ]
  },
  {
   "cell_type": "code",
   "execution_count": 11,
   "metadata": {},
   "outputs": [
    {
     "name": "stdout",
     "output_type": "stream",
     "text": [
      "Agent: NLMDenoising using Unthreaded ran in 190.99014130001888 seconds\n",
      "Agent: eSRRF_ST using OpenCL_NVIDIA GeForce RTX 4090 ran in 0.18062180001288652 seconds\n",
      "Agent: NLMDenoising using Unthreaded ran in 191.37247830000706 seconds\n",
      "Agent: eSRRF_ST using OpenCL_NVIDIA GeForce RTX 4090 ran in 0.17891250003594905 seconds\n",
      "Agent: NLMDenoising using Unthreaded ran in 191.5184929999523 seconds\n",
      "Agent: eSRRF_ST using OpenCL_NVIDIA GeForce RTX 4090 ran in 0.17274909990374 seconds\n",
      "FINAL TIME: 191.48296093331496\n"
     ]
    }
   ],
   "source": [
    "times_untnlm_2 = []\n",
    "for _ in range(3):\n",
    "    t1 = default_timer()\n",
    "    nlm.run(img,patch_size=ps,patch_distance=pd,h=h,sigma=sigma, run_type='Unthreaded')\n",
    "    esrrf.run(img, run_type=\"OpenCL_NVIDIA GeForce RTX 4090\")\n",
    "    times_untnlm_2.append(default_timer()-t1)\n",
    "\n",
    "print(\"FINAL TIME:\", np.average(times_untnlm_2))"
   ]
  },
  {
   "cell_type": "code",
   "execution_count": 15,
   "metadata": {},
   "outputs": [
    {
     "name": "stdout",
     "output_type": "stream",
     "text": [
      "Image 5x500x500 (frame,row,col)\n",
      "NLM patch size 5, patch distance 100, h 0.1, sigma 1\n",
      "eSRRF default values ALWAYS on gpu\n",
      "Liquid chooses (unthreaded) for nlm: 2.2918500333325937 0.008745049325195925\n",
      "Always python for nlm: 215.3844068000326 0.5361846983394957\n",
      "Always GPU for nlm 2.2884540000231937 0.015851810845416675\n",
      "Always unthreaded for nlm 191.48296093331496 0.2219043828949791\n"
     ]
    }
   ],
   "source": [
    "print(\"Image 5x500x500 (frame,row,col)\")\n",
    "print(\"NLM patch size 5, patch distance 100, h 0.1, sigma 1\")\n",
    "print(\"eSRRF default values ALWAYS on gpu\")\n",
    "\n",
    "print(\"Liquid chooses (unthreaded) for nlm:\", np.average(times_liquid_2),np.std(times_liquid_2))\n",
    "print(\"Always python for nlm:\", np.average(times_pythonnlm_2),np.std(times_pythonnlm_2))\n",
    "print(\"Always GPU for nlm\", np.average(times_allgpu_2),np.std(times_allgpu_2))\n",
    "print(\"Always unthreaded for nlm\", np.average(times_untnlm_2),np.std(times_untnlm_2))"
   ]
  }
 ],
 "metadata": {
  "kernelspec": {
   "display_name": "nanopyx_clean",
   "language": "python",
   "name": "python3"
  },
  "language_info": {
   "codemirror_mode": {
    "name": "ipython",
    "version": 3
   },
   "file_extension": ".py",
   "mimetype": "text/x-python",
   "name": "python",
   "nbconvert_exporter": "python",
   "pygments_lexer": "ipython3",
   "version": "3.10.12"
  },
  "orig_nbformat": 4
 },
 "nbformat": 4,
 "nbformat_minor": 2
}
