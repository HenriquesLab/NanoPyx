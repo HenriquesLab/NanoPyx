{
 "cells": [
  {
   "cell_type": "code",
   "execution_count": null,
   "metadata": {},
   "outputs": [],
   "source": [
    "import numpy as np\n",
    "from nanopyx.core.transform._le_nlm_denoising import NLMDenoising\n"
   ]
  },
  {
   "cell_type": "code",
   "execution_count": null,
   "metadata": {},
   "outputs": [],
   "source": [
    "denoiser = NLMDenoising(testing=True, clear_benchmarks=True)\n",
    "\n",
    "img = np.random.random((1,1000,1000)).astype(np.float32)\n",
    "ps = 50\n",
    "pd = 50\n",
    "for _ in range(3):\n",
    "    denoiser.benchmark(img,patch_size=ps,patch_distance=pd,h=0.1,sigma=1)\n",
    "\n",
    "img = np.random.random((1,500,500)).astype(np.float32)\n",
    "ps = 5\n",
    "pd = 100\n",
    "for _ in range(3):\n",
    "    denoiser.benchmark(img,patch_size=ps,patch_distance=pd,h=0.1,sigma=1)\n",
    "\n",
    "img = np.random.random((1,200,200)).astype(np.float32)\n",
    "ps = 5\n",
    "pd = 10\n",
    "for _ in range(3):\n",
    "    denoiser.benchmark(img,patch_size=ps,patch_distance=pd,h=0.1,sigma=1)"
   ]
  }
 ],
 "metadata": {
  "kernelspec": {
   "display_name": "nanopyxdev",
   "language": "python",
   "name": "python3"
  },
  "language_info": {
   "codemirror_mode": {
    "name": "ipython",
    "version": 3
   },
   "file_extension": ".py",
   "mimetype": "text/x-python",
   "name": "python",
   "nbconvert_exporter": "python",
   "pygments_lexer": "ipython3",
   "version": "3.10.12"
  }
 },
 "nbformat": 4,
 "nbformat_minor": 2
}
