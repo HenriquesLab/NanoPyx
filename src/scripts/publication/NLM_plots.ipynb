{
 "cells": [
  {
   "cell_type": "code",
   "execution_count": null,
   "metadata": {},
   "outputs": [],
   "source": [
    "import numpy as np\n",
    "import tifffile as tiff\n",
    "from nanopyx.core.transform._le_nlm_denoising import NLMDenoising\n",
    "from matplotlib import pyplot as plt\n",
    "\n",
    "import yaml\n",
    "import pandas as pd"
   ]
  },
  {
   "cell_type": "code",
   "execution_count": null,
   "metadata": {},
   "outputs": [],
   "source": [
    "task_run_times_unthreaded = []\n",
    "task_run_times_threaded = []\n",
    "task_run_times_threaded_static = []\n",
    "task_run_times_threaded_guided = []\n",
    "task_run_times_threaded_dynamic = []\n",
    "task_run_times_opencl = []\n",
    "task_run_times_python = []"
   ]
  },
  {
   "cell_type": "code",
   "execution_count": null,
   "metadata": {},
   "outputs": [],
   "source": [
    "nlm = NLMDenoising(testing=True, clear_benchmarks=True)\n",
    "\n",
    "dim_sizes = [(1,s,s) for s in [100,200,500,1000]] \n",
    "patch_sizes  = [ps for ps in [5,10,20,50,100]]\n",
    "patch_distances = [pd for pd in [5,10,20,50,100]]\n",
    "\n",
    "h = 0.1\n",
    "sigma = 1"
   ]
  },
  {
   "cell_type": "code",
   "execution_count": null,
   "metadata": {},
   "outputs": [],
   "source": [
    "def nlm_func(nlmobject, image, ps, pd, run_type):\n",
    "\n",
    "    tt = []\n",
    "    for _ in range(3):\n",
    "        nlmobject.run(image, patch_size=ps, patch_distance=pd, h=0.1, sigma=1, run_type=run_type)\n",
    "        tt.append(nlmobject._last_time)\n",
    "    \n",
    "    return tt"
   ]
  },
  {
   "cell_type": "code",
   "execution_count": null,
   "metadata": {},
   "outputs": [],
   "source": [
    "\n",
    "for dim in dim_sizes:\n",
    "    img = np.random.random(dim).astype(np.float32)\n",
    "    for ps in patch_sizes:\n",
    "        for pd in patch_distances:\n",
    "            _last_time = nlm_func(nlm, img,ps,pd,run_type=\"Threaded\")\n",
    "            task_run_times_threaded.append((dim[0], ps,pd, _last_time))\n",
    "\n",
    "            _last_time = nlm_func(nlm, img,ps,pd,run_type=\"Threaded_static\")\n",
    "            task_run_times_threaded_static.append((dim[0], ps,pd, _last_time))\n",
    "\n",
    "            _last_time = nlm_func(nlm, img,ps,pd,run_type=\"Threaded_guided\")\n",
    "            task_run_times_threaded_guided.append((dim[0], ps,pd, _last_time))\n",
    "\n",
    "            _last_time = nlm_func(nlm, img,ps,pd,run_type=\"Threaded_dynamic\")\n",
    "            task_run_times_threaded_dynamic.append((dim[0], ps,pd, _last_time))\n",
    "\n",
    "            _last_time = nlm_func(nlm, img,ps,pd,run_type=\"Unthreaded\")\n",
    "            task_run_times_unthreaded.append((dim[0], ps,pd, _last_time))\n",
    "\n",
    "            _last_time = nlm_func(nlm, img,ps,pd,run_type=\"OpenCL_NVIDIA GeForce RTX 4090\") # change to appropriate device name (OpenCL_Apple M1 Pro, OpenCL_NVIDIA GeForce RTX 4090)\n",
    "            task_run_times_opencl.append((dim[0], ps,pd, _last_time))\n",
    "\n",
    "            _last_time = nlm_func(nlm, img,ps,pd,run_type=\"Python\") \n",
    "            task_run_times_python.append((dim[0], ps,pd, _last_time))\n",
    "\n"
   ]
  }
 ],
 "metadata": {
  "kernelspec": {
   "display_name": "nanopyx310",
   "language": "python",
   "name": "python3"
  },
  "language_info": {
   "codemirror_mode": {
    "name": "ipython",
    "version": 3
   },
   "file_extension": ".py",
   "mimetype": "text/x-python",
   "name": "python",
   "nbconvert_exporter": "python",
   "pygments_lexer": "ipython3",
   "version": "3.10.13"
  }
 },
 "nbformat": 4,
 "nbformat_minor": 2
}
