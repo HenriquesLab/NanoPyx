{
 "cells": [
  {
   "cell_type": "code",
   "execution_count": null,
   "metadata": {},
   "outputs": [],
   "source": [
    "from nanopyx.liquid._le_interpolation_catmull_rom import ShiftAndMagnify as CRShiftAndMagnify\n",
    "import numpy as np\n",
    "from matplotlib import pyplot as plt"
   ]
  },
  {
   "attachments": {},
   "cell_type": "markdown",
   "metadata": {},
   "source": [
    "## Load Data"
   ]
  },
  {
   "cell_type": "code",
   "execution_count": null,
   "metadata": {},
   "outputs": [],
   "source": [
    "from nanopyx.core.generate.noise_add_simplex import get_simplex_noise\n",
    "\n",
    "image_vv_big = get_simplex_noise(300, 300, amplitude = 1000)\n",
    "vv_large_data = np.tile(image_vv_big, (500, 1, 1))\n",
    "\n",
    "image_v_big = get_simplex_noise(300, 300, amplitude = 1000)\n",
    "v_large_data = np.tile(image_v_big, (100, 1, 1))\n",
    "\n",
    "image_big = get_simplex_noise(300, 300, amplitude = 1000)\n",
    "large_data = np.tile(image_big, (10, 1, 1))\n",
    "\n",
    "image_medium = get_simplex_noise(100, 100, amplitude = 1000)\n",
    "medium_data = np.tile(image_medium, (10, 1, 1))\n",
    "\n",
    "image_small = get_simplex_noise(10, 10, amplitude = 1000)\n",
    "small_data = np.tile(image_small, (10, 1, 1))\n",
    "\n",
    "image_v_small = get_simplex_noise(10, 10, amplitude = 1000)\n",
    "v_small_data = np.tile(image_v_small, (1, 1, 1))\n",
    "\n",
    "print(v_small_data.shape)"
   ]
  },
  {
   "cell_type": "code",
   "execution_count": null,
   "metadata": {},
   "outputs": [],
   "source": [
    "crsm = CRShiftAndMagnify()"
   ]
  },
  {
   "cell_type": "code",
   "execution_count": null,
   "metadata": {},
   "outputs": [],
   "source": [
    "magnification = 5\n",
    "print(\"Dataset shape:\", v_small_data.shape)\n",
    "interpolated = crsm.benchmark(v_small_data,0,0,magnification,magnification)\n",
    "print(interpolated)"
   ]
  },
  {
   "cell_type": "code",
   "execution_count": null,
   "metadata": {},
   "outputs": [],
   "source": [
    "magnification = 5\n",
    "print(\"Dataset shape:\", small_data.shape)\n",
    "interpolated = crsm.benchmark(small_data,0,0,magnification,magnification)\n",
    "print(interpolated)"
   ]
  },
  {
   "cell_type": "code",
   "execution_count": null,
   "metadata": {},
   "outputs": [],
   "source": [
    "magnification = 5\n",
    "print(\"Dataset shape:\", medium_data.shape)\n",
    "interpolated = crsm.benchmark(medium_data,0,0,magnification,magnification)\n",
    "print(interpolated)"
   ]
  },
  {
   "cell_type": "code",
   "execution_count": null,
   "metadata": {},
   "outputs": [],
   "source": [
    "magnification = 5\n",
    "print(\"Dataset shape:\", large_data.shape)\n",
    "interpolated = crsm.benchmark(large_data,0,0,magnification,magnification)\n",
    "print(interpolated)"
   ]
  },
  {
   "cell_type": "code",
   "execution_count": null,
   "metadata": {},
   "outputs": [],
   "source": [
    "magnification = 5\n",
    "print(\"Dataset shape:\", v_large_data.shape)\n",
    "interpolated = crsm.benchmark(v_large_data,0,0,magnification,magnification)\n",
    "print(interpolated)"
   ]
  },
  {
   "cell_type": "code",
   "execution_count": null,
   "metadata": {},
   "outputs": [],
   "source": [
    "magnification = 5\n",
    "print(\"Dataset shape:\", vv_large_data.shape)\n",
    "interpolated = crsm.benchmark(vv_large_data,0,0,magnification,magnification)\n",
    "print(interpolated)"
   ]
  }
 ],
 "metadata": {
  "kernelspec": {
   "display_name": "Python 3 (ipykernel)",
   "language": "python",
   "name": "python3"
  },
  "language_info": {
   "codemirror_mode": {
    "name": "ipython",
    "version": 3
   },
   "file_extension": ".py",
   "mimetype": "text/x-python",
   "name": "python",
   "nbconvert_exporter": "python",
   "pygments_lexer": "ipython3",
   "version": "3.10.12"
  }
 },
 "nbformat": 4,
 "nbformat_minor": 4
}
