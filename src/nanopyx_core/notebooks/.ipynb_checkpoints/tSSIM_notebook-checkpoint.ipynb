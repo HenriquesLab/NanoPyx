{
 "cells": [
  {
   "cell_type": "markdown",
   "metadata": {},
   "source": [
    "eNanoScopy is a python library that implements the methods available in NanoJ, an ImageJ plugin for super-resolution microscopy image processing.\n",
    "This notebooks shows how to estimate the optimal window size for eSRRF analysis with tSSIM (temporal Structrual Similarity)."
   ]
  },
  {
   "cell_type": "code",
   "execution_count": 10,
   "metadata": {},
   "outputs": [
    {
     "ename": "NameError",
     "evalue": "name 'os' is not defined",
     "output_type": "error",
     "traceback": [
      "\u001b[0;31m---------------------------------------------------------------------------\u001b[0m",
      "\u001b[0;31mNameError\u001b[0m                                 Traceback (most recent call last)",
      "\u001b[0;32m/var/folders/1l/q6fhhr_s2mg6j2pkshp1b78m0000gn/T/ipykernel_24482/1780188812.py\u001b[0m in \u001b[0;36m<module>\u001b[0;34m\u001b[0m\n\u001b[1;32m      3\u001b[0m \u001b[0;31m#import enanoscopy\u001b[0m\u001b[0;34m\u001b[0m\u001b[0;34m\u001b[0m\u001b[0m\n\u001b[1;32m      4\u001b[0m \u001b[0;31m#import napari\u001b[0m\u001b[0;34m\u001b[0m\u001b[0;34m\u001b[0m\u001b[0m\n\u001b[0;32m----> 5\u001b[0;31m \u001b[0mprint\u001b[0m\u001b[0;34m(\u001b[0m\u001b[0mos\u001b[0m\u001b[0;34m.\u001b[0m\u001b[0mgetcwd\u001b[0m\u001b[0;34m(\u001b[0m\u001b[0;34m)\u001b[0m\u001b[0;34m)\u001b[0m\u001b[0;34m\u001b[0m\u001b[0;34m\u001b[0m\u001b[0m\n\u001b[0m\u001b[1;32m      6\u001b[0m \u001b[0;34m\u001b[0m\u001b[0m\n\u001b[1;32m      7\u001b[0m \u001b[0;34m\u001b[0m\u001b[0m\n",
      "\u001b[0;31mNameError\u001b[0m: name 'os' is not defined"
     ]
    }
   ],
   "source": [
    "# Imports and test image loading\n",
    "import tifffile\n",
    "#import enanoscopy\n",
    "#import napari\n",
    "print(os.getcwd())\n",
    "\n",
    "\n",
    "image_stack = tifffile.imread(\"/Users/hannahheil/Documents/eSRRF/Data/eSRRF-Test/20220118_tempAnalysis/Sec61-100Hz_010-Ch2.tif\")\n",
    "#viewer = napari.view_image(image_stack)"
   ]
  },
  {
   "cell_type": "markdown",
   "metadata": {},
   "source": [
    "To correct the drift and align the image stack, the estimate drift correction method from the lib"
   ]
  },
  {
   "cell_type": "code",
   "execution_count": 2,
   "metadata": {},
   "outputs": [
    {
     "name": "stderr",
     "output_type": "stream",
     "text": [
      "/Users/bsaraiva/Code/eNanoScoPy/src/enanoscopy/methods/image/transform/fft_helper_functions.py:60: ComplexWarning: Casting complex values to real discards the imaginary part\n",
      "  pixels_out[p0] = pixels[p1]\n",
      "/Users/bsaraiva/Code/eNanoScoPy/src/enanoscopy/methods/image/transform/cross_correlation_map.py:62: ComplexWarning: Casting complex values to real discards the imaginary part\n",
      "  ccm_pixels[i] = value\n"
     ]
    },
    {
     "name": "stdout",
     "output_type": "stream",
     "text": [
      "(5, 105, 105)\n",
      "Interpolating time points\n"
     ]
    }
   ],
   "source": [
    "# define regularization method - data_range\n",
    "def imgbitdepth(image_stack):\n",
    "    img_bitdepth = img.getbitd\n",
    "    img_bitdepth = img.dtype(img)\n",
    "     p.iinfo"
   ]
  },
  {
   "cell_type": "markdown",
   "metadata": {},
   "source": [
    "View image correction in napari"
   ]
  },
  {
   "cell_type": "code",
   "execution_count": 3,
   "metadata": {},
   "outputs": [],
   "source": [
    "viewer = napari.view_image(corrected_image)\n",
    "new_layer = viewer.add_image(image_stack, name=\"corrected image stack\")"
   ]
  },
  {
   "cell_type": "markdown",
   "metadata": {},
   "source": [
    "Drift table is automatically exported as a npy file, however can also be exported as a csv file byt setting the method parameter save_as_npy to false:"
   ]
  },
  {
   "cell_type": "code",
   "execution_count": 4,
   "metadata": {},
   "outputs": [
    {
     "name": "stderr",
     "output_type": "stream",
     "text": [
      "/Users/bsaraiva/Code/eNanoScoPy/src/enanoscopy/methods/image/transform/fft_helper_functions.py:60: ComplexWarning: Casting complex values to real discards the imaginary part\n",
      "  pixels_out[p0] = pixels[p1]\n",
      "/Users/bsaraiva/Code/eNanoScoPy/src/enanoscopy/methods/image/transform/cross_correlation_map.py:62: ComplexWarning: Casting complex values to real discards the imaginary part\n",
      "  ccm_pixels[i] = value\n"
     ]
    },
    {
     "name": "stdout",
     "output_type": "stream",
     "text": [
      "(5, 105, 105)\n",
      "Interpolating time points\n"
     ]
    }
   ],
   "source": [
    "corrected_image = enanoscopy.estimate_drift_correction(image_stack, save_as_npy=False, time_averaging=100, max_expected_drift=10, ref_option=0, normalize=True, apply=True)"
   ]
  },
  {
   "cell_type": "markdown",
   "metadata": {},
   "source": [
    "To reuse the drift table and directly apply to an image without estimating drift correction first, just use apply_drift_correction method."
   ]
  },
  {
   "cell_type": "code",
   "execution_count": 5,
   "metadata": {},
   "outputs": [
    {
     "ename": "UnpicklingError",
     "evalue": "Failed to interpret file '/Users/bsaraiva/Code/eNanoScoPy/src/enanoscopy/images/drift_test.tif' as a pickle",
     "output_type": "error",
     "traceback": [
      "\u001b[0;31m---------------------------------------------------------------------------\u001b[0m",
      "\u001b[0;31mUnpicklingError\u001b[0m                           Traceback (most recent call last)",
      "File \u001b[0;32m~/opt/miniconda3/envs/nanojdev/lib/python3.9/site-packages/numpy/lib/npyio.py:438\u001b[0m, in \u001b[0;36mload\u001b[0;34m(file, mmap_mode, allow_pickle, fix_imports, encoding)\u001b[0m\n\u001b[1;32m    437\u001b[0m \u001b[39mtry\u001b[39;00m:\n\u001b[0;32m--> 438\u001b[0m     \u001b[39mreturn\u001b[39;00m pickle\u001b[39m.\u001b[39;49mload(fid, \u001b[39m*\u001b[39;49m\u001b[39m*\u001b[39;49mpickle_kwargs)\n\u001b[1;32m    439\u001b[0m \u001b[39mexcept\u001b[39;00m \u001b[39mException\u001b[39;00m \u001b[39mas\u001b[39;00m e:\n",
      "\u001b[0;31mUnpicklingError\u001b[0m: invalid load key, '*'.",
      "\nThe above exception was the direct cause of the following exception:\n",
      "\u001b[0;31mUnpicklingError\u001b[0m                           Traceback (most recent call last)",
      "\u001b[1;32m/Users/bsaraiva/Code/eNanoScoPy/src/enanoscopy/notebooks/drift_correction_notebook.ipynb Cell 10'\u001b[0m in \u001b[0;36m<cell line: 1>\u001b[0;34m()\u001b[0m\n\u001b[0;32m----> <a href='vscode-notebook-cell:/Users/bsaraiva/Code/eNanoScoPy/src/enanoscopy/notebooks/drift_correction_notebook.ipynb#ch0000010?line=0'>1</a>\u001b[0m corrected_image \u001b[39m=\u001b[39m enanoscopy\u001b[39m.\u001b[39;49mapply_drift_correction(image_stack)\n\u001b[1;32m      <a href='vscode-notebook-cell:/Users/bsaraiva/Code/eNanoScoPy/src/enanoscopy/notebooks/drift_correction_notebook.ipynb#ch0000010?line=1'>2</a>\u001b[0m new_layer \u001b[39m=\u001b[39m viewer\u001b[39m.\u001b[39madd_image(corrected_image, name\u001b[39m=\u001b[39m\u001b[39m\"\u001b[39m\u001b[39mcorrected with loaded npy\u001b[39m\u001b[39m\"\u001b[39m)\n",
      "File \u001b[0;32m~/Code/eNanoScoPy/src/enanoscopy/__init__.py:20\u001b[0m, in \u001b[0;36mapply_drift_correction\u001b[0;34m(image_array, path, drift_table)\u001b[0m\n\u001b[1;32m     18\u001b[0m corrector \u001b[39m=\u001b[39m DriftCorrector()\n\u001b[1;32m     19\u001b[0m \u001b[39mif\u001b[39;00m drift_table \u001b[39mis\u001b[39;00m \u001b[39mNone\u001b[39;00m:\n\u001b[0;32m---> 20\u001b[0m     corrector\u001b[39m.\u001b[39;49mload_drift_table(path\u001b[39m=\u001b[39;49mpath)\n\u001b[1;32m     21\u001b[0m corrected_img \u001b[39m=\u001b[39m corrector\u001b[39m.\u001b[39mapply_correction(image_array)\n\u001b[1;32m     23\u001b[0m \u001b[39mif\u001b[39;00m corrected_img \u001b[39mis\u001b[39;00m \u001b[39mnot\u001b[39;00m \u001b[39mNone\u001b[39;00m:\n",
      "File \u001b[0;32m~/Code/eNanoScoPy/src/enanoscopy/methods/drift_correction/drift_corrector.py:44\u001b[0m, in \u001b[0;36mDriftCorrector.load_drift_table\u001b[0;34m(self, path)\u001b[0m\n\u001b[1;32m     41\u001b[0m \u001b[39melse\u001b[39;00m:\n\u001b[1;32m     42\u001b[0m     filepath \u001b[39m=\u001b[39m path\n\u001b[0;32m---> 44\u001b[0m \u001b[39mself\u001b[39;49m\u001b[39m.\u001b[39;49mestimator_table\u001b[39m.\u001b[39;49mimport_npy(filepath)\n",
      "File \u001b[0;32m~/Code/eNanoScoPy/src/enanoscopy/methods/drift_correction/drift_estimator_table.py:52\u001b[0m, in \u001b[0;36mDriftEstimatorTable.import_npy\u001b[0;34m(self, path)\u001b[0m\n\u001b[1;32m     50\u001b[0m \u001b[39melse\u001b[39;00m:\n\u001b[1;32m     51\u001b[0m     filepath \u001b[39m=\u001b[39m path\n\u001b[0;32m---> 52\u001b[0m tmp \u001b[39m=\u001b[39m np\u001b[39m.\u001b[39;49mload(filepath, allow_pickle\u001b[39m=\u001b[39;49m\u001b[39mTrue\u001b[39;49;00m)\n\u001b[1;32m     54\u001b[0m \u001b[39mfor\u001b[39;00m i \u001b[39min\u001b[39;00m \u001b[39mrange\u001b[39m(tmp\u001b[39m.\u001b[39mshape[\u001b[39m0\u001b[39m]\u001b[39m-\u001b[39m\u001b[39m1\u001b[39m):\n\u001b[1;32m     55\u001b[0m     key, value \u001b[39m=\u001b[39m tmp[i]\n",
      "File \u001b[0;32m~/opt/miniconda3/envs/nanojdev/lib/python3.9/site-packages/numpy/lib/npyio.py:440\u001b[0m, in \u001b[0;36mload\u001b[0;34m(file, mmap_mode, allow_pickle, fix_imports, encoding)\u001b[0m\n\u001b[1;32m    438\u001b[0m     \u001b[39mreturn\u001b[39;00m pickle\u001b[39m.\u001b[39mload(fid, \u001b[39m*\u001b[39m\u001b[39m*\u001b[39mpickle_kwargs)\n\u001b[1;32m    439\u001b[0m \u001b[39mexcept\u001b[39;00m \u001b[39mException\u001b[39;00m \u001b[39mas\u001b[39;00m e:\n\u001b[0;32m--> 440\u001b[0m     \u001b[39mraise\u001b[39;00m pickle\u001b[39m.\u001b[39mUnpicklingError(\n\u001b[1;32m    441\u001b[0m         \u001b[39mf\u001b[39m\u001b[39m\"\u001b[39m\u001b[39mFailed to interpret file \u001b[39m\u001b[39m{\u001b[39;00mfile\u001b[39m!r}\u001b[39;00m\u001b[39m as a pickle\u001b[39m\u001b[39m\"\u001b[39m) \u001b[39mfrom\u001b[39;00m \u001b[39me\u001b[39;00m\n",
      "\u001b[0;31mUnpicklingError\u001b[0m: Failed to interpret file '/Users/bsaraiva/Code/eNanoScoPy/src/enanoscopy/images/drift_test.tif' as a pickle"
     ]
    },
    {
     "ename": "",
     "evalue": "",
     "output_type": "error",
     "traceback": [
      "\u001b[1;31mThe Kernel crashed while executing code in the the current cell or a previous cell. Please review the code in the cell(s) to identify a possible cause of the failure. Click <a href='https://aka.ms/vscodeJupyterKernelCrash'>here</a> for more info. View Jupyter <a href='command:jupyter.viewOutput'>log</a> for further details."
     ]
    }
   ],
   "source": [
    "corrected_image = enanoscopy.apply_drift_correction(image_stack)\n",
    "new_layer = viewer.add_image(corrected_image, name=\"corrected with loaded npy\")"
   ]
  }
 ],
 "metadata": {
  "interpreter": {
   "hash": "76a54b47c7b4d0ad1a60e3e2fe0b792acb748f83b6ff525aa01400fa549aeff5"
  },
  "kernelspec": {
   "display_name": "Python 3 (ipykernel)",
   "language": "python",
   "name": "python3"
  },
  "language_info": {
   "codemirror_mode": {
    "name": "ipython",
    "version": 3
   },
   "file_extension": ".py",
   "mimetype": "text/x-python",
   "name": "python",
   "nbconvert_exporter": "python",
   "pygments_lexer": "ipython3",
   "version": "3.9.7"
  },
  "vscode": {
   "interpreter": {
    "hash": "d2cabc474857603d261aaea8f544bda49fe7f92ad884e88ea462478db24ad80c"
   }
  }
 },
 "nbformat": 4,
 "nbformat_minor": 2
}
